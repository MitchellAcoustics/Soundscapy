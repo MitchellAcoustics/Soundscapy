{
 "cells": [
  {
   "cell_type": "markdown",
   "id": "7fb27b941602401d91542211134fc71a",
   "metadata": {
    "colab_type": "text",
    "id": "view-in-github"
   },
   "source": [
    "<a href=\"https://colab.research.google.com/github/MitchellAcoustics/Soundscapy/blob/dev/docs/tutorials/IoA_Soundscape_Assessment_Tutorial.ipynb\" target=\"_parent\"><img src=\"https://colab.research.google.com/assets/colab-badge.svg\" alt=\"Open In Colab\"/></a>"
   ]
  },
  {
   "cell_type": "code",
   "execution_count": 1,
   "id": "2e921b0c",
   "metadata": {
    "ExecuteTime": {
     "end_time": "2025-05-14T23:24:32.656168Z",
     "start_time": "2025-05-14T23:24:32.653439Z"
    },
    "colab": {
     "base_uri": "https://localhost:8080/"
    },
    "collapsed": true,
    "id": "2e921b0c",
    "lines_to_next_cell": 0,
    "outputId": "7b6ed58f-14c2-4a04-a53d-a000286148aa"
   },
   "outputs": [
    {
     "name": "stdout",
     "output_type": "stream",
     "text": [
      "Installing package into ‘/usr/local/lib/R/site-library’\n",
      "(as ‘lib’ is unspecified)\n",
      "trying URL 'https://cran.rstudio.com/src/contrib/sn_2.1.1.tar.gz'\n",
      "Content type 'application/x-gzip' length 827061 bytes (807 KB)\n",
      "==================================================\n",
      "downloaded 807 KB\n",
      "\n",
      "* installing *source* package ‘sn’ ...\n",
      "** this is package ‘sn’ version ‘2.1.1’\n",
      "** package ‘sn’ successfully unpacked and MD5 sums checked\n",
      "** using staged installation\n",
      "** R\n",
      "** data\n",
      "** inst\n",
      "** byte-compile and prepare package for lazy loading\n",
      "** help\n",
      "*** installing help indices\n",
      "** building package indices\n",
      "** installing vignettes\n",
      "** testing if installed package can be loaded from temporary location\n",
      "** testing if installed package can be loaded from final location\n",
      "** testing if installed package keeps a record of temporary installation path\n",
      "* DONE (sn)\n",
      "\n",
      "The downloaded source packages are in\n",
      "\t‘/tmp/Rtmprt6Poo/downloaded_packages’\n",
      "Collecting soundscapy@ git+https://github.com/MitchellAcoustics/Soundscapy@dev (from soundscapy[spi]@ git+https://github.com/MitchellAcoustics/Soundscapy@dev)\n",
      "  Cloning https://github.com/MitchellAcoustics/Soundscapy (to revision dev) to /tmp/pip-install-bg23ixf2/soundscapy_edf33d8197e942f5a12ace9c8667e318\n",
      "  Running command git clone --filter=blob:none --quiet https://github.com/MitchellAcoustics/Soundscapy /tmp/pip-install-bg23ixf2/soundscapy_edf33d8197e942f5a12ace9c8667e318\n",
      "  Running command git checkout -b dev --track origin/dev\n",
      "  Switched to a new branch 'dev'\n",
      "  Branch 'dev' set up to track remote branch 'dev' from 'origin'.\n",
      "  Resolved https://github.com/MitchellAcoustics/Soundscapy to commit fa6fb0e57a353f730cfae093fd7d57c55071f401\n",
      "  Installing build dependencies ... \u001b[?25l\u001b[?25hdone\n",
      "  Getting requirements to build wheel ... \u001b[?25l\u001b[?25hdone\n",
      "  Preparing metadata (pyproject.toml) ... \u001b[?25l\u001b[?25hdone\n",
      "Requirement already satisfied: loguru>=0.7.2 in /usr/local/lib/python3.11/dist-packages (from soundscapy@ git+https://github.com/MitchellAcoustics/Soundscapy@dev->soundscapy[spi]@ git+https://github.com/MitchellAcoustics/Soundscapy@dev) (0.7.3)\n",
      "Requirement already satisfied: numpy!=1.26 in /usr/local/lib/python3.11/dist-packages (from soundscapy@ git+https://github.com/MitchellAcoustics/Soundscapy@dev->soundscapy[spi]@ git+https://github.com/MitchellAcoustics/Soundscapy@dev) (2.0.2)\n",
      "Requirement already satisfied: pandas>=2.2.2 in /usr/local/lib/python3.11/dist-packages (from pandas[excel]>=2.2.2->soundscapy@ git+https://github.com/MitchellAcoustics/Soundscapy@dev->soundscapy[spi]@ git+https://github.com/MitchellAcoustics/Soundscapy@dev) (2.2.2)\n",
      "Requirement already satisfied: plot-likert>=0.5.0 in /usr/local/lib/python3.11/dist-packages (from soundscapy@ git+https://github.com/MitchellAcoustics/Soundscapy@dev->soundscapy[spi]@ git+https://github.com/MitchellAcoustics/Soundscapy@dev) (0.5.0)\n",
      "Requirement already satisfied: pydantic>=2.8.2 in /usr/local/lib/python3.11/dist-packages (from soundscapy@ git+https://github.com/MitchellAcoustics/Soundscapy@dev->soundscapy[spi]@ git+https://github.com/MitchellAcoustics/Soundscapy@dev) (2.11.4)\n",
      "Requirement already satisfied: pyyaml>=6.0.2 in /usr/local/lib/python3.11/dist-packages (from soundscapy@ git+https://github.com/MitchellAcoustics/Soundscapy@dev->soundscapy[spi]@ git+https://github.com/MitchellAcoustics/Soundscapy@dev) (6.0.2)\n",
      "Requirement already satisfied: scipy>=1.14.1 in /usr/local/lib/python3.11/dist-packages (from soundscapy@ git+https://github.com/MitchellAcoustics/Soundscapy@dev->soundscapy[spi]@ git+https://github.com/MitchellAcoustics/Soundscapy@dev) (1.15.3)\n",
      "Requirement already satisfied: seaborn>=0.13.2 in /usr/local/lib/python3.11/dist-packages (from soundscapy@ git+https://github.com/MitchellAcoustics/Soundscapy@dev->soundscapy[spi]@ git+https://github.com/MitchellAcoustics/Soundscapy@dev) (0.13.2)\n",
      "Requirement already satisfied: rpy2>=3.5.0 in /usr/local/lib/python3.11/dist-packages (from soundscapy@ git+https://github.com/MitchellAcoustics/Soundscapy@dev->soundscapy[spi]@ git+https://github.com/MitchellAcoustics/Soundscapy@dev) (3.5.17)\n",
      "Requirement already satisfied: python-dateutil>=2.8.2 in /usr/local/lib/python3.11/dist-packages (from pandas>=2.2.2->pandas[excel]>=2.2.2->soundscapy@ git+https://github.com/MitchellAcoustics/Soundscapy@dev->soundscapy[spi]@ git+https://github.com/MitchellAcoustics/Soundscapy@dev) (2.9.0.post0)\n",
      "Requirement already satisfied: pytz>=2020.1 in /usr/local/lib/python3.11/dist-packages (from pandas>=2.2.2->pandas[excel]>=2.2.2->soundscapy@ git+https://github.com/MitchellAcoustics/Soundscapy@dev->soundscapy[spi]@ git+https://github.com/MitchellAcoustics/Soundscapy@dev) (2025.2)\n",
      "Requirement already satisfied: tzdata>=2022.7 in /usr/local/lib/python3.11/dist-packages (from pandas>=2.2.2->pandas[excel]>=2.2.2->soundscapy@ git+https://github.com/MitchellAcoustics/Soundscapy@dev->soundscapy[spi]@ git+https://github.com/MitchellAcoustics/Soundscapy@dev) (2025.2)\n",
      "Requirement already satisfied: odfpy>=1.4.1 in /usr/local/lib/python3.11/dist-packages (from pandas[excel]>=2.2.2->soundscapy@ git+https://github.com/MitchellAcoustics/Soundscapy@dev->soundscapy[spi]@ git+https://github.com/MitchellAcoustics/Soundscapy@dev) (1.4.1)\n",
      "Requirement already satisfied: openpyxl>=3.1.0 in /usr/local/lib/python3.11/dist-packages (from pandas[excel]>=2.2.2->soundscapy@ git+https://github.com/MitchellAcoustics/Soundscapy@dev->soundscapy[spi]@ git+https://github.com/MitchellAcoustics/Soundscapy@dev) (3.1.5)\n",
      "Requirement already satisfied: python-calamine>=0.1.7 in /usr/local/lib/python3.11/dist-packages (from pandas[excel]>=2.2.2->soundscapy@ git+https://github.com/MitchellAcoustics/Soundscapy@dev->soundscapy[spi]@ git+https://github.com/MitchellAcoustics/Soundscapy@dev) (0.3.2)\n",
      "Requirement already satisfied: pyxlsb>=1.0.10 in /usr/local/lib/python3.11/dist-packages (from pandas[excel]>=2.2.2->soundscapy@ git+https://github.com/MitchellAcoustics/Soundscapy@dev->soundscapy[spi]@ git+https://github.com/MitchellAcoustics/Soundscapy@dev) (1.0.10)\n",
      "Requirement already satisfied: xlrd>=2.0.1 in /usr/local/lib/python3.11/dist-packages (from pandas[excel]>=2.2.2->soundscapy@ git+https://github.com/MitchellAcoustics/Soundscapy@dev->soundscapy[spi]@ git+https://github.com/MitchellAcoustics/Soundscapy@dev) (2.0.1)\n",
      "Requirement already satisfied: xlsxwriter>=3.0.5 in /usr/local/lib/python3.11/dist-packages (from pandas[excel]>=2.2.2->soundscapy@ git+https://github.com/MitchellAcoustics/Soundscapy@dev->soundscapy[spi]@ git+https://github.com/MitchellAcoustics/Soundscapy@dev) (3.2.3)\n",
      "Requirement already satisfied: matplotlib>=3.4.0 in /usr/local/lib/python3.11/dist-packages (from plot-likert>=0.5.0->soundscapy@ git+https://github.com/MitchellAcoustics/Soundscapy@dev->soundscapy[spi]@ git+https://github.com/MitchellAcoustics/Soundscapy@dev) (3.10.0)\n",
      "Requirement already satisfied: annotated-types>=0.6.0 in /usr/local/lib/python3.11/dist-packages (from pydantic>=2.8.2->soundscapy@ git+https://github.com/MitchellAcoustics/Soundscapy@dev->soundscapy[spi]@ git+https://github.com/MitchellAcoustics/Soundscapy@dev) (0.7.0)\n",
      "Requirement already satisfied: pydantic-core==2.33.2 in /usr/local/lib/python3.11/dist-packages (from pydantic>=2.8.2->soundscapy@ git+https://github.com/MitchellAcoustics/Soundscapy@dev->soundscapy[spi]@ git+https://github.com/MitchellAcoustics/Soundscapy@dev) (2.33.2)\n",
      "Requirement already satisfied: typing-extensions>=4.12.2 in /usr/local/lib/python3.11/dist-packages (from pydantic>=2.8.2->soundscapy@ git+https://github.com/MitchellAcoustics/Soundscapy@dev->soundscapy[spi]@ git+https://github.com/MitchellAcoustics/Soundscapy@dev) (4.13.2)\n",
      "Requirement already satisfied: typing-inspection>=0.4.0 in /usr/local/lib/python3.11/dist-packages (from pydantic>=2.8.2->soundscapy@ git+https://github.com/MitchellAcoustics/Soundscapy@dev->soundscapy[spi]@ git+https://github.com/MitchellAcoustics/Soundscapy@dev) (0.4.0)\n",
      "Requirement already satisfied: cffi>=1.15.1 in /usr/local/lib/python3.11/dist-packages (from rpy2>=3.5.0->soundscapy@ git+https://github.com/MitchellAcoustics/Soundscapy@dev->soundscapy[spi]@ git+https://github.com/MitchellAcoustics/Soundscapy@dev) (1.17.1)\n",
      "Requirement already satisfied: jinja2 in /usr/local/lib/python3.11/dist-packages (from rpy2>=3.5.0->soundscapy@ git+https://github.com/MitchellAcoustics/Soundscapy@dev->soundscapy[spi]@ git+https://github.com/MitchellAcoustics/Soundscapy@dev) (3.1.6)\n",
      "Requirement already satisfied: tzlocal in /usr/local/lib/python3.11/dist-packages (from rpy2>=3.5.0->soundscapy@ git+https://github.com/MitchellAcoustics/Soundscapy@dev->soundscapy[spi]@ git+https://github.com/MitchellAcoustics/Soundscapy@dev) (5.3.1)\n",
      "Requirement already satisfied: pycparser in /usr/local/lib/python3.11/dist-packages (from cffi>=1.15.1->rpy2>=3.5.0->soundscapy@ git+https://github.com/MitchellAcoustics/Soundscapy@dev->soundscapy[spi]@ git+https://github.com/MitchellAcoustics/Soundscapy@dev) (2.22)\n",
      "Requirement already satisfied: contourpy>=1.0.1 in /usr/local/lib/python3.11/dist-packages (from matplotlib>=3.4.0->plot-likert>=0.5.0->soundscapy@ git+https://github.com/MitchellAcoustics/Soundscapy@dev->soundscapy[spi]@ git+https://github.com/MitchellAcoustics/Soundscapy@dev) (1.3.2)\n",
      "Requirement already satisfied: cycler>=0.10 in /usr/local/lib/python3.11/dist-packages (from matplotlib>=3.4.0->plot-likert>=0.5.0->soundscapy@ git+https://github.com/MitchellAcoustics/Soundscapy@dev->soundscapy[spi]@ git+https://github.com/MitchellAcoustics/Soundscapy@dev) (0.12.1)\n",
      "Requirement already satisfied: fonttools>=4.22.0 in /usr/local/lib/python3.11/dist-packages (from matplotlib>=3.4.0->plot-likert>=0.5.0->soundscapy@ git+https://github.com/MitchellAcoustics/Soundscapy@dev->soundscapy[spi]@ git+https://github.com/MitchellAcoustics/Soundscapy@dev) (4.57.0)\n",
      "Requirement already satisfied: kiwisolver>=1.3.1 in /usr/local/lib/python3.11/dist-packages (from matplotlib>=3.4.0->plot-likert>=0.5.0->soundscapy@ git+https://github.com/MitchellAcoustics/Soundscapy@dev->soundscapy[spi]@ git+https://github.com/MitchellAcoustics/Soundscapy@dev) (1.4.8)\n",
      "Requirement already satisfied: packaging>=20.0 in /usr/local/lib/python3.11/dist-packages (from matplotlib>=3.4.0->plot-likert>=0.5.0->soundscapy@ git+https://github.com/MitchellAcoustics/Soundscapy@dev->soundscapy[spi]@ git+https://github.com/MitchellAcoustics/Soundscapy@dev) (24.2)\n",
      "Requirement already satisfied: pillow>=8 in /usr/local/lib/python3.11/dist-packages (from matplotlib>=3.4.0->plot-likert>=0.5.0->soundscapy@ git+https://github.com/MitchellAcoustics/Soundscapy@dev->soundscapy[spi]@ git+https://github.com/MitchellAcoustics/Soundscapy@dev) (11.2.1)\n",
      "Requirement already satisfied: pyparsing>=2.3.1 in /usr/local/lib/python3.11/dist-packages (from matplotlib>=3.4.0->plot-likert>=0.5.0->soundscapy@ git+https://github.com/MitchellAcoustics/Soundscapy@dev->soundscapy[spi]@ git+https://github.com/MitchellAcoustics/Soundscapy@dev) (3.2.3)\n",
      "Requirement already satisfied: defusedxml in /usr/local/lib/python3.11/dist-packages (from odfpy>=1.4.1->pandas[excel]>=2.2.2->soundscapy@ git+https://github.com/MitchellAcoustics/Soundscapy@dev->soundscapy[spi]@ git+https://github.com/MitchellAcoustics/Soundscapy@dev) (0.7.1)\n",
      "Requirement already satisfied: et-xmlfile in /usr/local/lib/python3.11/dist-packages (from openpyxl>=3.1.0->pandas[excel]>=2.2.2->soundscapy@ git+https://github.com/MitchellAcoustics/Soundscapy@dev->soundscapy[spi]@ git+https://github.com/MitchellAcoustics/Soundscapy@dev) (2.0.0)\n",
      "Requirement already satisfied: six>=1.5 in /usr/local/lib/python3.11/dist-packages (from python-dateutil>=2.8.2->pandas>=2.2.2->pandas[excel]>=2.2.2->soundscapy@ git+https://github.com/MitchellAcoustics/Soundscapy@dev->soundscapy[spi]@ git+https://github.com/MitchellAcoustics/Soundscapy@dev) (1.17.0)\n",
      "Requirement already satisfied: MarkupSafe>=2.0 in /usr/local/lib/python3.11/dist-packages (from jinja2->rpy2>=3.5.0->soundscapy@ git+https://github.com/MitchellAcoustics/Soundscapy@dev->soundscapy[spi]@ git+https://github.com/MitchellAcoustics/Soundscapy@dev) (3.0.2)\n"
     ]
    }
   ],
   "source": [
    "!Rscript -e \"install.packages('sn')\"\n",
    "!pip install \"soundscapy[spi] @ git+https://github.com/MitchellAcoustics/Soundscapy@dev\""
   ]
  },
  {
   "cell_type": "code",
   "execution_count": 2,
   "id": "ae0898f2",
   "metadata": {
    "ExecuteTime": {
     "end_time": "2025-05-14T23:24:34.158489Z",
     "start_time": "2025-05-14T23:24:32.660819Z"
    },
    "id": "ae0898f2"
   },
   "outputs": [],
   "source": [
    "import warnings\n",
    "\n",
    "import matplotlib.pyplot as plt\n",
    "import numpy as np\n",
    "import pandas as pd\n",
    "import seaborn as sns\n",
    "\n",
    "import soundscapy as sspy\n",
    "from soundscapy import ISOPlot\n",
    "from soundscapy.spi import DirectParams, MultiSkewNorm\n",
    "\n",
    "# Set up plotting\n",
    "warnings.filterwarnings(\"ignore\")"
   ]
  },
  {
   "cell_type": "markdown",
   "id": "b5978896",
   "metadata": {
    "cell_marker": "\"\"\"",
    "id": "b5978896"
   },
   "source": [
    "# Soundscape Assessment Tutorial\n",
    "\n",
    "## Introduction\n",
    "\n",
    "This tutorial will guide you through the process of conducting a comprehensive soundscape assessment using Soundscapy. You'll learn how to analyze survey data, create visualizations, and interpret the results to understand how people perceive and experience soundscapes in different locations.\n",
    "\n",
    "By the end of this tutorial, you'll be able to:\n",
    "- Load and validate soundscape survey data\n",
    "- Calculate ISO coordinates from perceptual attribute questions (PAQs)\n",
    "- Create basic and advanced visualizations of soundscape data\n",
    "- Perform statistical analysis of soundscape perceptions\n",
    "- Apply the Soundscape Perception Index (SPI) to evaluate soundscapes against target distributions\n",
    "- Create professional reports and presentations of your findings\n",
    "\n",
    "Let's begin by loading some sample data and exploring its structure."
   ]
  },
  {
   "cell_type": "markdown",
   "id": "2db8e90f",
   "metadata": {
    "cell_marker": "\"\"\"",
    "id": "2db8e90f"
   },
   "source": [
    "## 1. Loading and Exploring the Data\n",
    "\n",
    "The first step in any soundscape assessment is to load and explore your data. For this tutorial, we'll use a sample dataset containing soundscape survey responses from multiple locations."
   ]
  },
  {
   "cell_type": "code",
   "execution_count": 3,
   "id": "e4b10c37",
   "metadata": {
    "ExecuteTime": {
     "end_time": "2025-05-14T23:24:34.328574Z",
     "start_time": "2025-05-14T23:24:34.216293Z"
    },
    "colab": {
     "base_uri": "https://localhost:8080/",
     "height": 415
    },
    "id": "e4b10c37",
    "outputId": "4232fca3-5868-4530-e83a-dcde1fbf39a5"
   },
   "outputs": [
    {
     "data": {
      "application/vnd.google.colaboratory.intrinsic+json": {
       "type": "dataframe",
       "variable_name": "data"
      },
      "text/html": [
       "\n",
       "  <div id=\"df-f3c15d85-536a-46b2-9c85-b79fb450c3c4\" class=\"colab-df-container\">\n",
       "    <div>\n",
       "<style scoped>\n",
       "    .dataframe tbody tr th:only-of-type {\n",
       "        vertical-align: middle;\n",
       "    }\n",
       "\n",
       "    .dataframe tbody tr th {\n",
       "        vertical-align: top;\n",
       "    }\n",
       "\n",
       "    .dataframe thead th {\n",
       "        text-align: right;\n",
       "    }\n",
       "</style>\n",
       "<table border=\"1\" class=\"dataframe\">\n",
       "  <thead>\n",
       "    <tr style=\"text-align: right;\">\n",
       "      <th></th>\n",
       "      <th>LocationID</th>\n",
       "      <th>SessionID</th>\n",
       "      <th>GroupID</th>\n",
       "      <th>RecordID</th>\n",
       "      <th>start_time</th>\n",
       "      <th>end_time</th>\n",
       "      <th>traffic_noise</th>\n",
       "      <th>other_noise</th>\n",
       "      <th>human_sounds</th>\n",
       "      <th>natural_sounds</th>\n",
       "      <th>...</th>\n",
       "      <th>LAeq</th>\n",
       "      <th>LA10</th>\n",
       "      <th>LA90</th>\n",
       "      <th>LCeq</th>\n",
       "      <th>N5</th>\n",
       "      <th>sharpness</th>\n",
       "      <th>roughness</th>\n",
       "      <th>tonality</th>\n",
       "      <th>ISOPleasant</th>\n",
       "      <th>ISOEventful</th>\n",
       "    </tr>\n",
       "  </thead>\n",
       "  <tbody>\n",
       "    <tr>\n",
       "      <th>0</th>\n",
       "      <td>CamdenTown</td>\n",
       "      <td>CamdenTown1</td>\n",
       "      <td>CT101</td>\n",
       "      <td>525</td>\n",
       "      <td>2019-05-02 11:40:44</td>\n",
       "      <td>2019-05-02 11:43:24</td>\n",
       "      <td>4.0</td>\n",
       "      <td>3.0</td>\n",
       "      <td>3.0</td>\n",
       "      <td>2.0</td>\n",
       "      <td>...</td>\n",
       "      <td>69.93</td>\n",
       "      <td>72.43</td>\n",
       "      <td>64.67</td>\n",
       "      <td>77.85</td>\n",
       "      <td>30.8</td>\n",
       "      <td>2.09</td>\n",
       "      <td>0.0363</td>\n",
       "      <td>0.304</td>\n",
       "      <td>-2.196699e-01</td>\n",
       "      <td>0.426777</td>\n",
       "    </tr>\n",
       "    <tr>\n",
       "      <th>1</th>\n",
       "      <td>CamdenTown</td>\n",
       "      <td>CamdenTown1</td>\n",
       "      <td>CT101</td>\n",
       "      <td>526</td>\n",
       "      <td>2019-05-02 11:41:57</td>\n",
       "      <td>2019-05-02 11:44:21</td>\n",
       "      <td>3.0</td>\n",
       "      <td>1.0</td>\n",
       "      <td>2.0</td>\n",
       "      <td>1.0</td>\n",
       "      <td>...</td>\n",
       "      <td>69.93</td>\n",
       "      <td>72.43</td>\n",
       "      <td>64.67</td>\n",
       "      <td>77.85</td>\n",
       "      <td>30.8</td>\n",
       "      <td>2.09</td>\n",
       "      <td>0.0363</td>\n",
       "      <td>0.304</td>\n",
       "      <td>5.748368e-17</td>\n",
       "      <td>0.250000</td>\n",
       "    </tr>\n",
       "    <tr>\n",
       "      <th>2</th>\n",
       "      <td>CamdenTown</td>\n",
       "      <td>CamdenTown1</td>\n",
       "      <td>CT101</td>\n",
       "      <td>561</td>\n",
       "      <td>2019-05-02 11:40:44</td>\n",
       "      <td>2019-05-02 11:43:24</td>\n",
       "      <td>4.0</td>\n",
       "      <td>3.0</td>\n",
       "      <td>4.0</td>\n",
       "      <td>2.0</td>\n",
       "      <td>...</td>\n",
       "      <td>69.93</td>\n",
       "      <td>72.43</td>\n",
       "      <td>64.67</td>\n",
       "      <td>77.85</td>\n",
       "      <td>30.8</td>\n",
       "      <td>2.09</td>\n",
       "      <td>0.0363</td>\n",
       "      <td>0.304</td>\n",
       "      <td>-4.696699e-01</td>\n",
       "      <td>0.176777</td>\n",
       "    </tr>\n",
       "    <tr>\n",
       "      <th>3</th>\n",
       "      <td>CamdenTown</td>\n",
       "      <td>CamdenTown1</td>\n",
       "      <td>CT102</td>\n",
       "      <td>560</td>\n",
       "      <td>2019-05-02 11:50:10</td>\n",
       "      <td>2019-05-02 11:53:03</td>\n",
       "      <td>3.0</td>\n",
       "      <td>2.0</td>\n",
       "      <td>4.0</td>\n",
       "      <td>1.0</td>\n",
       "      <td>...</td>\n",
       "      <td>70.60</td>\n",
       "      <td>73.72</td>\n",
       "      <td>65.11</td>\n",
       "      <td>77.21</td>\n",
       "      <td>33.2</td>\n",
       "      <td>2.14</td>\n",
       "      <td>0.0430</td>\n",
       "      <td>0.252</td>\n",
       "      <td>1.035534e-01</td>\n",
       "      <td>-0.750000</td>\n",
       "    </tr>\n",
       "    <tr>\n",
       "      <th>4</th>\n",
       "      <td>CamdenTown</td>\n",
       "      <td>CamdenTown1</td>\n",
       "      <td>CT103</td>\n",
       "      <td>527</td>\n",
       "      <td>2019-05-02 11:49:06</td>\n",
       "      <td>2019-05-02 11:54:24</td>\n",
       "      <td>4.0</td>\n",
       "      <td>2.0</td>\n",
       "      <td>4.0</td>\n",
       "      <td>1.0</td>\n",
       "      <td>...</td>\n",
       "      <td>66.36</td>\n",
       "      <td>68.36</td>\n",
       "      <td>64.39</td>\n",
       "      <td>74.23</td>\n",
       "      <td>24.6</td>\n",
       "      <td>1.98</td>\n",
       "      <td>0.0367</td>\n",
       "      <td>0.184</td>\n",
       "      <td>2.500000e-01</td>\n",
       "      <td>0.750000</td>\n",
       "    </tr>\n",
       "  </tbody>\n",
       "</table>\n",
       "<p>5 rows × 37 columns</p>\n",
       "</div>\n",
       "    <div class=\"colab-df-buttons\">\n",
       "\n",
       "  <div class=\"colab-df-container\">\n",
       "    <button class=\"colab-df-convert\" onclick=\"convertToInteractive('df-f3c15d85-536a-46b2-9c85-b79fb450c3c4')\"\n",
       "            title=\"Convert this dataframe to an interactive table.\"\n",
       "            style=\"display:none;\">\n",
       "\n",
       "  <svg xmlns=\"http://www.w3.org/2000/svg\" height=\"24px\" viewBox=\"0 -960 960 960\">\n",
       "    <path d=\"M120-120v-720h720v720H120Zm60-500h600v-160H180v160Zm220 220h160v-160H400v160Zm0 220h160v-160H400v160ZM180-400h160v-160H180v160Zm440 0h160v-160H620v160ZM180-180h160v-160H180v160Zm440 0h160v-160H620v160Z\"/>\n",
       "  </svg>\n",
       "    </button>\n",
       "\n",
       "  <style>\n",
       "    .colab-df-container {\n",
       "      display:flex;\n",
       "      gap: 12px;\n",
       "    }\n",
       "\n",
       "    .colab-df-convert {\n",
       "      background-color: #E8F0FE;\n",
       "      border: none;\n",
       "      border-radius: 50%;\n",
       "      cursor: pointer;\n",
       "      display: none;\n",
       "      fill: #1967D2;\n",
       "      height: 32px;\n",
       "      padding: 0 0 0 0;\n",
       "      width: 32px;\n",
       "    }\n",
       "\n",
       "    .colab-df-convert:hover {\n",
       "      background-color: #E2EBFA;\n",
       "      box-shadow: 0px 1px 2px rgba(60, 64, 67, 0.3), 0px 1px 3px 1px rgba(60, 64, 67, 0.15);\n",
       "      fill: #174EA6;\n",
       "    }\n",
       "\n",
       "    .colab-df-buttons div {\n",
       "      margin-bottom: 4px;\n",
       "    }\n",
       "\n",
       "    [theme=dark] .colab-df-convert {\n",
       "      background-color: #3B4455;\n",
       "      fill: #D2E3FC;\n",
       "    }\n",
       "\n",
       "    [theme=dark] .colab-df-convert:hover {\n",
       "      background-color: #434B5C;\n",
       "      box-shadow: 0px 1px 3px 1px rgba(0, 0, 0, 0.15);\n",
       "      filter: drop-shadow(0px 1px 2px rgba(0, 0, 0, 0.3));\n",
       "      fill: #FFFFFF;\n",
       "    }\n",
       "  </style>\n",
       "\n",
       "    <script>\n",
       "      const buttonEl =\n",
       "        document.querySelector('#df-f3c15d85-536a-46b2-9c85-b79fb450c3c4 button.colab-df-convert');\n",
       "      buttonEl.style.display =\n",
       "        google.colab.kernel.accessAllowed ? 'block' : 'none';\n",
       "\n",
       "      async function convertToInteractive(key) {\n",
       "        const element = document.querySelector('#df-f3c15d85-536a-46b2-9c85-b79fb450c3c4');\n",
       "        const dataTable =\n",
       "          await google.colab.kernel.invokeFunction('convertToInteractive',\n",
       "                                                    [key], {});\n",
       "        if (!dataTable) return;\n",
       "\n",
       "        const docLinkHtml = 'Like what you see? Visit the ' +\n",
       "          '<a target=\"_blank\" href=https://colab.research.google.com/notebooks/data_table.ipynb>data table notebook</a>'\n",
       "          + ' to learn more about interactive tables.';\n",
       "        element.innerHTML = '';\n",
       "        dataTable['output_type'] = 'display_data';\n",
       "        await google.colab.output.renderOutput(dataTable, element);\n",
       "        const docLink = document.createElement('div');\n",
       "        docLink.innerHTML = docLinkHtml;\n",
       "        element.appendChild(docLink);\n",
       "      }\n",
       "    </script>\n",
       "  </div>\n",
       "\n",
       "\n",
       "    <div id=\"df-e1bcef5d-923c-42c8-bb49-d4986d0f02e2\">\n",
       "      <button class=\"colab-df-quickchart\" onclick=\"quickchart('df-e1bcef5d-923c-42c8-bb49-d4986d0f02e2')\"\n",
       "                title=\"Suggest charts\"\n",
       "                style=\"display:none;\">\n",
       "\n",
       "<svg xmlns=\"http://www.w3.org/2000/svg\" height=\"24px\"viewBox=\"0 0 24 24\"\n",
       "     width=\"24px\">\n",
       "    <g>\n",
       "        <path d=\"M19 3H5c-1.1 0-2 .9-2 2v14c0 1.1.9 2 2 2h14c1.1 0 2-.9 2-2V5c0-1.1-.9-2-2-2zM9 17H7v-7h2v7zm4 0h-2V7h2v10zm4 0h-2v-4h2v4z\"/>\n",
       "    </g>\n",
       "</svg>\n",
       "      </button>\n",
       "\n",
       "<style>\n",
       "  .colab-df-quickchart {\n",
       "      --bg-color: #E8F0FE;\n",
       "      --fill-color: #1967D2;\n",
       "      --hover-bg-color: #E2EBFA;\n",
       "      --hover-fill-color: #174EA6;\n",
       "      --disabled-fill-color: #AAA;\n",
       "      --disabled-bg-color: #DDD;\n",
       "  }\n",
       "\n",
       "  [theme=dark] .colab-df-quickchart {\n",
       "      --bg-color: #3B4455;\n",
       "      --fill-color: #D2E3FC;\n",
       "      --hover-bg-color: #434B5C;\n",
       "      --hover-fill-color: #FFFFFF;\n",
       "      --disabled-bg-color: #3B4455;\n",
       "      --disabled-fill-color: #666;\n",
       "  }\n",
       "\n",
       "  .colab-df-quickchart {\n",
       "    background-color: var(--bg-color);\n",
       "    border: none;\n",
       "    border-radius: 50%;\n",
       "    cursor: pointer;\n",
       "    display: none;\n",
       "    fill: var(--fill-color);\n",
       "    height: 32px;\n",
       "    padding: 0;\n",
       "    width: 32px;\n",
       "  }\n",
       "\n",
       "  .colab-df-quickchart:hover {\n",
       "    background-color: var(--hover-bg-color);\n",
       "    box-shadow: 0 1px 2px rgba(60, 64, 67, 0.3), 0 1px 3px 1px rgba(60, 64, 67, 0.15);\n",
       "    fill: var(--button-hover-fill-color);\n",
       "  }\n",
       "\n",
       "  .colab-df-quickchart-complete:disabled,\n",
       "  .colab-df-quickchart-complete:disabled:hover {\n",
       "    background-color: var(--disabled-bg-color);\n",
       "    fill: var(--disabled-fill-color);\n",
       "    box-shadow: none;\n",
       "  }\n",
       "\n",
       "  .colab-df-spinner {\n",
       "    border: 2px solid var(--fill-color);\n",
       "    border-color: transparent;\n",
       "    border-bottom-color: var(--fill-color);\n",
       "    animation:\n",
       "      spin 1s steps(1) infinite;\n",
       "  }\n",
       "\n",
       "  @keyframes spin {\n",
       "    0% {\n",
       "      border-color: transparent;\n",
       "      border-bottom-color: var(--fill-color);\n",
       "      border-left-color: var(--fill-color);\n",
       "    }\n",
       "    20% {\n",
       "      border-color: transparent;\n",
       "      border-left-color: var(--fill-color);\n",
       "      border-top-color: var(--fill-color);\n",
       "    }\n",
       "    30% {\n",
       "      border-color: transparent;\n",
       "      border-left-color: var(--fill-color);\n",
       "      border-top-color: var(--fill-color);\n",
       "      border-right-color: var(--fill-color);\n",
       "    }\n",
       "    40% {\n",
       "      border-color: transparent;\n",
       "      border-right-color: var(--fill-color);\n",
       "      border-top-color: var(--fill-color);\n",
       "    }\n",
       "    60% {\n",
       "      border-color: transparent;\n",
       "      border-right-color: var(--fill-color);\n",
       "    }\n",
       "    80% {\n",
       "      border-color: transparent;\n",
       "      border-right-color: var(--fill-color);\n",
       "      border-bottom-color: var(--fill-color);\n",
       "    }\n",
       "    90% {\n",
       "      border-color: transparent;\n",
       "      border-bottom-color: var(--fill-color);\n",
       "    }\n",
       "  }\n",
       "</style>\n",
       "\n",
       "      <script>\n",
       "        async function quickchart(key) {\n",
       "          const quickchartButtonEl =\n",
       "            document.querySelector('#' + key + ' button');\n",
       "          quickchartButtonEl.disabled = true;  // To prevent multiple clicks.\n",
       "          quickchartButtonEl.classList.add('colab-df-spinner');\n",
       "          try {\n",
       "            const charts = await google.colab.kernel.invokeFunction(\n",
       "                'suggestCharts', [key], {});\n",
       "          } catch (error) {\n",
       "            console.error('Error during call to suggestCharts:', error);\n",
       "          }\n",
       "          quickchartButtonEl.classList.remove('colab-df-spinner');\n",
       "          quickchartButtonEl.classList.add('colab-df-quickchart-complete');\n",
       "        }\n",
       "        (() => {\n",
       "          let quickchartButtonEl =\n",
       "            document.querySelector('#df-e1bcef5d-923c-42c8-bb49-d4986d0f02e2 button');\n",
       "          quickchartButtonEl.style.display =\n",
       "            google.colab.kernel.accessAllowed ? 'block' : 'none';\n",
       "        })();\n",
       "      </script>\n",
       "    </div>\n",
       "\n",
       "    </div>\n",
       "  </div>\n"
      ],
      "text/plain": [
       "   LocationID    SessionID GroupID  RecordID           start_time  \\\n",
       "0  CamdenTown  CamdenTown1   CT101       525  2019-05-02 11:40:44   \n",
       "1  CamdenTown  CamdenTown1   CT101       526  2019-05-02 11:41:57   \n",
       "2  CamdenTown  CamdenTown1   CT101       561  2019-05-02 11:40:44   \n",
       "3  CamdenTown  CamdenTown1   CT102       560  2019-05-02 11:50:10   \n",
       "4  CamdenTown  CamdenTown1   CT103       527  2019-05-02 11:49:06   \n",
       "\n",
       "              end_time  traffic_noise  other_noise  human_sounds  \\\n",
       "0  2019-05-02 11:43:24            4.0          3.0           3.0   \n",
       "1  2019-05-02 11:44:21            3.0          1.0           2.0   \n",
       "2  2019-05-02 11:43:24            4.0          3.0           4.0   \n",
       "3  2019-05-02 11:53:03            3.0          2.0           4.0   \n",
       "4  2019-05-02 11:54:24            4.0          2.0           4.0   \n",
       "\n",
       "   natural_sounds  ...   LAeq   LA10   LA90   LCeq    N5  sharpness  \\\n",
       "0             2.0  ...  69.93  72.43  64.67  77.85  30.8       2.09   \n",
       "1             1.0  ...  69.93  72.43  64.67  77.85  30.8       2.09   \n",
       "2             2.0  ...  69.93  72.43  64.67  77.85  30.8       2.09   \n",
       "3             1.0  ...  70.60  73.72  65.11  77.21  33.2       2.14   \n",
       "4             1.0  ...  66.36  68.36  64.39  74.23  24.6       1.98   \n",
       "\n",
       "   roughness  tonality   ISOPleasant  ISOEventful  \n",
       "0     0.0363     0.304 -2.196699e-01     0.426777  \n",
       "1     0.0363     0.304  5.748368e-17     0.250000  \n",
       "2     0.0363     0.304 -4.696699e-01     0.176777  \n",
       "3     0.0430     0.252  1.035534e-01    -0.750000  \n",
       "4     0.0367     0.184  2.500000e-01     0.750000  \n",
       "\n",
       "[5 rows x 37 columns]"
      ]
     },
     "execution_count": 3,
     "metadata": {},
     "output_type": "execute_result"
    }
   ],
   "source": [
    "# Load the demo data\n",
    "data = pd.read_excel(\"/content/DemoData.xlsx\")\n",
    "\n",
    "# Display the first few rows\n",
    "data.head()"
   ]
  },
  {
   "cell_type": "markdown",
   "id": "2318d626",
   "metadata": {
    "id": "2318d626"
   },
   "source": [
    "### Display basic information about the dataset\n",
    "\n",
    "Dataset shape:"
   ]
  },
  {
   "cell_type": "code",
   "execution_count": 4,
   "id": "981fe4d2",
   "metadata": {
    "ExecuteTime": {
     "end_time": "2025-05-14T23:24:34.353011Z",
     "start_time": "2025-05-14T23:24:34.351100Z"
    },
    "colab": {
     "base_uri": "https://localhost:8080/"
    },
    "id": "981fe4d2",
    "outputId": "20196b50-937d-4afc-b550-c408df5ddf28"
   },
   "outputs": [
    {
     "data": {
      "text/plain": [
       "(456, 37)"
      ]
     },
     "execution_count": 4,
     "metadata": {},
     "output_type": "execute_result"
    }
   ],
   "source": [
    "data.shape"
   ]
  },
  {
   "cell_type": "markdown",
   "id": "e3b47573c14a2d93",
   "metadata": {
    "id": "e3b47573c14a2d93"
   },
   "source": [
    "Number of locations:"
   ]
  },
  {
   "cell_type": "code",
   "execution_count": 5,
   "id": "776a3da8bf51d4a2",
   "metadata": {
    "ExecuteTime": {
     "end_time": "2025-05-14T23:24:34.374001Z",
     "start_time": "2025-05-14T23:24:34.371935Z"
    },
    "colab": {
     "base_uri": "https://localhost:8080/"
    },
    "id": "776a3da8bf51d4a2",
    "outputId": "45dbb6b2-9774-4185-a858-a555d4ef9957"
   },
   "outputs": [
    {
     "data": {
      "text/plain": [
       "4"
      ]
     },
     "execution_count": 5,
     "metadata": {},
     "output_type": "execute_result"
    }
   ],
   "source": [
    "data[\"LocationID\"].nunique()"
   ]
  },
  {
   "cell_type": "markdown",
   "id": "8ef6a30f3537ea63",
   "metadata": {
    "id": "8ef6a30f3537ea63"
   },
   "source": [
    "Locations:"
   ]
  },
  {
   "cell_type": "code",
   "execution_count": 6,
   "id": "2c3cc7c28f93fcc1",
   "metadata": {
    "ExecuteTime": {
     "end_time": "2025-05-14T23:24:34.435340Z",
     "start_time": "2025-05-14T23:24:34.432935Z"
    },
    "colab": {
     "base_uri": "https://localhost:8080/"
    },
    "id": "2c3cc7c28f93fcc1",
    "outputId": "86903bf8-0c09-43ce-8e53-de84ac065fca"
   },
   "outputs": [
    {
     "data": {
      "text/plain": [
       "array(['CamdenTown', 'MarchmontGarden', 'TateModern', 'PancrasLock'],\n",
       "      dtype=object)"
      ]
     },
     "execution_count": 6,
     "metadata": {},
     "output_type": "execute_result"
    }
   ],
   "source": [
    "data[\"LocationID\"].unique()"
   ]
  },
  {
   "cell_type": "markdown",
   "id": "4c342131",
   "metadata": {
    "cell_marker": "\"\"\"",
    "id": "4c342131"
   },
   "source": [
    "### Understanding the Data Structure\n",
    "\n",
    "Our dataset contains several types of columns:\n",
    "\n",
    "1. **Index Columns**: Identify the survey, location, and respondent\n",
    "   - `LocationID`: Identifier for the location\n",
    "   - `RecordID`: Identifier for the audio recording\n",
    "   - `GroupID`: Identifier for the group of respondents\n",
    "   - `SessionID`: Identifier for the survey session\n",
    "\n",
    "2. **Perceptual Attribute Questions (PAQs)**: Ratings on a 5-point Likert scale\n",
    "   - `PAQ1` (pleasant): How pleasant is the soundscape?\n",
    "   - `PAQ2` (vibrant): How vibrant is the soundscape?\n",
    "   - `PAQ3` (eventful): How eventful is the soundscape?\n",
    "   - `PAQ4` (chaotic): How chaotic is the soundscape?\n",
    "   - `PAQ5` (annoying): How annoying is the soundscape?\n",
    "   - `PAQ6` (monotonous): How monotonous is the soundscape?\n",
    "   - `PAQ7` (uneventful): How uneventful is the soundscape?\n",
    "   - `PAQ8` (calm): How calm is the soundscape?\n",
    "\n",
    "3. **Sound Source Dominance**: Ratings of how dominant different sound sources are\n",
    "   - `traffic_noise`: Dominance of traffic noise\n",
    "   - `other_noise`: Dominance of other mechanical noise\n",
    "   - `human_sounds`: Dominance of human sounds\n",
    "   - `natural_sounds`: Dominance of natural sounds\n",
    "\n",
    "4. **Acoustic Metrics**: Objective measurements of the sound environment\n",
    "   - `LAeq`: A-weighted equivalent continuous sound level\n",
    "   - Various other metrics like `N5`, `Sharpness`, etc."
   ]
  },
  {
   "cell_type": "markdown",
   "id": "01d2aaa8",
   "metadata": {
    "cell_marker": "\"\"\"",
    "id": "01d2aaa8"
   },
   "source": [
    "## 2. Data Validation and ISO Coordinate Calculation\n",
    "\n",
    "Before analyzing the data, it's important to validate it to ensure quality and consistency. Soundscapy provides functions for validating soundscape data and calculating ISO coordinates."
   ]
  },
  {
   "cell_type": "code",
   "execution_count": 7,
   "id": "842f8d22",
   "metadata": {
    "ExecuteTime": {
     "end_time": "2025-05-14T23:24:35.284400Z",
     "start_time": "2025-05-14T23:24:35.257620Z"
    },
    "colab": {
     "base_uri": "https://localhost:8080/"
    },
    "id": "842f8d22",
    "outputId": "9d048715-c111-45cf-d6b9-1d8fff12e34b"
   },
   "outputs": [
    {
     "name": "stdout",
     "output_type": "stream",
     "text": [
      "Original dataset size: 456\n",
      "Valid dataset size: 456\n",
      "Number of invalid records: 0\n"
     ]
    }
   ],
   "source": [
    "# Validate the data\n",
    "valid_data, invalid_indices = sspy.databases.isd.validate(data)\n",
    "\n",
    "# Display validation results\n",
    "print(f\"Original dataset size: {len(data)}\")\n",
    "print(f\"Valid dataset size: {len(valid_data)}\")\n",
    "print(f\"Number of invalid records: {len(invalid_indices) if invalid_indices else 0}\")\n",
    "\n",
    "# If there are invalid records, display the first few\n",
    "if invalid_indices:\n",
    "    print(\"\\nSample of invalid records:\")\n",
    "    print(data.loc[invalid_indices[:5]])"
   ]
  },
  {
   "cell_type": "markdown",
   "id": "2d0dca86",
   "metadata": {
    "cell_marker": "\"\"\"",
    "id": "2d0dca86"
   },
   "source": [
    "### Calculating ISO Coordinates\n",
    "\n",
    "The ISO 12913 standard defines a circumplex model for soundscape perception, with two main dimensions: pleasantness and eventfulness. Soundscapy can calculate these coordinates from the PAQ responses with a single function call.\n",
    "\n",
    "The ISO coordinates are calculated using a trigonometric projection of the eight PAQ responses, where:\n",
    "- `ISOPleasant` represents the horizontal axis (pleasant to unpleasant)\n",
    "- `ISOEventful` represents the vertical axis (eventful to uneventful)\n",
    "\n",
    "These coordinates allow us to position each response in the soundscape circumplex model, which has four quadrants:\n",
    "- Pleasant and Eventful: \"Vibrant\"\n",
    "- Unpleasant and Eventful: \"Chaotic\"\n",
    "- Unpleasant and Uneventful: \"Monotonous\"\n",
    "- Pleasant and Uneventful: \"Calm\""
   ]
  },
  {
   "cell_type": "code",
   "execution_count": 8,
   "id": "e4c79f73",
   "metadata": {
    "ExecuteTime": {
     "end_time": "2025-05-14T23:24:35.333164Z",
     "start_time": "2025-05-14T23:24:35.293624Z"
    },
    "colab": {
     "base_uri": "https://localhost:8080/",
     "height": 238
    },
    "id": "e4c79f73",
    "outputId": "08d845a0-ea91-47b4-ffd1-6747ddba939f"
   },
   "outputs": [
    {
     "name": "stdout",
     "output_type": "stream",
     "text": [
      "Data with ISO coordinates:\n"
     ]
    },
    {
     "data": {
      "application/vnd.google.colaboratory.intrinsic+json": {
       "summary": "{\n  \"name\": \"valid_data[[\\\"LocationID\\\", \\\"ISOPleasant\\\", \\\"ISOEventful\\\"]]\",\n  \"rows\": 5,\n  \"fields\": [\n    {\n      \"column\": \"LocationID\",\n      \"properties\": {\n        \"dtype\": \"category\",\n        \"num_unique_values\": 1,\n        \"samples\": [\n          \"CamdenTown\"\n        ],\n        \"semantic_type\": \"\",\n        \"description\": \"\"\n      }\n    },\n    {\n      \"column\": \"ISOPleasant\",\n      \"properties\": {\n        \"dtype\": \"number\",\n        \"std\": 0.28262939414976035,\n        \"min\": -0.4696699141100893,\n        \"max\": 0.2500000000000001,\n        \"num_unique_values\": 5,\n        \"samples\": [\n          5.748367925732732e-17\n        ],\n        \"semantic_type\": \"\",\n        \"description\": \"\"\n      }\n    },\n    {\n      \"column\": \"ISOEventful\",\n      \"properties\": {\n        \"dtype\": \"number\",\n        \"std\": 0.5601735600529678,\n        \"min\": -0.7500000000000001,\n        \"max\": 0.7500000000000001,\n        \"num_unique_values\": 5,\n        \"samples\": [\n          0.25000000000000006\n        ],\n        \"semantic_type\": \"\",\n        \"description\": \"\"\n      }\n    }\n  ]\n}",
       "type": "dataframe"
      },
      "text/html": [
       "\n",
       "  <div id=\"df-0cbb9bab-5610-4cea-bc62-dcb7b79fb791\" class=\"colab-df-container\">\n",
       "    <div>\n",
       "<style scoped>\n",
       "    .dataframe tbody tr th:only-of-type {\n",
       "        vertical-align: middle;\n",
       "    }\n",
       "\n",
       "    .dataframe tbody tr th {\n",
       "        vertical-align: top;\n",
       "    }\n",
       "\n",
       "    .dataframe thead th {\n",
       "        text-align: right;\n",
       "    }\n",
       "</style>\n",
       "<table border=\"1\" class=\"dataframe\">\n",
       "  <thead>\n",
       "    <tr style=\"text-align: right;\">\n",
       "      <th></th>\n",
       "      <th>LocationID</th>\n",
       "      <th>ISOPleasant</th>\n",
       "      <th>ISOEventful</th>\n",
       "    </tr>\n",
       "  </thead>\n",
       "  <tbody>\n",
       "    <tr>\n",
       "      <th>0</th>\n",
       "      <td>CamdenTown</td>\n",
       "      <td>-2.196699e-01</td>\n",
       "      <td>0.426777</td>\n",
       "    </tr>\n",
       "    <tr>\n",
       "      <th>1</th>\n",
       "      <td>CamdenTown</td>\n",
       "      <td>5.748368e-17</td>\n",
       "      <td>0.250000</td>\n",
       "    </tr>\n",
       "    <tr>\n",
       "      <th>2</th>\n",
       "      <td>CamdenTown</td>\n",
       "      <td>-4.696699e-01</td>\n",
       "      <td>0.176777</td>\n",
       "    </tr>\n",
       "    <tr>\n",
       "      <th>3</th>\n",
       "      <td>CamdenTown</td>\n",
       "      <td>1.035534e-01</td>\n",
       "      <td>-0.750000</td>\n",
       "    </tr>\n",
       "    <tr>\n",
       "      <th>4</th>\n",
       "      <td>CamdenTown</td>\n",
       "      <td>2.500000e-01</td>\n",
       "      <td>0.750000</td>\n",
       "    </tr>\n",
       "  </tbody>\n",
       "</table>\n",
       "</div>\n",
       "    <div class=\"colab-df-buttons\">\n",
       "\n",
       "  <div class=\"colab-df-container\">\n",
       "    <button class=\"colab-df-convert\" onclick=\"convertToInteractive('df-0cbb9bab-5610-4cea-bc62-dcb7b79fb791')\"\n",
       "            title=\"Convert this dataframe to an interactive table.\"\n",
       "            style=\"display:none;\">\n",
       "\n",
       "  <svg xmlns=\"http://www.w3.org/2000/svg\" height=\"24px\" viewBox=\"0 -960 960 960\">\n",
       "    <path d=\"M120-120v-720h720v720H120Zm60-500h600v-160H180v160Zm220 220h160v-160H400v160Zm0 220h160v-160H400v160ZM180-400h160v-160H180v160Zm440 0h160v-160H620v160ZM180-180h160v-160H180v160Zm440 0h160v-160H620v160Z\"/>\n",
       "  </svg>\n",
       "    </button>\n",
       "\n",
       "  <style>\n",
       "    .colab-df-container {\n",
       "      display:flex;\n",
       "      gap: 12px;\n",
       "    }\n",
       "\n",
       "    .colab-df-convert {\n",
       "      background-color: #E8F0FE;\n",
       "      border: none;\n",
       "      border-radius: 50%;\n",
       "      cursor: pointer;\n",
       "      display: none;\n",
       "      fill: #1967D2;\n",
       "      height: 32px;\n",
       "      padding: 0 0 0 0;\n",
       "      width: 32px;\n",
       "    }\n",
       "\n",
       "    .colab-df-convert:hover {\n",
       "      background-color: #E2EBFA;\n",
       "      box-shadow: 0px 1px 2px rgba(60, 64, 67, 0.3), 0px 1px 3px 1px rgba(60, 64, 67, 0.15);\n",
       "      fill: #174EA6;\n",
       "    }\n",
       "\n",
       "    .colab-df-buttons div {\n",
       "      margin-bottom: 4px;\n",
       "    }\n",
       "\n",
       "    [theme=dark] .colab-df-convert {\n",
       "      background-color: #3B4455;\n",
       "      fill: #D2E3FC;\n",
       "    }\n",
       "\n",
       "    [theme=dark] .colab-df-convert:hover {\n",
       "      background-color: #434B5C;\n",
       "      box-shadow: 0px 1px 3px 1px rgba(0, 0, 0, 0.15);\n",
       "      filter: drop-shadow(0px 1px 2px rgba(0, 0, 0, 0.3));\n",
       "      fill: #FFFFFF;\n",
       "    }\n",
       "  </style>\n",
       "\n",
       "    <script>\n",
       "      const buttonEl =\n",
       "        document.querySelector('#df-0cbb9bab-5610-4cea-bc62-dcb7b79fb791 button.colab-df-convert');\n",
       "      buttonEl.style.display =\n",
       "        google.colab.kernel.accessAllowed ? 'block' : 'none';\n",
       "\n",
       "      async function convertToInteractive(key) {\n",
       "        const element = document.querySelector('#df-0cbb9bab-5610-4cea-bc62-dcb7b79fb791');\n",
       "        const dataTable =\n",
       "          await google.colab.kernel.invokeFunction('convertToInteractive',\n",
       "                                                    [key], {});\n",
       "        if (!dataTable) return;\n",
       "\n",
       "        const docLinkHtml = 'Like what you see? Visit the ' +\n",
       "          '<a target=\"_blank\" href=https://colab.research.google.com/notebooks/data_table.ipynb>data table notebook</a>'\n",
       "          + ' to learn more about interactive tables.';\n",
       "        element.innerHTML = '';\n",
       "        dataTable['output_type'] = 'display_data';\n",
       "        await google.colab.output.renderOutput(dataTable, element);\n",
       "        const docLink = document.createElement('div');\n",
       "        docLink.innerHTML = docLinkHtml;\n",
       "        element.appendChild(docLink);\n",
       "      }\n",
       "    </script>\n",
       "  </div>\n",
       "\n",
       "\n",
       "    <div id=\"df-1c321a98-3015-4fb5-a5ac-ee4a063e7c25\">\n",
       "      <button class=\"colab-df-quickchart\" onclick=\"quickchart('df-1c321a98-3015-4fb5-a5ac-ee4a063e7c25')\"\n",
       "                title=\"Suggest charts\"\n",
       "                style=\"display:none;\">\n",
       "\n",
       "<svg xmlns=\"http://www.w3.org/2000/svg\" height=\"24px\"viewBox=\"0 0 24 24\"\n",
       "     width=\"24px\">\n",
       "    <g>\n",
       "        <path d=\"M19 3H5c-1.1 0-2 .9-2 2v14c0 1.1.9 2 2 2h14c1.1 0 2-.9 2-2V5c0-1.1-.9-2-2-2zM9 17H7v-7h2v7zm4 0h-2V7h2v10zm4 0h-2v-4h2v4z\"/>\n",
       "    </g>\n",
       "</svg>\n",
       "      </button>\n",
       "\n",
       "<style>\n",
       "  .colab-df-quickchart {\n",
       "      --bg-color: #E8F0FE;\n",
       "      --fill-color: #1967D2;\n",
       "      --hover-bg-color: #E2EBFA;\n",
       "      --hover-fill-color: #174EA6;\n",
       "      --disabled-fill-color: #AAA;\n",
       "      --disabled-bg-color: #DDD;\n",
       "  }\n",
       "\n",
       "  [theme=dark] .colab-df-quickchart {\n",
       "      --bg-color: #3B4455;\n",
       "      --fill-color: #D2E3FC;\n",
       "      --hover-bg-color: #434B5C;\n",
       "      --hover-fill-color: #FFFFFF;\n",
       "      --disabled-bg-color: #3B4455;\n",
       "      --disabled-fill-color: #666;\n",
       "  }\n",
       "\n",
       "  .colab-df-quickchart {\n",
       "    background-color: var(--bg-color);\n",
       "    border: none;\n",
       "    border-radius: 50%;\n",
       "    cursor: pointer;\n",
       "    display: none;\n",
       "    fill: var(--fill-color);\n",
       "    height: 32px;\n",
       "    padding: 0;\n",
       "    width: 32px;\n",
       "  }\n",
       "\n",
       "  .colab-df-quickchart:hover {\n",
       "    background-color: var(--hover-bg-color);\n",
       "    box-shadow: 0 1px 2px rgba(60, 64, 67, 0.3), 0 1px 3px 1px rgba(60, 64, 67, 0.15);\n",
       "    fill: var(--button-hover-fill-color);\n",
       "  }\n",
       "\n",
       "  .colab-df-quickchart-complete:disabled,\n",
       "  .colab-df-quickchart-complete:disabled:hover {\n",
       "    background-color: var(--disabled-bg-color);\n",
       "    fill: var(--disabled-fill-color);\n",
       "    box-shadow: none;\n",
       "  }\n",
       "\n",
       "  .colab-df-spinner {\n",
       "    border: 2px solid var(--fill-color);\n",
       "    border-color: transparent;\n",
       "    border-bottom-color: var(--fill-color);\n",
       "    animation:\n",
       "      spin 1s steps(1) infinite;\n",
       "  }\n",
       "\n",
       "  @keyframes spin {\n",
       "    0% {\n",
       "      border-color: transparent;\n",
       "      border-bottom-color: var(--fill-color);\n",
       "      border-left-color: var(--fill-color);\n",
       "    }\n",
       "    20% {\n",
       "      border-color: transparent;\n",
       "      border-left-color: var(--fill-color);\n",
       "      border-top-color: var(--fill-color);\n",
       "    }\n",
       "    30% {\n",
       "      border-color: transparent;\n",
       "      border-left-color: var(--fill-color);\n",
       "      border-top-color: var(--fill-color);\n",
       "      border-right-color: var(--fill-color);\n",
       "    }\n",
       "    40% {\n",
       "      border-color: transparent;\n",
       "      border-right-color: var(--fill-color);\n",
       "      border-top-color: var(--fill-color);\n",
       "    }\n",
       "    60% {\n",
       "      border-color: transparent;\n",
       "      border-right-color: var(--fill-color);\n",
       "    }\n",
       "    80% {\n",
       "      border-color: transparent;\n",
       "      border-right-color: var(--fill-color);\n",
       "      border-bottom-color: var(--fill-color);\n",
       "    }\n",
       "    90% {\n",
       "      border-color: transparent;\n",
       "      border-bottom-color: var(--fill-color);\n",
       "    }\n",
       "  }\n",
       "</style>\n",
       "\n",
       "      <script>\n",
       "        async function quickchart(key) {\n",
       "          const quickchartButtonEl =\n",
       "            document.querySelector('#' + key + ' button');\n",
       "          quickchartButtonEl.disabled = true;  // To prevent multiple clicks.\n",
       "          quickchartButtonEl.classList.add('colab-df-spinner');\n",
       "          try {\n",
       "            const charts = await google.colab.kernel.invokeFunction(\n",
       "                'suggestCharts', [key], {});\n",
       "          } catch (error) {\n",
       "            console.error('Error during call to suggestCharts:', error);\n",
       "          }\n",
       "          quickchartButtonEl.classList.remove('colab-df-spinner');\n",
       "          quickchartButtonEl.classList.add('colab-df-quickchart-complete');\n",
       "        }\n",
       "        (() => {\n",
       "          let quickchartButtonEl =\n",
       "            document.querySelector('#df-1c321a98-3015-4fb5-a5ac-ee4a063e7c25 button');\n",
       "          quickchartButtonEl.style.display =\n",
       "            google.colab.kernel.accessAllowed ? 'block' : 'none';\n",
       "        })();\n",
       "      </script>\n",
       "    </div>\n",
       "\n",
       "    </div>\n",
       "  </div>\n"
      ],
      "text/plain": [
       "   LocationID   ISOPleasant  ISOEventful\n",
       "0  CamdenTown -2.196699e-01     0.426777\n",
       "1  CamdenTown  5.748368e-17     0.250000\n",
       "2  CamdenTown -4.696699e-01     0.176777\n",
       "3  CamdenTown  1.035534e-01    -0.750000\n",
       "4  CamdenTown  2.500000e-01     0.750000"
      ]
     },
     "execution_count": 8,
     "metadata": {},
     "output_type": "execute_result"
    }
   ],
   "source": [
    "# Calculate ISO coordinates if not already present\n",
    "valid_data = sspy.surveys.add_iso_coords(valid_data, overwrite=True)\n",
    "\n",
    "# Display the first few rows with ISO coordinates\n",
    "print(\"Data with ISO coordinates:\")\n",
    "valid_data[[\"LocationID\", \"ISOPleasant\", \"ISOEventful\"]].head()"
   ]
  },
  {
   "cell_type": "markdown",
   "id": "c5b717b83cabedff",
   "metadata": {
    "id": "c5b717b83cabedff"
   },
   "source": [
    "### Save the data\n",
    "\n",
    "After using Soundscapy to calculate the ISOCoordinates, we can easily save our resulting DataFrame out to a file. We can easily save to an Excel file, allowing you to use the tools you're more comfortable with for additional analysis:"
   ]
  },
  {
   "cell_type": "code",
   "execution_count": 9,
   "id": "ffe3a114f8fd5e3c",
   "metadata": {
    "ExecuteTime": {
     "end_time": "2025-05-14T23:24:35.437548Z",
     "start_time": "2025-05-14T23:24:35.354545Z"
    },
    "id": "ffe3a114f8fd5e3c"
   },
   "outputs": [],
   "source": [
    "data.to_excel(\"SoundscapyResults.xlsx\", index=False)"
   ]
  },
  {
   "cell_type": "markdown",
   "id": "fee4024a",
   "metadata": {
    "cell_marker": "\"\"\"",
    "id": "fee4024a"
   },
   "source": [
    "## 3. Basic Visualization and Summary Statistics\n",
    "\n",
    "Now that we have our validated data with ISO coordinates, we can create basic visualizations and calculate summary statistics to understand the soundscape perceptions at different locations."
   ]
  },
  {
   "cell_type": "code",
   "execution_count": 10,
   "id": "c9b69429",
   "metadata": {
    "ExecuteTime": {
     "end_time": "2025-05-14T23:24:35.456769Z",
     "start_time": "2025-05-14T23:24:35.450838Z"
    },
    "colab": {
     "base_uri": "https://localhost:8080/",
     "height": 268
    },
    "id": "c9b69429",
    "outputId": "f0da46d7-6cb1-4d5a-e3e5-8e23fecf21da"
   },
   "outputs": [
    {
     "name": "stdout",
     "output_type": "stream",
     "text": [
      "Summary statistics for ISO coordinates by location:\n"
     ]
    },
    {
     "data": {
      "application/vnd.google.colaboratory.intrinsic+json": {
       "summary": "{\n  \"name\": \"iso_stats\",\n  \"rows\": 4,\n  \"fields\": [\n    {\n      \"column\": [\n        \"LocationID\",\n        \"\"\n      ],\n      \"properties\": {\n        \"dtype\": \"string\",\n        \"num_unique_values\": 4,\n        \"samples\": [\n          \"MarchmontGarden\",\n          \"TateModern\",\n          \"CamdenTown\"\n        ],\n        \"semantic_type\": \"\",\n        \"description\": \"\"\n      }\n    },\n    {\n      \"column\": [\n        \"ISOPleasant\",\n        \"mean\"\n      ],\n      \"properties\": {\n        \"dtype\": \"number\",\n        \"std\": 0.21051057323311073,\n        \"min\": -0.10257068996004051,\n        \"max\": 0.3805846880316692,\n        \"num_unique_values\": 4,\n        \"samples\": [\n          0.27643827714489655,\n          0.3805846880316692,\n          -0.10257068996004051\n        ],\n        \"semantic_type\": \"\",\n        \"description\": \"\"\n      }\n    },\n    {\n      \"column\": [\n        \"ISOPleasant\",\n        \"std\"\n      ],\n      \"properties\": {\n        \"dtype\": \"number\",\n        \"std\": 0.06986958260795785,\n        \"min\": 0.28898326309471,\n        \"max\": 0.4245210289854116,\n        \"num_unique_values\": 4,\n        \"samples\": [\n          0.4245210289854116,\n          0.28898326309471,\n          0.2891553455636446\n        ],\n        \"semantic_type\": \"\",\n        \"description\": \"\"\n      }\n    },\n    {\n      \"column\": [\n        \"ISOPleasant\",\n        \"min\"\n      ],\n      \"properties\": {\n        \"dtype\": \"number\",\n        \"std\": 0.18899217874399274,\n        \"min\": -0.8535533905932737,\n        \"max\": -0.42677669529663687,\n        \"num_unique_values\": 4,\n        \"samples\": [\n          -0.8535533905932737,\n          -0.42677669529663687,\n          -0.7803300858899107\n        ],\n        \"semantic_type\": \"\",\n        \"description\": \"\"\n      }\n    },\n    {\n      \"column\": [\n        \"ISOPleasant\",\n        \"max\"\n      ],\n      \"properties\": {\n        \"dtype\": \"number\",\n        \"std\": 0.1891948813672701,\n        \"min\": 0.6035533905932737,\n        \"max\": 1.0,\n        \"num_unique_values\": 3,\n        \"samples\": [\n          0.6035533905932737,\n          1.0,\n          0.926776695296637\n        ],\n        \"semantic_type\": \"\",\n        \"description\": \"\"\n      }\n    },\n    {\n      \"column\": [\n        \"ISOEventful\",\n        \"mean\"\n      ],\n      \"properties\": {\n        \"dtype\": \"number\",\n        \"std\": 0.17245056513647136,\n        \"min\": -0.03617235275101221,\n        \"max\": 0.36409597670662613,\n        \"num_unique_values\": 4,\n        \"samples\": [\n          -0.03617235275101221,\n          0.21078602018095213,\n          0.36409597670662613\n        ],\n        \"semantic_type\": \"\",\n        \"description\": \"\"\n      }\n    },\n    {\n      \"column\": [\n        \"ISOEventful\",\n        \"std\"\n      ],\n      \"properties\": {\n        \"dtype\": \"number\",\n        \"std\": 0.03669490376183788,\n        \"min\": 0.25843239818631863,\n        \"max\": 0.34486780205687306,\n        \"num_unique_values\": 4,\n        \"samples\": [\n          0.25843239818631863,\n          0.3086499890333549,\n          0.34486780205687306\n        ],\n        \"semantic_type\": \"\",\n        \"description\": \"\"\n      }\n    },\n    {\n      \"column\": [\n        \"ISOEventful\",\n        \"min\"\n      ],\n      \"properties\": {\n        \"dtype\": \"number\",\n        \"std\": 0.10983495705504466,\n        \"min\": -0.7500000000000001,\n        \"max\": -0.5000000000000001,\n        \"num_unique_values\": 4,\n        \"samples\": [\n          -0.5000000000000001,\n          -0.676776695296637,\n          -0.7500000000000001\n        ],\n        \"semantic_type\": \"\",\n        \"description\": \"\"\n      }\n    },\n    {\n      \"column\": [\n        \"ISOEventful\",\n        \"max\"\n      ],\n      \"properties\": {\n        \"dtype\": \"number\",\n        \"std\": 0.2034363143953884,\n        \"min\": 0.6035533905932737,\n        \"max\": 1.0,\n        \"num_unique_values\": 3,\n        \"samples\": [\n          1.0,\n          0.7071067811865476,\n          0.6035533905932737\n        ],\n        \"semantic_type\": \"\",\n        \"description\": \"\"\n      }\n    }\n  ]\n}",
       "type": "dataframe",
       "variable_name": "iso_stats"
      },
      "text/html": [
       "\n",
       "  <div id=\"df-19e584f7-00c5-4a04-93f8-738ad6e085fd\" class=\"colab-df-container\">\n",
       "    <div>\n",
       "<style scoped>\n",
       "    .dataframe tbody tr th:only-of-type {\n",
       "        vertical-align: middle;\n",
       "    }\n",
       "\n",
       "    .dataframe tbody tr th {\n",
       "        vertical-align: top;\n",
       "    }\n",
       "\n",
       "    .dataframe thead tr th {\n",
       "        text-align: left;\n",
       "    }\n",
       "\n",
       "    .dataframe thead tr:last-of-type th {\n",
       "        text-align: right;\n",
       "    }\n",
       "</style>\n",
       "<table border=\"1\" class=\"dataframe\">\n",
       "  <thead>\n",
       "    <tr>\n",
       "      <th></th>\n",
       "      <th colspan=\"4\" halign=\"left\">ISOPleasant</th>\n",
       "      <th colspan=\"4\" halign=\"left\">ISOEventful</th>\n",
       "    </tr>\n",
       "    <tr>\n",
       "      <th></th>\n",
       "      <th>mean</th>\n",
       "      <th>std</th>\n",
       "      <th>min</th>\n",
       "      <th>max</th>\n",
       "      <th>mean</th>\n",
       "      <th>std</th>\n",
       "      <th>min</th>\n",
       "      <th>max</th>\n",
       "    </tr>\n",
       "    <tr>\n",
       "      <th>LocationID</th>\n",
       "      <th></th>\n",
       "      <th></th>\n",
       "      <th></th>\n",
       "      <th></th>\n",
       "      <th></th>\n",
       "      <th></th>\n",
       "      <th></th>\n",
       "      <th></th>\n",
       "    </tr>\n",
       "  </thead>\n",
       "  <tbody>\n",
       "    <tr>\n",
       "      <th>CamdenTown</th>\n",
       "      <td>-0.102571</td>\n",
       "      <td>0.289155</td>\n",
       "      <td>-0.780330</td>\n",
       "      <td>0.603553</td>\n",
       "      <td>0.364096</td>\n",
       "      <td>0.344868</td>\n",
       "      <td>-0.750000</td>\n",
       "      <td>1.000000</td>\n",
       "    </tr>\n",
       "    <tr>\n",
       "      <th>MarchmontGarden</th>\n",
       "      <td>0.276438</td>\n",
       "      <td>0.424521</td>\n",
       "      <td>-0.853553</td>\n",
       "      <td>1.000000</td>\n",
       "      <td>-0.036172</td>\n",
       "      <td>0.258432</td>\n",
       "      <td>-0.500000</td>\n",
       "      <td>0.707107</td>\n",
       "    </tr>\n",
       "    <tr>\n",
       "      <th>PancrasLock</th>\n",
       "      <td>0.254416</td>\n",
       "      <td>0.390951</td>\n",
       "      <td>-0.750000</td>\n",
       "      <td>0.926777</td>\n",
       "      <td>0.078584</td>\n",
       "      <td>0.284963</td>\n",
       "      <td>-0.707107</td>\n",
       "      <td>0.603553</td>\n",
       "    </tr>\n",
       "    <tr>\n",
       "      <th>TateModern</th>\n",
       "      <td>0.380585</td>\n",
       "      <td>0.288983</td>\n",
       "      <td>-0.426777</td>\n",
       "      <td>1.000000</td>\n",
       "      <td>0.210786</td>\n",
       "      <td>0.308650</td>\n",
       "      <td>-0.676777</td>\n",
       "      <td>1.000000</td>\n",
       "    </tr>\n",
       "  </tbody>\n",
       "</table>\n",
       "</div>\n",
       "    <div class=\"colab-df-buttons\">\n",
       "\n",
       "  <div class=\"colab-df-container\">\n",
       "    <button class=\"colab-df-convert\" onclick=\"convertToInteractive('df-19e584f7-00c5-4a04-93f8-738ad6e085fd')\"\n",
       "            title=\"Convert this dataframe to an interactive table.\"\n",
       "            style=\"display:none;\">\n",
       "\n",
       "  <svg xmlns=\"http://www.w3.org/2000/svg\" height=\"24px\" viewBox=\"0 -960 960 960\">\n",
       "    <path d=\"M120-120v-720h720v720H120Zm60-500h600v-160H180v160Zm220 220h160v-160H400v160Zm0 220h160v-160H400v160ZM180-400h160v-160H180v160Zm440 0h160v-160H620v160ZM180-180h160v-160H180v160Zm440 0h160v-160H620v160Z\"/>\n",
       "  </svg>\n",
       "    </button>\n",
       "\n",
       "  <style>\n",
       "    .colab-df-container {\n",
       "      display:flex;\n",
       "      gap: 12px;\n",
       "    }\n",
       "\n",
       "    .colab-df-convert {\n",
       "      background-color: #E8F0FE;\n",
       "      border: none;\n",
       "      border-radius: 50%;\n",
       "      cursor: pointer;\n",
       "      display: none;\n",
       "      fill: #1967D2;\n",
       "      height: 32px;\n",
       "      padding: 0 0 0 0;\n",
       "      width: 32px;\n",
       "    }\n",
       "\n",
       "    .colab-df-convert:hover {\n",
       "      background-color: #E2EBFA;\n",
       "      box-shadow: 0px 1px 2px rgba(60, 64, 67, 0.3), 0px 1px 3px 1px rgba(60, 64, 67, 0.15);\n",
       "      fill: #174EA6;\n",
       "    }\n",
       "\n",
       "    .colab-df-buttons div {\n",
       "      margin-bottom: 4px;\n",
       "    }\n",
       "\n",
       "    [theme=dark] .colab-df-convert {\n",
       "      background-color: #3B4455;\n",
       "      fill: #D2E3FC;\n",
       "    }\n",
       "\n",
       "    [theme=dark] .colab-df-convert:hover {\n",
       "      background-color: #434B5C;\n",
       "      box-shadow: 0px 1px 3px 1px rgba(0, 0, 0, 0.15);\n",
       "      filter: drop-shadow(0px 1px 2px rgba(0, 0, 0, 0.3));\n",
       "      fill: #FFFFFF;\n",
       "    }\n",
       "  </style>\n",
       "\n",
       "    <script>\n",
       "      const buttonEl =\n",
       "        document.querySelector('#df-19e584f7-00c5-4a04-93f8-738ad6e085fd button.colab-df-convert');\n",
       "      buttonEl.style.display =\n",
       "        google.colab.kernel.accessAllowed ? 'block' : 'none';\n",
       "\n",
       "      async function convertToInteractive(key) {\n",
       "        const element = document.querySelector('#df-19e584f7-00c5-4a04-93f8-738ad6e085fd');\n",
       "        const dataTable =\n",
       "          await google.colab.kernel.invokeFunction('convertToInteractive',\n",
       "                                                    [key], {});\n",
       "        if (!dataTable) return;\n",
       "\n",
       "        const docLinkHtml = 'Like what you see? Visit the ' +\n",
       "          '<a target=\"_blank\" href=https://colab.research.google.com/notebooks/data_table.ipynb>data table notebook</a>'\n",
       "          + ' to learn more about interactive tables.';\n",
       "        element.innerHTML = '';\n",
       "        dataTable['output_type'] = 'display_data';\n",
       "        await google.colab.output.renderOutput(dataTable, element);\n",
       "        const docLink = document.createElement('div');\n",
       "        docLink.innerHTML = docLinkHtml;\n",
       "        element.appendChild(docLink);\n",
       "      }\n",
       "    </script>\n",
       "  </div>\n",
       "\n",
       "\n",
       "    <div id=\"df-d06a9fc6-eb98-490f-8c36-09494a01c3ab\">\n",
       "      <button class=\"colab-df-quickchart\" onclick=\"quickchart('df-d06a9fc6-eb98-490f-8c36-09494a01c3ab')\"\n",
       "                title=\"Suggest charts\"\n",
       "                style=\"display:none;\">\n",
       "\n",
       "<svg xmlns=\"http://www.w3.org/2000/svg\" height=\"24px\"viewBox=\"0 0 24 24\"\n",
       "     width=\"24px\">\n",
       "    <g>\n",
       "        <path d=\"M19 3H5c-1.1 0-2 .9-2 2v14c0 1.1.9 2 2 2h14c1.1 0 2-.9 2-2V5c0-1.1-.9-2-2-2zM9 17H7v-7h2v7zm4 0h-2V7h2v10zm4 0h-2v-4h2v4z\"/>\n",
       "    </g>\n",
       "</svg>\n",
       "      </button>\n",
       "\n",
       "<style>\n",
       "  .colab-df-quickchart {\n",
       "      --bg-color: #E8F0FE;\n",
       "      --fill-color: #1967D2;\n",
       "      --hover-bg-color: #E2EBFA;\n",
       "      --hover-fill-color: #174EA6;\n",
       "      --disabled-fill-color: #AAA;\n",
       "      --disabled-bg-color: #DDD;\n",
       "  }\n",
       "\n",
       "  [theme=dark] .colab-df-quickchart {\n",
       "      --bg-color: #3B4455;\n",
       "      --fill-color: #D2E3FC;\n",
       "      --hover-bg-color: #434B5C;\n",
       "      --hover-fill-color: #FFFFFF;\n",
       "      --disabled-bg-color: #3B4455;\n",
       "      --disabled-fill-color: #666;\n",
       "  }\n",
       "\n",
       "  .colab-df-quickchart {\n",
       "    background-color: var(--bg-color);\n",
       "    border: none;\n",
       "    border-radius: 50%;\n",
       "    cursor: pointer;\n",
       "    display: none;\n",
       "    fill: var(--fill-color);\n",
       "    height: 32px;\n",
       "    padding: 0;\n",
       "    width: 32px;\n",
       "  }\n",
       "\n",
       "  .colab-df-quickchart:hover {\n",
       "    background-color: var(--hover-bg-color);\n",
       "    box-shadow: 0 1px 2px rgba(60, 64, 67, 0.3), 0 1px 3px 1px rgba(60, 64, 67, 0.15);\n",
       "    fill: var(--button-hover-fill-color);\n",
       "  }\n",
       "\n",
       "  .colab-df-quickchart-complete:disabled,\n",
       "  .colab-df-quickchart-complete:disabled:hover {\n",
       "    background-color: var(--disabled-bg-color);\n",
       "    fill: var(--disabled-fill-color);\n",
       "    box-shadow: none;\n",
       "  }\n",
       "\n",
       "  .colab-df-spinner {\n",
       "    border: 2px solid var(--fill-color);\n",
       "    border-color: transparent;\n",
       "    border-bottom-color: var(--fill-color);\n",
       "    animation:\n",
       "      spin 1s steps(1) infinite;\n",
       "  }\n",
       "\n",
       "  @keyframes spin {\n",
       "    0% {\n",
       "      border-color: transparent;\n",
       "      border-bottom-color: var(--fill-color);\n",
       "      border-left-color: var(--fill-color);\n",
       "    }\n",
       "    20% {\n",
       "      border-color: transparent;\n",
       "      border-left-color: var(--fill-color);\n",
       "      border-top-color: var(--fill-color);\n",
       "    }\n",
       "    30% {\n",
       "      border-color: transparent;\n",
       "      border-left-color: var(--fill-color);\n",
       "      border-top-color: var(--fill-color);\n",
       "      border-right-color: var(--fill-color);\n",
       "    }\n",
       "    40% {\n",
       "      border-color: transparent;\n",
       "      border-right-color: var(--fill-color);\n",
       "      border-top-color: var(--fill-color);\n",
       "    }\n",
       "    60% {\n",
       "      border-color: transparent;\n",
       "      border-right-color: var(--fill-color);\n",
       "    }\n",
       "    80% {\n",
       "      border-color: transparent;\n",
       "      border-right-color: var(--fill-color);\n",
       "      border-bottom-color: var(--fill-color);\n",
       "    }\n",
       "    90% {\n",
       "      border-color: transparent;\n",
       "      border-bottom-color: var(--fill-color);\n",
       "    }\n",
       "  }\n",
       "</style>\n",
       "\n",
       "      <script>\n",
       "        async function quickchart(key) {\n",
       "          const quickchartButtonEl =\n",
       "            document.querySelector('#' + key + ' button');\n",
       "          quickchartButtonEl.disabled = true;  // To prevent multiple clicks.\n",
       "          quickchartButtonEl.classList.add('colab-df-spinner');\n",
       "          try {\n",
       "            const charts = await google.colab.kernel.invokeFunction(\n",
       "                'suggestCharts', [key], {});\n",
       "          } catch (error) {\n",
       "            console.error('Error during call to suggestCharts:', error);\n",
       "          }\n",
       "          quickchartButtonEl.classList.remove('colab-df-spinner');\n",
       "          quickchartButtonEl.classList.add('colab-df-quickchart-complete');\n",
       "        }\n",
       "        (() => {\n",
       "          let quickchartButtonEl =\n",
       "            document.querySelector('#df-d06a9fc6-eb98-490f-8c36-09494a01c3ab button');\n",
       "          quickchartButtonEl.style.display =\n",
       "            google.colab.kernel.accessAllowed ? 'block' : 'none';\n",
       "        })();\n",
       "      </script>\n",
       "    </div>\n",
       "\n",
       "  <div id=\"id_f4834c46-79e1-440a-8b87-7ee85e38bf77\">\n",
       "    <style>\n",
       "      .colab-df-generate {\n",
       "        background-color: #E8F0FE;\n",
       "        border: none;\n",
       "        border-radius: 50%;\n",
       "        cursor: pointer;\n",
       "        display: none;\n",
       "        fill: #1967D2;\n",
       "        height: 32px;\n",
       "        padding: 0 0 0 0;\n",
       "        width: 32px;\n",
       "      }\n",
       "\n",
       "      .colab-df-generate:hover {\n",
       "        background-color: #E2EBFA;\n",
       "        box-shadow: 0px 1px 2px rgba(60, 64, 67, 0.3), 0px 1px 3px 1px rgba(60, 64, 67, 0.15);\n",
       "        fill: #174EA6;\n",
       "      }\n",
       "\n",
       "      [theme=dark] .colab-df-generate {\n",
       "        background-color: #3B4455;\n",
       "        fill: #D2E3FC;\n",
       "      }\n",
       "\n",
       "      [theme=dark] .colab-df-generate:hover {\n",
       "        background-color: #434B5C;\n",
       "        box-shadow: 0px 1px 3px 1px rgba(0, 0, 0, 0.15);\n",
       "        filter: drop-shadow(0px 1px 2px rgba(0, 0, 0, 0.3));\n",
       "        fill: #FFFFFF;\n",
       "      }\n",
       "    </style>\n",
       "    <button class=\"colab-df-generate\" onclick=\"generateWithVariable('iso_stats')\"\n",
       "            title=\"Generate code using this dataframe.\"\n",
       "            style=\"display:none;\">\n",
       "\n",
       "  <svg xmlns=\"http://www.w3.org/2000/svg\" height=\"24px\"viewBox=\"0 0 24 24\"\n",
       "       width=\"24px\">\n",
       "    <path d=\"M7,19H8.4L18.45,9,17,7.55,7,17.6ZM5,21V16.75L18.45,3.32a2,2,0,0,1,2.83,0l1.4,1.43a1.91,1.91,0,0,1,.58,1.4,1.91,1.91,0,0,1-.58,1.4L9.25,21ZM18.45,9,17,7.55Zm-12,3A5.31,5.31,0,0,0,4.9,8.1,5.31,5.31,0,0,0,1,6.5,5.31,5.31,0,0,0,4.9,4.9,5.31,5.31,0,0,0,6.5,1,5.31,5.31,0,0,0,8.1,4.9,5.31,5.31,0,0,0,12,6.5,5.46,5.46,0,0,0,6.5,12Z\"/>\n",
       "  </svg>\n",
       "    </button>\n",
       "    <script>\n",
       "      (() => {\n",
       "      const buttonEl =\n",
       "        document.querySelector('#id_f4834c46-79e1-440a-8b87-7ee85e38bf77 button.colab-df-generate');\n",
       "      buttonEl.style.display =\n",
       "        google.colab.kernel.accessAllowed ? 'block' : 'none';\n",
       "\n",
       "      buttonEl.onclick = () => {\n",
       "        google.colab.notebook.generateWithVariable('iso_stats');\n",
       "      }\n",
       "      })();\n",
       "    </script>\n",
       "  </div>\n",
       "\n",
       "    </div>\n",
       "  </div>\n"
      ],
      "text/plain": [
       "                ISOPleasant                               ISOEventful  \\\n",
       "                       mean       std       min       max        mean   \n",
       "LocationID                                                              \n",
       "CamdenTown        -0.102571  0.289155 -0.780330  0.603553    0.364096   \n",
       "MarchmontGarden    0.276438  0.424521 -0.853553  1.000000   -0.036172   \n",
       "PancrasLock        0.254416  0.390951 -0.750000  0.926777    0.078584   \n",
       "TateModern         0.380585  0.288983 -0.426777  1.000000    0.210786   \n",
       "\n",
       "                                               \n",
       "                      std       min       max  \n",
       "LocationID                                     \n",
       "CamdenTown       0.344868 -0.750000  1.000000  \n",
       "MarchmontGarden  0.258432 -0.500000  0.707107  \n",
       "PancrasLock      0.284963 -0.707107  0.603553  \n",
       "TateModern       0.308650 -0.676777  1.000000  "
      ]
     },
     "execution_count": 10,
     "metadata": {},
     "output_type": "execute_result"
    }
   ],
   "source": [
    "# Get summary statistics for ISO coordinates by location\n",
    "iso_stats = valid_data.groupby(\"LocationID\")[[\"ISOPleasant\", \"ISOEventful\"]].agg(\n",
    "    [\"mean\", \"std\", \"min\", \"max\"]\n",
    ")\n",
    "\n",
    "# Display the summary statistics\n",
    "print(\"Summary statistics for ISO coordinates by location:\")\n",
    "iso_stats"
   ]
  },
  {
   "cell_type": "markdown",
   "id": "2e41255a46eb3c46",
   "metadata": {
    "id": "2e41255a46eb3c46"
   },
   "source": [
    "### Create a circumplex scatter plot\n",
    "\n",
    "Creating a scatter plot of the Soundscape data is extremely easy in Soundscapy. Let's start by plotting a single location. Again, we use `sspy.isd.select_location_ids()` to select a single location:"
   ]
  },
  {
   "cell_type": "code",
   "execution_count": 11,
   "id": "30ef6be32ba79391",
   "metadata": {
    "ExecuteTime": {
     "end_time": "2025-05-14T23:24:35.672574Z",
     "start_time": "2025-05-14T23:24:35.505180Z"
    },
    "colab": {
     "base_uri": "https://localhost:8080/",
     "height": 565
    },
    "id": "30ef6be32ba79391",
    "outputId": "d80a3649-741e-4f7e-b948-17313ea205bf"
   },
   "outputs": [
    {
     "data": {
      "text/plain": [
       "<Axes: title={'center': 'Soundscape Scatter Plot'}, xlabel='$P_{ISO}$', ylabel='$E_{ISO}$'>"
      ]
     },
     "execution_count": 11,
     "metadata": {},
     "output_type": "execute_result"
    },
    {
     "data": {
      "image/png": "[encoded data removed]",
      "text/plain": [
       "<Figure size 500x500 with 1 Axes>"
      ]
     },
     "metadata": {},
     "output_type": "display_data"
    }
   ],
   "source": [
    "sspy.scatter(sspy.isd.select_location_ids(valid_data, \"CamdenTown\"))"
   ]
  },
  {
   "cell_type": "markdown",
   "id": "36d4d9b23fca3aeb",
   "metadata": {
    "id": "36d4d9b23fca3aeb"
   },
   "source": [
    "#### Customizing the plot\n",
    "\n",
    "The Soundscapy plotting functions contain several customization options, such as changing the color, palette, point size, and title:"
   ]
  },
  {
   "cell_type": "code",
   "execution_count": 12,
   "id": "9a71e5bae1478a34",
   "metadata": {
    "ExecuteTime": {
     "end_time": "2025-05-14T23:24:35.877377Z",
     "start_time": "2025-05-14T23:24:35.686826Z"
    },
    "colab": {
     "base_uri": "https://localhost:8080/",
     "height": 559
    },
    "id": "9a71e5bae1478a34",
    "outputId": "3f829035-a028-4d73-d1ae-42d7ccafe430"
   },
   "outputs": [
    {
     "data": {
      "text/plain": [
       "<Axes: title={'center': 'Circumplex Scatter Plot of Soundscape Perceptions'}, xlabel='Pleasantness', ylabel='Eventfulness'>"
      ]
     },
     "execution_count": 12,
     "metadata": {},
     "output_type": "execute_result"
    },
    {
     "data": {
      "image/png": "[encoded data removed]",
      "text/plain": [
       "<Figure size 500x500 with 1 Axes>"
      ]
     },
     "metadata": {},
     "output_type": "display_data"
    }
   ],
   "source": [
    "sspy.scatter(\n",
    "    sspy.isd.select_location_ids(valid_data, \"CamdenTown\"),\n",
    "    color=\"purple\",\n",
    "    s=40,\n",
    "    title=\"Circumplex Scatter Plot of Soundscape Perceptions\",\n",
    "    xlabel=\"Pleasantness\",\n",
    "    ylabel=\"Eventfulness\",\n",
    "    diagonal_lines=True,\n",
    ")"
   ]
  },
  {
   "cell_type": "markdown",
   "id": "3c2d4ada6de9690b",
   "metadata": {
    "id": "3c2d4ada6de9690b"
   },
   "source": [
    "#### Color by location\n",
    "\n",
    "One of the most useful settings is the ability to split the plot by some grouping variable. In Soundscape data, this will often be the location, but we can easily select any other categorical variable in the dataset. Simply set the `hue` option to get a different color for each group:"
   ]
  },
  {
   "cell_type": "code",
   "execution_count": 13,
   "id": "fc61fe34",
   "metadata": {
    "ExecuteTime": {
     "end_time": "2025-05-14T23:24:36.022578Z",
     "start_time": "2025-05-14T23:24:35.913579Z"
    },
    "colab": {
     "base_uri": "https://localhost:8080/",
     "height": 545
    },
    "id": "fc61fe34",
    "outputId": "d72e5965-44e6-4014-fb8c-20f857597ceb"
   },
   "outputs": [
    {
     "data": {
      "image/png": "[encoded data removed]",
      "text/plain": [
       "<Figure size 500x500 with 1 Axes>"
      ]
     },
     "metadata": {},
     "output_type": "display_data"
    }
   ],
   "source": [
    "# Create a basic scatter plot of ISO coordinates\n",
    "sspy.scatter(\n",
    "    valid_data,\n",
    "    title=\"Soundscape Perceptions Across All Locations\",\n",
    "    hue=\"LocationID\",\n",
    ")\n",
    "plt.show()"
   ]
  },
  {
   "cell_type": "code",
   "execution_count": 14,
   "id": "45b545973e13bb",
   "metadata": {
    "ExecuteTime": {
     "end_time": "2025-05-14T23:24:36.256862Z",
     "start_time": "2025-05-14T23:24:36.031532Z"
    },
    "colab": {
     "base_uri": "https://localhost:8080/",
     "height": 758
    },
    "id": "45b545973e13bb",
    "outputId": "9bddecda-7849-47f9-aa53-1d1cadb42741"
   },
   "outputs": [
    {
     "ename": "TypeError",
     "evalue": "Data source must be a DataFrame or Mapping, not <class 'ellipsis'>.",
     "output_type": "error",
     "traceback": [
      "\u001b[0;31m---------------------------------------------------------------------------\u001b[0m",
      "\u001b[0;31mTypeError\u001b[0m                                 Traceback (most recent call last)",
      "\u001b[0;32m<ipython-input-14-020523ce5eec>\u001b[0m in \u001b[0;36m<cell line: 0>\u001b[0;34m()\u001b[0m\n\u001b[1;32m      1\u001b[0m \u001b[0;31m# Split by a different variable:\u001b[0m\u001b[0;34m\u001b[0m\u001b[0;34m\u001b[0m\u001b[0m\n\u001b[1;32m      2\u001b[0m \u001b[0;34m\u001b[0m\u001b[0m\n\u001b[0;32m----> 3\u001b[0;31m \u001b[0msspy\u001b[0m\u001b[0;34m.\u001b[0m\u001b[0mscatter\u001b[0m\u001b[0;34m(\u001b[0m\u001b[0;34m...\u001b[0m\u001b[0;34m)\u001b[0m\u001b[0;34m\u001b[0m\u001b[0;34m\u001b[0m\u001b[0m\n\u001b[0m",
      "\u001b[0;32m/usr/local/lib/python3.11/dist-packages/soundscapy/plotting/plot_functions.py\u001b[0m in \u001b[0;36mscatter\u001b[0;34m(data, title, ax, x, y, hue, palette, legend, prim_labels, **kwargs)\u001b[0m\n\u001b[1;32m    748\u001b[0m         \u001b[0m_\u001b[0m\u001b[0;34m,\u001b[0m \u001b[0max\u001b[0m \u001b[0;34m=\u001b[0m \u001b[0mplt\u001b[0m\u001b[0;34m.\u001b[0m\u001b[0msubplots\u001b[0m\u001b[0;34m(\u001b[0m\u001b[0;36m1\u001b[0m\u001b[0;34m,\u001b[0m \u001b[0;36m1\u001b[0m\u001b[0;34m,\u001b[0m \u001b[0mfigsize\u001b[0m\u001b[0;34m=\u001b[0m\u001b[0msubplots_args\u001b[0m\u001b[0;34m.\u001b[0m\u001b[0mfigsize\u001b[0m\u001b[0;34m)\u001b[0m\u001b[0;34m\u001b[0m\u001b[0;34m\u001b[0m\u001b[0m\n\u001b[1;32m    749\u001b[0m \u001b[0;34m\u001b[0m\u001b[0m\n\u001b[0;32m--> 750\u001b[0;31m     \u001b[0mp\u001b[0m \u001b[0;34m=\u001b[0m \u001b[0msns\u001b[0m\u001b[0;34m.\u001b[0m\u001b[0mscatterplot\u001b[0m\u001b[0;34m(\u001b[0m\u001b[0max\u001b[0m\u001b[0;34m=\u001b[0m\u001b[0max\u001b[0m\u001b[0;34m,\u001b[0m \u001b[0;34m**\u001b[0m\u001b[0mscatter_args\u001b[0m\u001b[0;34m.\u001b[0m\u001b[0mas_dict\u001b[0m\u001b[0;34m(\u001b[0m\u001b[0;34m)\u001b[0m\u001b[0;34m)\u001b[0m\u001b[0;34m\u001b[0m\u001b[0;34m\u001b[0m\u001b[0m\n\u001b[0m\u001b[1;32m    751\u001b[0m \u001b[0;34m\u001b[0m\u001b[0m\n\u001b[1;32m    752\u001b[0m     \u001b[0m_set_style\u001b[0m\u001b[0;34m(\u001b[0m\u001b[0;34m)\u001b[0m\u001b[0;34m\u001b[0m\u001b[0;34m\u001b[0m\u001b[0m\n",
      "\u001b[0;32m/usr/local/lib/python3.11/dist-packages/seaborn/relational.py\u001b[0m in \u001b[0;36mscatterplot\u001b[0;34m(data, x, y, hue, size, style, palette, hue_order, hue_norm, sizes, size_order, size_norm, markers, style_order, legend, ax, **kwargs)\u001b[0m\n\u001b[1;32m    613\u001b[0m ):\n\u001b[1;32m    614\u001b[0m \u001b[0;34m\u001b[0m\u001b[0m\n\u001b[0;32m--> 615\u001b[0;31m     p = _ScatterPlotter(\n\u001b[0m\u001b[1;32m    616\u001b[0m         \u001b[0mdata\u001b[0m\u001b[0;34m=\u001b[0m\u001b[0mdata\u001b[0m\u001b[0;34m,\u001b[0m\u001b[0;34m\u001b[0m\u001b[0;34m\u001b[0m\u001b[0m\n\u001b[1;32m    617\u001b[0m         \u001b[0mvariables\u001b[0m\u001b[0;34m=\u001b[0m\u001b[0mdict\u001b[0m\u001b[0;34m(\u001b[0m\u001b[0mx\u001b[0m\u001b[0;34m=\u001b[0m\u001b[0mx\u001b[0m\u001b[0;34m,\u001b[0m \u001b[0my\u001b[0m\u001b[0;34m=\u001b[0m\u001b[0my\u001b[0m\u001b[0;34m,\u001b[0m \u001b[0mhue\u001b[0m\u001b[0;34m=\u001b[0m\u001b[0mhue\u001b[0m\u001b[0;34m,\u001b[0m \u001b[0msize\u001b[0m\u001b[0;34m=\u001b[0m\u001b[0msize\u001b[0m\u001b[0;34m,\u001b[0m \u001b[0mstyle\u001b[0m\u001b[0;34m=\u001b[0m\u001b[0mstyle\u001b[0m\u001b[0;34m)\u001b[0m\u001b[0;34m,\u001b[0m\u001b[0;34m\u001b[0m\u001b[0;34m\u001b[0m\u001b[0m\n",
      "\u001b[0;32m/usr/local/lib/python3.11/dist-packages/seaborn/relational.py\u001b[0m in \u001b[0;36m__init__\u001b[0;34m(self, data, variables, legend)\u001b[0m\n\u001b[1;32m    394\u001b[0m         )\n\u001b[1;32m    395\u001b[0m \u001b[0;34m\u001b[0m\u001b[0m\n\u001b[0;32m--> 396\u001b[0;31m         \u001b[0msuper\u001b[0m\u001b[0;34m(\u001b[0m\u001b[0;34m)\u001b[0m\u001b[0;34m.\u001b[0m\u001b[0m__init__\u001b[0m\u001b[0;34m(\u001b[0m\u001b[0mdata\u001b[0m\u001b[0;34m=\u001b[0m\u001b[0mdata\u001b[0m\u001b[0;34m,\u001b[0m \u001b[0mvariables\u001b[0m\u001b[0;34m=\u001b[0m\u001b[0mvariables\u001b[0m\u001b[0;34m)\u001b[0m\u001b[0;34m\u001b[0m\u001b[0;34m\u001b[0m\u001b[0m\n\u001b[0m\u001b[1;32m    397\u001b[0m \u001b[0;34m\u001b[0m\u001b[0m\n\u001b[1;32m    398\u001b[0m         \u001b[0mself\u001b[0m\u001b[0;34m.\u001b[0m\u001b[0mlegend\u001b[0m \u001b[0;34m=\u001b[0m \u001b[0mlegend\u001b[0m\u001b[0;34m\u001b[0m\u001b[0;34m\u001b[0m\u001b[0m\n",
      "\u001b[0;32m/usr/local/lib/python3.11/dist-packages/seaborn/_base.py\u001b[0m in \u001b[0;36m__init__\u001b[0;34m(self, data, variables)\u001b[0m\n\u001b[1;32m    632\u001b[0m         \u001b[0;31m# information for numeric axes would be information about log scales.\u001b[0m\u001b[0;34m\u001b[0m\u001b[0;34m\u001b[0m\u001b[0m\n\u001b[1;32m    633\u001b[0m         \u001b[0mself\u001b[0m\u001b[0;34m.\u001b[0m\u001b[0m_var_ordered\u001b[0m \u001b[0;34m=\u001b[0m \u001b[0;34m{\u001b[0m\u001b[0;34m\"x\"\u001b[0m\u001b[0;34m:\u001b[0m \u001b[0;32mFalse\u001b[0m\u001b[0;34m,\u001b[0m \u001b[0;34m\"y\"\u001b[0m\u001b[0;34m:\u001b[0m \u001b[0;32mFalse\u001b[0m\u001b[0;34m}\u001b[0m  \u001b[0;31m# alt., used DefaultDict\u001b[0m\u001b[0;34m\u001b[0m\u001b[0;34m\u001b[0m\u001b[0m\n\u001b[0;32m--> 634\u001b[0;31m         \u001b[0mself\u001b[0m\u001b[0;34m.\u001b[0m\u001b[0massign_variables\u001b[0m\u001b[0;34m(\u001b[0m\u001b[0mdata\u001b[0m\u001b[0;34m,\u001b[0m \u001b[0mvariables\u001b[0m\u001b[0;34m)\u001b[0m\u001b[0;34m\u001b[0m\u001b[0;34m\u001b[0m\u001b[0m\n\u001b[0m\u001b[1;32m    635\u001b[0m \u001b[0;34m\u001b[0m\u001b[0m\n\u001b[1;32m    636\u001b[0m         \u001b[0;31m# TODO Lots of tests assume that these are called to initialize the\u001b[0m\u001b[0;34m\u001b[0m\u001b[0;34m\u001b[0m\u001b[0m\n",
      "\u001b[0;32m/usr/local/lib/python3.11/dist-packages/seaborn/_base.py\u001b[0m in \u001b[0;36massign_variables\u001b[0;34m(self, data, variables)\u001b[0m\n\u001b[1;32m    677\u001b[0m             \u001b[0;31m# to centralize / standardize data consumption logic.\u001b[0m\u001b[0;34m\u001b[0m\u001b[0;34m\u001b[0m\u001b[0m\n\u001b[1;32m    678\u001b[0m             \u001b[0mself\u001b[0m\u001b[0;34m.\u001b[0m\u001b[0minput_format\u001b[0m \u001b[0;34m=\u001b[0m \u001b[0;34m\"long\"\u001b[0m\u001b[0;34m\u001b[0m\u001b[0;34m\u001b[0m\u001b[0m\n\u001b[0;32m--> 679\u001b[0;31m             \u001b[0mplot_data\u001b[0m \u001b[0;34m=\u001b[0m \u001b[0mPlotData\u001b[0m\u001b[0;34m(\u001b[0m\u001b[0mdata\u001b[0m\u001b[0;34m,\u001b[0m \u001b[0mvariables\u001b[0m\u001b[0;34m)\u001b[0m\u001b[0;34m\u001b[0m\u001b[0;34m\u001b[0m\u001b[0m\n\u001b[0m\u001b[1;32m    680\u001b[0m             \u001b[0mframe\u001b[0m \u001b[0;34m=\u001b[0m \u001b[0mplot_data\u001b[0m\u001b[0;34m.\u001b[0m\u001b[0mframe\u001b[0m\u001b[0;34m\u001b[0m\u001b[0;34m\u001b[0m\u001b[0m\n\u001b[1;32m    681\u001b[0m             \u001b[0mnames\u001b[0m \u001b[0;34m=\u001b[0m \u001b[0mplot_data\u001b[0m\u001b[0;34m.\u001b[0m\u001b[0mnames\u001b[0m\u001b[0;34m\u001b[0m\u001b[0;34m\u001b[0m\u001b[0m\n",
      "\u001b[0;32m/usr/local/lib/python3.11/dist-packages/seaborn/_core/data.py\u001b[0m in \u001b[0;36m__init__\u001b[0;34m(self, data, variables)\u001b[0m\n\u001b[1;32m     55\u001b[0m     ):\n\u001b[1;32m     56\u001b[0m \u001b[0;34m\u001b[0m\u001b[0m\n\u001b[0;32m---> 57\u001b[0;31m         \u001b[0mdata\u001b[0m \u001b[0;34m=\u001b[0m \u001b[0mhandle_data_source\u001b[0m\u001b[0;34m(\u001b[0m\u001b[0mdata\u001b[0m\u001b[0;34m)\u001b[0m\u001b[0;34m\u001b[0m\u001b[0;34m\u001b[0m\u001b[0m\n\u001b[0m\u001b[1;32m     58\u001b[0m         \u001b[0mframe\u001b[0m\u001b[0;34m,\u001b[0m \u001b[0mnames\u001b[0m\u001b[0;34m,\u001b[0m \u001b[0mids\u001b[0m \u001b[0;34m=\u001b[0m \u001b[0mself\u001b[0m\u001b[0;34m.\u001b[0m\u001b[0m_assign_variables\u001b[0m\u001b[0;34m(\u001b[0m\u001b[0mdata\u001b[0m\u001b[0;34m,\u001b[0m \u001b[0mvariables\u001b[0m\u001b[0;34m)\u001b[0m\u001b[0;34m\u001b[0m\u001b[0;34m\u001b[0m\u001b[0m\n\u001b[1;32m     59\u001b[0m \u001b[0;34m\u001b[0m\u001b[0m\n",
      "\u001b[0;32m/usr/local/lib/python3.11/dist-packages/seaborn/_core/data.py\u001b[0m in \u001b[0;36mhandle_data_source\u001b[0;34m(data)\u001b[0m\n\u001b[1;32m    276\u001b[0m     \u001b[0;32melif\u001b[0m \u001b[0mdata\u001b[0m \u001b[0;32mis\u001b[0m \u001b[0;32mnot\u001b[0m \u001b[0;32mNone\u001b[0m \u001b[0;32mand\u001b[0m \u001b[0;32mnot\u001b[0m \u001b[0misinstance\u001b[0m\u001b[0;34m(\u001b[0m\u001b[0mdata\u001b[0m\u001b[0;34m,\u001b[0m \u001b[0mMapping\u001b[0m\u001b[0;34m)\u001b[0m\u001b[0;34m:\u001b[0m\u001b[0;34m\u001b[0m\u001b[0;34m\u001b[0m\u001b[0m\n\u001b[1;32m    277\u001b[0m         \u001b[0merr\u001b[0m \u001b[0;34m=\u001b[0m \u001b[0;34mf\"Data source must be a DataFrame or Mapping, not {type(data)!r}.\"\u001b[0m\u001b[0;34m\u001b[0m\u001b[0;34m\u001b[0m\u001b[0m\n\u001b[0;32m--> 278\u001b[0;31m         \u001b[0;32mraise\u001b[0m \u001b[0mTypeError\u001b[0m\u001b[0;34m(\u001b[0m\u001b[0merr\u001b[0m\u001b[0;34m)\u001b[0m\u001b[0;34m\u001b[0m\u001b[0;34m\u001b[0m\u001b[0m\n\u001b[0m\u001b[1;32m    279\u001b[0m \u001b[0;34m\u001b[0m\u001b[0m\n\u001b[1;32m    280\u001b[0m     \u001b[0;32mreturn\u001b[0m \u001b[0mdata\u001b[0m\u001b[0;34m\u001b[0m\u001b[0;34m\u001b[0m\u001b[0m\n",
      "\u001b[0;31mTypeError\u001b[0m: Data source must be a DataFrame or Mapping, not <class 'ellipsis'>."
     ]
    },
    {
     "data": {
      "image/png": "[encoded data removed]",
      "text/plain": [
       "<Figure size 500x500 with 1 Axes>"
      ]
     },
     "metadata": {},
     "output_type": "display_data"
    }
   ],
   "source": [
    "# Split by a different variable:\n",
    "\n",
    "sspy.scatter(...)"
   ]
  },
  {
   "cell_type": "markdown",
   "id": "f50f1533f69916c8",
   "metadata": {
    "id": "f50f1533f69916c8"
   },
   "source": [
    "## Density Plots\n",
    "\n",
    "Of course, the most notable plot type in Soundscapy is the Density plot. Just like scatter, this has its own simple function. Try it out:"
   ]
  },
  {
   "cell_type": "code",
   "execution_count": null,
   "id": "f61164db",
   "metadata": {
    "ExecuteTime": {
     "end_time": "2025-05-14T23:24:36.271131Z",
     "start_time": "2025-05-14T23:15:55.417031Z"
    },
    "id": "f61164db"
   },
   "outputs": [],
   "source": [
    "# Create a basic density plot\n",
    "sspy.density(...)\n",
    "plt.show()"
   ]
  },
  {
   "cell_type": "markdown",
   "id": "005e078d",
   "metadata": {
    "cell_marker": "\"\"\"",
    "id": "005e078d"
   },
   "source": [
    "## 4. Creating Likert Style Plots\n",
    "\n",
    "Likert plots are a useful way to visualize the distribution of responses to Likert scale questions, such as the PAQs in our survey. Soundscapy integrates with the `plot_likert` package to create these visualizations.\n",
    "\n",
    "We can use Soundscapy's `paq_likert` plot to examine the distribution of PAQ responses:"
   ]
  },
  {
   "cell_type": "code",
   "execution_count": 18,
   "id": "868d733a",
   "metadata": {
    "ExecuteTime": {
     "end_time": "2025-05-14T23:24:34.671964Z",
     "start_time": "2025-05-14T23:24:34.490307Z"
    },
    "colab": {
     "base_uri": "https://localhost:8080/",
     "height": 580
    },
    "id": "868d733a",
    "outputId": "f2bc4cf9-7824-427a-cac5-5f9104a10d9d"
   },
   "outputs": [
    {
     "data": {
      "image/png": "[encoded data removed]",
      "text/plain": [
       "<Figure size 800x600 with 1 Axes>"
      ]
     },
     "metadata": {},
     "output_type": "display_data"
    }
   ],
   "source": [
    "from soundscapy import PAQ_IDS\n",
    "\n",
    "sspy.paq_likert(data[PAQ_IDS], title=\"Distribution of PAQ Responses in the Demo Data\")"
   ]
  },
  {
   "cell_type": "markdown",
   "id": "e7ddeac3c778d758",
   "metadata": {
    "id": "e7ddeac3c778d758"
   },
   "source": [
    "To get a better view of the data, we can also split it across the Locations. To do this, we use the `select_location_ids()` function from Soundscapy, and use a `for` loop to create a separate plot for each location."
   ]
  },
  {
   "cell_type": "code",
   "execution_count": null,
   "id": "98f9447e3b69eb08",
   "metadata": {
    "ExecuteTime": {
     "end_time": "2025-05-14T23:24:35.251559Z",
     "start_time": "2025-05-14T23:24:34.677723Z"
    },
    "id": "98f9447e3b69eb08"
   },
   "outputs": [],
   "source": [
    "for location in data[\"LocationID\"].unique():\n",
    "    sspy.paq_likert(\n",
    "        sspy.databases.isd.select_location_ids(data, location)[PAQ_IDS],\n",
    "        title=f\"Distribution of PAQ Responses in {location}\",\n",
    "    )\n",
    "    plt.show()"
   ]
  },
  {
   "cell_type": "markdown",
   "id": "fd8b9261",
   "metadata": {
    "cell_marker": "\"\"\"",
    "id": "fd8b9261"
   },
   "source": [
    "### Analyzing Sound Source Dominance\n",
    "\n",
    "Let's examine the dominance of different sound sources at each location."
   ]
  },
  {
   "cell_type": "code",
   "execution_count": null,
   "id": "503725cee9af5aa3",
   "metadata": {
    "ExecuteTime": {
     "end_time": "2025-05-14T23:34:21.050407Z",
     "start_time": "2025-05-14T23:34:20.969219Z"
    },
    "id": "503725cee9af5aa3"
   },
   "outputs": [],
   "source": [
    "sspy.stacked_likert(valid_data, \"traffic_noise\", title=\"Traffic Noise Dominance\")"
   ]
  },
  {
   "cell_type": "markdown",
   "id": "d1122fae2003256e",
   "metadata": {
    "id": "d1122fae2003256e"
   },
   "source": [
    "Try this out with some of the other Likert scaled data:"
   ]
  },
  {
   "cell_type": "code",
   "execution_count": null,
   "id": "e8471d206bdc6bb4",
   "metadata": {
    "ExecuteTime": {
     "end_time": "2025-05-14T23:34:35.153468Z",
     "start_time": "2025-05-14T23:34:35.140005Z"
    },
    "id": "e8471d206bdc6bb4"
   },
   "outputs": [],
   "source": [
    "sspy.stacked_likert(...)"
   ]
  },
  {
   "cell_type": "markdown",
   "id": "4e4b2eee07748515",
   "metadata": {
    "id": "4e4b2eee07748515"
   },
   "source": [
    "In addition to the more specialised Likert plots provided by Soundscapy, we can of course apply more common analyses. For this, we need to do some data processing and plotting in Pandas and Seaborn:"
   ]
  },
  {
   "cell_type": "code",
   "execution_count": null,
   "id": "d53b7e7ab3dd243a",
   "metadata": {
    "ExecuteTime": {
     "end_time": "2025-05-14T23:34:42.102693Z",
     "start_time": "2025-05-14T23:34:42.099555Z"
    },
    "id": "d53b7e7ab3dd243a"
   },
   "outputs": [],
   "source": [
    "# Calculate mean sound source dominance by location\n",
    "sound_sources = (\n",
    "    valid_data.groupby(\"LocationID\")[\n",
    "        [\"traffic_noise\", \"other_noise\", \"human_sounds\", \"natural_sounds\"]\n",
    "    ]\n",
    "    .mean()\n",
    "    .round(2)\n",
    ")"
   ]
  },
  {
   "cell_type": "markdown",
   "id": "85366ae9f716b934",
   "metadata": {
    "id": "85366ae9f716b934"
   },
   "source": [
    "#### Mean sound source dominance by location:"
   ]
  },
  {
   "cell_type": "code",
   "execution_count": null,
   "id": "234c7804cfbdbc95",
   "metadata": {
    "ExecuteTime": {
     "end_time": "2025-05-14T23:34:43.404158Z",
     "start_time": "2025-05-14T23:34:43.400531Z"
    },
    "id": "234c7804cfbdbc95"
   },
   "outputs": [],
   "source": [
    "sound_sources"
   ]
  },
  {
   "cell_type": "markdown",
   "id": "480d23db58171299",
   "metadata": {
    "id": "480d23db58171299"
   },
   "source": [
    "Since Soundscapy doesn't implement its own functionality for the more common plots, we fall back to the very nice Seaborn plotting library, which we imported as `sns` to create a barplot of the mean sound source responses (or you can of course do this in something like Excel):"
   ]
  },
  {
   "cell_type": "code",
   "execution_count": null,
   "id": "dd125c23",
   "metadata": {
    "ExecuteTime": {
     "end_time": "2025-05-14T23:34:44.773329Z",
     "start_time": "2025-05-14T23:34:44.676498Z"
    },
    "id": "dd125c23"
   },
   "outputs": [],
   "source": [
    "# Create a bar chart\n",
    "sound_sources_plot = sound_sources.reset_index().melt(\n",
    "    id_vars=[\"LocationID\"], var_name=\"Source\", value_name=\"Dominance\"\n",
    ")\n",
    "\n",
    "sns.barplot(\n",
    "    data=sound_sources_plot,\n",
    "    x=\"Source\",\n",
    "    y=\"Dominance\",\n",
    "    hue=\"LocationID\",\n",
    "    palette=\"colorblind\",\n",
    ")\n",
    "plt.title(\"Sound Source Dominance by Location\")\n",
    "plt.xlabel(\"Sound Source\")\n",
    "plt.ylabel(\"Mean Dominance Rating\")\n",
    "plt.xticks(rotation=45)\n",
    "plt.tight_layout()\n",
    "plt.show()"
   ]
  },
  {
   "cell_type": "markdown",
   "id": "c655baf3",
   "metadata": {
    "cell_marker": "\"\"\"",
    "id": "c655baf3"
   },
   "source": [
    "## 5. Creating Complex Plots with Hue and Subplots\n",
    "\n",
    "Soundscapy makes it easy to create more complex visualizations that show relationships between different variables. Let's explore how sound source dominance affects soundscape perception:"
   ]
  },
  {
   "cell_type": "code",
   "execution_count": null,
   "id": "35562c52",
   "metadata": {
    "ExecuteTime": {
     "end_time": "2025-05-14T23:20:17.456473Z",
     "start_time": "2025-05-14T23:20:16.755274Z"
    },
    "id": "35562c52"
   },
   "outputs": [],
   "source": [
    "# Create subplots showing the impact of natural sounds on soundscape perception\n",
    "sspy.create_iso_subplots(\n",
    "    data=valid_data,\n",
    "    subplot_by=\"LocationID\",\n",
    "    hue=\"natural_sounds\",\n",
    "    plot_layers=[\"scatter\", \"simple_density\"],\n",
    "    title=\"Impact of Natural Sounds on Soundscape Perception\",\n",
    ")\n",
    "plt.tight_layout()\n",
    "plt.show()"
   ]
  },
  {
   "cell_type": "code",
   "execution_count": null,
   "id": "ec205f1c",
   "metadata": {
    "ExecuteTime": {
     "end_time": "2025-05-14T23:20:41.402636Z",
     "start_time": "2025-05-14T23:20:40.624154Z"
    },
    "id": "ec205f1c"
   },
   "outputs": [],
   "source": [
    "# Create subplots showing the impact of traffic noise on soundscape perception\n",
    "sspy.create_iso_subplots(\n",
    "    data=valid_data,\n",
    "    subplot_by=\"LocationID\",\n",
    "    hue=\"traffic_noise\",\n",
    "    plot_layers=[\"scatter\", \"simple_density\"],\n",
    "    title=\"Impact of Traffic Noise on Soundscape Perception\",\n",
    ")\n",
    "plt.tight_layout()\n",
    "plt.show()"
   ]
  },
  {
   "cell_type": "markdown",
   "id": "536ed013",
   "metadata": {
    "cell_marker": "\"\"\"",
    "id": "536ed013"
   },
   "source": [
    "We can also examine the relationship between acoustic metrics and soundscape perception:"
   ]
  },
  {
   "cell_type": "code",
   "execution_count": null,
   "id": "59fd28ee",
   "metadata": {
    "ExecuteTime": {
     "end_time": "2025-05-14T23:20:50.307625Z",
     "start_time": "2025-05-14T23:20:50.051723Z"
    },
    "id": "59fd28ee"
   },
   "outputs": [],
   "source": [
    "# Create a scatter plot with regression line showing the relationship between LAeq and ISOPleasant\n",
    "sns.lmplot(\n",
    "    data=valid_data,\n",
    "    x=\"LAeq\",\n",
    "    y=\"ISOPleasant\",\n",
    "    hue=\"LocationID\",\n",
    "    palette=\"colorblind\",\n",
    "    height=6,\n",
    "    aspect=1.5,\n",
    ")\n",
    "plt.title(\"Relationship between Sound Level (LAeq) and Pleasantness\")\n",
    "plt.tight_layout()\n",
    "plt.show()"
   ]
  },
  {
   "cell_type": "code",
   "execution_count": null,
   "id": "98df2b30",
   "metadata": {
    "ExecuteTime": {
     "end_time": "2025-05-14T23:20:52.545844Z",
     "start_time": "2025-05-14T23:20:52.294276Z"
    },
    "id": "98df2b30"
   },
   "outputs": [],
   "source": [
    "# Create a scatter plot with regression line showing the relationship between N5 and ISOEventful\n",
    "sns.lmplot(\n",
    "    data=valid_data,\n",
    "    x=\"N5\",\n",
    "    y=\"ISOEventful\",\n",
    "    hue=\"LocationID\",\n",
    "    palette=\"colorblind\",\n",
    "    height=6,\n",
    "    aspect=1.5,\n",
    ")\n",
    "plt.title(\"Relationship between Loudness (N5) and Eventfulness\")\n",
    "plt.tight_layout()\n",
    "plt.show()"
   ]
  },
  {
   "cell_type": "markdown",
   "id": "501d3f13",
   "metadata": {
    "cell_marker": "\"\"\"",
    "id": "501d3f13"
   },
   "source": [
    "## 6. Applying SPI Analysis\n",
    "\n",
    "The Soundscape Perception Index (SPI) is a powerful tool for comparing soundscapes to target distributions. It quantifies the similarity between two soundscape distributions on a scale from 0 to 100, where 100 indicates perfect similarity.\n",
    "\n",
    "Let's define some target distributions and calculate SPI scores for our locations:"
   ]
  },
  {
   "cell_type": "code",
   "execution_count": null,
   "id": "4618da45",
   "metadata": {
    "ExecuteTime": {
     "end_time": "2025-05-14T23:25:03.907327Z",
     "start_time": "2025-05-14T23:25:03.573847Z"
    },
    "id": "4618da45"
   },
   "outputs": [],
   "source": [
    "# Define a \"tranquil\" target distribution\n",
    "tranquil_target = DirectParams(\n",
    "    xi=np.array([[0.8, -0.5]]),  # Pleasant and uneventful\n",
    "    omega=np.array([[0.17, -0.04], [-0.04, 0.09]]),\n",
    "    alpha=np.array([-8, 1]),\n",
    ")\n",
    "\n",
    "# Create a MultiSkewNorm instance from the parameters\n",
    "tranquil_msn = MultiSkewNorm.from_params(tranquil_target)\n",
    "\n",
    "# Generate sample data\n",
    "tranquil_msn.sample(1000)\n",
    "\n",
    "# Convert to DataFrame for visualization\n",
    "tranquil_df = pd.DataFrame(\n",
    "    tranquil_msn.sample_data, columns=[\"ISOPleasant\", \"ISOEventful\"]\n",
    ")\n",
    "\n",
    "# Visualize the target distribution\n",
    "plt.figure(figsize=(8, 8))\n",
    "sspy.density(tranquil_df, title=\"Tranquil Target Distribution\", color=\"red\")\n",
    "plt.show()"
   ]
  },
  {
   "cell_type": "code",
   "execution_count": null,
   "id": "14fd53fd",
   "metadata": {
    "ExecuteTime": {
     "end_time": "2025-05-14T23:25:29.500085Z",
     "start_time": "2025-05-14T23:25:29.244636Z"
    },
    "id": "14fd53fd"
   },
   "outputs": [],
   "source": [
    "# Define a \"vibrant\" target distribution\n",
    "vibrant_target = DirectParams(\n",
    "    xi=np.array([[0.7, 0.6]]),  # Pleasant and eventful\n",
    "    omega=np.array([[0.15, 0.03], [0.03, 0.15]]),\n",
    "    alpha=np.array([0, 0]),\n",
    ")\n",
    "\n",
    "# Create a MultiSkewNorm instance from the parameters\n",
    "vibrant_msn = MultiSkewNorm.from_params(vibrant_target)\n",
    "\n",
    "# Generate sample data\n",
    "vibrant_msn.sample(1000)\n",
    "\n",
    "# Convert to DataFrame for visualization\n",
    "vibrant_df = pd.DataFrame(\n",
    "    vibrant_msn.sample_data, columns=[\"ISOPleasant\", \"ISOEventful\"]\n",
    ")\n",
    "\n",
    "# Visualize the target distribution\n",
    "sspy.density(\n",
    "    vibrant_df,\n",
    "    title=\"Vibrant Target Distribution\",\n",
    "    color=\"purple\",\n",
    ")\n",
    "plt.show()"
   ]
  },
  {
   "cell_type": "markdown",
   "id": "04178db4",
   "metadata": {
    "cell_marker": "\"\"\"",
    "id": "04178db4"
   },
   "source": [
    "Now let's calculate SPI scores for each location against both target distributions:"
   ]
  },
  {
   "cell_type": "code",
   "execution_count": null,
   "id": "7ccd96a6",
   "metadata": {
    "ExecuteTime": {
     "end_time": "2025-05-14T23:27:00.257221Z",
     "start_time": "2025-05-14T23:26:59.823916Z"
    },
    "id": "7ccd96a6"
   },
   "outputs": [],
   "source": [
    "# Calculate SPI scores for each location against the tranquil target\n",
    "locations = valid_data[\"LocationID\"].unique()\n",
    "tranquil_spi_scores = {}\n",
    "vibrant_spi_scores = {}\n",
    "\n",
    "for location in locations:\n",
    "    # Get data for this location\n",
    "    location_data = sspy.databases.isd.select_location_ids(valid_data, location)\n",
    "\n",
    "    # Calculate SPI against tranquil target\n",
    "    tranquil_spi_scores[location] = tranquil_msn.spi_score(\n",
    "        location_data[[\"ISOPleasant\", \"ISOEventful\"]]\n",
    "    )\n",
    "\n",
    "    # Calculate SPI against vibrant target\n",
    "    vibrant_spi_scores[location] = vibrant_msn.spi_score(\n",
    "        location_data[[\"ISOPleasant\", \"ISOEventful\"]]\n",
    "    )\n",
    "\n",
    "# Display the results\n",
    "spi_results = pd.DataFrame(\n",
    "    {\n",
    "        \"Tranquil SPI\": tranquil_spi_scores,\n",
    "        \"Vibrant SPI\": vibrant_spi_scores,\n",
    "    }\n",
    ").T\n",
    "\n",
    "print(\"SPI Scores by Location:\")\n",
    "print(spi_results)\n",
    "\n",
    "# Create a bar chart of SPI scores\n",
    "plt.figure(figsize=(12, 6))\n",
    "spi_results.plot(kind=\"bar\", colormap=\"viridis\")\n",
    "plt.title(\"SPI Scores by Location\")\n",
    "plt.xlabel(\"Target Distribution\")\n",
    "plt.ylabel(\"SPI Score\")\n",
    "plt.ylim(0, 100)\n",
    "plt.xticks(rotation=0)\n",
    "plt.legend(title=\"Location\")\n",
    "plt.tight_layout()\n",
    "plt.show()"
   ]
  },
  {
   "cell_type": "markdown",
   "id": "af7d85da",
   "metadata": {
    "cell_marker": "\"\"\"",
    "id": "af7d85da"
   },
   "source": [
    "## 7. Using the ISOPlot Interface for SPI Analysis\n",
    "\n",
    "Soundscapy's `ISOPlot` class provides a more sophisticated interface for creating SPI visualizations. Let's use it to create a comprehensive SPI analysis:"
   ]
  },
  {
   "cell_type": "code",
   "execution_count": null,
   "id": "836974d1",
   "metadata": {
    "ExecuteTime": {
     "end_time": "2025-05-14T23:27:35.810920Z",
     "start_time": "2025-05-14T23:27:33.813811Z"
    },
    "id": "836974d1"
   },
   "outputs": [],
   "source": [
    "# Create an SPI plot comparing locations against the tranquil target\n",
    "tranquil_plot = (\n",
    "    ISOPlot(\n",
    "        data=valid_data,\n",
    "        title=\"Comparing Locations Against Tranquil Target\",\n",
    "    )\n",
    "    .create_subplots(\n",
    "        subplot_by=\"LocationID\",\n",
    "        figsize=(4, 4),\n",
    "        auto_allocate_axes=True,\n",
    "    )\n",
    "    .add_scatter()\n",
    "    .add_simple_density(fill=True)\n",
    "    .add_spi(spi_target_data=tranquil_df, show_score=\"on axis\")\n",
    "    .style(legend_loc=False)\n",
    ")"
   ]
  },
  {
   "cell_type": "code",
   "execution_count": null,
   "id": "4d87e568",
   "metadata": {
    "ExecuteTime": {
     "end_time": "2025-05-14T23:27:43.894896Z",
     "start_time": "2025-05-14T23:27:41.872996Z"
    },
    "id": "4d87e568"
   },
   "outputs": [],
   "source": [
    "# Create an SPI plot comparing locations against the vibrant target\n",
    "vibrant_plot = (\n",
    "    ISOPlot(\n",
    "        data=valid_data,\n",
    "        title=\"Comparing Locations Against Vibrant Target\",\n",
    "    )\n",
    "    .create_subplots(\n",
    "        subplot_by=\"LocationID\",\n",
    "        figsize=(4, 4),\n",
    "        auto_allocate_axes=True,\n",
    "    )\n",
    "    .add_scatter()\n",
    "    .add_simple_density(fill=True)\n",
    "    .add_spi(spi_target_data=vibrant_df, show_score=\"on axis\")\n",
    "    .style(legend_loc=False)\n",
    ")"
   ]
  },
  {
   "cell_type": "markdown",
   "id": "0212404f",
   "metadata": {
    "cell_marker": "\"\"\"",
    "id": "0212404f"
   },
   "source": [
    "## 8. Interpreting the Results\n",
    "\n",
    "Now that we've analyzed our data and created various visualizations, let's interpret the results:\n",
    "\n",
    "1. **Location Characteristics**:\n",
    "   - Each location has a distinct soundscape character, as shown by its position in the circumplex model.\n",
    "   - Some locations are more pleasant (higher ISOPleasant values), while others are more eventful (higher ISOEventful values).\n",
    "\n",
    "2. **Sound Source Influence**:\n",
    "   - Natural sounds tend to increase pleasantness, as shown by the relationship between natural sound dominance and ISOPleasant values.\n",
    "   - Traffic noise tends to decrease pleasantness, as shown by the relationship between traffic noise dominance and ISOPleasant values.\n",
    "\n",
    "3. **Acoustic Metrics**:\n",
    "   - Higher sound levels (LAeq) are generally associated with lower pleasantness.\n",
    "   - Higher loudness (N5) is generally associated with higher eventfulness.\n",
    "\n",
    "4. **SPI Analysis**:\n",
    "   - Some locations match better with the tranquil target, while others match better with the vibrant target.\n",
    "   - This information can be used to identify which locations provide the desired soundscape experience.\n",
    "\n",
    "These insights can inform soundscape design and management decisions, such as:\n",
    "- Which locations to preserve or enhance for specific soundscape experiences\n",
    "- Which sound sources to promote or mitigate at different locations\n",
    "- How to design new spaces to achieve desired soundscape characteristics"
   ]
  },
  {
   "cell_type": "markdown",
   "id": "fc188abe",
   "metadata": {
    "cell_marker": "\"\"\"",
    "id": "fc188abe"
   },
   "source": [
    "## 9. Gallery of Soundscapy Visualizations\n",
    "\n",
    "Soundscapy offers a wide range of visualization options. Here's a gallery of additional plots you can create:"
   ]
  },
  {
   "cell_type": "code",
   "execution_count": null,
   "id": "9da80885",
   "metadata": {
    "ExecuteTime": {
     "end_time": "2025-05-14T23:27:59.760870Z",
     "start_time": "2025-05-14T23:27:59.669467Z"
    },
    "id": "9da80885"
   },
   "outputs": [],
   "source": [
    "# Basic scatter plot\n",
    "sspy.scatter(\n",
    "    valid_data,\n",
    "    title=\"Basic Scatter Plot\",\n",
    "    diagonal_lines=True,\n",
    ")\n",
    "plt.show()"
   ]
  },
  {
   "cell_type": "code",
   "execution_count": null,
   "id": "fde6bd3e",
   "metadata": {
    "ExecuteTime": {
     "end_time": "2025-05-14T23:28:02.948138Z",
     "start_time": "2025-05-14T23:28:02.774013Z"
    },
    "id": "fde6bd3e"
   },
   "outputs": [],
   "source": [
    "# Density plot\n",
    "sspy.density(\n",
    "    valid_data,\n",
    "    title=\"Density Plot\",\n",
    "    diagonal_lines=True,\n",
    "    fill=True,\n",
    ")\n",
    "plt.show()"
   ]
  },
  {
   "cell_type": "code",
   "execution_count": null,
   "id": "639b62e5",
   "metadata": {
    "ExecuteTime": {
     "end_time": "2025-05-14T23:28:37.889784Z",
     "start_time": "2025-05-14T23:28:37.714743Z"
    },
    "id": "639b62e5"
   },
   "outputs": [],
   "source": [
    "# Combined scatter and density plot\n",
    "sspy.iso_plot(\n",
    "    valid_data,\n",
    "    title=\"Combined Scatter and Density Plot\",\n",
    "    plot_layers=[\"scatter\", \"density\"],\n",
    "    diagonal_lines=True,\n",
    ")\n",
    "plt.show()"
   ]
  },
  {
   "cell_type": "code",
   "execution_count": null,
   "id": "70bc390f",
   "metadata": {
    "ExecuteTime": {
     "end_time": "2025-05-14T23:28:38.976014Z",
     "start_time": "2025-05-14T23:28:38.580949Z"
    },
    "id": "70bc390f"
   },
   "outputs": [],
   "source": [
    "# Simple density plot with hue\n",
    "sspy.density(\n",
    "    valid_data,\n",
    "    title=\"Simple Density Plot with Hue\",\n",
    "    density_type=\"simple\",\n",
    "    hue=\"LocationID\",\n",
    ")\n",
    "plt.show()"
   ]
  },
  {
   "cell_type": "code",
   "execution_count": null,
   "id": "e3ad8875",
   "metadata": {
    "ExecuteTime": {
     "end_time": "2025-05-14T23:28:41.137518Z",
     "start_time": "2025-05-14T23:28:40.900084Z"
    },
    "id": "e3ad8875"
   },
   "outputs": [],
   "source": [
    "# Joint plot\n",
    "sspy.jointplot(\n",
    "    valid_data,\n",
    "    title=\"Joint Plot\",\n",
    ")\n",
    "plt.show()"
   ]
  },
  {
   "cell_type": "code",
   "execution_count": null,
   "id": "562fbe46",
   "metadata": {
    "ExecuteTime": {
     "end_time": "2025-05-14T23:28:43.044673Z",
     "start_time": "2025-05-14T23:28:42.789562Z"
    },
    "id": "562fbe46"
   },
   "outputs": [],
   "source": [
    "# Joint plot with histogram marginals\n",
    "plt.figure(figsize=(10, 10))\n",
    "sspy.jointplot(\n",
    "    valid_data, title=\"Joint Plot with Histogram Marginals\", marginal_kind=\"hist\"\n",
    ")\n",
    "plt.show()"
   ]
  },
  {
   "cell_type": "code",
   "execution_count": null,
   "id": "f23dbdf3",
   "metadata": {
    "ExecuteTime": {
     "end_time": "2025-05-14T23:28:59.028211Z",
     "start_time": "2025-05-14T23:28:58.661144Z"
    },
    "id": "f23dbdf3"
   },
   "outputs": [],
   "source": [
    "# Joint plot with grouping\n",
    "plt.figure(figsize=(10, 10))\n",
    "sspy.jointplot(\n",
    "    valid_data,\n",
    "    title=\"Joint Plot with Grouping\",\n",
    "    hue=\"LocationID\",\n",
    "    density_type=\"simple\",\n",
    ")\n",
    "plt.show()"
   ]
  },
  {
   "cell_type": "code",
   "execution_count": null,
   "id": "c4319b25",
   "metadata": {
    "ExecuteTime": {
     "end_time": "2025-05-14T23:31:07.870384Z",
     "start_time": "2025-05-14T23:31:06.862124Z"
    },
    "id": "c4319b25"
   },
   "outputs": [],
   "source": [
    "# Custom multi-panel visualization\n",
    "fig = plt.figure(figsize=(15, 14))\n",
    "\n",
    "# Create a 2x2 grid\n",
    "gs = fig.add_gridspec(2, 2, height_ratios=[1, 1.2])\n",
    "\n",
    "# Create a scatter plot of all locations in the first subplot\n",
    "ax1 = fig.add_subplot(gs[0, 0])\n",
    "sspy.scatter(\n",
    "    valid_data,\n",
    "    title=\"All Locations - Scatter\",\n",
    "    hue=\"LocationID\",\n",
    "    ax=ax1,\n",
    ")\n",
    "\n",
    "# Create a density plot of all locations in the second subplot\n",
    "ax2 = fig.add_subplot(gs[0, 1])\n",
    "sspy.density(\n",
    "    valid_data,\n",
    "    title=\"All Locations - Density\",\n",
    "    hue=\"LocationID\",\n",
    "    density_type=\"simple\",\n",
    "    incl_scatter=False,\n",
    "    fill=False,\n",
    "    ax=ax2,\n",
    ")\n",
    "\n",
    "# Create a scatter plot colored by LAeq in the third subplot\n",
    "ax3 = fig.add_subplot(gs[1, 0])\n",
    "sspy.scatter(\n",
    "    valid_data,\n",
    "    title=\"Sound Level (LAeq)\",\n",
    "    hue=\"LAeq\",\n",
    "    palette=\"viridis\",\n",
    "    ax=ax3,\n",
    ")\n",
    "\n",
    "# Create a density plot colored by natural sounds in the fourth subplot\n",
    "ax4 = fig.add_subplot(gs[1, 1])\n",
    "sspy.density(\n",
    "    valid_data,\n",
    "    title=\"Natural Sounds Dominance\",\n",
    "    hue=\"natural_sounds\",\n",
    "    density_type=\"simple\",\n",
    "    ax=ax4,\n",
    ")\n",
    "\n",
    "plt.tight_layout()\n",
    "plt.show()"
   ]
  },
  {
   "cell_type": "markdown",
   "id": "ff91f24c",
   "metadata": {
    "cell_marker": "\"\"\"",
    "id": "ff91f24c"
   },
   "source": [
    "## 10. Summary\n",
    "\n",
    "In this tutorial, you've learned how to:\n",
    "\n",
    "1. **Load and validate soundscape survey data**\n",
    "   - Import data from Excel files\n",
    "   - Validate data quality\n",
    "   - Calculate ISO coordinates\n",
    "\n",
    "2. **Create basic visualizations and summary statistics**\n",
    "   - Scatter plots and density plots\n",
    "   - Summary statistics by location\n",
    "   - Sound source dominance analysis\n",
    "\n",
    "3. **Create Likert style plots**\n",
    "   - Convert numeric responses to categorical\n",
    "   - Create side-by-side Likert plots for comparison\n",
    "\n",
    "4. **Create complex plots with hue and subplots**\n",
    "   - Visualize relationships between variables\n",
    "   - Create multi-panel visualizations\n",
    "   - Analyze the impact of sound sources on perception\n",
    "\n",
    "5. **Apply SPI analysis**\n",
    "   - Define target distributions\n",
    "   - Calculate SPI scores\n",
    "   - Compare locations against different targets\n",
    "\n",
    "6. **Use the ISOPlot interface**\n",
    "   - Create sophisticated SPI visualizations\n",
    "   - Combine multiple layers in a single plot\n",
    "   - Customize plot appearance\n",
    "\n",
    "These skills will enable you to conduct comprehensive soundscape assessments and communicate your findings effectively. By understanding how people perceive and experience soundscapes, you can contribute to the design and management of more pleasant and appropriate acoustic environments.\n",
    "\n",
    "## References\n",
    "\n",
    "1. ISO 12913-1:2014. Acoustics — Soundscape — Part 1: Definition and conceptual framework.\n",
    "2. ISO 12913-2:2018. Acoustics — Soundscape — Part 2: Data collection and reporting requirements.\n",
    "3. ISO 12913-3:2019. Acoustics — Soundscape — Part 3: Data analysis.\n",
    "4. Mitchell, A., Aletta, F., & Kang, J. (2022). How to analyse and represent quantitative soundscape data. JASA Express Letters, 2, 37201. https://doi.org/10.1121/10.0009794"
   ]
  }
 ],
 "metadata": {
  "colab": {
   "include_colab_link": true,
   "provenance": []
  },
  "jupytext": {
   "cell_metadata_filter": "-all",
   "main_language": "python",
   "notebook_metadata_filter": "-all"
  },
  "kernelspec": {
   "display_name": "soundscapy (3.12.5)",
   "language": "python",
   "name": "python3"
  },
  "language_info": {
   "codemirror_mode": {
    "name": "ipython",
    "version": 3
   },
   "file_extension": ".py",
   "mimetype": "text/x-python",
   "name": "python",
   "nbconvert_exporter": "python",
   "pygments_lexer": "ipython3",
   "version": "3.12.5"
  }
 },
 "nbformat": 4,
 "nbformat_minor": 5
}
