{
 "cells": [
  {
   "cell_type": "markdown",
   "id": "92b060e6",
   "metadata": {
    "cell_marker": "\"\"\""
   },
   "source": [
    "# Using Soundscapy for Binaural Recording Analysis\n",
    "\n",
    "In v0.3.2, the ability to perform a huge suite of (psycho)acoustic analyses has been added to Soundscapy. This has been optimised for performing batch processing of many recordings, ease of use, and reproducibility. To do this, we rely on three packages to provide the analysis functions:\n",
    "\n",
    " * [Python Acoustics](https://github.com/python-acoustics/python-acoustics) (`acoustics`) : Python Acoustics is a library aimed at acousticians. It provides two huge benefits - first, all of the analysis functions are referenced directly to the relevant standard. Second, we subclass their `Signal` class to provide the Binaural functionality and any function available within the `Signal` class is also available to Soundscapy's `Binaural` class.\n",
    " * [scikit-maad](https://scikit-maad.github.io) (`maad`) : scikit-maad is a modular toolbox for quantitiative soundscape analysis, focussed on ecological soundscapes and bioacoustic indices. scikit-maad provides a huge suite of ecosoundscape focussed indices, including Acoustic Richness Index, Acoustic Complexity Index, Normalized Difference Soundscape Index (NDSI), and more.\n",
    " * [MoSQITo](https://github.com/Eomys/MoSQITo) (`mosqito`): MoSQITo is a modular framework of key sound quality metrics, providing the psychoacoustic metrics.\n",
    "\n",
    "The metrics currently available are:\n",
    "* Python Acoustics : $L_{Zeq}$, $L_{Aeq}$, $L_{Ceq}$, SEL, and all associated statistics ($L_5$ through $L_{95}$, $L_{max}$ and $L_{min}$, as well as [kurtosis](https://acousticstoday.org/wp-content/uploads/2020/12/Kurtosis-A-New-Tool-for-Noise-Analysis-Wei-Qiu-William-J.-Murphy-and-Alice-Suter.pdf) and skewness.\n",
    "* scikit-maad : So far we have only implemented the combined `all_temporal_alpha_indices` and `all_spectral_alpha_indices` from `scikit-maad`; calculating them individually is not yet supported. `all_temporal_alpha_indices` comprises 16 temporal domain acoustic indices, such as temporal signal-to-noise-ratio, temporal entropy, temporal events. `all_spectral_alpha_indices` comprises 19 spectral domain acoustic indices, such as Bioacoustic Index, Acoustic Diversity Index, NDSI, Acoustic Evenness Index.\n",
    "* MoSQITo :\n",
    "    * Loudness (Zwicker time varying),\n",
    "    * Sharpness (time varying, from loudness, and per segment with DIN, Aures, Bismarck, and Fastl weightings),\n",
    "    * Roughness (Daniel and Weber, 1997).\n",
    "\n",
    "Soundscapy combines all of these metrics and makes it easy and (relatively) fast to compute any or all of them for a binaural audio recording. These results have been preliminarily confirmed through comparison of results obtained from Head Acoustics ArtemiS suite on a set of real-world recordings.\n",
    "\n",
    "## Consistent Analysis Settings\n",
    "\n",
    "A primary goal when developing this library was to make it easy to save and document the settings used for all analyses. This is done through a `settings.yaml` file and the `AnalysisSettings` class. Although the settings for each metric can be set at runtime, the `settings.yaml` file allows you to set all of the settings at once and document exactly what settings were passed to each analysis function and to share these settings with collaborators or reviewers.\n",
    "\n",
    "## Batch processing\n",
    "The other primary goal was to make it simple and fast to perform this analysis on many recordings. One aspect of this is unifying the outputs from the underlying libraries and presenting them in an easy to parse format. The analysis functions from Soundscapy can return a MultiIndex pandas DataFrame with the Recording filename and Left and Right channels in the index and a column for each metric calculated. This dataframe can then be easily saved to a .csv or Excel spreadsheet. Alternatively, a dictionary can be returned for further processing within Python. The key point is that after calculating 100+ metrics for 1,000+ recordings, you'll be left with a single tidy spreadsheet.\n",
    "\n",
    "The Soundscape Indices (SSID) project for which this was developed has over 3,000 recordings for which we needed to calculate a full suite of metrics for both channels. In particular, the MoSQITo functions can be quite slow, so running each recording one at a time can be prohibitively slow and only utilize a small portion of the available computing power. To help with this, a set of simple functions is provided to enable parallel processing, such that multiple recordings can be processed simultaneously by a multi-core CPU. In our initial tests on a 16-core AMD Ryzen 7 4800HS CPU (Fedora Linux 36), this increased the speed for processing 20 recordings by at least 8 times.\n",
    "\n",
    "In testing, the MoSQITo functions are particularly slow, taking up to 3 minutes to calculate the Loudness for a 30s two-channel recording. When running only a single recording through, this has also been sped up by parallelizing the per-channel calculation, reducing the computation time to around 50s."
   ]
  },
  {
   "cell_type": "markdown",
   "id": "1c91ed01",
   "metadata": {
    "cell_marker": "\"\"\""
   },
   "source": [
    "## Getting Started\n",
    "\n",
    "The basis of all of our analysis starts with the binaural signal, so we begin by importing the `Binaural` class. We'll also load up and examine our analysis settings. Throughout Soundscapy, we use `pathlib.Path` for defining filepaths."
   ]
  },
  {
   "cell_type": "code",
   "execution_count": 1,
   "id": "cbf0f9fb",
   "metadata": {
    "lines_to_next_cell": 2,
    "ExecuteTime": {
     "end_time": "2023-08-12T20:19:31.913447Z",
     "start_time": "2023-08-12T20:19:30.930268Z"
    }
   },
   "outputs": [],
   "source": [
    "# Add soundscapy to the Python path\n",
    "import sys\n",
    "sys.path.append('../..')\n",
    "\n",
    "# imports\n",
    "from soundscapy import Binaural\n",
    "from soundscapy import AnalysisSettings\n",
    "from soundscapy.analysis.binaural import prep_multiindex_df, add_results, process_all_metrics\n",
    "import json\n",
    "from pathlib import Path"
   ]
  },
  {
   "cell_type": "markdown",
   "id": "68fd3ee4",
   "metadata": {
    "cell_marker": "\"\"\""
   },
   "source": [
    "Set up where the data is located. In this case, we'll use the sample recordings located under the `test` folder."
   ]
  },
  {
   "cell_type": "code",
   "execution_count": 2,
   "id": "7f299664",
   "metadata": {
    "ExecuteTime": {
     "end_time": "2023-08-12T20:19:31.919300Z",
     "start_time": "2023-08-12T20:19:31.914511Z"
    }
   },
   "outputs": [],
   "source": [
    "# May need to adjust for your system\n",
    "wav_folder = Path().cwd().parent.parent.joinpath(\"test\", \"data\")"
   ]
  },
  {
   "cell_type": "markdown",
   "id": "556fc578",
   "metadata": {
    "cell_marker": "\"\"\""
   },
   "source": [
    "\n",
    "Ensuring that Soundscapy knows exactly how loud your recordings were onsite is crucial to getting correct answers. If you used equipment such as the Head Acoustics SqoBold, and were careful about how the recordings are exported to .wav, then they may already be correctly adjusted (as ours are here). However its best to be safe and calibrate each signal to their real-world dB level. To do this, we load in a .json that contains the per-channel correct dB $L_{eq}$ level."
   ]
  },
  {
   "cell_type": "code",
   "execution_count": 3,
   "id": "7f78f14c",
   "metadata": {
    "ExecuteTime": {
     "end_time": "2023-08-12T20:19:31.920661Z",
     "start_time": "2023-08-12T20:19:31.916705Z"
    }
   },
   "outputs": [
    {
     "data": {
      "text/plain": "[('CT101', {'Left': 79.0, 'Right': 79.72}),\n ('CT102', {'Left': 79.35, 'Right': 79.88}),\n ('CT103', {'Left': 76.25, 'Right': 76.41}),\n ('CT104', {'Left': 79.9, 'Right': 79.93}),\n ('CT107', {'Left': 78.21, 'Right': 78.47})]"
     },
     "execution_count": 3,
     "metadata": {},
     "output_type": "execute_result"
    }
   ],
   "source": [
    "levels = wav_folder.joinpath(\"Levels.json\")\n",
    "\n",
    "with open(levels) as f:\n",
    "    levels = json.load(f)\n",
    "\n",
    "# Look at the first five sets of levels\n",
    "list(levels.items())[:5]"
   ]
  },
  {
   "cell_type": "markdown",
   "id": "34481ae7",
   "metadata": {
    "cell_marker": "\"\"\""
   },
   "source": [
    "\n",
    "### Prepping the results dataframe\n",
    "The easiest way to organise and add the new data as it is processed is to prepare a dataframe ahead of time. We've provided a small function to convert a dictionary of calibration levels (`level`) into the properly formatted dataframe."
   ]
  },
  {
   "cell_type": "code",
   "execution_count": 4,
   "id": "bb2fc0c2",
   "metadata": {
    "ExecuteTime": {
     "end_time": "2023-08-12T20:19:31.981839Z",
     "start_time": "2023-08-12T20:19:31.968684Z"
    }
   },
   "outputs": [
    {
     "data": {
      "text/plain": "                     Leq\nRecording Channel       \nCT101     Left     79.00\n          Right    79.72\nCT102     Left     79.35\n          Right    79.88\nCT103     Left     76.25",
      "text/html": "<div>\n<style scoped>\n    .dataframe tbody tr th:only-of-type {\n        vertical-align: middle;\n    }\n\n    .dataframe tbody tr th {\n        vertical-align: top;\n    }\n\n    .dataframe thead th {\n        text-align: right;\n    }\n</style>\n<table border=\"1\" class=\"dataframe\">\n  <thead>\n    <tr style=\"text-align: right;\">\n      <th></th>\n      <th></th>\n      <th>Leq</th>\n    </tr>\n    <tr>\n      <th>Recording</th>\n      <th>Channel</th>\n      <th></th>\n    </tr>\n  </thead>\n  <tbody>\n    <tr>\n      <th rowspan=\"2\" valign=\"top\">CT101</th>\n      <th>Left</th>\n      <td>79.00</td>\n    </tr>\n    <tr>\n      <th>Right</th>\n      <td>79.72</td>\n    </tr>\n    <tr>\n      <th rowspan=\"2\" valign=\"top\">CT102</th>\n      <th>Left</th>\n      <td>79.35</td>\n    </tr>\n    <tr>\n      <th>Right</th>\n      <td>79.88</td>\n    </tr>\n    <tr>\n      <th>CT103</th>\n      <th>Left</th>\n      <td>76.25</td>\n    </tr>\n  </tbody>\n</table>\n</div>"
     },
     "execution_count": 4,
     "metadata": {},
     "output_type": "execute_result"
    }
   ],
   "source": [
    "df = prep_multiindex_df(levels, incl_metric=True)\n",
    "df.head()"
   ]
  },
  {
   "cell_type": "markdown",
   "id": "8e138497",
   "metadata": {
    "cell_marker": "\"\"\""
   },
   "source": [
    "#### Load in a Binaural recording\n",
    "Load in a binaural wav signal. We can use the `plot` function provided by the `acoustics.Signal` super-class."
   ]
  },
  {
   "cell_type": "code",
   "execution_count": 5,
   "id": "76bc2e11",
   "metadata": {
    "ExecuteTime": {
     "end_time": "2023-08-12T20:19:34.148763Z",
     "start_time": "2023-08-12T20:19:32.948873Z"
    }
   },
   "outputs": [
    {
     "data": {
      "text/plain": "<Figure size 640x480 with 1 Axes>",
      "image/png": "[encoded data removed]"
     },
     "metadata": {},
     "output_type": "display_data"
    }
   ],
   "source": [
    "binaural_wav = wav_folder.joinpath(\"CT101.wav\")\n",
    "b = Binaural.from_wav(binaural_wav)\n",
    "b.plot();"
   ]
  },
  {
   "cell_type": "markdown",
   "id": "a17c3655",
   "metadata": {
    "cell_marker": "\"\"\""
   },
   "source": [
    "To ensure that the dB level is correct, and therefore any other metrics are correct, we start by calibrating the signal to precalculated levels."
   ]
  },
  {
   "cell_type": "code",
   "execution_count": 6,
   "id": "68dc1464",
   "metadata": {
    "ExecuteTime": {
     "end_time": "2023-08-12T20:19:34.214107Z",
     "start_time": "2023-08-12T20:19:34.149622Z"
    }
   },
   "outputs": [
    {
     "name": "stdout",
     "output_type": "stream",
     "text": [
      "Calibration levels: (79.0, 79.72)\n"
     ]
    },
    {
     "data": {
      "text/plain": "Signal([[-0.01080703 -0.0088621  -0.01002671 ... -0.0432281  -0.04708166\n  -0.04911411]\n [-0.00745821  0.00049144  0.00590268 ... -0.00493154 -0.01020068\n  -0.01875182]])"
     },
     "execution_count": 6,
     "metadata": {},
     "output_type": "execute_result"
    }
   ],
   "source": [
    "decibel = (levels[b.recording][\"Left\"], levels[b.recording][\"Right\"])\n",
    "print(f\"Calibration levels: {decibel}\")\n",
    "b.calibrate_to(decibel, inplace=True)"
   ]
  },
  {
   "cell_type": "markdown",
   "id": "87001293",
   "metadata": {
    "cell_marker": "\"\"\""
   },
   "source": [
    "Now, check it by comparing it to what we already knew were the correct levels:"
   ]
  },
  {
   "cell_type": "code",
   "execution_count": 7,
   "id": "f5b3cedc",
   "metadata": {
    "ExecuteTime": {
     "end_time": "2023-08-12T20:19:34.841514Z",
     "start_time": "2023-08-12T20:19:34.826178Z"
    }
   },
   "outputs": [
    {
     "name": "stdout",
     "output_type": "stream",
     "text": [
      "Predefined levels: {'Left': 79.0, 'Right': 79.72}\n",
      "Calculated Levels: {'Left': {'Leq': 79.00281378626991}, 'Right': {'Leq': 79.72243397536936}}\n"
     ]
    }
   ],
   "source": [
    "print(f\"Predefined levels: {levels[b.recording]}\")\n",
    "print(f\"Calculated Levels: {b.pyacoustics_metric('Leq', statistics=['avg'], as_df=False)}\")"
   ]
  },
  {
   "cell_type": "markdown",
   "id": "407924ea",
   "metadata": {
    "cell_marker": "\"\"\""
   },
   "source": [
    "## Calculating Acoustic Metrics\n",
    "\n",
    "This brings us to how to calculate any of the many metrics available. Let's start simple with $L_{Aeq}$.\n",
    "\n",
    "### Python Acoustics\n",
    "\n",
    "Since the $L_{Aeq}$ calc is provided by the Python Acoustics library, we'll be calling `pyacoustic_metric`. Then, we need to tell it what particular metric we want, what stats to calculate as well, what to label it, and what format to return the results in."
   ]
  },
  {
   "cell_type": "code",
   "execution_count": 8,
   "id": "35968c0f",
   "metadata": {
    "ExecuteTime": {
     "end_time": "2023-08-12T20:19:35.772475Z",
     "start_time": "2023-08-12T20:19:35.688843Z"
    }
   },
   "outputs": [
    {
     "data": {
      "text/plain": "{'Left': {'LAeq': 68.87570321376752,\n  'LAeq_10': 71.15434218749783,\n  'LAeq_50': 68.11333930746,\n  'LAeq_90': 63.375090914754985,\n  'LAeq_95': 62.366533277575606,\n  'LAeq_max': 77.38265089009883},\n 'Right': {'LAeq': 69.95333344074137,\n  'LAeq_10': 72.57815150741932,\n  'LAeq_50': 68.49539857979003,\n  'LAeq_90': 64.53305677178045,\n  'LAeq_95': 63.09765925624846,\n  'LAeq_max': 78.70878341389864}}"
     },
     "execution_count": 8,
     "metadata": {},
     "output_type": "execute_result"
    }
   ],
   "source": [
    "metric = \"LAeq\"\n",
    "stats = (\"avg\", 10, 50, 90, 95, \"max\")\n",
    "label = \"LAeq\"\n",
    "b.pyacoustics_metric(metric, stats, label, as_df=False)"
   ]
  },
  {
   "cell_type": "markdown",
   "id": "c2969062",
   "metadata": {
    "cell_marker": "\"\"\""
   },
   "source": [
    "If we want, we can get the results back as a pandas DataFrame instead:"
   ]
  },
  {
   "cell_type": "code",
   "execution_count": 9,
   "id": "a1bb36e3",
   "metadata": {
    "ExecuteTime": {
     "end_time": "2023-08-12T20:19:36.991090Z",
     "start_time": "2023-08-12T20:19:36.920368Z"
    }
   },
   "outputs": [
    {
     "data": {
      "text/plain": "                        LAeq    LAeq_10    LAeq_50    LAeq_90    LAeq_95  \\\nRecording Channel                                                          \nCT101     Left     68.875703  71.154342  68.113339  63.375091  62.366533   \n          Right    69.953333  72.578152  68.495399  64.533057  63.097659   \n\n                    LAeq_max  \nRecording Channel             \nCT101     Left     77.382651  \n          Right    78.708783  ",
      "text/html": "<div>\n<style scoped>\n    .dataframe tbody tr th:only-of-type {\n        vertical-align: middle;\n    }\n\n    .dataframe tbody tr th {\n        vertical-align: top;\n    }\n\n    .dataframe thead th {\n        text-align: right;\n    }\n</style>\n<table border=\"1\" class=\"dataframe\">\n  <thead>\n    <tr style=\"text-align: right;\">\n      <th></th>\n      <th></th>\n      <th>LAeq</th>\n      <th>LAeq_10</th>\n      <th>LAeq_50</th>\n      <th>LAeq_90</th>\n      <th>LAeq_95</th>\n      <th>LAeq_max</th>\n    </tr>\n    <tr>\n      <th>Recording</th>\n      <th>Channel</th>\n      <th></th>\n      <th></th>\n      <th></th>\n      <th></th>\n      <th></th>\n      <th></th>\n    </tr>\n  </thead>\n  <tbody>\n    <tr>\n      <th rowspan=\"2\" valign=\"top\">CT101</th>\n      <th>Left</th>\n      <td>68.875703</td>\n      <td>71.154342</td>\n      <td>68.113339</td>\n      <td>63.375091</td>\n      <td>62.366533</td>\n      <td>77.382651</td>\n    </tr>\n    <tr>\n      <th>Right</th>\n      <td>69.953333</td>\n      <td>72.578152</td>\n      <td>68.495399</td>\n      <td>64.533057</td>\n      <td>63.097659</td>\n      <td>78.708783</td>\n    </tr>\n  </tbody>\n</table>\n</div>"
     },
     "execution_count": 9,
     "metadata": {},
     "output_type": "execute_result"
    }
   ],
   "source": [
    "b.pyacoustics_metric(metric, stats, label, as_df=True)"
   ]
  },
  {
   "cell_type": "markdown",
   "id": "be992443",
   "metadata": {
    "cell_marker": "\"\"\""
   },
   "source": [
    "And we can easily do the same for the C-weighting level:"
   ]
  },
  {
   "cell_type": "code",
   "execution_count": 10,
   "id": "55da2d6b",
   "metadata": {
    "ExecuteTime": {
     "end_time": "2023-08-12T20:19:38.137315Z",
     "start_time": "2023-08-12T20:19:38.055350Z"
    }
   },
   "outputs": [
    {
     "data": {
      "text/plain": "                        LCeq    LCeq_10    LCeq_50    LCeq_90    LCeq_95  \\\nRecording Channel                                                          \nCT101     Left     77.245094  80.008421  76.256223  71.467371  70.627245   \n          Right    77.855473  80.633065  76.882287  72.463130  71.262000   \n\n                    LCeq_max  \nRecording Channel             \nCT101     Left     84.307204  \n          Right    84.806283  ",
      "text/html": "<div>\n<style scoped>\n    .dataframe tbody tr th:only-of-type {\n        vertical-align: middle;\n    }\n\n    .dataframe tbody tr th {\n        vertical-align: top;\n    }\n\n    .dataframe thead th {\n        text-align: right;\n    }\n</style>\n<table border=\"1\" class=\"dataframe\">\n  <thead>\n    <tr style=\"text-align: right;\">\n      <th></th>\n      <th></th>\n      <th>LCeq</th>\n      <th>LCeq_10</th>\n      <th>LCeq_50</th>\n      <th>LCeq_90</th>\n      <th>LCeq_95</th>\n      <th>LCeq_max</th>\n    </tr>\n    <tr>\n      <th>Recording</th>\n      <th>Channel</th>\n      <th></th>\n      <th></th>\n      <th></th>\n      <th></th>\n      <th></th>\n      <th></th>\n    </tr>\n  </thead>\n  <tbody>\n    <tr>\n      <th rowspan=\"2\" valign=\"top\">CT101</th>\n      <th>Left</th>\n      <td>77.245094</td>\n      <td>80.008421</td>\n      <td>76.256223</td>\n      <td>71.467371</td>\n      <td>70.627245</td>\n      <td>84.307204</td>\n    </tr>\n    <tr>\n      <th>Right</th>\n      <td>77.855473</td>\n      <td>80.633065</td>\n      <td>76.882287</td>\n      <td>72.463130</td>\n      <td>71.262000</td>\n      <td>84.806283</td>\n    </tr>\n  </tbody>\n</table>\n</div>"
     },
     "execution_count": 10,
     "metadata": {},
     "output_type": "execute_result"
    }
   ],
   "source": [
    "b.pyacoustics_metric(\"LCeq\", stats, as_df=True)"
   ]
  },
  {
   "cell_type": "markdown",
   "id": "f5786a3c",
   "metadata": {
    "cell_marker": "\"\"\""
   },
   "source": [
    "### MoSQITo\n",
    "\n",
    "MoSQITo is very exciting as it is one of the first completely free and open-source libraries for calculating psychoacoustic features. Let's try out calculating the psychoacoustic loudness.\n",
    "\n",
    "We start by defining many of the same options, but with two new ones. The first is our `func_args` to pass to `MoSQITo`. Since our test recording was collected in a public park, we need to select the correct field type: free or diffuse, and pass that to MoSQITo.\n",
    "\n",
    "The second new argument is `parallel`. This just tells Soundscapy whether to try to calculate the Left and Right channels simultaneously to speed up processing."
   ]
  },
  {
   "cell_type": "code",
   "execution_count": 11,
   "id": "ce383d8e",
   "metadata": {
    "ExecuteTime": {
     "end_time": "2023-08-12T20:20:09.848885Z",
     "start_time": "2023-08-12T20:19:39.106261Z"
    }
   },
   "outputs": [
    {
     "name": "stdout",
     "output_type": "stream",
     "text": [
      " - Calculating MoSQITo metric: loudness_zwtv\n"
     ]
    },
    {
     "data": {
      "text/plain": "                         N_5       N_50      N_avg      N_max\nRecording Channel                                            \nCT101     Left     28.834482  23.164299  22.669519  36.160815\n          Right    30.834215  23.939352  23.774119  37.762344",
      "text/html": "<div>\n<style scoped>\n    .dataframe tbody tr th:only-of-type {\n        vertical-align: middle;\n    }\n\n    .dataframe tbody tr th {\n        vertical-align: top;\n    }\n\n    .dataframe thead th {\n        text-align: right;\n    }\n</style>\n<table border=\"1\" class=\"dataframe\">\n  <thead>\n    <tr style=\"text-align: right;\">\n      <th></th>\n      <th></th>\n      <th>N_5</th>\n      <th>N_50</th>\n      <th>N_avg</th>\n      <th>N_max</th>\n    </tr>\n    <tr>\n      <th>Recording</th>\n      <th>Channel</th>\n      <th></th>\n      <th></th>\n      <th></th>\n      <th></th>\n    </tr>\n  </thead>\n  <tbody>\n    <tr>\n      <th rowspan=\"2\" valign=\"top\">CT101</th>\n      <th>Left</th>\n      <td>28.834482</td>\n      <td>23.164299</td>\n      <td>22.669519</td>\n      <td>36.160815</td>\n    </tr>\n    <tr>\n      <th>Right</th>\n      <td>30.834215</td>\n      <td>23.939352</td>\n      <td>23.774119</td>\n      <td>37.762344</td>\n    </tr>\n  </tbody>\n</table>\n</div>"
     },
     "execution_count": 11,
     "metadata": {},
     "output_type": "execute_result"
    }
   ],
   "source": [
    "metric = \"loudness_zwtv\"\n",
    "stats = (5, 50, 'avg', 'max')\n",
    "func_args = {\n",
    "    'field_type': 'free'\n",
    "}\n",
    "\n",
    "b.mosqito_metric(metric, statistics=stats, as_df=True, parallel=True, verbose=True, func_args=func_args)"
   ]
  },
  {
   "cell_type": "markdown",
   "id": "fd19d5f1",
   "metadata": {
    "cell_marker": "\"\"\""
   },
   "source": [
    "`sharpness_din_from_loudness` is a bit of a special case to keep in mind. It can drastically speed up the processing time since it calculates the Sharpness values from pre-calculated Loudness results. If you are planning to do both analyses, I highly suggest using it. Soundscapy will handle it behind the scenes to make sure it doesn't accidentally calculate the Loudness values twice if you've asked for both of them. Let's try it out."
   ]
  },
  {
   "cell_type": "code",
   "execution_count": 12,
   "id": "c6edbbf6",
   "metadata": {
    "ExecuteTime": {
     "end_time": "2023-08-12T20:20:40.423258Z",
     "start_time": "2023-08-12T20:20:09.850003Z"
    }
   },
   "outputs": [
    {
     "name": "stdout",
     "output_type": "stream",
     "text": [
      " - Calculating MoSQITo metrics: `sharpness_din` from `loudness_zwtv`\n"
     ]
    },
    {
     "data": {
      "text/plain": "                         N_5       N_50      N_avg      N_max       S_5  \\\nRecording Channel                                                         \nCT101     Left     28.834482  23.164299  22.669519  36.160815  1.339030   \n          Right    30.834215  23.939352  23.774119  37.762344  1.410216   \n\n                       S_50     S_avg      S_max  \nRecording Channel                                 \nCT101     Left     1.168987  1.181871  19.298406  \n          Right    1.183683  1.202704  18.598348  ",
      "text/html": "<div>\n<style scoped>\n    .dataframe tbody tr th:only-of-type {\n        vertical-align: middle;\n    }\n\n    .dataframe tbody tr th {\n        vertical-align: top;\n    }\n\n    .dataframe thead th {\n        text-align: right;\n    }\n</style>\n<table border=\"1\" class=\"dataframe\">\n  <thead>\n    <tr style=\"text-align: right;\">\n      <th></th>\n      <th></th>\n      <th>N_5</th>\n      <th>N_50</th>\n      <th>N_avg</th>\n      <th>N_max</th>\n      <th>S_5</th>\n      <th>S_50</th>\n      <th>S_avg</th>\n      <th>S_max</th>\n    </tr>\n    <tr>\n      <th>Recording</th>\n      <th>Channel</th>\n      <th></th>\n      <th></th>\n      <th></th>\n      <th></th>\n      <th></th>\n      <th></th>\n      <th></th>\n      <th></th>\n    </tr>\n  </thead>\n  <tbody>\n    <tr>\n      <th rowspan=\"2\" valign=\"top\">CT101</th>\n      <th>Left</th>\n      <td>28.834482</td>\n      <td>23.164299</td>\n      <td>22.669519</td>\n      <td>36.160815</td>\n      <td>1.339030</td>\n      <td>1.168987</td>\n      <td>1.181871</td>\n      <td>19.298406</td>\n    </tr>\n    <tr>\n      <th>Right</th>\n      <td>30.834215</td>\n      <td>23.939352</td>\n      <td>23.774119</td>\n      <td>37.762344</td>\n      <td>1.410216</td>\n      <td>1.183683</td>\n      <td>1.202704</td>\n      <td>18.598348</td>\n    </tr>\n  </tbody>\n</table>\n</div>"
     },
     "execution_count": 12,
     "metadata": {},
     "output_type": "execute_result"
    }
   ],
   "source": [
    "b.mosqito_metric(\"sharpness_din_from_loudness\", stats, as_df=True, parallel=True, verbose=True, func_args=func_args)"
   ]
  },
  {
   "cell_type": "markdown",
   "id": "431afc2f",
   "metadata": {
    "cell_marker": "\"\"\""
   },
   "source": [
    "By default, the metrics will be calculated for both channels. But you may want only a single channel. This can be set with the `channel` option."
   ]
  },
  {
   "cell_type": "code",
   "execution_count": 13,
   "id": "c3342978",
   "metadata": {
    "ExecuteTime": {
     "end_time": "2023-08-12T20:20:40.450543Z",
     "start_time": "2023-08-12T20:20:40.424170Z"
    }
   },
   "outputs": [
    {
     "data": {
      "text/plain": "            LZeq     LZeq_5    LZeq_10    LZeq_50    LZeq_90    LZeq_95  \\\nCT101  79.002814  83.065062  81.694714  77.969857  73.533225  72.283847   \n\n        LZeq_max   LZeq_min  LZeq_kurt  LZeq_skew  \nCT101  86.270916  70.194097  -0.088419  -0.056522  ",
      "text/html": "<div>\n<style scoped>\n    .dataframe tbody tr th:only-of-type {\n        vertical-align: middle;\n    }\n\n    .dataframe tbody tr th {\n        vertical-align: top;\n    }\n\n    .dataframe thead th {\n        text-align: right;\n    }\n</style>\n<table border=\"1\" class=\"dataframe\">\n  <thead>\n    <tr style=\"text-align: right;\">\n      <th></th>\n      <th>LZeq</th>\n      <th>LZeq_5</th>\n      <th>LZeq_10</th>\n      <th>LZeq_50</th>\n      <th>LZeq_90</th>\n      <th>LZeq_95</th>\n      <th>LZeq_max</th>\n      <th>LZeq_min</th>\n      <th>LZeq_kurt</th>\n      <th>LZeq_skew</th>\n    </tr>\n  </thead>\n  <tbody>\n    <tr>\n      <th>CT101</th>\n      <td>79.002814</td>\n      <td>83.065062</td>\n      <td>81.694714</td>\n      <td>77.969857</td>\n      <td>73.533225</td>\n      <td>72.283847</td>\n      <td>86.270916</td>\n      <td>70.194097</td>\n      <td>-0.088419</td>\n      <td>-0.056522</td>\n    </tr>\n  </tbody>\n</table>\n</div>"
     },
     "execution_count": 13,
     "metadata": {},
     "output_type": "execute_result"
    }
   ],
   "source": [
    "b.pyacoustics_metric(\"LZeq\", channel=\"Left\")"
   ]
  },
  {
   "cell_type": "code",
   "execution_count": 14,
   "id": "d5e580b8",
   "metadata": {
    "ExecuteTime": {
     "end_time": "2023-08-12T20:20:41.243999Z",
     "start_time": "2023-08-12T20:20:40.444995Z"
    }
   },
   "outputs": [
    {
     "name": "stdout",
     "output_type": "stream",
     "text": [
      " - Calculating scikit-maad all_spectral_alpha_indices\n"
     ]
    },
    {
     "data": {
      "text/plain": "                      MEANf      VARf     SKEWf       KURTf  NBPEAKS  \\\nRecording Channel                                                      \nCT101     Left     0.001616  0.000050  9.903323  122.639052       48   \n          Right    0.001767  0.000057  9.775576  121.145848       25   \n\n                        LEQf       ENRf       BGNf      SNRf       Hf  ...  \\\nRecording Channel                                                      ...   \nCT101     Left     77.288435 -15.711565 -19.025828  3.314263  0.33898  ...   \n          Right    77.862094 -15.137906 -18.647919  3.510013  0.34690  ...   \n\n                       TFSD  H_Havrda   H_Renyi  H_pairedShannon      H_gamma  \\\nRecording Channel                                                               \nCT101     Left     0.596465  0.306220  1.254553         2.981413  1004.342457   \n          Right    0.596308  0.306565  1.260965         3.032816  1054.904505   \n\n                   H_GiniSimpson      RAOQ       AGI  ROItotal  ROIcover  \nRecording Channel                                                         \nCT101     Left          0.767638  0.012133  1.502837        38  1.794776  \n          Right         0.771196  0.014212  1.505844        23  0.940919  \n\n[2 rows x 44 columns]",
      "text/html": "<div>\n<style scoped>\n    .dataframe tbody tr th:only-of-type {\n        vertical-align: middle;\n    }\n\n    .dataframe tbody tr th {\n        vertical-align: top;\n    }\n\n    .dataframe thead th {\n        text-align: right;\n    }\n</style>\n<table border=\"1\" class=\"dataframe\">\n  <thead>\n    <tr style=\"text-align: right;\">\n      <th></th>\n      <th></th>\n      <th>MEANf</th>\n      <th>VARf</th>\n      <th>SKEWf</th>\n      <th>KURTf</th>\n      <th>NBPEAKS</th>\n      <th>LEQf</th>\n      <th>ENRf</th>\n      <th>BGNf</th>\n      <th>SNRf</th>\n      <th>Hf</th>\n      <th>...</th>\n      <th>TFSD</th>\n      <th>H_Havrda</th>\n      <th>H_Renyi</th>\n      <th>H_pairedShannon</th>\n      <th>H_gamma</th>\n      <th>H_GiniSimpson</th>\n      <th>RAOQ</th>\n      <th>AGI</th>\n      <th>ROItotal</th>\n      <th>ROIcover</th>\n    </tr>\n    <tr>\n      <th>Recording</th>\n      <th>Channel</th>\n      <th></th>\n      <th></th>\n      <th></th>\n      <th></th>\n      <th></th>\n      <th></th>\n      <th></th>\n      <th></th>\n      <th></th>\n      <th></th>\n      <th></th>\n      <th></th>\n      <th></th>\n      <th></th>\n      <th></th>\n      <th></th>\n      <th></th>\n      <th></th>\n      <th></th>\n      <th></th>\n      <th></th>\n    </tr>\n  </thead>\n  <tbody>\n    <tr>\n      <th rowspan=\"2\" valign=\"top\">CT101</th>\n      <th>Left</th>\n      <td>0.001616</td>\n      <td>0.000050</td>\n      <td>9.903323</td>\n      <td>122.639052</td>\n      <td>48</td>\n      <td>77.288435</td>\n      <td>-15.711565</td>\n      <td>-19.025828</td>\n      <td>3.314263</td>\n      <td>0.33898</td>\n      <td>...</td>\n      <td>0.596465</td>\n      <td>0.306220</td>\n      <td>1.254553</td>\n      <td>2.981413</td>\n      <td>1004.342457</td>\n      <td>0.767638</td>\n      <td>0.012133</td>\n      <td>1.502837</td>\n      <td>38</td>\n      <td>1.794776</td>\n    </tr>\n    <tr>\n      <th>Right</th>\n      <td>0.001767</td>\n      <td>0.000057</td>\n      <td>9.775576</td>\n      <td>121.145848</td>\n      <td>25</td>\n      <td>77.862094</td>\n      <td>-15.137906</td>\n      <td>-18.647919</td>\n      <td>3.510013</td>\n      <td>0.34690</td>\n      <td>...</td>\n      <td>0.596308</td>\n      <td>0.306565</td>\n      <td>1.260965</td>\n      <td>3.032816</td>\n      <td>1054.904505</td>\n      <td>0.771196</td>\n      <td>0.014212</td>\n      <td>1.505844</td>\n      <td>23</td>\n      <td>0.940919</td>\n    </tr>\n  </tbody>\n</table>\n<p>2 rows × 44 columns</p>\n</div>"
     },
     "execution_count": 14,
     "metadata": {},
     "output_type": "execute_result"
    }
   ],
   "source": [
    "b.maad_metric(\"all_spectral_alpha_indices\", verbose=True)"
   ]
  },
  {
   "cell_type": "code",
   "execution_count": 32,
   "outputs": [
    {
     "name": "stdout",
     "output_type": "stream",
     "text": [
      " - Calculating scikit-maad all_temporal_alpha_indices\n"
     ]
    },
    {
     "data": {
      "text/plain": "                          ZCR     MEANt      VARt     SKEWt     KURTt  \\\nRecording Channel                                                       \nCT101     Left     791.173986 -0.000040  0.031794 -0.046533  4.070704   \n          Right    837.922297 -0.000043  0.037524 -0.060364  4.023849   \n\n                        LEQt       BGNt      SNRt       MED        Ht  \\\nRecording Channel                                                       \nCT101     Left     78.073263 -10.055829  1.367418  0.314202  0.960724   \n          Right    78.793755  -9.282139  1.339588  0.343473  0.961327   \n\n                   ACTtFraction  ACTtCount  ACTtMean  EVNtFraction  EVNtMean  \\\nRecording Channel                                                              \nCT101     Left         0.209797        621  5.108619      0.158108  0.044177   \n          Right        0.206419        611  5.074564      0.153041  0.041655   \n\n                   EVNtCount  \nRecording Channel             \nCT101     Left      3.580179  \n          Right     3.675228  ",
      "text/html": "<div>\n<style scoped>\n    .dataframe tbody tr th:only-of-type {\n        vertical-align: middle;\n    }\n\n    .dataframe tbody tr th {\n        vertical-align: top;\n    }\n\n    .dataframe thead th {\n        text-align: right;\n    }\n</style>\n<table border=\"1\" class=\"dataframe\">\n  <thead>\n    <tr style=\"text-align: right;\">\n      <th></th>\n      <th></th>\n      <th>ZCR</th>\n      <th>MEANt</th>\n      <th>VARt</th>\n      <th>SKEWt</th>\n      <th>KURTt</th>\n      <th>LEQt</th>\n      <th>BGNt</th>\n      <th>SNRt</th>\n      <th>MED</th>\n      <th>Ht</th>\n      <th>ACTtFraction</th>\n      <th>ACTtCount</th>\n      <th>ACTtMean</th>\n      <th>EVNtFraction</th>\n      <th>EVNtMean</th>\n      <th>EVNtCount</th>\n    </tr>\n    <tr>\n      <th>Recording</th>\n      <th>Channel</th>\n      <th></th>\n      <th></th>\n      <th></th>\n      <th></th>\n      <th></th>\n      <th></th>\n      <th></th>\n      <th></th>\n      <th></th>\n      <th></th>\n      <th></th>\n      <th></th>\n      <th></th>\n      <th></th>\n      <th></th>\n      <th></th>\n    </tr>\n  </thead>\n  <tbody>\n    <tr>\n      <th rowspan=\"2\" valign=\"top\">CT101</th>\n      <th>Left</th>\n      <td>791.173986</td>\n      <td>-0.000040</td>\n      <td>0.031794</td>\n      <td>-0.046533</td>\n      <td>4.070704</td>\n      <td>78.073263</td>\n      <td>-10.055829</td>\n      <td>1.367418</td>\n      <td>0.314202</td>\n      <td>0.960724</td>\n      <td>0.209797</td>\n      <td>621</td>\n      <td>5.108619</td>\n      <td>0.158108</td>\n      <td>0.044177</td>\n      <td>3.580179</td>\n    </tr>\n    <tr>\n      <th>Right</th>\n      <td>837.922297</td>\n      <td>-0.000043</td>\n      <td>0.037524</td>\n      <td>-0.060364</td>\n      <td>4.023849</td>\n      <td>78.793755</td>\n      <td>-9.282139</td>\n      <td>1.339588</td>\n      <td>0.343473</td>\n      <td>0.961327</td>\n      <td>0.206419</td>\n      <td>611</td>\n      <td>5.074564</td>\n      <td>0.153041</td>\n      <td>0.041655</td>\n      <td>3.675228</td>\n    </tr>\n  </tbody>\n</table>\n</div>"
     },
     "execution_count": 32,
     "metadata": {},
     "output_type": "execute_result"
    }
   ],
   "source": [
    "b.maad_metric(\"all_temporal_alpha_indices\", verbose=True)"
   ],
   "metadata": {
    "collapsed": false,
    "ExecuteTime": {
     "end_time": "2023-08-12T20:59:10.379510Z",
     "start_time": "2023-08-12T20:59:10.296558Z"
    }
   },
   "id": "ab9bbfd3d017d317"
  },
  {
   "cell_type": "markdown",
   "id": "7ee05cbb",
   "metadata": {
    "cell_marker": "\"\"\""
   },
   "source": [
    "### Defining Analysis Settings\n",
    "\n",
    "Soundscapy provides the ability to predefine your analysis settings. These are defined in a separate `.yaml` file and are managed by Soundscapy using the `AnalysisSettings` class. These settings can then be passed to any of the analysis functions, rather than separately defining your settings as we did above. This will be particularly useful when performing our batch processing on an entire folder of wav recordings later.\n",
    "\n",
    "Soundscapy provides a set of default settings which can be easily loaded in:"
   ]
  },
  {
   "cell_type": "code",
   "execution_count": 15,
   "id": "43f4791c",
   "metadata": {
    "ExecuteTime": {
     "end_time": "2023-08-12T20:20:41.251435Z",
     "start_time": "2023-08-12T20:20:41.244569Z"
    }
   },
   "outputs": [],
   "source": [
    "analysis_settings = AnalysisSettings.default()"
   ]
  },
  {
   "cell_type": "markdown",
   "id": "01cdf86b",
   "metadata": {
    "cell_marker": "\"\"\""
   },
   "source": [
    "However, in your own analysis you'll probably want to define your own options and load that in. We'll show how this is done using the `example_settings.yaml' file. First, let's take a look at how it's laid out:\n",
    "\n",
    "```\n",
    "# Settings file for batch acoustic analysis.\n",
    "# Split up according to which library performs which analysis.\n",
    "\n",
    "# Python Acoustics\n",
    "# Supported metrics: LAeq, LZeq, LCeq, SEL\n",
    "# Supported stats: avg/mean, max, min, kurt, skew, any integer from 1-99\n",
    "PythonAcoustics:\n",
    "    LAeq:\n",
    "        run: true\n",
    "        main: 'avg'\n",
    "        statistics: [5, 10, 50, 90, 95, 'min', 'max', 'kurt', 'skew']\n",
    "        channel: [\"Left\", \"Right\"]\n",
    "        label: 'LAeq'\n",
    "        func_args:\n",
    "            time: 0.125\n",
    "            method: \"average\"\n",
    "\n",
    "    LZeq:\n",
    "        run: true\n",
    "        main: 'avg'\n",
    "        statistics: [5, 10, 50, 90, 95, 'min', 'max', 'kurt', 'skew']\n",
    "        channel: [\"Left\", \"Right\"]\n",
    "        label: 'LZeq'\n",
    "        func_args:\n",
    "            time: 0.125\n",
    "            method: \"average\"\n",
    "\n",
    "# MoSQITo\n",
    "# supported metrics: loudness_zwtv, sharpness_din_from_loudness, roughness_dw\n",
    "# supported stats: avg/mean, max, min, kurt, skew, any integer from 1-99\n",
    "MoSQITo:\n",
    "    loudness_zwtv:\n",
    "        run: true\n",
    "        main: 5\n",
    "        statistics: [10, 50, 90, 95, 'min', 'max', 'kurt', 'skew', 'avg']\n",
    "        channel: [\"Left\", \"Right\"]\n",
    "        label: \"N\"\n",
    "        parallel: true\n",
    "        func_args:\n",
    "            field_type: \"free\"\n",
    "\n",
    "```"
   ]
  },
  {
   "cell_type": "markdown",
   "id": "80d69b62",
   "metadata": {
    "cell_marker": "\"\"\""
   },
   "source": [
    "\n",
    "The settings file is broken up according to the three libraries. Within these, we define separate options for each metric to calculate. The name of this metric should correspond exactly with what Soundscapy expects (in the case of PythonAcoustics) or what the underlying library calls its function.\n",
    "\n",
    "Within each function, we then have a collection of settings that Soundscapy uses:\n",
    "    * `run` : This tells Soundscapy whether or not to actually run this metric. This allows you to define and save the options you use for each metric without needing to run it.\n",
    "    * `main` and `statistics` : These are the sub-statistics to calculate (e.g. $L_{5}$, $L_{90}$, etc.). `main` operates just like any of these, except you also have the option to return only the main statistic to simplify your results while still leaving your other preferences intact.\n",
    "    * `label` : What label to assign that metric. For instance, Loudness is typically `'N'`. When calculated, the statistics will be appended like so: N_5, N_10, N_avg, ... N_{`stat`} and this will be the column name for that metric. If you pass nothing here, then Soundscapy will fall back to the labels defined in `sq_metrics.DEFAULT_LABELS`. **Warning**: Some functions share a label (e.g. `sharpness_din_tv` and `sharpness_din_perseg` are both 'S'), if you run both of these and don't define different labels, one will overwrite the other.\n",
    "\n",
    "Finally, there is an opportunity to define arguments to pass to the underlying function itself. This is perhaps the most important part for consistency and reproducibility. This is where you define which standard is being used, what time or frequency weighting, or what spectrogram bins to use. These options are defined by the 3 analysis libraries used and are not documented fully in Soundscapy. When the `AnalysisSettings` is parsed, `func_args` will be returned as a `dict` with an entry for each option you'd like to pass. `func_args` is then passed as `**kwargs` to e.g. the `mosqito.sq_metrics.loudness_zwtv()` function. If `func_args` contains an option the function doesn't recognise it will throw an error, so be careful when defining these arguments.\n",
    "\n",
    "---------------------------------------\n",
    "Let's try loading in the `example_settings.yaml` file and see how `AnalysisSettings` handles it."
   ]
  },
  {
   "cell_type": "code",
   "execution_count": 17,
   "id": "424399f0",
   "metadata": {
    "ExecuteTime": {
     "end_time": "2023-08-12T20:20:44.485117Z",
     "start_time": "2023-08-12T20:20:44.481932Z"
    }
   },
   "outputs": [
    {
     "data": {
      "text/plain": "{'PythonAcoustics': {'LAeq': {'run': True,\n   'main': 'avg',\n   'statistics': [5, 10, 50, 90, 95, 'min', 'max', 'kurt', 'skew'],\n   'channel': ['Left', 'Right'],\n   'label': 'LAeq',\n   'func_args': {'time': 0.125, 'method': 'average'}},\n  'LZeq': {'run': True,\n   'main': 'avg',\n   'statistics': [5, 10, 50, 90, 95, 'min', 'max', 'kurt', 'skew'],\n   'channel': ['Left', 'Right'],\n   'label': 'LZeq',\n   'func_args': {'time': 0.125, 'method': 'average'}},\n  'LCeq': {'run': True,\n   'main': 'avg',\n   'statistics': [5, 10, 50, 90, 95, 'min', 'max', 'kurt', 'skew'],\n   'channel': ['Left', 'Right'],\n   'label': 'LCeq',\n   'func_args': {'time': 0.125, 'method': 'average'}},\n  'SEL': {'run': True,\n   'main': [],\n   'statistics': [],\n   'channel': ['Left', 'Right'],\n   'label': 'SEL'}},\n 'MoSQITo': {'loudness_zwtv': {'run': False,\n   'main': 5,\n   'statistics': [10, 50, 90, 95, 'min', 'max', 'kurt', 'skew', 'avg'],\n   'channel': ['Left', 'Right'],\n   'label': 'N',\n   'parallel': True,\n   'func_args': {'field_type': 'free'}},\n  'sharpness_din_from_loudness': {'run': False,\n   'main': 'avg',\n   'statistics': [5, 10, 50, 90, 95, 'min', 'max', 'kurt', 'skew'],\n   'channel': ['Left', 'Right'],\n   'label': 'S',\n   'parallel': True,\n   'func_args': {'weighting': 'din', 'skip': 0.5, 'field_type': 'free'}},\n  'sharpness_din_perseg': {'run': False,\n   'main': 'avg',\n   'statistics': [5, 10, 50, 90, 95, 'min', 'max', 'kurt', 'skew'],\n   'channel': ['Left', 'Right'],\n   'label': 'S_perseg',\n   'parallel': False,\n   'func_args': {'weighting': 'din', 'nperseg': 4096, 'field_type': 'free'}},\n  'sharpness_din_tv': {'run': False,\n   'main': 'avg',\n   'statistics': [5, 10, 50, 90, 95, 'min', 'max', 'kurt', 'skew'],\n   'channel': ['Left', 'Right'],\n   'label': 'S_din_tv',\n   'parallel': True,\n   'func_args': {'weighting': 'din', 'field_type': 'free', 'skip': 0.5}},\n  'roughness_dw': {'run': False,\n   'main': 'avg',\n   'statistics': [5, 10, 50, 90, 95, 'min', 'max', 'kurt', 'skew'],\n   'channel': ['Left', 'Right'],\n   'label': 'R',\n   'parallel': True}},\n 'scikit-maad': {'all_temporal_alpha_indices': {'run': True,\n   'channel': ['Left', 'Right']},\n  'all_spectral_alpha_indices': {'run': True, 'channel': ['Left', 'Right']}},\n 'runtime': '2023-08-12 21:20:44'}"
     },
     "execution_count": 17,
     "metadata": {},
     "output_type": "execute_result"
    }
   ],
   "source": [
    "ex_settings = AnalysisSettings.from_yaml(Path(\"example_settings.yaml\"))\n",
    "ex_settings['scikit-maad']['all_temporal_alpha_indices']['run'] = True\n",
    "ex_settings['scikit-maad']['all_spectral_alpha_indices']['run'] = True\n",
    "ex_settings"
   ]
  },
  {
   "cell_type": "markdown",
   "id": "4ddfdb81",
   "metadata": {
    "cell_marker": "\"\"\""
   },
   "source": [
    "`ex_settings` is just a Python `dict` with some class methods added on. One of these is a function to parse the settings object for a specific library:"
   ]
  },
  {
   "cell_type": "code",
   "execution_count": 18,
   "id": "b6c6f7fc",
   "metadata": {
    "ExecuteTime": {
     "end_time": "2023-08-12T20:20:45.718584Z",
     "start_time": "2023-08-12T20:20:45.705121Z"
    }
   },
   "outputs": [
    {
     "data": {
      "text/plain": "(True,\n ['Left', 'Right'],\n [5, 10, 50, 90, 95, 'min', 'max', 'kurt', 'skew', 'avg'],\n 'LAeq',\n {'time': 0.125, 'method': 'average'})"
     },
     "execution_count": 18,
     "metadata": {},
     "output_type": "execute_result"
    }
   ],
   "source": [
    "ex_settings.parse_pyacoustics(metric=\"LAeq\")"
   ]
  },
  {
   "cell_type": "markdown",
   "id": "e822f46b",
   "metadata": {
    "cell_marker": "\"\"\""
   },
   "source": [
    "This returns the value for `run`, `channel`, `statistics`, `label`, and `func_args` which will then be used by the `pyacoustic_metric()` function to calculate the $L_{Aeq}$ and its stats.\n",
    "\n",
    "When passing your settings to an analysis function, it will start by automatically parsing and applying the settings for that particular metric. This will override any other settings passed to the function, so if you're using a settings file and you want to change anything, you should either change it in the `.yaml` and reload the settings. This also makes sure you keep a record of the settings for the last time you ran the analysis.\n",
    "\n",
    "You can easily reload the settings `.yaml` after changing it:"
   ]
  },
  {
   "cell_type": "code",
   "execution_count": 19,
   "id": "5da5ee5b",
   "metadata": {
    "ExecuteTime": {
     "end_time": "2023-08-12T20:20:47.717749Z",
     "start_time": "2023-08-12T20:20:47.704543Z"
    }
   },
   "outputs": [],
   "source": [
    "# ex_settings = ex_settings.reload()"
   ]
  },
  {
   "cell_type": "markdown",
   "id": "89382227",
   "metadata": {
    "cell_marker": "\"\"\""
   },
   "source": [
    "### Running a single metric with predefined settings\n",
    "\n",
    "Now, with our settings loaded, we process a recording using those settings:"
   ]
  },
  {
   "cell_type": "code",
   "execution_count": 20,
   "id": "2700bdee",
   "metadata": {
    "ExecuteTime": {
     "end_time": "2023-08-12T20:20:50.182201Z",
     "start_time": "2023-08-12T20:20:50.095370Z"
    }
   },
   "outputs": [
    {
     "data": {
      "text/plain": "                        LAeq     LAeq_5    LAeq_10    LAeq_50    LAeq_90  \\\nRecording Channel                                                          \nCT101     Left     68.875703  72.257301  71.154342  68.113339  63.375091   \n          Right    69.953333  73.623236  72.578152  68.495399  64.533057   \n\n                     LAeq_95   LAeq_min   LAeq_max  LAeq_kurt  LAeq_skew  \nRecording Channel                                                         \nCT101     Left     62.366533  60.560166  77.382651   0.272011  -0.013877  \n          Right    63.097659  60.520566  78.708783   0.473515   0.140450  ",
      "text/html": "<div>\n<style scoped>\n    .dataframe tbody tr th:only-of-type {\n        vertical-align: middle;\n    }\n\n    .dataframe tbody tr th {\n        vertical-align: top;\n    }\n\n    .dataframe thead th {\n        text-align: right;\n    }\n</style>\n<table border=\"1\" class=\"dataframe\">\n  <thead>\n    <tr style=\"text-align: right;\">\n      <th></th>\n      <th></th>\n      <th>LAeq</th>\n      <th>LAeq_5</th>\n      <th>LAeq_10</th>\n      <th>LAeq_50</th>\n      <th>LAeq_90</th>\n      <th>LAeq_95</th>\n      <th>LAeq_min</th>\n      <th>LAeq_max</th>\n      <th>LAeq_kurt</th>\n      <th>LAeq_skew</th>\n    </tr>\n    <tr>\n      <th>Recording</th>\n      <th>Channel</th>\n      <th></th>\n      <th></th>\n      <th></th>\n      <th></th>\n      <th></th>\n      <th></th>\n      <th></th>\n      <th></th>\n      <th></th>\n      <th></th>\n    </tr>\n  </thead>\n  <tbody>\n    <tr>\n      <th rowspan=\"2\" valign=\"top\">CT101</th>\n      <th>Left</th>\n      <td>68.875703</td>\n      <td>72.257301</td>\n      <td>71.154342</td>\n      <td>68.113339</td>\n      <td>63.375091</td>\n      <td>62.366533</td>\n      <td>60.560166</td>\n      <td>77.382651</td>\n      <td>0.272011</td>\n      <td>-0.013877</td>\n    </tr>\n    <tr>\n      <th>Right</th>\n      <td>69.953333</td>\n      <td>73.623236</td>\n      <td>72.578152</td>\n      <td>68.495399</td>\n      <td>64.533057</td>\n      <td>63.097659</td>\n      <td>60.520566</td>\n      <td>78.708783</td>\n      <td>0.473515</td>\n      <td>0.140450</td>\n    </tr>\n  </tbody>\n</table>\n</div>"
     },
     "execution_count": 20,
     "metadata": {},
     "output_type": "execute_result"
    }
   ],
   "source": [
    "b.pyacoustics_metric(\"LAeq\", analysis_settings=ex_settings)"
   ]
  },
  {
   "cell_type": "markdown",
   "id": "0314af2c",
   "metadata": {
    "cell_marker": "\"\"\""
   },
   "source": [
    "But this is just the start of what makes the analysis settings so useful."
   ]
  },
  {
   "cell_type": "markdown",
   "id": "5a584619",
   "metadata": {
    "cell_marker": "\"\"\""
   },
   "source": [
    "## Processing all the metrics at once, using predefined analysis settings.\n",
    "\n",
    "Since we can define the settings for all the metrics, and specify which metrics we want to run, we can process all of our desired metrics at once. `process_all_metrics()` let's us do this with just a single line of code."
   ]
  },
  {
   "cell_type": "code",
   "execution_count": 21,
   "id": "9e6ebf83",
   "metadata": {
    "ExecuteTime": {
     "end_time": "2023-08-12T20:20:53.694900Z",
     "start_time": "2023-08-12T20:20:52.711936Z"
    }
   },
   "outputs": [
    {
     "name": "stdout",
     "output_type": "stream",
     "text": [
      "Processing CT101\n",
      " - Calculating Python Acoustics metrics: LAeq\n",
      " - Calculating Python Acoustics metrics: LZeq\n",
      " - Calculating Python Acoustics metrics: LCeq\n",
      " - Calculating Python Acoustics metrics: SEL\n",
      " - Calculating scikit-maad all_temporal_alpha_indices\n",
      " - Calculating scikit-maad all_spectral_alpha_indices\n"
     ]
    },
    {
     "data": {
      "text/plain": "                        LAeq     LAeq_5    LAeq_10    LAeq_50    LAeq_90  \\\nRecording Channel                                                          \nCT101     Left     68.875703  72.257301  71.154342  68.113339  63.375091   \n          Right    69.953333  73.623236  72.578152  68.495399  64.533057   \n\n                     LAeq_95   LAeq_min   LAeq_max  LAeq_kurt  LAeq_skew  ...  \\\nRecording Channel                                                         ...   \nCT101     Left     62.366533  60.560166  77.382651   0.272011  -0.013877  ...   \n          Right    63.097659  60.520566  78.708783   0.473515   0.140450  ...   \n\n                       TFSD  H_Havrda   H_Renyi  H_pairedShannon      H_gamma  \\\nRecording Channel                                                               \nCT101     Left     0.596465  0.306220  1.254553         2.981413  1004.342457   \n          Right    0.596308  0.306565  1.260965         3.032816  1054.904505   \n\n                   H_GiniSimpson      RAOQ       AGI  ROItotal  ROIcover  \nRecording Channel                                                         \nCT101     Left          0.767638  0.012133  1.502837        38  1.794776  \n          Right         0.771196  0.014212  1.505844        23  0.940919  \n\n[2 rows x 91 columns]",
      "text/html": "<div>\n<style scoped>\n    .dataframe tbody tr th:only-of-type {\n        vertical-align: middle;\n    }\n\n    .dataframe tbody tr th {\n        vertical-align: top;\n    }\n\n    .dataframe thead th {\n        text-align: right;\n    }\n</style>\n<table border=\"1\" class=\"dataframe\">\n  <thead>\n    <tr style=\"text-align: right;\">\n      <th></th>\n      <th></th>\n      <th>LAeq</th>\n      <th>LAeq_5</th>\n      <th>LAeq_10</th>\n      <th>LAeq_50</th>\n      <th>LAeq_90</th>\n      <th>LAeq_95</th>\n      <th>LAeq_min</th>\n      <th>LAeq_max</th>\n      <th>LAeq_kurt</th>\n      <th>LAeq_skew</th>\n      <th>...</th>\n      <th>TFSD</th>\n      <th>H_Havrda</th>\n      <th>H_Renyi</th>\n      <th>H_pairedShannon</th>\n      <th>H_gamma</th>\n      <th>H_GiniSimpson</th>\n      <th>RAOQ</th>\n      <th>AGI</th>\n      <th>ROItotal</th>\n      <th>ROIcover</th>\n    </tr>\n    <tr>\n      <th>Recording</th>\n      <th>Channel</th>\n      <th></th>\n      <th></th>\n      <th></th>\n      <th></th>\n      <th></th>\n      <th></th>\n      <th></th>\n      <th></th>\n      <th></th>\n      <th></th>\n      <th></th>\n      <th></th>\n      <th></th>\n      <th></th>\n      <th></th>\n      <th></th>\n      <th></th>\n      <th></th>\n      <th></th>\n      <th></th>\n      <th></th>\n    </tr>\n  </thead>\n  <tbody>\n    <tr>\n      <th rowspan=\"2\" valign=\"top\">CT101</th>\n      <th>Left</th>\n      <td>68.875703</td>\n      <td>72.257301</td>\n      <td>71.154342</td>\n      <td>68.113339</td>\n      <td>63.375091</td>\n      <td>62.366533</td>\n      <td>60.560166</td>\n      <td>77.382651</td>\n      <td>0.272011</td>\n      <td>-0.013877</td>\n      <td>...</td>\n      <td>0.596465</td>\n      <td>0.306220</td>\n      <td>1.254553</td>\n      <td>2.981413</td>\n      <td>1004.342457</td>\n      <td>0.767638</td>\n      <td>0.012133</td>\n      <td>1.502837</td>\n      <td>38</td>\n      <td>1.794776</td>\n    </tr>\n    <tr>\n      <th>Right</th>\n      <td>69.953333</td>\n      <td>73.623236</td>\n      <td>72.578152</td>\n      <td>68.495399</td>\n      <td>64.533057</td>\n      <td>63.097659</td>\n      <td>60.520566</td>\n      <td>78.708783</td>\n      <td>0.473515</td>\n      <td>0.140450</td>\n      <td>...</td>\n      <td>0.596308</td>\n      <td>0.306565</td>\n      <td>1.260965</td>\n      <td>3.032816</td>\n      <td>1054.904505</td>\n      <td>0.771196</td>\n      <td>0.014212</td>\n      <td>1.505844</td>\n      <td>23</td>\n      <td>0.940919</td>\n    </tr>\n  </tbody>\n</table>\n<p>2 rows × 91 columns</p>\n</div>"
     },
     "execution_count": 21,
     "metadata": {},
     "output_type": "execute_result"
    }
   ],
   "source": [
    "b.process_all_metrics(ex_settings, verbose=True)"
   ]
  },
  {
   "cell_type": "markdown",
   "id": "61fde748",
   "metadata": {
    "cell_marker": "\"\"\""
   },
   "source": [
    "In this case we left out the MoSQITo metrics since they take a while, but let's say you do want to run those. You could either edit the `example_settings.yaml` file and use `ex_settings.reload()`, or what we'll do within this notebook is just directly edit the underlying dict."
   ]
  },
  {
   "cell_type": "code",
   "execution_count": 22,
   "id": "0dc4cbd9",
   "metadata": {
    "ExecuteTime": {
     "end_time": "2023-08-12T20:21:27.391295Z",
     "start_time": "2023-08-12T20:20:55.665253Z"
    }
   },
   "outputs": [
    {
     "name": "stdout",
     "output_type": "stream",
     "text": [
      "Processing CT101\n",
      " - Calculating Python Acoustics metrics: LAeq\n",
      " - Calculating Python Acoustics metrics: LZeq\n",
      " - Calculating Python Acoustics metrics: LCeq\n",
      " - Calculating Python Acoustics metrics: SEL\n",
      " - Calculating MoSQITo metric: loudness_zwtv\n",
      " - Calculating scikit-maad all_temporal_alpha_indices\n",
      " - Calculating scikit-maad all_spectral_alpha_indices\n"
     ]
    },
    {
     "data": {
      "text/plain": "                        LAeq     LAeq_5    LAeq_10    LAeq_50    LAeq_90  \\\nRecording Channel                                                          \nCT101     Left     68.875703  72.257301  71.154342  68.113339  63.375091   \n          Right    69.953333  73.623236  72.578152  68.495399  64.533057   \n\n                     LAeq_95   LAeq_min   LAeq_max  LAeq_kurt  LAeq_skew  ...  \\\nRecording Channel                                                         ...   \nCT101     Left     62.366533  60.560166  77.382651   0.272011  -0.013877  ...   \n          Right    63.097659  60.520566  78.708783   0.473515   0.140450  ...   \n\n                       TFSD  H_Havrda   H_Renyi  H_pairedShannon      H_gamma  \\\nRecording Channel                                                               \nCT101     Left     0.596465  0.306220  1.254553         2.981413  1004.342457   \n          Right    0.596308  0.306565  1.260965         3.032816  1054.904505   \n\n                   H_GiniSimpson      RAOQ       AGI  ROItotal  ROIcover  \nRecording Channel                                                         \nCT101     Left          0.767638  0.012133  1.502837        38  1.794776  \n          Right         0.771196  0.014212  1.505844        23  0.940919  \n\n[2 rows x 101 columns]",
      "text/html": "<div>\n<style scoped>\n    .dataframe tbody tr th:only-of-type {\n        vertical-align: middle;\n    }\n\n    .dataframe tbody tr th {\n        vertical-align: top;\n    }\n\n    .dataframe thead th {\n        text-align: right;\n    }\n</style>\n<table border=\"1\" class=\"dataframe\">\n  <thead>\n    <tr style=\"text-align: right;\">\n      <th></th>\n      <th></th>\n      <th>LAeq</th>\n      <th>LAeq_5</th>\n      <th>LAeq_10</th>\n      <th>LAeq_50</th>\n      <th>LAeq_90</th>\n      <th>LAeq_95</th>\n      <th>LAeq_min</th>\n      <th>LAeq_max</th>\n      <th>LAeq_kurt</th>\n      <th>LAeq_skew</th>\n      <th>...</th>\n      <th>TFSD</th>\n      <th>H_Havrda</th>\n      <th>H_Renyi</th>\n      <th>H_pairedShannon</th>\n      <th>H_gamma</th>\n      <th>H_GiniSimpson</th>\n      <th>RAOQ</th>\n      <th>AGI</th>\n      <th>ROItotal</th>\n      <th>ROIcover</th>\n    </tr>\n    <tr>\n      <th>Recording</th>\n      <th>Channel</th>\n      <th></th>\n      <th></th>\n      <th></th>\n      <th></th>\n      <th></th>\n      <th></th>\n      <th></th>\n      <th></th>\n      <th></th>\n      <th></th>\n      <th></th>\n      <th></th>\n      <th></th>\n      <th></th>\n      <th></th>\n      <th></th>\n      <th></th>\n      <th></th>\n      <th></th>\n      <th></th>\n      <th></th>\n    </tr>\n  </thead>\n  <tbody>\n    <tr>\n      <th rowspan=\"2\" valign=\"top\">CT101</th>\n      <th>Left</th>\n      <td>68.875703</td>\n      <td>72.257301</td>\n      <td>71.154342</td>\n      <td>68.113339</td>\n      <td>63.375091</td>\n      <td>62.366533</td>\n      <td>60.560166</td>\n      <td>77.382651</td>\n      <td>0.272011</td>\n      <td>-0.013877</td>\n      <td>...</td>\n      <td>0.596465</td>\n      <td>0.306220</td>\n      <td>1.254553</td>\n      <td>2.981413</td>\n      <td>1004.342457</td>\n      <td>0.767638</td>\n      <td>0.012133</td>\n      <td>1.502837</td>\n      <td>38</td>\n      <td>1.794776</td>\n    </tr>\n    <tr>\n      <th>Right</th>\n      <td>69.953333</td>\n      <td>73.623236</td>\n      <td>72.578152</td>\n      <td>68.495399</td>\n      <td>64.533057</td>\n      <td>63.097659</td>\n      <td>60.520566</td>\n      <td>78.708783</td>\n      <td>0.473515</td>\n      <td>0.140450</td>\n      <td>...</td>\n      <td>0.596308</td>\n      <td>0.306565</td>\n      <td>1.260965</td>\n      <td>3.032816</td>\n      <td>1054.904505</td>\n      <td>0.771196</td>\n      <td>0.014212</td>\n      <td>1.505844</td>\n      <td>23</td>\n      <td>0.940919</td>\n    </tr>\n  </tbody>\n</table>\n<p>2 rows × 101 columns</p>\n</div>"
     },
     "execution_count": 22,
     "metadata": {},
     "output_type": "execute_result"
    }
   ],
   "source": [
    "ex_settings['MoSQITo'][\"loudness_zwtv\"][\"run\"] = True\n",
    "\n",
    "b.process_all_metrics(ex_settings, verbose=True)"
   ]
  },
  {
   "cell_type": "markdown",
   "id": "1d20f438",
   "metadata": {
    "cell_marker": "\"\"\""
   },
   "source": [
    "And now we have all of the same metrics from before, along with the psychoacoustic Loudness."
   ]
  },
  {
   "cell_type": "markdown",
   "id": "72499085",
   "metadata": {
    "cell_marker": "\"\"\""
   },
   "source": [
    "## Batch processing a bunch of recordings.\n",
    "\n",
    "The final step is to run all of these metrics on a whole bunch of wav recordings all at once. In the Soundscape Indices (SSID) project for which this package was developed, we use this data to train machine learning models, so it's necessary to process a large number of recordings. Using the predefined analysis settings, we can loop through an entire folder, add it all to the results dataframe and come away with a single spreadsheet of all of the metrics needed.\n",
    "\n",
    "To start, we'll demonstrate this using a normal `for` loop. The `for` loop will process one recording at a time and add it to our results dataframe. For the demonstration, we'll reload all of the variables needed and use the default analysis settings to run all of the metrics and time it."
   ]
  },
  {
   "cell_type": "code",
   "execution_count": 31,
   "id": "607fb96d",
   "metadata": {
    "ExecuteTime": {
     "end_time": "2023-08-09T14:47:44.271476Z",
     "start_time": "2023-08-09T14:36:35.370997Z"
    }
   },
   "outputs": [
    {
     "name": "stderr",
     "output_type": "stream",
     "text": [
      "Processing CT110: 100%|██████████| 8/8 [11:08<00:00, 83.61s/it]\n"
     ]
    }
   ],
   "source": [
    "import time # Just for timing\n",
    "from tqdm import tqdm\n",
    "\n",
    "wav_folder = Path().cwd().parent.parent.joinpath(\"test\", \"data\")\n",
    "levels = wav_folder.joinpath(\"Levels.json\")\n",
    "with open(levels) as f:\n",
    "    levels = json.load(f)\n",
    "df = prep_multiindex_df(levels, incl_metric=False)\n",
    "\n",
    "analysis_settings = AnalysisSettings.default()\n",
    "analysis_settings['scikit-maad']['all_temporal_alpha_indices']['run'] = True\n",
    "analysis_settings['scikit-maad']['all_spectral_alpha_indices']['run'] = True\n",
    "# analysis_settings[\"MoSQITo\"][\"sharpness_din_from_loudness\"][\"run\"] = False\n",
    "# analysis_settings[\"MoSQITo\"][\"sharpness_din_perseg\"][\"run\"] = False\n",
    "# analysis_settings[\"MoSQITo\"][\"roughness_dw\"][\"run\"] = False\n",
    "\n",
    "begin = time.perf_counter() # Start timer\n",
    "\n",
    "# Loop through each wav file in the folder\n",
    "for wav in (pbar := tqdm(list(wav_folder.glob(\"*.wav\")))):\n",
    "    recording = wav.stem\n",
    "    pbar.set_description(f\"Processing {recording}\")\n",
    "    decibel = tuple(levels[recording].values())\n",
    "    b = Binaural.from_wav(wav, calibrate_to=decibel)\n",
    "    df = add_results(df, b.process_all_metrics(analysis_settings, verbose=False, parallel=True)) # Process all metrics and add to results df\n",
    "\n",
    "end = time.perf_counter() # Stop timer"
   ]
  },
  {
   "cell_type": "code",
   "execution_count": 33,
   "id": "91845ce0",
   "metadata": {
    "ExecuteTime": {
     "end_time": "2023-08-09T14:47:56.228053Z",
     "start_time": "2023-08-09T14:47:56.207172Z"
    }
   },
   "outputs": [
    {
     "name": "stdout",
     "output_type": "stream",
     "text": [
      "Run time on 16 core AMD Ryzen 7 4800HS (Windows 11): 1781.15 seconds (29.69 minutes)\n",
      "Run on M2 Max:\n",
      "Time taken (using for loop):  668.88 seconds ( 11.15 minutes)\n"
     ]
    },
    {
     "data": {
      "text/plain": "                        LAeq     LAeq_5    LAeq_10    LAeq_50    LAeq_90  \\\nRecording Channel                                                          \nCT101     Left     68.875703  72.257301  71.154342  68.113339  63.375091   \n          Right    69.953333  73.623236  72.578152  68.495399  64.533057   \nCT102     Left     70.613447  74.541317  73.322597  69.297264  65.074481   \n          Right    70.491840  75.681356  73.055797  69.131814  64.975452   \nCT103     Left     66.330006  69.010487  68.241612  65.579475  63.680847   \n...                      ...        ...        ...        ...        ...   \nSM518     Right          NaN        NaN        NaN        NaN        NaN   \nSM519     Left           NaN        NaN        NaN        NaN        NaN   \n          Right          NaN        NaN        NaN        NaN        NaN   \nSM520     Left           NaN        NaN        NaN        NaN        NaN   \n          Right          NaN        NaN        NaN        NaN        NaN   \n\n                     LAeq_95   LAeq_min   LAeq_max  LAeq_kurt  LAeq_skew  ...  \\\nRecording Channel                                                         ...   \nCT101     Left     62.366533  60.560166  77.382651   0.272011  -0.013877  ...   \n          Right    63.097659  60.520566  78.708783   0.473515   0.140450  ...   \nCT102     Left     64.561974  63.337182  78.922344   0.270694   0.530142  ...   \n          Right    64.209771  63.114758  81.634943   0.648596   0.601576  ...   \nCT103     Left     63.194765  62.103353  74.234566   2.236365   1.127518  ...   \n...                      ...        ...        ...        ...        ...  ...   \nSM518     Right          NaN        NaN        NaN        NaN        NaN  ...   \nSM519     Left           NaN        NaN        NaN        NaN        NaN  ...   \n          Right          NaN        NaN        NaN        NaN        NaN  ...   \nSM520     Left           NaN        NaN        NaN        NaN        NaN  ...   \n          Right          NaN        NaN        NaN        NaN        NaN  ...   \n\n                        R_5      R_10      R_50      R_90      R_95     R_min  \\\nRecording Channel                                                               \nCT101     Left     0.090225  0.077212  0.043472  0.024918  0.021059  0.013380   \n          Right    0.100709  0.084377  0.049555  0.029657  0.024672  0.014081   \nCT102     Left     0.095503  0.079576  0.045079  0.025084  0.020123  0.007751   \n          Right    0.121427  0.085234  0.045587  0.026302  0.021685  0.014702   \nCT103     Left     0.099553  0.082312  0.043925  0.023160  0.020682  0.011923   \n...                     ...       ...       ...       ...       ...       ...   \nSM518     Right         NaN       NaN       NaN       NaN       NaN       NaN   \nSM519     Left          NaN       NaN       NaN       NaN       NaN       NaN   \n          Right         NaN       NaN       NaN       NaN       NaN       NaN   \nSM520     Left          NaN       NaN       NaN       NaN       NaN       NaN   \n          Right         NaN       NaN       NaN       NaN       NaN       NaN   \n\n                      R_max      R_kurt    R_skew     R_avg  \nRecording Channel                                            \nCT101     Left     0.250412   14.534464  2.680298  0.048825  \n          Right    0.777253  101.135194  8.879461  0.057800  \nCT102     Left     0.647052  110.975758  8.886921  0.051998  \n          Right    0.497556   28.406228  4.749014  0.058000  \nCT103     Left     0.729705   85.064634  8.251089  0.055371  \n...                     ...         ...       ...       ...  \nSM518     Right         NaN         NaN       NaN       NaN  \nSM519     Left          NaN         NaN       NaN       NaN  \n          Right         NaN         NaN       NaN       NaN  \nSM520     Left          NaN         NaN       NaN       NaN  \n          Right         NaN         NaN       NaN       NaN  \n\n[2904 rows x 71 columns]",
      "text/html": "<div>\n<style scoped>\n    .dataframe tbody tr th:only-of-type {\n        vertical-align: middle;\n    }\n\n    .dataframe tbody tr th {\n        vertical-align: top;\n    }\n\n    .dataframe thead th {\n        text-align: right;\n    }\n</style>\n<table border=\"1\" class=\"dataframe\">\n  <thead>\n    <tr style=\"text-align: right;\">\n      <th></th>\n      <th></th>\n      <th>LAeq</th>\n      <th>LAeq_5</th>\n      <th>LAeq_10</th>\n      <th>LAeq_50</th>\n      <th>LAeq_90</th>\n      <th>LAeq_95</th>\n      <th>LAeq_min</th>\n      <th>LAeq_max</th>\n      <th>LAeq_kurt</th>\n      <th>LAeq_skew</th>\n      <th>...</th>\n      <th>R_5</th>\n      <th>R_10</th>\n      <th>R_50</th>\n      <th>R_90</th>\n      <th>R_95</th>\n      <th>R_min</th>\n      <th>R_max</th>\n      <th>R_kurt</th>\n      <th>R_skew</th>\n      <th>R_avg</th>\n    </tr>\n    <tr>\n      <th>Recording</th>\n      <th>Channel</th>\n      <th></th>\n      <th></th>\n      <th></th>\n      <th></th>\n      <th></th>\n      <th></th>\n      <th></th>\n      <th></th>\n      <th></th>\n      <th></th>\n      <th></th>\n      <th></th>\n      <th></th>\n      <th></th>\n      <th></th>\n      <th></th>\n      <th></th>\n      <th></th>\n      <th></th>\n      <th></th>\n      <th></th>\n    </tr>\n  </thead>\n  <tbody>\n    <tr>\n      <th rowspan=\"2\" valign=\"top\">CT101</th>\n      <th>Left</th>\n      <td>68.875703</td>\n      <td>72.257301</td>\n      <td>71.154342</td>\n      <td>68.113339</td>\n      <td>63.375091</td>\n      <td>62.366533</td>\n      <td>60.560166</td>\n      <td>77.382651</td>\n      <td>0.272011</td>\n      <td>-0.013877</td>\n      <td>...</td>\n      <td>0.090225</td>\n      <td>0.077212</td>\n      <td>0.043472</td>\n      <td>0.024918</td>\n      <td>0.021059</td>\n      <td>0.013380</td>\n      <td>0.250412</td>\n      <td>14.534464</td>\n      <td>2.680298</td>\n      <td>0.048825</td>\n    </tr>\n    <tr>\n      <th>Right</th>\n      <td>69.953333</td>\n      <td>73.623236</td>\n      <td>72.578152</td>\n      <td>68.495399</td>\n      <td>64.533057</td>\n      <td>63.097659</td>\n      <td>60.520566</td>\n      <td>78.708783</td>\n      <td>0.473515</td>\n      <td>0.140450</td>\n      <td>...</td>\n      <td>0.100709</td>\n      <td>0.084377</td>\n      <td>0.049555</td>\n      <td>0.029657</td>\n      <td>0.024672</td>\n      <td>0.014081</td>\n      <td>0.777253</td>\n      <td>101.135194</td>\n      <td>8.879461</td>\n      <td>0.057800</td>\n    </tr>\n    <tr>\n      <th rowspan=\"2\" valign=\"top\">CT102</th>\n      <th>Left</th>\n      <td>70.613447</td>\n      <td>74.541317</td>\n      <td>73.322597</td>\n      <td>69.297264</td>\n      <td>65.074481</td>\n      <td>64.561974</td>\n      <td>63.337182</td>\n      <td>78.922344</td>\n      <td>0.270694</td>\n      <td>0.530142</td>\n      <td>...</td>\n      <td>0.095503</td>\n      <td>0.079576</td>\n      <td>0.045079</td>\n      <td>0.025084</td>\n      <td>0.020123</td>\n      <td>0.007751</td>\n      <td>0.647052</td>\n      <td>110.975758</td>\n      <td>8.886921</td>\n      <td>0.051998</td>\n    </tr>\n    <tr>\n      <th>Right</th>\n      <td>70.491840</td>\n      <td>75.681356</td>\n      <td>73.055797</td>\n      <td>69.131814</td>\n      <td>64.975452</td>\n      <td>64.209771</td>\n      <td>63.114758</td>\n      <td>81.634943</td>\n      <td>0.648596</td>\n      <td>0.601576</td>\n      <td>...</td>\n      <td>0.121427</td>\n      <td>0.085234</td>\n      <td>0.045587</td>\n      <td>0.026302</td>\n      <td>0.021685</td>\n      <td>0.014702</td>\n      <td>0.497556</td>\n      <td>28.406228</td>\n      <td>4.749014</td>\n      <td>0.058000</td>\n    </tr>\n    <tr>\n      <th>CT103</th>\n      <th>Left</th>\n      <td>66.330006</td>\n      <td>69.010487</td>\n      <td>68.241612</td>\n      <td>65.579475</td>\n      <td>63.680847</td>\n      <td>63.194765</td>\n      <td>62.103353</td>\n      <td>74.234566</td>\n      <td>2.236365</td>\n      <td>1.127518</td>\n      <td>...</td>\n      <td>0.099553</td>\n      <td>0.082312</td>\n      <td>0.043925</td>\n      <td>0.023160</td>\n      <td>0.020682</td>\n      <td>0.011923</td>\n      <td>0.729705</td>\n      <td>85.064634</td>\n      <td>8.251089</td>\n      <td>0.055371</td>\n    </tr>\n    <tr>\n      <th>...</th>\n      <th>...</th>\n      <td>...</td>\n      <td>...</td>\n      <td>...</td>\n      <td>...</td>\n      <td>...</td>\n      <td>...</td>\n      <td>...</td>\n      <td>...</td>\n      <td>...</td>\n      <td>...</td>\n      <td>...</td>\n      <td>...</td>\n      <td>...</td>\n      <td>...</td>\n      <td>...</td>\n      <td>...</td>\n      <td>...</td>\n      <td>...</td>\n      <td>...</td>\n      <td>...</td>\n      <td>...</td>\n    </tr>\n    <tr>\n      <th>SM518</th>\n      <th>Right</th>\n      <td>NaN</td>\n      <td>NaN</td>\n      <td>NaN</td>\n      <td>NaN</td>\n      <td>NaN</td>\n      <td>NaN</td>\n      <td>NaN</td>\n      <td>NaN</td>\n      <td>NaN</td>\n      <td>NaN</td>\n      <td>...</td>\n      <td>NaN</td>\n      <td>NaN</td>\n      <td>NaN</td>\n      <td>NaN</td>\n      <td>NaN</td>\n      <td>NaN</td>\n      <td>NaN</td>\n      <td>NaN</td>\n      <td>NaN</td>\n      <td>NaN</td>\n    </tr>\n    <tr>\n      <th rowspan=\"2\" valign=\"top\">SM519</th>\n      <th>Left</th>\n      <td>NaN</td>\n      <td>NaN</td>\n      <td>NaN</td>\n      <td>NaN</td>\n      <td>NaN</td>\n      <td>NaN</td>\n      <td>NaN</td>\n      <td>NaN</td>\n      <td>NaN</td>\n      <td>NaN</td>\n      <td>...</td>\n      <td>NaN</td>\n      <td>NaN</td>\n      <td>NaN</td>\n      <td>NaN</td>\n      <td>NaN</td>\n      <td>NaN</td>\n      <td>NaN</td>\n      <td>NaN</td>\n      <td>NaN</td>\n      <td>NaN</td>\n    </tr>\n    <tr>\n      <th>Right</th>\n      <td>NaN</td>\n      <td>NaN</td>\n      <td>NaN</td>\n      <td>NaN</td>\n      <td>NaN</td>\n      <td>NaN</td>\n      <td>NaN</td>\n      <td>NaN</td>\n      <td>NaN</td>\n      <td>NaN</td>\n      <td>...</td>\n      <td>NaN</td>\n      <td>NaN</td>\n      <td>NaN</td>\n      <td>NaN</td>\n      <td>NaN</td>\n      <td>NaN</td>\n      <td>NaN</td>\n      <td>NaN</td>\n      <td>NaN</td>\n      <td>NaN</td>\n    </tr>\n    <tr>\n      <th rowspan=\"2\" valign=\"top\">SM520</th>\n      <th>Left</th>\n      <td>NaN</td>\n      <td>NaN</td>\n      <td>NaN</td>\n      <td>NaN</td>\n      <td>NaN</td>\n      <td>NaN</td>\n      <td>NaN</td>\n      <td>NaN</td>\n      <td>NaN</td>\n      <td>NaN</td>\n      <td>...</td>\n      <td>NaN</td>\n      <td>NaN</td>\n      <td>NaN</td>\n      <td>NaN</td>\n      <td>NaN</td>\n      <td>NaN</td>\n      <td>NaN</td>\n      <td>NaN</td>\n      <td>NaN</td>\n      <td>NaN</td>\n    </tr>\n    <tr>\n      <th>Right</th>\n      <td>NaN</td>\n      <td>NaN</td>\n      <td>NaN</td>\n      <td>NaN</td>\n      <td>NaN</td>\n      <td>NaN</td>\n      <td>NaN</td>\n      <td>NaN</td>\n      <td>NaN</td>\n      <td>NaN</td>\n      <td>...</td>\n      <td>NaN</td>\n      <td>NaN</td>\n      <td>NaN</td>\n      <td>NaN</td>\n      <td>NaN</td>\n      <td>NaN</td>\n      <td>NaN</td>\n      <td>NaN</td>\n      <td>NaN</td>\n      <td>NaN</td>\n    </tr>\n  </tbody>\n</table>\n<p>2904 rows × 71 columns</p>\n</div>"
     },
     "execution_count": 33,
     "metadata": {},
     "output_type": "execute_result"
    }
   ],
   "source": [
    "print(\"Run time on 16 core AMD Ryzen 7 4800HS (Windows 11): 1781.15 seconds (29.69 minutes)\")\n",
    "\n",
    "print(\"Run on M2 Max:\")\n",
    "print(f\"Time taken (using for loop): {end-begin: .2f} seconds ({(end-begin)/60: .2f} minutes)\")\n",
    "df"
   ]
  },
  {
   "cell_type": "markdown",
   "id": "eaf63976",
   "metadata": {
    "cell_marker": "\"\"\""
   },
   "source": [
    "As we can see, this took quite a long time. The problem is that the MoSQITo metrics can take up to a minute for each channel of each recording and the for loop only processes one recording at a time. Since most modern computers are multicore, this leaves a ton of processing power unused. On my machine, I have 16 cores and at any one time during this process, only two of those cores are running at 100%.\n",
    "\n",
    "In order to take full advantage of the other cores, we need to tell the computer to process multiple recordings at once and add them all together later. This is called parallel processing and could theoretically speed up the analysis by 8x (usually we don't get this full speed up though). The reason two cores are running in parallel above is because we're already running both channels at the same time for the MoSQITo metrics.\n",
    "\n",
    "To do this, we provide a function called `parallel_process()` which takes the path to your wav folder as an argument, then performs our full processing on multiple recordings in parallel and returns the full result dataframe at the end.\n",
    "\n",
    "Note: Don't worry about the status updates looking  a bit jumbled - that's what happens with parallel processing."
   ]
  },
  {
   "cell_type": "code",
   "execution_count": 25,
   "id": "f674d1fd",
   "metadata": {
    "ExecuteTime": {
     "end_time": "2023-08-12T20:35:16.638522Z",
     "start_time": "2023-08-12T20:32:10.289526Z"
    }
   },
   "outputs": [
    {
     "data": {
      "text/plain": "Processing files:   0%|          | 0/8 [00:00<?, ?it/s]",
      "application/vnd.jupyter.widget-view+json": {
       "version_major": 2,
       "version_minor": 0,
       "model_id": "38fa97a35463467981e235cd9b43fbaf"
      }
     },
     "metadata": {},
     "output_type": "display_data"
    },
    {
     "name": "stdout",
     "output_type": "stream",
     "text": [
      "Processing CT108\n",
      "Processing CT107\n",
      "Processing CT101\n",
      "Processing CT110\n",
      "Processing CT109\n",
      "Processing CT102\n",
      "Processing CT104\n",
      "Processing CT103\n"
     ]
    }
   ],
   "source": [
    "import time\n",
    "from soundscapy.analysis.parallel_processing import parallel_process\n",
    "\n",
    "# Redefine path etc. just for the example\n",
    "wav_folder = Path().cwd().parent.parent.joinpath(\"test\", \"data\")\n",
    "levels = wav_folder.joinpath(\"Levels.json\")\n",
    "with open(levels) as f:\n",
    "    levels = json.load(f)\n",
    "df = prep_multiindex_df(levels, incl_metric=False)\n",
    "\n",
    "analysis_settings = AnalysisSettings.default()\n",
    "analysis_settings['scikit-maad']['all_temporal_alpha_indices']['run'] = True\n",
    "analysis_settings['scikit-maad']['all_spectral_alpha_indices']['run'] = True\n",
    "# analysis_settings[\"MoSQITo\"][\"sharpness_din_from_loudness\"][\"run\"] = False\n",
    "# analysis_settings[\"MoSQITo\"][\"sharpness_din_perseg\"][\"run\"] = False\n",
    "# analysis_settings[\"MoSQITo\"][\"roughness_dw\"][\"run\"] = False\n",
    "\n",
    "start = time.perf_counter() # Start timer\n",
    "\n",
    "df = parallel_process(\n",
    "    wav_folder.glob(\"*.wav\"), df, levels, analysis_settings, verbose=False\n",
    ")\n",
    "\n",
    "stop = time.perf_counter()"
   ]
  },
  {
   "cell_type": "code",
   "execution_count": 26,
   "id": "040b8d28",
   "metadata": {
    "ExecuteTime": {
     "end_time": "2023-08-12T20:35:16.650071Z",
     "start_time": "2023-08-12T20:35:16.639894Z"
    }
   },
   "outputs": [
    {
     "name": "stdout",
     "output_type": "stream",
     "text": [
      "Previous run time (16 core AMD Ryzen 7 4800HS, Windows 11): 681.61 seconds (11.36 minutes)\n",
      "Run on M2 Max:\n",
      "Time taken: 186.33 seconds ( 3.11 minutes)\n"
     ]
    },
    {
     "data": {
      "text/plain": "                        LAeq     LAeq_5    LAeq_10    LAeq_50    LAeq_90  \\\nRecording Channel                                                          \nCT101     Left     68.875703  72.257301  71.154342  68.113339  63.375091   \n          Right    69.953333  73.623236  72.578152  68.495399  64.533057   \nCT102     Left     70.613447  74.541317  73.322597  69.297264  65.074481   \n          Right    70.491840  75.681356  73.055797  69.131814  64.975452   \nCT103     Left     66.330006  69.010487  68.241612  65.579475  63.680847   \n...                      ...        ...        ...        ...        ...   \nSM518     Right          NaN        NaN        NaN        NaN        NaN   \nSM519     Left           NaN        NaN        NaN        NaN        NaN   \n          Right          NaN        NaN        NaN        NaN        NaN   \nSM520     Left           NaN        NaN        NaN        NaN        NaN   \n          Right          NaN        NaN        NaN        NaN        NaN   \n\n                     LAeq_95   LAeq_min   LAeq_max  LAeq_kurt  LAeq_skew  ...  \\\nRecording Channel                                                         ...   \nCT101     Left     62.366533  60.560166  77.382651   0.272011  -0.013877  ...   \n          Right    63.097659  60.520566  78.708783   0.473515   0.140450  ...   \nCT102     Left     64.561974  63.337182  78.922344   0.270694   0.530142  ...   \n          Right    64.209771  63.114758  81.634943   0.648596   0.601576  ...   \nCT103     Left     63.194765  62.103353  74.234566   2.236365   1.127518  ...   \n...                      ...        ...        ...        ...        ...  ...   \nSM518     Right          NaN        NaN        NaN        NaN        NaN  ...   \nSM519     Left           NaN        NaN        NaN        NaN        NaN  ...   \n          Right          NaN        NaN        NaN        NaN        NaN  ...   \nSM520     Left           NaN        NaN        NaN        NaN        NaN  ...   \n          Right          NaN        NaN        NaN        NaN        NaN  ...   \n\n                       TFSD  H_Havrda   H_Renyi  H_pairedShannon      H_gamma  \\\nRecording Channel                                                               \nCT101     Left     0.596465  0.306220  1.254553         2.981413  1004.342457   \n          Right    0.596308  0.306565  1.260965         3.032816  1054.904505   \nCT102     Left     0.601337  0.315584  1.466408         3.338958  1570.553167   \n          Right    0.594765  0.314666  1.441181         3.266859  1171.085166   \nCT103     Left     0.591105  0.309768  1.324691         3.109321  1062.343059   \n...                     ...       ...       ...              ...          ...   \nSM518     Right         NaN       NaN       NaN              NaN          NaN   \nSM519     Left          NaN       NaN       NaN              NaN          NaN   \n          Right         NaN       NaN       NaN              NaN          NaN   \nSM520     Left          NaN       NaN       NaN              NaN          NaN   \n          Right         NaN       NaN       NaN              NaN          NaN   \n\n                   H_GiniSimpson      RAOQ       AGI  ROItotal  ROIcover  \nRecording Channel                                                         \nCT101     Left          0.767638  0.012133  1.502837      38.0  1.794776  \n          Right         0.771196  0.014212  1.505844      23.0  0.940919  \nCT102     Left          0.817882  0.018555  1.649930       2.0  3.491107  \n          Right         0.813338  0.012127  1.497617      50.0  2.569614  \nCT103     Left          0.785795  0.013687  1.484989     117.0  3.370993  \n...                          ...       ...       ...       ...       ...  \nSM518     Right              NaN       NaN       NaN       NaN       NaN  \nSM519     Left               NaN       NaN       NaN       NaN       NaN  \n          Right              NaN       NaN       NaN       NaN       NaN  \nSM520     Left               NaN       NaN       NaN       NaN       NaN  \n          Right              NaN       NaN       NaN       NaN       NaN  \n\n[2904 rows x 131 columns]",
      "text/html": "<div>\n<style scoped>\n    .dataframe tbody tr th:only-of-type {\n        vertical-align: middle;\n    }\n\n    .dataframe tbody tr th {\n        vertical-align: top;\n    }\n\n    .dataframe thead th {\n        text-align: right;\n    }\n</style>\n<table border=\"1\" class=\"dataframe\">\n  <thead>\n    <tr style=\"text-align: right;\">\n      <th></th>\n      <th></th>\n      <th>LAeq</th>\n      <th>LAeq_5</th>\n      <th>LAeq_10</th>\n      <th>LAeq_50</th>\n      <th>LAeq_90</th>\n      <th>LAeq_95</th>\n      <th>LAeq_min</th>\n      <th>LAeq_max</th>\n      <th>LAeq_kurt</th>\n      <th>LAeq_skew</th>\n      <th>...</th>\n      <th>TFSD</th>\n      <th>H_Havrda</th>\n      <th>H_Renyi</th>\n      <th>H_pairedShannon</th>\n      <th>H_gamma</th>\n      <th>H_GiniSimpson</th>\n      <th>RAOQ</th>\n      <th>AGI</th>\n      <th>ROItotal</th>\n      <th>ROIcover</th>\n    </tr>\n    <tr>\n      <th>Recording</th>\n      <th>Channel</th>\n      <th></th>\n      <th></th>\n      <th></th>\n      <th></th>\n      <th></th>\n      <th></th>\n      <th></th>\n      <th></th>\n      <th></th>\n      <th></th>\n      <th></th>\n      <th></th>\n      <th></th>\n      <th></th>\n      <th></th>\n      <th></th>\n      <th></th>\n      <th></th>\n      <th></th>\n      <th></th>\n      <th></th>\n    </tr>\n  </thead>\n  <tbody>\n    <tr>\n      <th rowspan=\"2\" valign=\"top\">CT101</th>\n      <th>Left</th>\n      <td>68.875703</td>\n      <td>72.257301</td>\n      <td>71.154342</td>\n      <td>68.113339</td>\n      <td>63.375091</td>\n      <td>62.366533</td>\n      <td>60.560166</td>\n      <td>77.382651</td>\n      <td>0.272011</td>\n      <td>-0.013877</td>\n      <td>...</td>\n      <td>0.596465</td>\n      <td>0.306220</td>\n      <td>1.254553</td>\n      <td>2.981413</td>\n      <td>1004.342457</td>\n      <td>0.767638</td>\n      <td>0.012133</td>\n      <td>1.502837</td>\n      <td>38.0</td>\n      <td>1.794776</td>\n    </tr>\n    <tr>\n      <th>Right</th>\n      <td>69.953333</td>\n      <td>73.623236</td>\n      <td>72.578152</td>\n      <td>68.495399</td>\n      <td>64.533057</td>\n      <td>63.097659</td>\n      <td>60.520566</td>\n      <td>78.708783</td>\n      <td>0.473515</td>\n      <td>0.140450</td>\n      <td>...</td>\n      <td>0.596308</td>\n      <td>0.306565</td>\n      <td>1.260965</td>\n      <td>3.032816</td>\n      <td>1054.904505</td>\n      <td>0.771196</td>\n      <td>0.014212</td>\n      <td>1.505844</td>\n      <td>23.0</td>\n      <td>0.940919</td>\n    </tr>\n    <tr>\n      <th rowspan=\"2\" valign=\"top\">CT102</th>\n      <th>Left</th>\n      <td>70.613447</td>\n      <td>74.541317</td>\n      <td>73.322597</td>\n      <td>69.297264</td>\n      <td>65.074481</td>\n      <td>64.561974</td>\n      <td>63.337182</td>\n      <td>78.922344</td>\n      <td>0.270694</td>\n      <td>0.530142</td>\n      <td>...</td>\n      <td>0.601337</td>\n      <td>0.315584</td>\n      <td>1.466408</td>\n      <td>3.338958</td>\n      <td>1570.553167</td>\n      <td>0.817882</td>\n      <td>0.018555</td>\n      <td>1.649930</td>\n      <td>2.0</td>\n      <td>3.491107</td>\n    </tr>\n    <tr>\n      <th>Right</th>\n      <td>70.491840</td>\n      <td>75.681356</td>\n      <td>73.055797</td>\n      <td>69.131814</td>\n      <td>64.975452</td>\n      <td>64.209771</td>\n      <td>63.114758</td>\n      <td>81.634943</td>\n      <td>0.648596</td>\n      <td>0.601576</td>\n      <td>...</td>\n      <td>0.594765</td>\n      <td>0.314666</td>\n      <td>1.441181</td>\n      <td>3.266859</td>\n      <td>1171.085166</td>\n      <td>0.813338</td>\n      <td>0.012127</td>\n      <td>1.497617</td>\n      <td>50.0</td>\n      <td>2.569614</td>\n    </tr>\n    <tr>\n      <th>CT103</th>\n      <th>Left</th>\n      <td>66.330006</td>\n      <td>69.010487</td>\n      <td>68.241612</td>\n      <td>65.579475</td>\n      <td>63.680847</td>\n      <td>63.194765</td>\n      <td>62.103353</td>\n      <td>74.234566</td>\n      <td>2.236365</td>\n      <td>1.127518</td>\n      <td>...</td>\n      <td>0.591105</td>\n      <td>0.309768</td>\n      <td>1.324691</td>\n      <td>3.109321</td>\n      <td>1062.343059</td>\n      <td>0.785795</td>\n      <td>0.013687</td>\n      <td>1.484989</td>\n      <td>117.0</td>\n      <td>3.370993</td>\n    </tr>\n    <tr>\n      <th>...</th>\n      <th>...</th>\n      <td>...</td>\n      <td>...</td>\n      <td>...</td>\n      <td>...</td>\n      <td>...</td>\n      <td>...</td>\n      <td>...</td>\n      <td>...</td>\n      <td>...</td>\n      <td>...</td>\n      <td>...</td>\n      <td>...</td>\n      <td>...</td>\n      <td>...</td>\n      <td>...</td>\n      <td>...</td>\n      <td>...</td>\n      <td>...</td>\n      <td>...</td>\n      <td>...</td>\n      <td>...</td>\n    </tr>\n    <tr>\n      <th>SM518</th>\n      <th>Right</th>\n      <td>NaN</td>\n      <td>NaN</td>\n      <td>NaN</td>\n      <td>NaN</td>\n      <td>NaN</td>\n      <td>NaN</td>\n      <td>NaN</td>\n      <td>NaN</td>\n      <td>NaN</td>\n      <td>NaN</td>\n      <td>...</td>\n      <td>NaN</td>\n      <td>NaN</td>\n      <td>NaN</td>\n      <td>NaN</td>\n      <td>NaN</td>\n      <td>NaN</td>\n      <td>NaN</td>\n      <td>NaN</td>\n      <td>NaN</td>\n      <td>NaN</td>\n    </tr>\n    <tr>\n      <th rowspan=\"2\" valign=\"top\">SM519</th>\n      <th>Left</th>\n      <td>NaN</td>\n      <td>NaN</td>\n      <td>NaN</td>\n      <td>NaN</td>\n      <td>NaN</td>\n      <td>NaN</td>\n      <td>NaN</td>\n      <td>NaN</td>\n      <td>NaN</td>\n      <td>NaN</td>\n      <td>...</td>\n      <td>NaN</td>\n      <td>NaN</td>\n      <td>NaN</td>\n      <td>NaN</td>\n      <td>NaN</td>\n      <td>NaN</td>\n      <td>NaN</td>\n      <td>NaN</td>\n      <td>NaN</td>\n      <td>NaN</td>\n    </tr>\n    <tr>\n      <th>Right</th>\n      <td>NaN</td>\n      <td>NaN</td>\n      <td>NaN</td>\n      <td>NaN</td>\n      <td>NaN</td>\n      <td>NaN</td>\n      <td>NaN</td>\n      <td>NaN</td>\n      <td>NaN</td>\n      <td>NaN</td>\n      <td>...</td>\n      <td>NaN</td>\n      <td>NaN</td>\n      <td>NaN</td>\n      <td>NaN</td>\n      <td>NaN</td>\n      <td>NaN</td>\n      <td>NaN</td>\n      <td>NaN</td>\n      <td>NaN</td>\n      <td>NaN</td>\n    </tr>\n    <tr>\n      <th rowspan=\"2\" valign=\"top\">SM520</th>\n      <th>Left</th>\n      <td>NaN</td>\n      <td>NaN</td>\n      <td>NaN</td>\n      <td>NaN</td>\n      <td>NaN</td>\n      <td>NaN</td>\n      <td>NaN</td>\n      <td>NaN</td>\n      <td>NaN</td>\n      <td>NaN</td>\n      <td>...</td>\n      <td>NaN</td>\n      <td>NaN</td>\n      <td>NaN</td>\n      <td>NaN</td>\n      <td>NaN</td>\n      <td>NaN</td>\n      <td>NaN</td>\n      <td>NaN</td>\n      <td>NaN</td>\n      <td>NaN</td>\n    </tr>\n    <tr>\n      <th>Right</th>\n      <td>NaN</td>\n      <td>NaN</td>\n      <td>NaN</td>\n      <td>NaN</td>\n      <td>NaN</td>\n      <td>NaN</td>\n      <td>NaN</td>\n      <td>NaN</td>\n      <td>NaN</td>\n      <td>NaN</td>\n      <td>...</td>\n      <td>NaN</td>\n      <td>NaN</td>\n      <td>NaN</td>\n      <td>NaN</td>\n      <td>NaN</td>\n      <td>NaN</td>\n      <td>NaN</td>\n      <td>NaN</td>\n      <td>NaN</td>\n      <td>NaN</td>\n    </tr>\n  </tbody>\n</table>\n<p>2904 rows × 131 columns</p>\n</div>"
     },
     "execution_count": 26,
     "metadata": {},
     "output_type": "execute_result"
    }
   ],
   "source": [
    "print(\"Previous run time (16 core AMD Ryzen 7 4800HS, Windows 11): 681.61 seconds (11.36 minutes)\")\n",
    "\n",
    "print(\"Run on M2 Max:\")\n",
    "print(f\"Time taken: {stop-start:.2f} seconds ({(stop-start)/60: .2f} minutes)\")\n",
    "df"
   ]
  },
  {
   "cell_type": "markdown",
   "id": "08293ca5",
   "metadata": {
    "cell_marker": "\"\"\""
   },
   "source": [
    "That's three times as fast! \n",
    "\n",
    "Then save it if you want to."
   ]
  },
  {
   "cell_type": "code",
   "execution_count": 26,
   "id": "e5001a1b",
   "metadata": {},
   "outputs": [],
   "source": [
    "# from datetime import datetime\n",
    "# df.to_excel(wav_folder.joinpath(\"test\", f\"ParallelTest_{datetime.today().strftime('%Y-%m-%d')}.xlsx\"))"
   ]
  },
  {
   "cell_type": "code",
   "execution_count": null,
   "id": "5dc136cb",
   "metadata": {
    "lines_to_next_cell": 3
   },
   "outputs": [],
   "source": []
  }
 ],
 "metadata": {
  "jupytext": {
   "cell_markers": "\"\"\""
  },
  "kernelspec": {
   "display_name": "soundscapy-dev-3.7-test",
   "language": "python",
   "name": "python3"
  },
  "language_info": {
   "codemirror_mode": {
    "name": "ipython",
    "version": 3
   },
   "file_extension": ".py",
   "mimetype": "text/x-python",
   "name": "python",
   "nbconvert_exporter": "python",
   "pygments_lexer": "ipython3",
   "version": "3.10.8"
  },
  "vscode": {
   "interpreter": {
    "hash": "839cba8ae7f7082c5bcb3c590fd12f2b3a15a875e42d2935e5155aa711605eac"
   }
  }
 },
 "nbformat": 4,
 "nbformat_minor": 5
}
