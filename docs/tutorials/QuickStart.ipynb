{
 "cells": [
  {
   "cell_type": "markdown",
   "id": "0d91b52d",
   "metadata": {
    "cell_marker": "\"\"\""
   },
   "source": [
    "# `Soundscapy` - Quick Start Guide\n",
    "\n",
    "By Andrew Mitchell, Lecturer, University College London\n",
    "\n",
    "## Background\n",
    "\n",
    "`Soundscapy` is a python toolbox for analysing quantitative soundscape data. Urban soundscapes are typically assessed through surveys which ask respondents how they perceive the given soundscape. Particularly when collected following the technical specification ISO 12913, these surveys can constitute quantitative data about the soundscape perception. As proposed in *How to analyse and represent quantitative soundscape data* [(Mitchell, Aletta, & Kang, 2022)](https://asa.scitation.org/doi/full/10.1121/10.0009794), in order to describe the soundscape perception of a group or of a location, we should consider the distribution of responses. `Soundscapy`'s approach to soundscape analysis follows this approach and makes it simple to process soundscape data and visualise the distribution of responses. \n",
    "\n",
    "For more information on the theory underlying the assessments and forms of data collection, please see ISO 12913-Part 2, *The SSID Protocol* [(Mitchell, *et al.*, 2020)](https://www.mdpi.com/2076-3417/10/7/2397), and *How to analyse and represent quantitative soundscape data*.\n",
    "\n",
    "## This Notebook\n",
    "\n",
    "The purpose of this notebook is to give a brief overview of how `Soundscapy` works and how to quickly get started using it to analyse your own soundscape data. The example dataset used is *The International Soundscape Database (ISD)* (Mitchell, *et al.*, 2021), which is publicly available at [Zenodo](https://zenodo.org/record/6331810) and is free to use. `Soundscapy` expects data to follow the format used in the ISD, but can be adapted for similar datasets.\n",
    "\n",
    "----------\n",
    "\n",
    "## Installation\n",
    "\n",
    "To install Soundscapy with `pip`:\n",
    "\n",
    "```\n",
    "pip install soundscapy\n",
    "```\n",
    "\n",
    "----"
   ]
  },
  {
   "cell_type": "markdown",
   "id": "92832595",
   "metadata": {
    "cell_marker": "\"\"\""
   },
   "source": [
    "## Working with Data\n",
    "\n",
    "### Loading and Validating Data\n",
    "\n",
    "Let's start by importing Soundscapy and loading the International Soundscape Database (ISD):\n"
   ]
  },
  {
   "cell_type": "code",
   "execution_count": 16,
   "id": "a0d9c4c8cf1418b9",
   "metadata": {
    "ExecuteTime": {
     "end_time": "2024-10-29T15:19:07.389308Z",
     "start_time": "2024-10-29T15:19:06.497909Z"
    }
   },
   "outputs": [],
   "source": [
    "from soundscapy import setup_logging\n",
    "\n",
    "setup_logging(\"WARNING\")"
   ]
  },
  {
   "cell_type": "code",
   "execution_count": 17,
   "id": "a65cc16e",
   "metadata": {
    "ExecuteTime": {
     "end_time": "2024-10-29T15:19:07.593397Z",
     "start_time": "2024-10-29T15:19:07.390316Z"
    },
    "execution": {
     "iopub.execute_input": "2023-08-13T15:59:04.324365Z",
     "iopub.status.busy": "2023-08-13T15:59:04.324077Z",
     "iopub.status.idle": "2023-08-13T15:59:06.994240Z",
     "shell.execute_reply": "2023-08-13T15:59:06.993941Z"
    }
   },
   "outputs": [
    {
     "name": "stdout",
     "output_type": "stream",
     "text": [
      "(3589, 142)\n",
      "Valid samples: 3533, Excluded samples: 56\n"
     ]
    }
   ],
   "source": [
    "# Import Soundscapy\n",
    "import soundscapy as sspy\n",
    "from soundscapy.databases import isd\n",
    "\n",
    "# Load the ISD dataset\n",
    "df = isd.load()\n",
    "print(df.shape)\n",
    "\n",
    "# Validate the dataset with ISD-custom checks\n",
    "df, excl = isd.validate(df)\n",
    "print(f\"Valid samples: {df.shape[0]}, Excluded samples: {excl.shape[0]}\")"
   ]
  },
  {
   "cell_type": "markdown",
   "id": "3d157d8a",
   "metadata": {
    "cell_marker": "\"\"\""
   },
   "source": [
    "### Calculating ISOPleasant and ISOEventful Coordinates\n",
    "\n",
    "Next, we'll calculate the ISOCoordinate values:"
   ]
  },
  {
   "cell_type": "code",
   "execution_count": 18,
   "id": "17603e7755662d00",
   "metadata": {
    "ExecuteTime": {
     "end_time": "2024-10-29T15:19:07.748341Z",
     "start_time": "2024-10-29T15:19:07.593987Z"
    }
   },
   "outputs": [
    {
     "data": {
      "application/vnd.microsoft.datawrangler.viewer.v0+json": {
       "columns": [
        {
         "name": "index",
         "rawType": "int64",
         "type": "integer"
        },
        {
         "name": "ISOPleasant",
         "rawType": "float64",
         "type": "float"
        },
        {
         "name": "ISOEventful",
         "rawType": "float64",
         "type": "float"
        }
       ],
       "conversionMethod": "pd.DataFrame",
       "ref": "48fc8ce4-0af3-47f1-9805-ef9e9d10915a",
       "rows": [
        [
         "0",
         "0.21966991411008926",
         "-0.13388347648318447"
        ],
        [
         "1",
         "-0.42677669529663703",
         "0.5303300858899107"
        ],
        [
         "2",
         "0.6767766952966369",
         "-0.07322330470336316"
        ],
        [
         "3",
         "0.6035533905932737",
         "-0.14644660940672632"
        ],
        [
         "4",
         "0.45710678118654746",
         "-0.14644660940672624"
        ]
       ],
       "shape": {
        "columns": 2,
        "rows": 5
       }
      },
      "text/html": [
       "<div>\n",
       "<style scoped>\n",
       "    .dataframe tbody tr th:only-of-type {\n",
       "        vertical-align: middle;\n",
       "    }\n",
       "\n",
       "    .dataframe tbody tr th {\n",
       "        vertical-align: top;\n",
       "    }\n",
       "\n",
       "    .dataframe thead th {\n",
       "        text-align: right;\n",
       "    }\n",
       "</style>\n",
       "<table border=\"1\" class=\"dataframe\">\n",
       "  <thead>\n",
       "    <tr style=\"text-align: right;\">\n",
       "      <th></th>\n",
       "      <th>ISOPleasant</th>\n",
       "      <th>ISOEventful</th>\n",
       "    </tr>\n",
       "  </thead>\n",
       "  <tbody>\n",
       "    <tr>\n",
       "      <th>0</th>\n",
       "      <td>0.219670</td>\n",
       "      <td>-0.133883</td>\n",
       "    </tr>\n",
       "    <tr>\n",
       "      <th>1</th>\n",
       "      <td>-0.426777</td>\n",
       "      <td>0.530330</td>\n",
       "    </tr>\n",
       "    <tr>\n",
       "      <th>2</th>\n",
       "      <td>0.676777</td>\n",
       "      <td>-0.073223</td>\n",
       "    </tr>\n",
       "    <tr>\n",
       "      <th>3</th>\n",
       "      <td>0.603553</td>\n",
       "      <td>-0.146447</td>\n",
       "    </tr>\n",
       "    <tr>\n",
       "      <th>4</th>\n",
       "      <td>0.457107</td>\n",
       "      <td>-0.146447</td>\n",
       "    </tr>\n",
       "  </tbody>\n",
       "</table>\n",
       "</div>"
      ],
      "text/plain": [
       "   ISOPleasant  ISOEventful\n",
       "0     0.219670    -0.133883\n",
       "1    -0.426777     0.530330\n",
       "2     0.676777    -0.073223\n",
       "3     0.603553    -0.146447\n",
       "4     0.457107    -0.146447"
      ]
     },
     "execution_count": 18,
     "metadata": {},
     "output_type": "execute_result"
    }
   ],
   "source": [
    "df = sspy.surveys.add_iso_coords(df)\n",
    "df[[\"ISOPleasant\", \"ISOEventful\"]].head()"
   ]
  },
  {
   "cell_type": "markdown",
   "id": "9ca3ce87",
   "metadata": {
    "cell_marker": "\"\"\""
   },
   "source": [
    "`Soundscapy` expects the PAQ values to be Likert scale values ranging from 1 to 5 by default, as specified in ISO 12913 and the SSID Protocol. However, it is possible to use data which, although structured the same way, has a different range of values. For instance this could be a 7-point Likert scale, or a 0 to 100 scale. By passing these numbers both to `validate_dataset()` and `add_paq_coords()` as the `val_range`, `Soundscapy` will check that the data conforms to what is expected and will automatically scale the ISOCoordinates from -1 to +1 depending on the original value range. \n",
    "\n",
    "For example:"
   ]
  },
  {
   "cell_type": "code",
   "execution_count": 19,
   "id": "0392e984",
   "metadata": {
    "ExecuteTime": {
     "end_time": "2024-10-29T15:19:07.754960Z",
     "start_time": "2024-10-29T15:19:07.749472Z"
    },
    "execution": {
     "iopub.execute_input": "2023-08-13T15:59:07.229603Z",
     "iopub.status.busy": "2023-08-13T15:59:07.229511Z",
     "iopub.status.idle": "2023-08-13T15:59:07.243861Z",
     "shell.execute_reply": "2023-08-13T15:59:07.243597Z"
    }
   },
   "outputs": [
    {
     "data": {
      "application/vnd.microsoft.datawrangler.viewer.v0+json": {
       "columns": [
        {
         "name": "index",
         "rawType": "int64",
         "type": "integer"
        },
        {
         "name": "RecordID",
         "rawType": "object",
         "type": "string"
        },
        {
         "name": "PAQ1",
         "rawType": "int64",
         "type": "integer"
        },
        {
         "name": "PAQ2",
         "rawType": "int64",
         "type": "integer"
        },
        {
         "name": "PAQ3",
         "rawType": "int64",
         "type": "integer"
        },
        {
         "name": "PAQ4",
         "rawType": "int64",
         "type": "integer"
        },
        {
         "name": "PAQ5",
         "rawType": "int64",
         "type": "integer"
        },
        {
         "name": "PAQ6",
         "rawType": "int64",
         "type": "integer"
        },
        {
         "name": "PAQ7",
         "rawType": "int64",
         "type": "integer"
        },
        {
         "name": "PAQ8",
         "rawType": "int64",
         "type": "integer"
        },
        {
         "name": "ISOPleasant",
         "rawType": "float64",
         "type": "float"
        },
        {
         "name": "ISOEventful",
         "rawType": "float64",
         "type": "float"
        }
       ],
       "conversionMethod": "pd.DataFrame",
       "ref": "00e788af-9bfc-46a5-ac94-fc4e689ba5b3",
       "rows": [
        [
         "0",
         "EX1",
         "40",
         "45",
         "41",
         "24",
         "8",
         "31",
         "37",
         "40",
         "0.22041630560342612",
         "0.010710678118654705"
        ],
        [
         "1",
         "EX2",
         "25",
         "31",
         "54",
         "56",
         "52",
         "55",
         "31",
         "10",
         "-0.3168629150101524",
         "0.15970562748477152"
        ]
       ],
       "shape": {
        "columns": 11,
        "rows": 2
       }
      },
      "text/html": [
       "<div>\n",
       "<style scoped>\n",
       "    .dataframe tbody tr th:only-of-type {\n",
       "        vertical-align: middle;\n",
       "    }\n",
       "\n",
       "    .dataframe tbody tr th {\n",
       "        vertical-align: top;\n",
       "    }\n",
       "\n",
       "    .dataframe thead th {\n",
       "        text-align: right;\n",
       "    }\n",
       "</style>\n",
       "<table border=\"1\" class=\"dataframe\">\n",
       "  <thead>\n",
       "    <tr style=\"text-align: right;\">\n",
       "      <th></th>\n",
       "      <th>RecordID</th>\n",
       "      <th>PAQ1</th>\n",
       "      <th>PAQ2</th>\n",
       "      <th>PAQ3</th>\n",
       "      <th>PAQ4</th>\n",
       "      <th>PAQ5</th>\n",
       "      <th>PAQ6</th>\n",
       "      <th>PAQ7</th>\n",
       "      <th>PAQ8</th>\n",
       "      <th>ISOPleasant</th>\n",
       "      <th>ISOEventful</th>\n",
       "    </tr>\n",
       "  </thead>\n",
       "  <tbody>\n",
       "    <tr>\n",
       "      <th>0</th>\n",
       "      <td>EX1</td>\n",
       "      <td>40</td>\n",
       "      <td>45</td>\n",
       "      <td>41</td>\n",
       "      <td>24</td>\n",
       "      <td>8</td>\n",
       "      <td>31</td>\n",
       "      <td>37</td>\n",
       "      <td>40</td>\n",
       "      <td>0.220416</td>\n",
       "      <td>0.010711</td>\n",
       "    </tr>\n",
       "    <tr>\n",
       "      <th>1</th>\n",
       "      <td>EX2</td>\n",
       "      <td>25</td>\n",
       "      <td>31</td>\n",
       "      <td>54</td>\n",
       "      <td>56</td>\n",
       "      <td>52</td>\n",
       "      <td>55</td>\n",
       "      <td>31</td>\n",
       "      <td>10</td>\n",
       "      <td>-0.316863</td>\n",
       "      <td>0.159706</td>\n",
       "    </tr>\n",
       "  </tbody>\n",
       "</table>\n",
       "</div>"
      ],
      "text/plain": [
       "  RecordID  PAQ1  PAQ2  PAQ3  PAQ4  PAQ5  PAQ6  PAQ7  PAQ8  ISOPleasant  \\\n",
       "0      EX1    40    45    41    24     8    31    37    40     0.220416   \n",
       "1      EX2    25    31    54    56    52    55    31    10    -0.316863   \n",
       "\n",
       "   ISOEventful  \n",
       "0     0.010711  \n",
       "1     0.159706  "
      ]
     },
     "execution_count": 19,
     "metadata": {},
     "output_type": "execute_result"
    }
   ],
   "source": [
    "import pandas as pd\n",
    "\n",
    "val_range = (0, 100)\n",
    "sample_transform = {\n",
    "    \"RecordID\": [\"EX1\", \"EX2\"],\n",
    "    \"pleasant\": [40, 25],\n",
    "    \"vibrant\": [45, 31],\n",
    "    \"eventful\": [41, 54],\n",
    "    \"chaotic\": [24, 56],\n",
    "    \"annoying\": [8, 52],\n",
    "    \"monotonous\": [31, 55],\n",
    "    \"uneventful\": [37, 31],\n",
    "    \"calm\": [40, 10],\n",
    "}\n",
    "sample_transform = pd.DataFrame().from_dict(sample_transform)\n",
    "sample_transform = sspy.surveys.rename_paqs(sample_transform)\n",
    "sample_transform = sspy.surveys.add_iso_coords(sample_transform, val_range=val_range)\n",
    "sample_transform"
   ]
  },
  {
   "cell_type": "markdown",
   "id": "5f36fe38",
   "metadata": {
    "cell_marker": "\"\"\""
   },
   "source": [
    "### Filtering Data\n",
    "\n",
    "`Soundscapy` includes methods for several filters that are normally needed within the ISD, such as filtering by `LocationID` or `SessionID`."
   ]
  },
  {
   "cell_type": "code",
   "execution_count": 20,
   "id": "49b8abfc",
   "metadata": {
    "ExecuteTime": {
     "end_time": "2024-10-29T15:19:07.774800Z",
     "start_time": "2024-10-29T15:19:07.755470Z"
    },
    "execution": {
     "iopub.execute_input": "2023-08-13T15:59:07.264726Z",
     "iopub.status.busy": "2023-08-13T15:59:07.264642Z",
     "iopub.status.idle": "2023-08-13T15:59:07.285762Z",
     "shell.execute_reply": "2023-08-13T15:59:07.285519Z"
    }
   },
   "outputs": [
    {
     "name": "stdout",
     "output_type": "stream",
     "text": [
      "Camden Town samples: 105\n",
      "Regent's Park Japan session 1 samples: 45\n",
      "Women over 50: 133\n"
     ]
    }
   ],
   "source": [
    "# Filter by location\n",
    "camden_data = isd.select_location_ids(df, [\"CamdenTown\"])\n",
    "print(f\"Camden Town samples: {camden_data.shape[0]}\")\n",
    "\n",
    "# Filter by session\n",
    "regent_data = isd.select_session_ids(df, [\"RegentsParkJapan1\"])\n",
    "print(f\"Regent's Park Japan session 1 samples: {regent_data.shape[0]}\")\n",
    "\n",
    "# Complex filtering using pandas query\n",
    "women_over_50 = df.query(\"gen00 == 'Female' and age00 > 50\")\n",
    "print(f\"Women over 50: {women_over_50.shape[0]}\")"
   ]
  },
  {
   "cell_type": "markdown",
   "id": "73ae7ed6",
   "metadata": {
    "cell_marker": "\"\"\""
   },
   "source": [
    "All of these filters can also be chained together. So, for instance, to return surveys from women over 50 taken in Camden Town, we would do:"
   ]
  },
  {
   "cell_type": "code",
   "execution_count": 21,
   "id": "06b51f92",
   "metadata": {
    "ExecuteTime": {
     "end_time": "2024-10-29T15:19:07.792876Z",
     "start_time": "2024-10-29T15:19:07.775401Z"
    },
    "execution": {
     "iopub.execute_input": "2023-08-13T15:59:07.352987Z",
     "iopub.status.busy": "2023-08-13T15:59:07.352919Z",
     "iopub.status.idle": "2023-08-13T15:59:07.374112Z",
     "shell.execute_reply": "2023-08-13T15:59:07.373866Z"
    }
   },
   "outputs": [
    {
     "data": {
      "application/vnd.microsoft.datawrangler.viewer.v0+json": {
       "columns": [
        {
         "name": "index",
         "rawType": "int64",
         "type": "integer"
        },
        {
         "name": "LocationID",
         "rawType": "object",
         "type": "string"
        },
        {
         "name": "SessionID",
         "rawType": "object",
         "type": "string"
        },
        {
         "name": "GroupID",
         "rawType": "object",
         "type": "string"
        },
        {
         "name": "RecordID",
         "rawType": "object",
         "type": "string"
        },
        {
         "name": "start_time",
         "rawType": "object",
         "type": "string"
        },
        {
         "name": "end_time",
         "rawType": "object",
         "type": "string"
        },
        {
         "name": "latitude",
         "rawType": "float64",
         "type": "float"
        },
        {
         "name": "longitude",
         "rawType": "float64",
         "type": "float"
        },
        {
         "name": "Language",
         "rawType": "object",
         "type": "string"
        },
        {
         "name": "Survey_Version",
         "rawType": "object",
         "type": "string"
        },
        {
         "name": "ssi01",
         "rawType": "float64",
         "type": "float"
        },
        {
         "name": "ssi02",
         "rawType": "float64",
         "type": "float"
        },
        {
         "name": "ssi03",
         "rawType": "float64",
         "type": "float"
        },
        {
         "name": "ssi04",
         "rawType": "float64",
         "type": "float"
        },
        {
         "name": "PAQ1",
         "rawType": "float64",
         "type": "float"
        },
        {
         "name": "PAQ4",
         "rawType": "float64",
         "type": "float"
        },
        {
         "name": "PAQ2",
         "rawType": "float64",
         "type": "float"
        },
        {
         "name": "PAQ7",
         "rawType": "float64",
         "type": "float"
        },
        {
         "name": "PAQ8",
         "rawType": "float64",
         "type": "float"
        },
        {
         "name": "PAQ5",
         "rawType": "float64",
         "type": "float"
        },
        {
         "name": "PAQ3",
         "rawType": "float64",
         "type": "float"
        },
        {
         "name": "PAQ6",
         "rawType": "float64",
         "type": "float"
        },
        {
         "name": "sss01",
         "rawType": "float64",
         "type": "float"
        },
        {
         "name": "sss02",
         "rawType": "float64",
         "type": "float"
        },
        {
         "name": "sss03",
         "rawType": "float64",
         "type": "float"
        },
        {
         "name": "sss04",
         "rawType": "float64",
         "type": "float"
        },
        {
         "name": "sss05",
         "rawType": "float64",
         "type": "float"
        },
        {
         "name": "who01",
         "rawType": "float64",
         "type": "float"
        },
        {
         "name": "who02",
         "rawType": "float64",
         "type": "float"
        },
        {
         "name": "who03",
         "rawType": "float64",
         "type": "float"
        },
        {
         "name": "who04",
         "rawType": "float64",
         "type": "float"
        },
        {
         "name": "who05",
         "rawType": "float64",
         "type": "float"
        },
        {
         "name": "WHO_Sum",
         "rawType": "float64",
         "type": "float"
        },
        {
         "name": "age00",
         "rawType": "float64",
         "type": "float"
        },
        {
         "name": "gen00",
         "rawType": "object",
         "type": "string"
        },
        {
         "name": "edu00",
         "rawType": "object",
         "type": "string"
        },
        {
         "name": "eth00",
         "rawType": "object",
         "type": "string"
        },
        {
         "name": "occ00",
         "rawType": "object",
         "type": "string"
        },
        {
         "name": "eth00_other",
         "rawType": "object",
         "type": "unknown"
        },
        {
         "name": "occ00_other",
         "rawType": "object",
         "type": "unknown"
        },
        {
         "name": "misc03",
         "rawType": "object",
         "type": "unknown"
        },
        {
         "name": "misc03_other",
         "rawType": "object",
         "type": "unknown"
        },
        {
         "name": "misc01",
         "rawType": "object",
         "type": "unknown"
        },
        {
         "name": "use00",
         "rawType": "object",
         "type": "string"
        },
        {
         "name": "uni00",
         "rawType": "object",
         "type": "string"
        },
        {
         "name": "RecordingLength",
         "rawType": "float64",
         "type": "float"
        },
        {
         "name": "LZeq_L_Max",
         "rawType": "float64",
         "type": "float"
        },
        {
         "name": "LZeq_Min_Max",
         "rawType": "float64",
         "type": "float"
        },
        {
         "name": "LZeq_Max_Max",
         "rawType": "float64",
         "type": "float"
        },
        {
         "name": "LZeq_L5_Max",
         "rawType": "float64",
         "type": "float"
        },
        {
         "name": "LZeq_L10_Max",
         "rawType": "float64",
         "type": "float"
        },
        {
         "name": "LZeq_L50_Max",
         "rawType": "float64",
         "type": "float"
        },
        {
         "name": "LZeq_L90_Max",
         "rawType": "float64",
         "type": "float"
        },
        {
         "name": "LZeq_L95_Max",
         "rawType": "float64",
         "type": "float"
        },
        {
         "name": "LCeq_L(C)_Max",
         "rawType": "float64",
         "type": "float"
        },
        {
         "name": "LCeq_Min(C)_Max",
         "rawType": "float64",
         "type": "float"
        },
        {
         "name": "LCeq_Max(C)_Max",
         "rawType": "float64",
         "type": "float"
        },
        {
         "name": "LCeq_L5(C)_Max",
         "rawType": "float64",
         "type": "float"
        },
        {
         "name": "LCeq_L10(C)_Max",
         "rawType": "float64",
         "type": "float"
        },
        {
         "name": "LCeq_L50(C)_Max",
         "rawType": "float64",
         "type": "float"
        },
        {
         "name": "LCeq_L90(C)_Max",
         "rawType": "float64",
         "type": "float"
        },
        {
         "name": "LCeq_L95(C)_Max",
         "rawType": "float64",
         "type": "float"
        },
        {
         "name": "LAeq_L(A)_Max",
         "rawType": "float64",
         "type": "float"
        },
        {
         "name": "LAeq_Min(A)_Max",
         "rawType": "float64",
         "type": "float"
        },
        {
         "name": "LAeq_Max(A)_Max",
         "rawType": "float64",
         "type": "float"
        },
        {
         "name": "LAeq_L5(A)_Max",
         "rawType": "float64",
         "type": "float"
        },
        {
         "name": "LAeq_L10(A)_Max",
         "rawType": "float64",
         "type": "float"
        },
        {
         "name": "LAeq_L50(A)_Max",
         "rawType": "float64",
         "type": "float"
        },
        {
         "name": "LAeq_L90(A)_Max",
         "rawType": "float64",
         "type": "float"
        },
        {
         "name": "LAeq_L95(A)_Max",
         "rawType": "float64",
         "type": "float"
        },
        {
         "name": "N_N5_Max",
         "rawType": "float64",
         "type": "float"
        },
        {
         "name": "N_Min_Max",
         "rawType": "float64",
         "type": "float"
        },
        {
         "name": "N_Max_Max",
         "rawType": "float64",
         "type": "float"
        },
        {
         "name": "N_N10_Max",
         "rawType": "float64",
         "type": "float"
        },
        {
         "name": "N_N50_Max",
         "rawType": "float64",
         "type": "float"
        },
        {
         "name": "N_N90_Max",
         "rawType": "float64",
         "type": "float"
        },
        {
         "name": "N_N95_Max",
         "rawType": "float64",
         "type": "float"
        },
        {
         "name": "S_S_Max",
         "rawType": "float64",
         "type": "float"
        },
        {
         "name": "S_Min_Max",
         "rawType": "float64",
         "type": "float"
        },
        {
         "name": "S_Max_Max",
         "rawType": "float64",
         "type": "float"
        },
        {
         "name": "S_S5_Max",
         "rawType": "float64",
         "type": "float"
        },
        {
         "name": "S_S10_Max",
         "rawType": "float64",
         "type": "float"
        },
        {
         "name": "S_S50_Max",
         "rawType": "float64",
         "type": "float"
        },
        {
         "name": "S_S90_Max",
         "rawType": "float64",
         "type": "float"
        },
        {
         "name": "S_S95_Max",
         "rawType": "float64",
         "type": "float"
        },
        {
         "name": "R_R_Max",
         "rawType": "float64",
         "type": "float"
        },
        {
         "name": "R_Min_Max",
         "rawType": "float64",
         "type": "float"
        },
        {
         "name": "R_Max_Max",
         "rawType": "float64",
         "type": "float"
        },
        {
         "name": "R_R5_Max",
         "rawType": "float64",
         "type": "float"
        },
        {
         "name": "R_R10_Max",
         "rawType": "float64",
         "type": "float"
        },
        {
         "name": "R_R50_Max",
         "rawType": "float64",
         "type": "float"
        },
        {
         "name": "R_R90_Max",
         "rawType": "float64",
         "type": "float"
        },
        {
         "name": "R_R95_Max",
         "rawType": "float64",
         "type": "float"
        },
        {
         "name": "T_TonalityHMS_Max",
         "rawType": "float64",
         "type": "float"
        },
        {
         "name": "T_Min_Max",
         "rawType": "float64",
         "type": "float"
        },
        {
         "name": "T_Max_Max",
         "rawType": "float64",
         "type": "float"
        },
        {
         "name": "T_T5_Max",
         "rawType": "float64",
         "type": "float"
        },
        {
         "name": "T_T10_Max",
         "rawType": "float64",
         "type": "float"
        },
        {
         "name": "T_T50_Max",
         "rawType": "float64",
         "type": "float"
        },
        {
         "name": "T_T90_Max",
         "rawType": "float64",
         "type": "float"
        },
        {
         "name": "T_T95_Max",
         "rawType": "float64",
         "type": "float"
        },
        {
         "name": "FS_F_Max",
         "rawType": "float64",
         "type": "float"
        },
        {
         "name": "FS_Min_Max",
         "rawType": "float64",
         "type": "float"
        },
        {
         "name": "FS_Max_Max",
         "rawType": "float64",
         "type": "float"
        },
        {
         "name": "FS_F5_Max",
         "rawType": "float64",
         "type": "float"
        },
        {
         "name": "FS_F10_Max",
         "rawType": "float64",
         "type": "float"
        },
        {
         "name": "FS_F50_Max",
         "rawType": "float64",
         "type": "float"
        },
        {
         "name": "FS_F90_Max",
         "rawType": "float64",
         "type": "float"
        },
        {
         "name": "FS_F95_Max",
         "rawType": "float64",
         "type": "float"
        },
        {
         "name": "I_I_Max",
         "rawType": "float64",
         "type": "float"
        },
        {
         "name": "I_Min_Max",
         "rawType": "float64",
         "type": "float"
        },
        {
         "name": "I_Max_Max",
         "rawType": "float64",
         "type": "float"
        },
        {
         "name": "I_I5_Max",
         "rawType": "float64",
         "type": "float"
        },
        {
         "name": "I_I10_Max",
         "rawType": "float64",
         "type": "float"
        },
        {
         "name": "I_I50_Max",
         "rawType": "float64",
         "type": "float"
        },
        {
         "name": "I_I90_Max",
         "rawType": "float64",
         "type": "float"
        },
        {
         "name": "I_I95_Max",
         "rawType": "float64",
         "type": "float"
        },
        {
         "name": "SIL4_SIL(rms)_Max",
         "rawType": "float64",
         "type": "float"
        },
        {
         "name": "SIL4_SIL(av)_Max",
         "rawType": "float64",
         "type": "float"
        },
        {
         "name": "SIL4_Min_Max",
         "rawType": "float64",
         "type": "float"
        },
        {
         "name": "SIL4_Max_Max",
         "rawType": "float64",
         "type": "float"
        },
        {
         "name": "SIL4_SIL5_Max",
         "rawType": "float64",
         "type": "float"
        },
        {
         "name": "SIL4_SIL10_Max",
         "rawType": "float64",
         "type": "float"
        },
        {
         "name": "SIL4_SIL50_Max",
         "rawType": "float64",
         "type": "float"
        },
        {
         "name": "SIL4_SIL90_Max",
         "rawType": "float64",
         "type": "float"
        },
        {
         "name": "SIL4_SIL95_Max",
         "rawType": "float64",
         "type": "float"
        },
        {
         "name": "RA_cp_Max",
         "rawType": "float64",
         "type": "float"
        },
        {
         "name": "RA_Min_Max",
         "rawType": "float64",
         "type": "float"
        },
        {
         "name": "RA_Max_Max",
         "rawType": "float64",
         "type": "float"
        },
        {
         "name": "RA_cp5_Max",
         "rawType": "float64",
         "type": "float"
        },
        {
         "name": "RA_cp10_Max",
         "rawType": "float64",
         "type": "float"
        },
        {
         "name": "RA_cp50_Max",
         "rawType": "float64",
         "type": "float"
        },
        {
         "name": "RA_cp90_Max",
         "rawType": "float64",
         "type": "float"
        },
        {
         "name": "RA_cp95_Max",
         "rawType": "float64",
         "type": "float"
        },
        {
         "name": "THD_THD_Max",
         "rawType": "float64",
         "type": "float"
        },
        {
         "name": "THD_Min_Max",
         "rawType": "float64",
         "type": "float"
        },
        {
         "name": "THD_Max_Max",
         "rawType": "float64",
         "type": "float"
        },
        {
         "name": "THD_L5_Max",
         "rawType": "float64",
         "type": "float"
        },
        {
         "name": "THD_L10_Max",
         "rawType": "float64",
         "type": "float"
        },
        {
         "name": "THD_L50_Max",
         "rawType": "float64",
         "type": "float"
        },
        {
         "name": "THD_L90_Max",
         "rawType": "float64",
         "type": "float"
        },
        {
         "name": "THD_L95_Max",
         "rawType": "float64",
         "type": "float"
        },
        {
         "name": "ISOPleasant",
         "rawType": "float64",
         "type": "float"
        },
        {
         "name": "ISOEventful",
         "rawType": "float64",
         "type": "float"
        }
       ],
       "conversionMethod": "pd.DataFrame",
       "ref": "8e3da2ee-0c72-4f69-b9c7-80e274d18512",
       "rows": [
        [
         "58",
         "CamdenTown",
         "CamdenTown1",
         "CT108",
         "531",
         "2019-05-02 12:10:52",
         "2019-05-02 12:26:45",
         "51.539124",
         "-0.142624",
         "eng",
         "engISO2018",
         "3.0",
         "2.0",
         "2.0",
         "1.0",
         "3.0",
         "3.0",
         "3.0",
         "3.0",
         "1.0",
         "3.0",
         "3.0",
         "3.0",
         "3.0",
         "3.0",
         "3.0",
         "1.0",
         "2.0",
         "4.0",
         "2.0",
         "4.0",
         "3.0",
         "4.0",
         "68.0",
         "63.0",
         "Female",
         "UniversityGraduate",
         "White",
         "Employed",
         null,
         null,
         null,
         null,
         null,
         "Leaving",
         "Alone",
         "27.26",
         "79.51",
         "71.28",
         "84.97",
         "83.15",
         "82.65",
         "78.72",
         "73.58",
         "73.03",
         "77.57",
         "69.69",
         "82.43",
         "81.2",
         "80.65",
         "77.17",
         "71.61",
         "71.05",
         "70.57",
         "63.19",
         "75.69",
         "74.41",
         "73.88",
         "69.65",
         "64.87",
         "64.37",
         "33.9",
         "0.0",
         "38.5",
         "32.3",
         "25.2",
         "17.6",
         "16.8",
         "2.22",
         "0.0",
         "2.96",
         "2.66",
         "2.53",
         "2.2",
         "1.88",
         "1.81",
         "0.0403",
         "0.0206",
         "0.16",
         "0.058",
         "0.0523",
         "0.0392",
         "0.0291",
         "0.0262",
         "0.176",
         "0.0",
         "2.23",
         "0.431",
         "0.335",
         "0.0948",
         "0.0224",
         "0.0148",
         "0.0142",
         "0.0042",
         "0.0453",
         "0.0386",
         "0.0323",
         "0.00945",
         "0.00467",
         "0.00439",
         "0.353",
         "0.236",
         "0.968",
         "0.501",
         "0.434",
         "0.336",
         "0.284",
         "0.272",
         "62.94",
         "61.61",
         "54.77",
         "68.72",
         "66.64",
         "65.95",
         "61.78",
         "56.51",
         "55.85",
         "10.2",
         "0.35",
         "49.9",
         "20.9",
         "16.6",
         "8.91",
         "4.91",
         "4.07",
         "-2.12",
         "-4.44",
         "72.28",
         "45.05",
         "37.19",
         "13.4",
         "-1.88",
         "-2.45",
         "-0.14644660940672627",
         "0.14644660940672632"
        ],
        [
         "63",
         "CamdenTown",
         "CamdenTown1",
         "CT111",
         "533",
         "2019-05-02 12:29:42",
         "2019-05-02 12:58:56",
         "51.539124",
         "-0.142624",
         "eng",
         "engISO2018",
         "4.0",
         "4.0",
         "3.0",
         "1.0",
         "1.0",
         "4.0",
         "4.0",
         "4.0",
         "5.0",
         "5.0",
         "1.0",
         "5.0",
         "2.0",
         "3.0",
         "3.0",
         "1.0",
         "3.0",
         "4.0",
         "4.0",
         "4.0",
         "4.0",
         "5.0",
         "84.0",
         "59.0",
         "Female",
         "SomeCollege",
         "White",
         "Employed",
         null,
         null,
         null,
         null,
         null,
         "Staying",
         "Couple",
         null,
         null,
         null,
         null,
         null,
         null,
         null,
         null,
         null,
         null,
         null,
         null,
         null,
         null,
         null,
         null,
         null,
         null,
         null,
         null,
         null,
         null,
         null,
         null,
         null,
         null,
         null,
         null,
         null,
         null,
         null,
         null,
         null,
         null,
         null,
         null,
         null,
         null,
         null,
         null,
         null,
         null,
         null,
         null,
         null,
         null,
         null,
         null,
         null,
         null,
         null,
         null,
         null,
         null,
         null,
         null,
         null,
         null,
         null,
         null,
         null,
         null,
         null,
         null,
         null,
         null,
         null,
         null,
         null,
         null,
         null,
         null,
         null,
         null,
         null,
         null,
         null,
         null,
         null,
         null,
         null,
         null,
         null,
         null,
         null,
         null,
         null,
         null,
         null,
         null,
         null,
         null,
         null,
         null,
         null,
         null,
         null,
         "-0.41421356237309526",
         "-0.45710678118654763"
        ],
        [
         "104",
         "CamdenTown",
         "CamdenTown3",
         "CT311",
         "593",
         "2019-05-20 12:24:14",
         "2019-05-20 12:28:27",
         "51.539124",
         "-0.142624",
         "eng",
         "engISO2018",
         "4.0",
         "2.0",
         "2.0",
         "1.0",
         "2.0",
         "4.0",
         "3.0",
         "3.0",
         "2.0",
         "2.0",
         "3.0",
         "3.0",
         "3.0",
         "4.0",
         "3.0",
         "1.0",
         "3.0",
         "2.0",
         "1.0",
         "4.0",
         "1.0",
         "3.0",
         "44.0",
         "59.0",
         "Female",
         "UniversityGraduate",
         "White",
         "Employed",
         null,
         null,
         null,
         null,
         null,
         "PassingThrough",
         "Couple",
         "42.35",
         "80.08",
         "73.86",
         "84.85",
         "83.35",
         "82.7",
         "79.23",
         "76.9",
         "76.36",
         "77.39",
         "72.26",
         "82.47",
         "80.29",
         "79.62",
         "76.92",
         "74.57",
         "74.13",
         "67.81",
         "62.75",
         "77.89",
         "71.28",
         "70.14",
         "66.8",
         "64.76",
         "63.94",
         "26.7",
         "0.0",
         "37.5",
         "25.5",
         "20.8",
         "18.2",
         "17.4",
         "2.01",
         "0.0",
         "2.73",
         "2.33",
         "2.2",
         "2.0",
         "1.86",
         "1.82",
         "0.0407",
         "0.0193",
         "0.252",
         "0.0591",
         "0.0519",
         "0.0374",
         "0.0276",
         "0.0258",
         "0.188",
         "0.0",
         "1.98",
         "0.547",
         "0.385",
         "0.0954",
         "0.0122",
         "0.0055",
         "0.0102",
         "0.00305",
         "0.0506",
         "0.0346",
         "0.0179",
         "0.0071",
         "0.00428",
         "0.00385",
         "0.335",
         "0.209",
         "1.01",
         "0.458",
         "0.415",
         "0.321",
         "0.266",
         "0.252",
         "59.64",
         "58.8",
         "55.01",
         "66.39",
         "63.17",
         "62.24",
         "58.69",
         "56.47",
         "55.82",
         "8.54",
         "0.311",
         "59.3",
         "17.5",
         "13.8",
         "7.37",
         "3.88",
         "3.16",
         "-4.73",
         "-8.48",
         "76.2",
         "44.21",
         "34.12",
         "11.04",
         "-4.83",
         "-5.99",
         "-0.14644660940672632",
         "0.14644660940672613"
        ],
        [
         "105",
         "CamdenTown",
         "CamdenTown3",
         "CT311",
         "623",
         "2019-05-20 12:25:00",
         "2019-05-20 12:30:00",
         "51.539124",
         "-0.142624",
         "eng",
         "engISO2018",
         "3.0",
         "2.0",
         "3.0",
         "1.0",
         "4.0",
         "3.0",
         "3.0",
         "3.0",
         "2.0",
         "2.0",
         "3.0",
         "3.0",
         "3.0",
         "4.0",
         "3.0",
         "1.0",
         "2.0",
         "4.0",
         "4.0",
         "4.0",
         "4.0",
         "4.0",
         "80.0",
         "58.0",
         "Female",
         "UniversityGraduate",
         "White",
         "Employed",
         null,
         null,
         "Tourist",
         null,
         null,
         "PassingThrough",
         "Couple",
         "42.35",
         "80.08",
         "73.86",
         "84.85",
         "83.35",
         "82.7",
         "79.23",
         "76.9",
         "76.36",
         "77.39",
         "72.26",
         "82.47",
         "80.29",
         "79.62",
         "76.92",
         "74.57",
         "74.13",
         "67.81",
         "62.75",
         "77.89",
         "71.28",
         "70.14",
         "66.8",
         "64.76",
         "63.94",
         "26.7",
         "0.0",
         "37.5",
         "25.5",
         "20.8",
         "18.2",
         "17.4",
         "2.01",
         "0.0",
         "2.73",
         "2.33",
         "2.2",
         "2.0",
         "1.86",
         "1.82",
         "0.0407",
         "0.0193",
         "0.252",
         "0.0591",
         "0.0519",
         "0.0374",
         "0.0276",
         "0.0258",
         "0.188",
         "0.0",
         "1.98",
         "0.547",
         "0.385",
         "0.0954",
         "0.0122",
         "0.0055",
         "0.0102",
         "0.00305",
         "0.0506",
         "0.0346",
         "0.0179",
         "0.0071",
         "0.00428",
         "0.00385",
         "0.335",
         "0.209",
         "1.01",
         "0.458",
         "0.415",
         "0.321",
         "0.266",
         "0.252",
         "59.64",
         "58.8",
         "55.01",
         "66.39",
         "63.17",
         "62.24",
         "58.69",
         "56.47",
         "55.82",
         "8.54",
         "0.311",
         "59.3",
         "17.5",
         "13.8",
         "7.37",
         "3.88",
         "3.16",
         "-4.73",
         "-8.48",
         "76.2",
         "44.21",
         "34.12",
         "11.04",
         "-4.83",
         "-5.99",
         "0.13388347648318427",
         "0.07322330470336316"
        ],
        [
         "122",
         "CamdenTown",
         "CamdenTown3",
         "CT324",
         "609",
         "2019-05-20 13:51:00",
         "2019-05-20 13:57:00",
         "51.539124",
         "-0.142624",
         "eng",
         "engISO2018",
         "4.0",
         "3.0",
         "4.0",
         "2.0",
         "4.0",
         "5.0",
         "5.0",
         "1.0",
         "2.0",
         "3.0",
         "5.0",
         "1.0",
         "3.0",
         "4.0",
         "4.0",
         "1.0",
         "3.0",
         "4.0",
         "4.0",
         "4.0",
         "3.0",
         "3.0",
         "72.0",
         "63.0",
         "Female",
         "UniversityGraduate",
         "White",
         "Retired",
         null,
         null,
         "Tourist",
         null,
         "fine to visit - might hesitate to live full time due to noise",
         "PassingThrough",
         "Alone",
         "33.48",
         "81.08",
         "70.01",
         "94.07",
         "86.62",
         "84.27",
         "76.97",
         "71.65",
         "71.13",
         "75.95",
         "68.53",
         "89.12",
         "80.85",
         "79.75",
         "72.42",
         "69.79",
         "69.54",
         "66.97",
         "60.82",
         "74.1",
         "72.54",
         "71.56",
         "63.73",
         "61.9",
         "61.64",
         "30.0",
         "0.0",
         "34.7",
         "28.1",
         "16.2",
         "14.5",
         "14.2",
         "1.91",
         "0.0",
         "2.97",
         "2.62",
         "2.41",
         "1.84",
         "1.67",
         "1.64",
         "0.0362",
         "0.0186",
         "0.0707",
         "0.0514",
         "0.0471",
         "0.0353",
         "0.0268",
         "0.025",
         "0.19",
         "0.0",
         "2.11",
         "0.621",
         "0.41",
         "0.106",
         "0.0263",
         "0.0153",
         "0.00886",
         "0.00354",
         "0.0193",
         "0.0144",
         "0.0132",
         "0.00855",
         "0.00577",
         "0.00447",
         "0.375",
         "0.244",
         "0.775",
         "0.51",
         "0.472",
         "0.362",
         "0.289",
         "0.277",
         "59.32",
         "56.8",
         "52.09",
         "67.07",
         "64.81",
         "63.7",
         "55.0",
         "53.21",
         "52.89",
         "8.69",
         "0.405",
         "36.7",
         "16.5",
         "14.1",
         "7.91",
         "4.21",
         "3.47",
         "-1.53",
         "-9.57",
         "75.83",
         "43.3",
         "33.73",
         "11.88",
         "-5.59",
         "-7.44",
         "0.1767766952966369",
         "0.926776695296637"
        ],
        [
         "128",
         "CamdenTown",
         "CamdenTown3",
         "CT328",
         "617",
         "2019-05-20 14:13:00",
         "2019-05-20 14:16:00",
         "51.539124",
         "-0.142624",
         "eng",
         "engISO2018",
         "4.0",
         "1.0",
         "3.0",
         "1.0",
         "1.0",
         "5.0",
         "1.0",
         "1.0",
         "1.0",
         "1.0",
         "2.0",
         "3.0",
         "2.0",
         "4.0",
         "5.0",
         "1.0",
         "1.0",
         "5.0",
         "4.0",
         "4.0",
         "4.0",
         "4.0",
         "84.0",
         "55.0",
         "Female",
         "HighSchoolGraduate",
         "White",
         "Employed",
         null,
         null,
         "Tourist",
         null,
         null,
         "PassingThrough",
         "Couple",
         "50.36",
         "77.98",
         "69.13",
         "87.77",
         "82.13",
         "80.93",
         "76.76",
         "71.62",
         "71.21",
         "76.52",
         "68.21",
         "86.5",
         "80.75",
         "79.36",
         "75.47",
         "70.25",
         "69.92",
         "70.1",
         "60.99",
         "81.91",
         "75.33",
         "72.5",
         "68.15",
         "62.68",
         "62.26",
         "36.8",
         "0.0",
         "58.0",
         "30.8",
         "22.7",
         "15.6",
         "15.2",
         "2.18",
         "0.0",
         "4.24",
         "2.99",
         "2.68",
         "2.13",
         "1.73",
         "1.68",
         "0.0377",
         "0.0188",
         "0.0976",
         "0.0553",
         "0.0507",
         "0.0363",
         "0.0268",
         "0.0248",
         "0.231",
         "0.0",
         "2.19",
         "0.642",
         "0.493",
         "0.13",
         "0.0203",
         "0.0116",
         "0.0114",
         "0.0042",
         "0.0472",
         "0.0249",
         "0.0188",
         "0.0102",
         "0.00522",
         "0.00487",
         "0.356",
         "0.209",
         "1.6",
         "0.615",
         "0.471",
         "0.32",
         "0.266",
         "0.248",
         "63.01",
         "59.93",
         "52.66",
         "74.8",
         "68.57",
         "65.17",
         "60.21",
         "54.39",
         "53.97",
         "9.35",
         "0.619",
         "49.3",
         "18.7",
         "15.5",
         "8.42",
         "4.48",
         "3.65",
         "-5.89",
         "-1.76",
         "71.56",
         "45.97",
         "38.8",
         "17.59",
         "2.64",
         "1.16",
         "-0.4393398282201788",
         "0.2500000000000001"
        ],
        [
         "132",
         "CamdenTown",
         "CamdenTown4",
         "CT403",
         "1220",
         "2019-07-13 12:31:40",
         "2019-07-13 12:35:30",
         "51.5391397",
         "-0.1426483",
         "eng",
         "engISO2018",
         "3.0",
         "2.0",
         "4.0",
         "1.0",
         "2.0",
         "4.0",
         "4.0",
         "1.0",
         "2.0",
         "2.0",
         "4.0",
         "2.0",
         "3.0",
         "4.0",
         "3.0",
         "2.0",
         "3.0",
         "4.0",
         "4.0",
         "4.0",
         "4.0",
         "4.0",
         "80.0",
         "65.0",
         "Female",
         "UniversityGraduate",
         "White",
         "Retired",
         null,
         null,
         "Tourist",
         null,
         null,
         "Staying",
         "Alone",
         "36.36",
         "84.51",
         "76.34",
         "91.35",
         "89.21",
         "87.36",
         "83.4",
         "80.21",
         "79.09",
         "84.13",
         "75.59",
         "91.29",
         "89.08",
         "86.78",
         "82.87",
         "79.49",
         "78.44",
         "78.11",
         "67.84",
         "86.47",
         "84.07",
         "81.18",
         "76.3",
         "72.5",
         "71.65",
         "53.7",
         "0.0",
         "65.6",
         "48.0",
         "37.3",
         "30.6",
         "28.6",
         "2.39",
         "0.0",
         "3.71",
         "3.03",
         "2.85",
         "2.35",
         "2.03",
         "1.97",
         "0.114",
         "0.0238",
         "1.32",
         "0.548",
         "0.382",
         "0.0493",
         "0.0335",
         "0.0308",
         "0.47",
         "0.0",
         "2.59",
         "1.26",
         "0.987",
         "0.352",
         "0.0744",
         "0.0468",
         "0.036",
         "0.0134",
         "0.0877",
         "0.0766",
         "0.0552",
         "0.0329",
         "0.0174",
         "0.016",
         "0.468",
         "0.174",
         "2.02",
         "1.05",
         "0.875",
         "0.386",
         "0.273",
         "0.246",
         "69.79",
         "67.9",
         "59.91",
         "76.03",
         "73.85",
         "72.59",
         "67.68",
         "63.84",
         "63.11",
         "17.9",
         "2.23",
         "65.8",
         "33.8",
         "28.9",
         "16.6",
         "8.92",
         "7.4",
         "-1.32",
         "-3.24",
         "71.78",
         "49.81",
         "42.16",
         "16.53",
         "0.54",
         "-0.65",
         "-4.5986943405861856e-17",
         "0.6035533905932737"
        ]
       ],
       "shape": {
        "columns": 144,
        "rows": 7
       }
      },
      "text/html": [
       "<div>\n",
       "<style scoped>\n",
       "    .dataframe tbody tr th:only-of-type {\n",
       "        vertical-align: middle;\n",
       "    }\n",
       "\n",
       "    .dataframe tbody tr th {\n",
       "        vertical-align: top;\n",
       "    }\n",
       "\n",
       "    .dataframe thead th {\n",
       "        text-align: right;\n",
       "    }\n",
       "</style>\n",
       "<table border=\"1\" class=\"dataframe\">\n",
       "  <thead>\n",
       "    <tr style=\"text-align: right;\">\n",
       "      <th></th>\n",
       "      <th>LocationID</th>\n",
       "      <th>SessionID</th>\n",
       "      <th>GroupID</th>\n",
       "      <th>RecordID</th>\n",
       "      <th>start_time</th>\n",
       "      <th>end_time</th>\n",
       "      <th>latitude</th>\n",
       "      <th>longitude</th>\n",
       "      <th>Language</th>\n",
       "      <th>Survey_Version</th>\n",
       "      <th>...</th>\n",
       "      <th>THD_THD_Max</th>\n",
       "      <th>THD_Min_Max</th>\n",
       "      <th>THD_Max_Max</th>\n",
       "      <th>THD_L5_Max</th>\n",
       "      <th>THD_L10_Max</th>\n",
       "      <th>THD_L50_Max</th>\n",
       "      <th>THD_L90_Max</th>\n",
       "      <th>THD_L95_Max</th>\n",
       "      <th>ISOPleasant</th>\n",
       "      <th>ISOEventful</th>\n",
       "    </tr>\n",
       "  </thead>\n",
       "  <tbody>\n",
       "    <tr>\n",
       "      <th>58</th>\n",
       "      <td>CamdenTown</td>\n",
       "      <td>CamdenTown1</td>\n",
       "      <td>CT108</td>\n",
       "      <td>531</td>\n",
       "      <td>2019-05-02 12:10:52</td>\n",
       "      <td>2019-05-02 12:26:45</td>\n",
       "      <td>51.539124</td>\n",
       "      <td>-0.142624</td>\n",
       "      <td>eng</td>\n",
       "      <td>engISO2018</td>\n",
       "      <td>...</td>\n",
       "      <td>-2.12</td>\n",
       "      <td>-4.44</td>\n",
       "      <td>72.28</td>\n",
       "      <td>45.05</td>\n",
       "      <td>37.19</td>\n",
       "      <td>13.40</td>\n",
       "      <td>-1.88</td>\n",
       "      <td>-2.45</td>\n",
       "      <td>-1.464466e-01</td>\n",
       "      <td>0.146447</td>\n",
       "    </tr>\n",
       "    <tr>\n",
       "      <th>63</th>\n",
       "      <td>CamdenTown</td>\n",
       "      <td>CamdenTown1</td>\n",
       "      <td>CT111</td>\n",
       "      <td>533</td>\n",
       "      <td>2019-05-02 12:29:42</td>\n",
       "      <td>2019-05-02 12:58:56</td>\n",
       "      <td>51.539124</td>\n",
       "      <td>-0.142624</td>\n",
       "      <td>eng</td>\n",
       "      <td>engISO2018</td>\n",
       "      <td>...</td>\n",
       "      <td>NaN</td>\n",
       "      <td>NaN</td>\n",
       "      <td>NaN</td>\n",
       "      <td>NaN</td>\n",
       "      <td>NaN</td>\n",
       "      <td>NaN</td>\n",
       "      <td>NaN</td>\n",
       "      <td>NaN</td>\n",
       "      <td>-4.142136e-01</td>\n",
       "      <td>-0.457107</td>\n",
       "    </tr>\n",
       "    <tr>\n",
       "      <th>104</th>\n",
       "      <td>CamdenTown</td>\n",
       "      <td>CamdenTown3</td>\n",
       "      <td>CT311</td>\n",
       "      <td>593</td>\n",
       "      <td>2019-05-20 12:24:14</td>\n",
       "      <td>2019-05-20 12:28:27</td>\n",
       "      <td>51.539124</td>\n",
       "      <td>-0.142624</td>\n",
       "      <td>eng</td>\n",
       "      <td>engISO2018</td>\n",
       "      <td>...</td>\n",
       "      <td>-4.73</td>\n",
       "      <td>-8.48</td>\n",
       "      <td>76.20</td>\n",
       "      <td>44.21</td>\n",
       "      <td>34.12</td>\n",
       "      <td>11.04</td>\n",
       "      <td>-4.83</td>\n",
       "      <td>-5.99</td>\n",
       "      <td>-1.464466e-01</td>\n",
       "      <td>0.146447</td>\n",
       "    </tr>\n",
       "    <tr>\n",
       "      <th>105</th>\n",
       "      <td>CamdenTown</td>\n",
       "      <td>CamdenTown3</td>\n",
       "      <td>CT311</td>\n",
       "      <td>623</td>\n",
       "      <td>2019-05-20 12:25:00</td>\n",
       "      <td>2019-05-20 12:30:00</td>\n",
       "      <td>51.539124</td>\n",
       "      <td>-0.142624</td>\n",
       "      <td>eng</td>\n",
       "      <td>engISO2018</td>\n",
       "      <td>...</td>\n",
       "      <td>-4.73</td>\n",
       "      <td>-8.48</td>\n",
       "      <td>76.20</td>\n",
       "      <td>44.21</td>\n",
       "      <td>34.12</td>\n",
       "      <td>11.04</td>\n",
       "      <td>-4.83</td>\n",
       "      <td>-5.99</td>\n",
       "      <td>1.338835e-01</td>\n",
       "      <td>0.073223</td>\n",
       "    </tr>\n",
       "    <tr>\n",
       "      <th>122</th>\n",
       "      <td>CamdenTown</td>\n",
       "      <td>CamdenTown3</td>\n",
       "      <td>CT324</td>\n",
       "      <td>609</td>\n",
       "      <td>2019-05-20 13:51:00</td>\n",
       "      <td>2019-05-20 13:57:00</td>\n",
       "      <td>51.539124</td>\n",
       "      <td>-0.142624</td>\n",
       "      <td>eng</td>\n",
       "      <td>engISO2018</td>\n",
       "      <td>...</td>\n",
       "      <td>-1.53</td>\n",
       "      <td>-9.57</td>\n",
       "      <td>75.83</td>\n",
       "      <td>43.30</td>\n",
       "      <td>33.73</td>\n",
       "      <td>11.88</td>\n",
       "      <td>-5.59</td>\n",
       "      <td>-7.44</td>\n",
       "      <td>1.767767e-01</td>\n",
       "      <td>0.926777</td>\n",
       "    </tr>\n",
       "    <tr>\n",
       "      <th>128</th>\n",
       "      <td>CamdenTown</td>\n",
       "      <td>CamdenTown3</td>\n",
       "      <td>CT328</td>\n",
       "      <td>617</td>\n",
       "      <td>2019-05-20 14:13:00</td>\n",
       "      <td>2019-05-20 14:16:00</td>\n",
       "      <td>51.539124</td>\n",
       "      <td>-0.142624</td>\n",
       "      <td>eng</td>\n",
       "      <td>engISO2018</td>\n",
       "      <td>...</td>\n",
       "      <td>-5.89</td>\n",
       "      <td>-1.76</td>\n",
       "      <td>71.56</td>\n",
       "      <td>45.97</td>\n",
       "      <td>38.80</td>\n",
       "      <td>17.59</td>\n",
       "      <td>2.64</td>\n",
       "      <td>1.16</td>\n",
       "      <td>-4.393398e-01</td>\n",
       "      <td>0.250000</td>\n",
       "    </tr>\n",
       "    <tr>\n",
       "      <th>132</th>\n",
       "      <td>CamdenTown</td>\n",
       "      <td>CamdenTown4</td>\n",
       "      <td>CT403</td>\n",
       "      <td>1220</td>\n",
       "      <td>2019-07-13 12:31:40</td>\n",
       "      <td>2019-07-13 12:35:30</td>\n",
       "      <td>51.539140</td>\n",
       "      <td>-0.142648</td>\n",
       "      <td>eng</td>\n",
       "      <td>engISO2018</td>\n",
       "      <td>...</td>\n",
       "      <td>-1.32</td>\n",
       "      <td>-3.24</td>\n",
       "      <td>71.78</td>\n",
       "      <td>49.81</td>\n",
       "      <td>42.16</td>\n",
       "      <td>16.53</td>\n",
       "      <td>0.54</td>\n",
       "      <td>-0.65</td>\n",
       "      <td>-4.598694e-17</td>\n",
       "      <td>0.603553</td>\n",
       "    </tr>\n",
       "  </tbody>\n",
       "</table>\n",
       "<p>7 rows × 144 columns</p>\n",
       "</div>"
      ],
      "text/plain": [
       "     LocationID    SessionID GroupID RecordID           start_time  \\\n",
       "58   CamdenTown  CamdenTown1   CT108      531  2019-05-02 12:10:52   \n",
       "63   CamdenTown  CamdenTown1   CT111      533  2019-05-02 12:29:42   \n",
       "104  CamdenTown  CamdenTown3   CT311      593  2019-05-20 12:24:14   \n",
       "105  CamdenTown  CamdenTown3   CT311      623  2019-05-20 12:25:00   \n",
       "122  CamdenTown  CamdenTown3   CT324      609  2019-05-20 13:51:00   \n",
       "128  CamdenTown  CamdenTown3   CT328      617  2019-05-20 14:13:00   \n",
       "132  CamdenTown  CamdenTown4   CT403     1220  2019-07-13 12:31:40   \n",
       "\n",
       "                end_time   latitude  longitude Language Survey_Version  ...  \\\n",
       "58   2019-05-02 12:26:45  51.539124  -0.142624      eng     engISO2018  ...   \n",
       "63   2019-05-02 12:58:56  51.539124  -0.142624      eng     engISO2018  ...   \n",
       "104  2019-05-20 12:28:27  51.539124  -0.142624      eng     engISO2018  ...   \n",
       "105  2019-05-20 12:30:00  51.539124  -0.142624      eng     engISO2018  ...   \n",
       "122  2019-05-20 13:57:00  51.539124  -0.142624      eng     engISO2018  ...   \n",
       "128  2019-05-20 14:16:00  51.539124  -0.142624      eng     engISO2018  ...   \n",
       "132  2019-07-13 12:35:30  51.539140  -0.142648      eng     engISO2018  ...   \n",
       "\n",
       "     THD_THD_Max  THD_Min_Max  THD_Max_Max  THD_L5_Max  THD_L10_Max  \\\n",
       "58         -2.12        -4.44        72.28       45.05        37.19   \n",
       "63           NaN          NaN          NaN         NaN          NaN   \n",
       "104        -4.73        -8.48        76.20       44.21        34.12   \n",
       "105        -4.73        -8.48        76.20       44.21        34.12   \n",
       "122        -1.53        -9.57        75.83       43.30        33.73   \n",
       "128        -5.89        -1.76        71.56       45.97        38.80   \n",
       "132        -1.32        -3.24        71.78       49.81        42.16   \n",
       "\n",
       "     THD_L50_Max  THD_L90_Max  THD_L95_Max   ISOPleasant  ISOEventful  \n",
       "58         13.40        -1.88        -2.45 -1.464466e-01     0.146447  \n",
       "63           NaN          NaN          NaN -4.142136e-01    -0.457107  \n",
       "104        11.04        -4.83        -5.99 -1.464466e-01     0.146447  \n",
       "105        11.04        -4.83        -5.99  1.338835e-01     0.073223  \n",
       "122        11.88        -5.59        -7.44  1.767767e-01     0.926777  \n",
       "128        17.59         2.64         1.16 -4.393398e-01     0.250000  \n",
       "132        16.53         0.54        -0.65 -4.598694e-17     0.603553  \n",
       "\n",
       "[7 rows x 144 columns]"
      ]
     },
     "execution_count": 21,
     "metadata": {},
     "output_type": "execute_result"
    }
   ],
   "source": [
    "isd.select_location_ids(df, \"CamdenTown\").query(\"gen00 == 'Female' and age00 > 50\")"
   ]
  },
  {
   "cell_type": "markdown",
   "id": "a36c3259",
   "metadata": {
    "cell_marker": "\"\"\""
   },
   "source": [
    "## Plotting\n",
    "\n",
    "Soundscapy offers various plotting functions to visualize soundscape data. The plotting system is built on Seaborn's Objects API, providing a flexible and composable way to create plots. Let's explore some examples:\n",
    "\n",
    "### Scatter plots"
   ]
  },
  {
   "cell_type": "code",
   "execution_count": 22,
   "id": "e1ce7c031c0f3bee",
   "metadata": {
    "ExecuteTime": {
     "end_time": "2024-10-29T15:19:08.048371Z",
     "start_time": "2024-10-29T15:19:07.793659Z"
    }
   },
   "outputs": [
    {
     "ename": "TypeError",
     "evalue": "SoundscapeCircumplex._plot() missing 1 required positional argument: 'y'",
     "output_type": "error",
     "traceback": [
      "\u001b[0;31m---------------------------------------------------------------------------\u001b[0m",
      "\u001b[0;31mTypeError\u001b[0m                                 Traceback (most recent call last)",
      "File \u001b[0;32m~/Documents/GitHub/Soundscapy/.venv/lib/python3.12/site-packages/IPython/core/formatters.py:406\u001b[0m, in \u001b[0;36mBaseFormatter.__call__\u001b[0;34m(self, obj)\u001b[0m\n\u001b[1;32m    404\u001b[0m     method \u001b[38;5;241m=\u001b[39m get_real_method(obj, \u001b[38;5;28mself\u001b[39m\u001b[38;5;241m.\u001b[39mprint_method)\n\u001b[1;32m    405\u001b[0m     \u001b[38;5;28;01mif\u001b[39;00m method \u001b[38;5;129;01mis\u001b[39;00m \u001b[38;5;129;01mnot\u001b[39;00m \u001b[38;5;28;01mNone\u001b[39;00m:\n\u001b[0;32m--> 406\u001b[0m         \u001b[38;5;28;01mreturn\u001b[39;00m \u001b[43mmethod\u001b[49m\u001b[43m(\u001b[49m\u001b[43m)\u001b[49m\n\u001b[1;32m    407\u001b[0m     \u001b[38;5;28;01mreturn\u001b[39;00m \u001b[38;5;28;01mNone\u001b[39;00m\n\u001b[1;32m    408\u001b[0m \u001b[38;5;28;01melse\u001b[39;00m:\n",
      "File \u001b[0;32m~/Documents/GitHub/Soundscapy/.venv/lib/python3.12/site-packages/seaborn/_core/plot.py:387\u001b[0m, in \u001b[0;36mPlot._repr_png_\u001b[0;34m(self)\u001b[0m\n\u001b[1;32m    385\u001b[0m \u001b[38;5;28;01mif\u001b[39;00m Plot\u001b[38;5;241m.\u001b[39mconfig\u001b[38;5;241m.\u001b[39mdisplay[\u001b[38;5;124m\"\u001b[39m\u001b[38;5;124mformat\u001b[39m\u001b[38;5;124m\"\u001b[39m] \u001b[38;5;241m!=\u001b[39m \u001b[38;5;124m\"\u001b[39m\u001b[38;5;124mpng\u001b[39m\u001b[38;5;124m\"\u001b[39m:\n\u001b[1;32m    386\u001b[0m     \u001b[38;5;28;01mreturn\u001b[39;00m \u001b[38;5;28;01mNone\u001b[39;00m\n\u001b[0;32m--> 387\u001b[0m \u001b[38;5;28;01mreturn\u001b[39;00m \u001b[38;5;28;43mself\u001b[39;49m\u001b[38;5;241;43m.\u001b[39;49m\u001b[43mplot\u001b[49m\u001b[43m(\u001b[49m\u001b[43m)\u001b[49m\u001b[38;5;241m.\u001b[39m_repr_png_()\n",
      "File \u001b[0;32m~/Documents/GitHub/Soundscapy/.venv/lib/python3.12/site-packages/seaborn/_core/plot.py:932\u001b[0m, in \u001b[0;36mPlot.plot\u001b[0;34m(self, pyplot)\u001b[0m\n\u001b[1;32m    928\u001b[0m \u001b[38;5;250m\u001b[39m\u001b[38;5;124;03m\"\"\"\u001b[39;00m\n\u001b[1;32m    929\u001b[0m \u001b[38;5;124;03mCompile the plot spec and return the Plotter object.\u001b[39;00m\n\u001b[1;32m    930\u001b[0m \u001b[38;5;124;03m\"\"\"\u001b[39;00m\n\u001b[1;32m    931\u001b[0m \u001b[38;5;28;01mwith\u001b[39;00m theme_context(\u001b[38;5;28mself\u001b[39m\u001b[38;5;241m.\u001b[39m_theme_with_defaults()):\n\u001b[0;32m--> 932\u001b[0m     \u001b[38;5;28;01mreturn\u001b[39;00m \u001b[38;5;28;43mself\u001b[39;49m\u001b[38;5;241;43m.\u001b[39;49m\u001b[43m_plot\u001b[49m\u001b[43m(\u001b[49m\u001b[43mpyplot\u001b[49m\u001b[43m)\u001b[49m\n",
      "File \u001b[0;32m~/Documents/GitHub/Soundscapy/.venv/lib/python3.12/site-packages/seaborn/_core/plot.py:962\u001b[0m, in \u001b[0;36mPlot._plot\u001b[0;34m(self, pyplot)\u001b[0m\n\u001b[1;32m    960\u001b[0m \u001b[38;5;66;03m# Process the data for each layer and add matplotlib artists\u001b[39;00m\n\u001b[1;32m    961\u001b[0m \u001b[38;5;28;01mfor\u001b[39;00m layer \u001b[38;5;129;01min\u001b[39;00m layers:\n\u001b[0;32m--> 962\u001b[0m     \u001b[43mplotter\u001b[49m\u001b[38;5;241;43m.\u001b[39;49m\u001b[43m_plot_layer\u001b[49m\u001b[43m(\u001b[49m\u001b[38;5;28;43mself\u001b[39;49m\u001b[43m,\u001b[49m\u001b[43m \u001b[49m\u001b[43mlayer\u001b[49m\u001b[43m)\u001b[49m\n\u001b[1;32m    964\u001b[0m \u001b[38;5;66;03m# Add various figure decorations\u001b[39;00m\n\u001b[1;32m    965\u001b[0m plotter\u001b[38;5;241m.\u001b[39m_make_legend(\u001b[38;5;28mself\u001b[39m)\n",
      "File \u001b[0;32m~/Documents/GitHub/Soundscapy/.venv/lib/python3.12/site-packages/seaborn/_core/plot.py:1488\u001b[0m, in \u001b[0;36mPlotter._plot_layer\u001b[0;34m(self, p, layer)\u001b[0m\n\u001b[1;32m   1485\u001b[0m     grouping_vars \u001b[38;5;241m=\u001b[39m mark\u001b[38;5;241m.\u001b[39m_grouping_props \u001b[38;5;241m+\u001b[39m default_grouping_vars\n\u001b[1;32m   1486\u001b[0m     split_generator \u001b[38;5;241m=\u001b[39m \u001b[38;5;28mself\u001b[39m\u001b[38;5;241m.\u001b[39m_setup_split_generator(grouping_vars, df, subplots)\n\u001b[0;32m-> 1488\u001b[0m     \u001b[43mmark\u001b[49m\u001b[38;5;241;43m.\u001b[39;49m\u001b[43m_plot\u001b[49m\u001b[43m(\u001b[49m\u001b[43msplit_generator\u001b[49m\u001b[43m,\u001b[49m\u001b[43m \u001b[49m\u001b[43mscales\u001b[49m\u001b[43m,\u001b[49m\u001b[43m \u001b[49m\u001b[43morient\u001b[49m\u001b[43m)\u001b[49m\n\u001b[1;32m   1490\u001b[0m \u001b[38;5;66;03m# TODO is this the right place for this?\u001b[39;00m\n\u001b[1;32m   1491\u001b[0m \u001b[38;5;28;01mfor\u001b[39;00m view \u001b[38;5;129;01min\u001b[39;00m \u001b[38;5;28mself\u001b[39m\u001b[38;5;241m.\u001b[39m_subplots:\n",
      "\u001b[0;31mTypeError\u001b[0m: SoundscapeCircumplex._plot() missing 1 required positional argument: 'y'"
     ]
    },
    {
     "data": {
      "text/plain": [
       "<seaborn._core.plot.Plot at 0x1378905c0>"
      ]
     },
     "execution_count": 22,
     "metadata": {},
     "output_type": "execute_result"
    }
   ],
   "source": [
    "import matplotlib.pyplot as plt\n",
    "import seaborn.objects as so\n",
    "\n",
    "from soundscapy.plotting import (\n",
    "    scatter_plot,\n",
    "    SoundscapeCircumplex,\n",
    "    SoundscapeQuadrantLabels,\n",
    ")\n",
    "\n",
    "# Basic scatter plot using function-based API\n",
    "# ax = scatter_plot(\n",
    "#     isd.select_location_ids(df, [\"RussellSq\"]),\n",
    "#     title=\"RussellSq\"\n",
    "# )\n",
    "# plt.show()\n",
    "\n",
    "# # Customized scatter plot with multiple locations\n",
    "# ax = scatter_plot(\n",
    "#     isd.select_location_ids(df, [\"RussellSq\", \"EustonTap\"]),\n",
    "#     hue=\"LocationID\",\n",
    "#     title=\"Russell Square vs. Euston Tap\",\n",
    "#     diagonal_lines=True,\n",
    "#     point_size=40,\n",
    "#     alpha=0.8\n",
    "# )\n",
    "# plt.show()\n",
    "\n",
    "# Direct composition with Seaborn Objects API\n",
    "locations_data = isd.select_location_ids(df, [\"RussellSq\", \"CamdenTown\", \"PancrasLock\"])\n",
    "plot = (\n",
    "    so.Plot(locations_data, x=\"ISOPleasant\", y=\"ISOEventful\")\n",
    "    .add(so.Dots(), color=\"LocationID\")\n",
    "    .add(SoundscapeCircumplex())  # Add circumplex grid\n",
    "    .add(SoundscapeQuadrantLabels())  # Add diagonal lines and labels\n",
    "    .scale(color=so.Nominal(\"husl\"))  # Custom color palette\n",
    "    .label(title=\"Composed plot with Seaborn Objects\")\n",
    ")\n",
    "plot"
   ]
  },
  {
   "cell_type": "code",
   "execution_count": 23,
   "id": "49d205e7",
   "metadata": {},
   "outputs": [
    {
     "data": {
      "image/png": "[encoded data removed]",
      "text/plain": [
       "<seaborn._core.plot.Plot at 0x140ce82c0>"
      ]
     },
     "execution_count": 23,
     "metadata": {
      "image/png": {
       "height": 378.25,
       "width": 640.475
      }
     },
     "output_type": "execute_result"
    }
   ],
   "source": [
    "plot = so.Plot(locations_data, x=\"ISOPleasant\", y=\"ISOEventful\").add(\n",
    "    so.Dots(), color=\"LocationID\"\n",
    ")\n",
    "plot.add(SoundscapeCircumplex())  # Add circumplex grid\n",
    "plot"
   ]
  },
  {
   "cell_type": "markdown",
   "id": "9de398a437681203",
   "metadata": {},
   "source": [
    "### Density plots"
   ]
  },
  {
   "cell_type": "code",
   "execution_count": 24,
   "id": "4fb94cd86524e6d3",
   "metadata": {
    "ExecuteTime": {
     "end_time": "2024-10-29T15:19:08.513472Z",
     "start_time": "2024-10-29T15:19:08.049198Z"
    }
   },
   "outputs": [
    {
     "ename": "TypeError",
     "evalue": "KDE.__init__() got an unexpected keyword argument 'levels'",
     "output_type": "error",
     "traceback": [
      "\u001b[0;31m---------------------------------------------------------------------------\u001b[0m",
      "\u001b[0;31mTypeError\u001b[0m                                 Traceback (most recent call last)",
      "Cell \u001b[0;32mIn[24], line 4\u001b[0m\n\u001b[1;32m      1\u001b[0m \u001b[38;5;28;01mfrom\u001b[39;00m\u001b[38;5;250m \u001b[39m\u001b[38;5;21;01msoundscapy\u001b[39;00m\u001b[38;5;21;01m.\u001b[39;00m\u001b[38;5;21;01mplotting\u001b[39;00m\u001b[38;5;250m \u001b[39m\u001b[38;5;28;01mimport\u001b[39;00m density_plot, SoundscapeCoordinates\n\u001b[1;32m      3\u001b[0m \u001b[38;5;66;03m# Single density plot\u001b[39;00m\n\u001b[0;32m----> 4\u001b[0m \u001b[43mdensity_plot\u001b[49m\u001b[43m(\u001b[49m\n\u001b[1;32m      5\u001b[0m \u001b[43m    \u001b[49m\u001b[43misd\u001b[49m\u001b[38;5;241;43m.\u001b[39;49m\u001b[43mselect_location_ids\u001b[49m\u001b[43m(\u001b[49m\u001b[43mdf\u001b[49m\u001b[43m,\u001b[49m\u001b[43m \u001b[49m\u001b[43m[\u001b[49m\u001b[38;5;124;43m\"\u001b[39;49m\u001b[38;5;124;43mCamdenTown\u001b[39;49m\u001b[38;5;124;43m\"\u001b[39;49m\u001b[43m]\u001b[49m\u001b[43m)\u001b[49m\u001b[43m,\u001b[49m\n\u001b[1;32m      6\u001b[0m \u001b[43m    \u001b[49m\u001b[43mtitle\u001b[49m\u001b[38;5;241;43m=\u001b[39;49m\u001b[38;5;124;43m\"\u001b[39;49m\u001b[38;5;124;43mCamden Town Density plot\u001b[39;49m\u001b[38;5;124;43m\"\u001b[39;49m\u001b[43m,\u001b[49m\n\u001b[1;32m      7\u001b[0m \u001b[43m    \u001b[49m\u001b[43malpha\u001b[49m\u001b[38;5;241;43m=\u001b[39;49m\u001b[38;5;241;43m0.7\u001b[39;49m\u001b[43m,\u001b[49m\n\u001b[1;32m      8\u001b[0m \u001b[43m)\u001b[49m\n\u001b[1;32m      9\u001b[0m plt\u001b[38;5;241m.\u001b[39mshow()\n\u001b[1;32m     11\u001b[0m \u001b[38;5;66;03m# Density comparisons with simple density and scatter points\u001b[39;00m\n",
      "File \u001b[0;32m~/Documents/GitHub/Soundscapy/src/soundscapy/plotting/soundscape_functions.py:250\u001b[0m, in \u001b[0;36mdensity_plot\u001b[0;34m(data, x, y, hue, title, xlim, ylim, palette, fill, alpha, bw_adjust, levels, simple_density, incl_scatter, scatter_size, scatter_alpha, diagonal_lines, show_labels, ax, as_objects, **kwargs)\u001b[0m\n\u001b[1;32m    243\u001b[0m     plot \u001b[38;5;241m=\u001b[39m plot\u001b[38;5;241m.\u001b[39madd(\n\u001b[1;32m    244\u001b[0m         so\u001b[38;5;241m.\u001b[39mLine(alpha\u001b[38;5;241m=\u001b[39m\u001b[38;5;241m1.0\u001b[39m), so\u001b[38;5;241m.\u001b[39mKDE(bw_adjust\u001b[38;5;241m=\u001b[39mbw_adjust, levels\u001b[38;5;241m=\u001b[39m\u001b[38;5;241m2\u001b[39m), color\u001b[38;5;241m=\u001b[39mhue\n\u001b[1;32m    245\u001b[0m     )\n\u001b[1;32m    246\u001b[0m \u001b[38;5;28;01melse\u001b[39;00m:\n\u001b[1;32m    247\u001b[0m     \u001b[38;5;66;03m# Regular density\u001b[39;00m\n\u001b[1;32m    248\u001b[0m     plot \u001b[38;5;241m=\u001b[39m plot\u001b[38;5;241m.\u001b[39madd(\n\u001b[1;32m    249\u001b[0m         so\u001b[38;5;241m.\u001b[39mArea(fill\u001b[38;5;241m=\u001b[39mfill, alpha\u001b[38;5;241m=\u001b[39malpha),\n\u001b[0;32m--> 250\u001b[0m         \u001b[43mso\u001b[49m\u001b[38;5;241;43m.\u001b[39;49m\u001b[43mKDE\u001b[49m\u001b[43m(\u001b[49m\u001b[43mbw_adjust\u001b[49m\u001b[38;5;241;43m=\u001b[39;49m\u001b[43mbw_adjust\u001b[49m\u001b[43m,\u001b[49m\u001b[43m \u001b[49m\u001b[43mlevels\u001b[49m\u001b[38;5;241;43m=\u001b[39;49m\u001b[43mlevels\u001b[49m\u001b[43m)\u001b[49m,\n\u001b[1;32m    251\u001b[0m         color\u001b[38;5;241m=\u001b[39mhue,\n\u001b[1;32m    252\u001b[0m     )\n\u001b[1;32m    254\u001b[0m \u001b[38;5;66;03m# Apply color palette if needed\u001b[39;00m\n\u001b[1;32m    255\u001b[0m \u001b[38;5;28;01mif\u001b[39;00m hue:\n",
      "\u001b[0;31mTypeError\u001b[0m: KDE.__init__() got an unexpected keyword argument 'levels'"
     ]
    }
   ],
   "source": [
    "from soundscapy.plotting import density_plot, SoundscapeCoordinates\n",
    "\n",
    "# Single density plot\n",
    "density_plot(\n",
    "    isd.select_location_ids(df, [\"CamdenTown\"]),\n",
    "    title=\"Camden Town Density plot\",\n",
    "    alpha=0.7,\n",
    ")\n",
    "plt.show()\n",
    "\n",
    "# Density comparisons with simple density and scatter points\n",
    "density_plot(\n",
    "    isd.select_location_ids(df, [\"CamdenTown\", \"RussellSq\", \"PancrasLock\"]),\n",
    "    hue=\"LocationID\",\n",
    "    title=\"Comparison of the soundscapes of three urban spaces\",\n",
    "    palette=\"husl\",\n",
    "    simple_density=True,\n",
    "    incl_scatter=True,\n",
    "    diagonal_lines=True,\n",
    ")\n",
    "plt.show()\n",
    "\n",
    "# Using Seaborn Objects API for custom density plots\n",
    "camden_data = isd.select_location_ids(df, [\"CamdenTown\"])\n",
    "custom_density = (\n",
    "    so.Plot(camden_data, x=\"ISOPleasant\", y=\"ISOEventful\")\n",
    "    .add(\n",
    "        so.Area(alpha=0.5, fill=True), so.KDE(bw_adjust=1.2, levels=8)\n",
    "    )  # Density contours\n",
    "    .add(so.Line(alpha=1.0), so.KDE(bw_adjust=1.2, levels=8))  # Outline\n",
    "    .add(so.Dots(pointsize=20, alpha=0.6))  # Scatter points\n",
    "    .add(SoundscapeCircumplex())  # Grid\n",
    "    .label(title=\"Custom density plot with Objects API\")\n",
    ")\n",
    "custom_density.show()"
   ]
  },
  {
   "cell_type": "markdown",
   "id": "82b904b7562187a",
   "metadata": {},
   "source": [
    "### Joint plots\n",
    "\n",
    "Joint plots combine scatter plots or density plots with marginal distributions:"
   ]
  },
  {
   "cell_type": "code",
   "execution_count": null,
   "id": "dc18babf99cf8edc",
   "metadata": {
    "ExecuteTime": {
     "end_time": "2024-10-29T15:19:12.425640Z",
     "start_time": "2024-10-29T15:19:12.183288Z"
    }
   },
   "outputs": [],
   "source": [
    "from soundscapy.plotting import joint_plot\n",
    "\n",
    "# Create a joint plot with kde in the main plot\n",
    "g = joint_plot(\n",
    "    isd.select_location_ids(df, [\"CamdenTown\"]),\n",
    "    kind=\"kde\",\n",
    "    title=\"Camden Town Joint Plot\",\n",
    "    diagonal_lines=True,\n",
    ")\n",
    "plt.show()"
   ]
  },
  {
   "cell_type": "markdown",
   "id": "51df44dbecb2c1a7",
   "metadata": {},
   "source": [
    "### Creating subplots\n",
    "\n",
    "Soundscapy provides a function for creating multiple circumplex plots in a grid layout. This is particularly useful when comparing multiple locations:"
   ]
  },
  {
   "cell_type": "code",
   "execution_count": null,
   "id": "058f6724",
   "metadata": {},
   "outputs": [],
   "source": [
    "df[\"LocationID\"].unique()"
   ]
  },
  {
   "cell_type": "code",
   "execution_count": null,
   "id": "bab28d6c98976d61",
   "metadata": {
    "ExecuteTime": {
     "end_time": "2024-08-16T10:09:58.204958Z",
     "start_time": "2024-08-16T10:09:57.571044Z"
    }
   },
   "outputs": [],
   "source": [
    "from soundscapy.plotting import create_circumplex_subplots\n",
    "\n",
    "# Create a grid of density plots for multiple locations\n",
    "locations = df[\"LocationID\"].unique()[9:13]\n",
    "data_list = [sspy.isd.select_location_ids(df, loc) for loc in locations]\n",
    "\n",
    "fig = create_circumplex_subplots(\n",
    "    data_list,\n",
    "    plot_type=\"density\",\n",
    "    cols=2,\n",
    "    incl_scatter=True,\n",
    "    subtitles=locations,\n",
    "    title=\"Density plots of four locations\",\n",
    "    diagonal_lines=True,\n",
    ")\n",
    "plt.show()"
   ]
  },
  {
   "cell_type": "markdown",
   "id": "bbe673bbecefc9f6",
   "metadata": {},
   "source": [
    "You can also create custom subplots with more control by creating and customizing each plot individually:"
   ]
  },
  {
   "cell_type": "code",
   "execution_count": null,
   "id": "66c03673bf82cc32",
   "metadata": {
    "ExecuteTime": {
     "end_time": "2024-08-16T10:09:58.997502Z",
     "start_time": "2024-08-16T10:09:58.205673Z"
    }
   },
   "outputs": [],
   "source": [
    "from soundscapy.plotting import scatter_plot, density_plot\n",
    "\n",
    "# Create a grid of custom plots\n",
    "fig, axes = plt.subplots(2, 2, figsize=(12, 12))\n",
    "\n",
    "# Scatter plot in top-left\n",
    "scatter_plot(\n",
    "    isd.select_location_ids(df, \"CamdenTown\"),\n",
    "    title=\"Camden Town (Scatter)\",\n",
    "    diagonal_lines=True,\n",
    "    ax=axes[0, 0],\n",
    ")\n",
    "\n",
    "# Density plot in top-right\n",
    "density_plot(\n",
    "    isd.select_location_ids(df, \"RussellSq\"),\n",
    "    title=\"Russell Square (Density)\",\n",
    "    simple_density=True,\n",
    "    ax=axes[0, 1],\n",
    ")\n",
    "\n",
    "# Scatter plot with hue in bottom-left\n",
    "scatter_plot(\n",
    "    isd.select_location_ids(df, \"EustonTap\"),\n",
    "    hue=\"SessionID\",\n",
    "    title=\"Euston Tap (Sessions)\",\n",
    "    ax=axes[1, 0],\n",
    ")\n",
    "\n",
    "# Density with scatter in bottom-right\n",
    "density_plot(\n",
    "    isd.select_location_ids(df, \"PancrasLock\"),\n",
    "    title=\"Pancras Lock (Density + Scatter)\",\n",
    "    incl_scatter=True,\n",
    "    diagonal_lines=True,\n",
    "    ax=axes[1, 1],\n",
    ")\n",
    "\n",
    "plt.tight_layout()\n",
    "plt.show()"
   ]
  },
  {
   "cell_type": "markdown",
   "id": "dfa30efa99cdbcb9",
   "metadata": {},
   "source": [
    "### Advanced Customization with Seaborn Objects\n",
    "\n",
    "For more advanced customization, you can use the Seaborn Objects API directly with Soundscapy's custom components:"
   ]
  },
  {
   "cell_type": "code",
   "execution_count": 27,
   "id": "f1e71a75",
   "metadata": {
    "ExecuteTime": {
     "end_time": "2024-08-16T10:09:59.342220Z",
     "start_time": "2024-08-16T10:09:58.998336Z"
    },
    "execution": {
     "iopub.execute_input": "2023-08-13T15:59:07.729384Z",
     "iopub.status.busy": "2023-08-13T15:59:07.729257Z",
     "iopub.status.idle": "2023-08-13T15:59:07.959221Z",
     "shell.execute_reply": "2023-08-13T15:59:07.958914Z"
    }
   },
   "outputs": [
    {
     "ename": "TypeError",
     "evalue": "SoundscapeCircumplex._plot() missing 1 required positional argument: 'y'",
     "output_type": "error",
     "traceback": [
      "\u001b[0;31m---------------------------------------------------------------------------\u001b[0m",
      "\u001b[0;31mTypeError\u001b[0m                                 Traceback (most recent call last)",
      "Cell \u001b[0;32mIn[27], line 53\u001b[0m\n\u001b[1;32m     16\u001b[0m \u001b[38;5;66;03m# Create a custom plot with multiple layers\u001b[39;00m\n\u001b[1;32m     17\u001b[0m custom_plot \u001b[38;5;241m=\u001b[39m (\n\u001b[1;32m     18\u001b[0m     so\u001b[38;5;241m.\u001b[39mPlot(russell_sq, x\u001b[38;5;241m=\u001b[39m\u001b[38;5;124m\"\u001b[39m\u001b[38;5;124mISOPleasant\u001b[39m\u001b[38;5;124m\"\u001b[39m, y\u001b[38;5;241m=\u001b[39m\u001b[38;5;124m\"\u001b[39m\u001b[38;5;124mISOEventful\u001b[39m\u001b[38;5;124m\"\u001b[39m)\n\u001b[1;32m     19\u001b[0m     \u001b[38;5;66;03m# Add scatter points\u001b[39;00m\n\u001b[0;32m   (...)\u001b[0m\n\u001b[1;32m     50\u001b[0m     )\n\u001b[1;32m     51\u001b[0m )\n\u001b[0;32m---> 53\u001b[0m \u001b[43mcustom_plot\u001b[49m\u001b[38;5;241;43m.\u001b[39;49m\u001b[43mshow\u001b[49m\u001b[43m(\u001b[49m\u001b[43m)\u001b[49m\n",
      "File \u001b[0;32m~/Documents/GitHub/Soundscapy/.venv/lib/python3.12/site-packages/seaborn/_core/plot.py:925\u001b[0m, in \u001b[0;36mPlot.show\u001b[0;34m(self, **kwargs)\u001b[0m\n\u001b[1;32m    908\u001b[0m \u001b[38;5;250m\u001b[39m\u001b[38;5;124;03m\"\"\"\u001b[39;00m\n\u001b[1;32m    909\u001b[0m \u001b[38;5;124;03mCompile the plot and display it by hooking into pyplot.\u001b[39;00m\n\u001b[1;32m    910\u001b[0m \n\u001b[0;32m   (...)\u001b[0m\n\u001b[1;32m    917\u001b[0m \n\u001b[1;32m    918\u001b[0m \u001b[38;5;124;03m\"\"\"\u001b[39;00m\n\u001b[1;32m    919\u001b[0m \u001b[38;5;66;03m# TODO make pyplot configurable at the class level, and when not using,\u001b[39;00m\n\u001b[1;32m    920\u001b[0m \u001b[38;5;66;03m# import IPython.display and call on self to populate cell output?\u001b[39;00m\n\u001b[1;32m    921\u001b[0m \n\u001b[1;32m    922\u001b[0m \u001b[38;5;66;03m# Keep an eye on whether matplotlib implements \"attaching\" an existing\u001b[39;00m\n\u001b[1;32m    923\u001b[0m \u001b[38;5;66;03m# figure to pyplot: https://github.com/matplotlib/matplotlib/pull/14024\u001b[39;00m\n\u001b[0;32m--> 925\u001b[0m \u001b[38;5;28;43mself\u001b[39;49m\u001b[38;5;241;43m.\u001b[39;49m\u001b[43mplot\u001b[49m\u001b[43m(\u001b[49m\u001b[43mpyplot\u001b[49m\u001b[38;5;241;43m=\u001b[39;49m\u001b[38;5;28;43;01mTrue\u001b[39;49;00m\u001b[43m)\u001b[49m\u001b[38;5;241m.\u001b[39mshow(\u001b[38;5;241m*\u001b[39m\u001b[38;5;241m*\u001b[39mkwargs)\n",
      "File \u001b[0;32m~/Documents/GitHub/Soundscapy/.venv/lib/python3.12/site-packages/seaborn/_core/plot.py:932\u001b[0m, in \u001b[0;36mPlot.plot\u001b[0;34m(self, pyplot)\u001b[0m\n\u001b[1;32m    928\u001b[0m \u001b[38;5;250m\u001b[39m\u001b[38;5;124;03m\"\"\"\u001b[39;00m\n\u001b[1;32m    929\u001b[0m \u001b[38;5;124;03mCompile the plot spec and return the Plotter object.\u001b[39;00m\n\u001b[1;32m    930\u001b[0m \u001b[38;5;124;03m\"\"\"\u001b[39;00m\n\u001b[1;32m    931\u001b[0m \u001b[38;5;28;01mwith\u001b[39;00m theme_context(\u001b[38;5;28mself\u001b[39m\u001b[38;5;241m.\u001b[39m_theme_with_defaults()):\n\u001b[0;32m--> 932\u001b[0m     \u001b[38;5;28;01mreturn\u001b[39;00m \u001b[38;5;28;43mself\u001b[39;49m\u001b[38;5;241;43m.\u001b[39;49m\u001b[43m_plot\u001b[49m\u001b[43m(\u001b[49m\u001b[43mpyplot\u001b[49m\u001b[43m)\u001b[49m\n",
      "File \u001b[0;32m~/Documents/GitHub/Soundscapy/.venv/lib/python3.12/site-packages/seaborn/_core/plot.py:962\u001b[0m, in \u001b[0;36mPlot._plot\u001b[0;34m(self, pyplot)\u001b[0m\n\u001b[1;32m    960\u001b[0m \u001b[38;5;66;03m# Process the data for each layer and add matplotlib artists\u001b[39;00m\n\u001b[1;32m    961\u001b[0m \u001b[38;5;28;01mfor\u001b[39;00m layer \u001b[38;5;129;01min\u001b[39;00m layers:\n\u001b[0;32m--> 962\u001b[0m     \u001b[43mplotter\u001b[49m\u001b[38;5;241;43m.\u001b[39;49m\u001b[43m_plot_layer\u001b[49m\u001b[43m(\u001b[49m\u001b[38;5;28;43mself\u001b[39;49m\u001b[43m,\u001b[49m\u001b[43m \u001b[49m\u001b[43mlayer\u001b[49m\u001b[43m)\u001b[49m\n\u001b[1;32m    964\u001b[0m \u001b[38;5;66;03m# Add various figure decorations\u001b[39;00m\n\u001b[1;32m    965\u001b[0m plotter\u001b[38;5;241m.\u001b[39m_make_legend(\u001b[38;5;28mself\u001b[39m)\n",
      "File \u001b[0;32m~/Documents/GitHub/Soundscapy/.venv/lib/python3.12/site-packages/seaborn/_core/plot.py:1488\u001b[0m, in \u001b[0;36mPlotter._plot_layer\u001b[0;34m(self, p, layer)\u001b[0m\n\u001b[1;32m   1485\u001b[0m     grouping_vars \u001b[38;5;241m=\u001b[39m mark\u001b[38;5;241m.\u001b[39m_grouping_props \u001b[38;5;241m+\u001b[39m default_grouping_vars\n\u001b[1;32m   1486\u001b[0m     split_generator \u001b[38;5;241m=\u001b[39m \u001b[38;5;28mself\u001b[39m\u001b[38;5;241m.\u001b[39m_setup_split_generator(grouping_vars, df, subplots)\n\u001b[0;32m-> 1488\u001b[0m     \u001b[43mmark\u001b[49m\u001b[38;5;241;43m.\u001b[39;49m\u001b[43m_plot\u001b[49m\u001b[43m(\u001b[49m\u001b[43msplit_generator\u001b[49m\u001b[43m,\u001b[49m\u001b[43m \u001b[49m\u001b[43mscales\u001b[49m\u001b[43m,\u001b[49m\u001b[43m \u001b[49m\u001b[43morient\u001b[49m\u001b[43m)\u001b[49m\n\u001b[1;32m   1490\u001b[0m \u001b[38;5;66;03m# TODO is this the right place for this?\u001b[39;00m\n\u001b[1;32m   1491\u001b[0m \u001b[38;5;28;01mfor\u001b[39;00m view \u001b[38;5;129;01min\u001b[39;00m \u001b[38;5;28mself\u001b[39m\u001b[38;5;241m.\u001b[39m_subplots:\n",
      "\u001b[0;31mTypeError\u001b[0m: SoundscapeCircumplex._plot() missing 1 required positional argument: 'y'"
     ]
    },
    {
     "data": {
      "image/png": "[encoded data removed]",
      "text/plain": [
       "<Figure size 800x800 with 1 Axes>"
      ]
     },
     "metadata": {},
     "output_type": "display_data"
    }
   ],
   "source": [
    "import numpy as np\n",
    "from soundscapy.plotting import (\n",
    "    SoundscapeCircumplex,\n",
    "    SoundscapeQuadrantLabels,\n",
    "    SoundscapePointAnnotation,\n",
    "    add_calculated_coords,\n",
    "    use_soundscapy_style,\n",
    ")\n",
    "\n",
    "# Apply the Soundscapy style\n",
    "use_soundscapy_style()\n",
    "\n",
    "# Get data for one location\n",
    "russell_sq = isd.select_location_ids(df, [\"RussellSq\"])\n",
    "\n",
    "# Create a custom plot with multiple layers\n",
    "custom_plot = (\n",
    "    so.Plot(russell_sq, x=\"ISOPleasant\", y=\"ISOEventful\")\n",
    "    # Add scatter points\n",
    "    .add(so.Dots(marker=\".\"), color=\"SessionID\")\n",
    "    .scale(color=so.Nominal(\"viridis\"))\n",
    "    # Add circumplex grid with custom styling\n",
    "    .add(\n",
    "        SoundscapeCircumplex(\n",
    "            primary_color=\"darkblue\", primary_alpha=0.8, grid_color=\"lightgray\"\n",
    "        )\n",
    "    )\n",
    "    # Add quadrant labels with custom styling\n",
    "    .add(\n",
    "        SoundscapeQuadrantLabels(\n",
    "            line_color=\"darkblue\", line_alpha=0.5, label_color=\"darkblue\", label_size=10\n",
    "        )\n",
    "    )\n",
    "    # Add an annotation for the point closest to the center\n",
    "    .add(\n",
    "        SoundscapePointAnnotation(\n",
    "            points=[0],  # First point in the data\n",
    "            texts=[\"Center point\"],\n",
    "            offsets=(0.2, 0.2),\n",
    "            fontsize=12,\n",
    "            arrow_color=\"red\",\n",
    "            arrow_alpha=1.0,\n",
    "        )\n",
    "    )\n",
    "    # Layout and labels\n",
    "    .layout(size=(8, 8))\n",
    "    .label(\n",
    "        title=\"Advanced Custom Plot with Seaborn Objects\",\n",
    "        subtitle=\"Russell Square data with custom styling\",\n",
    "    )\n",
    ")\n",
    "\n",
    "custom_plot.show()"
   ]
  },
  {
   "cell_type": "markdown",
   "id": "b8f1ec3c",
   "metadata": {},
   "source": [
    "### Using the SoundscapeCoordinates Stat\n",
    "\n",
    "Soundscapy also provides a custom Stat for calculating ISO coordinates directly within the plotting pipeline:"
   ]
  },
  {
   "cell_type": "code",
   "execution_count": 28,
   "id": "1f9b46d0fe6a0888",
   "metadata": {
    "collapsed": false
   },
   "outputs": [
    {
     "ename": "TypeError",
     "evalue": "mark must be a Mark instance, not <class 'soundscapy.plotting.stats.SoundscapeCoordinates'>.",
     "output_type": "error",
     "traceback": [
      "\u001b[0;31m---------------------------------------------------------------------------\u001b[0m",
      "\u001b[0;31mTypeError\u001b[0m                                 Traceback (most recent call last)",
      "Cell \u001b[0;32mIn[28], line 11\u001b[0m\n\u001b[1;32m      5\u001b[0m paq_data \u001b[38;5;241m=\u001b[39m russell_sq[[\u001b[38;5;124m\"\u001b[39m\u001b[38;5;124mPAQ1\u001b[39m\u001b[38;5;124m\"\u001b[39m, \u001b[38;5;124m\"\u001b[39m\u001b[38;5;124mPAQ2\u001b[39m\u001b[38;5;124m\"\u001b[39m, \u001b[38;5;124m\"\u001b[39m\u001b[38;5;124mPAQ3\u001b[39m\u001b[38;5;124m\"\u001b[39m, \u001b[38;5;124m\"\u001b[39m\u001b[38;5;124mPAQ4\u001b[39m\u001b[38;5;124m\"\u001b[39m, \u001b[38;5;124m\"\u001b[39m\u001b[38;5;124mPAQ5\u001b[39m\u001b[38;5;124m\"\u001b[39m, \u001b[38;5;124m\"\u001b[39m\u001b[38;5;124mPAQ6\u001b[39m\u001b[38;5;124m\"\u001b[39m, \u001b[38;5;124m\"\u001b[39m\u001b[38;5;124mPAQ7\u001b[39m\u001b[38;5;124m\"\u001b[39m, \u001b[38;5;124m\"\u001b[39m\u001b[38;5;124mPAQ8\u001b[39m\u001b[38;5;124m\"\u001b[39m]]\n\u001b[1;32m      7\u001b[0m \u001b[38;5;66;03m# Calculate ISO coordinates with default angles\u001b[39;00m\n\u001b[1;32m      8\u001b[0m plot_default \u001b[38;5;241m=\u001b[39m (\n\u001b[1;32m      9\u001b[0m     \u001b[43mso\u001b[49m\u001b[38;5;241;43m.\u001b[39;49m\u001b[43mPlot\u001b[49m\u001b[43m(\u001b[49m\u001b[43mpaq_data\u001b[49m\u001b[43m)\u001b[49m\n\u001b[1;32m     10\u001b[0m \u001b[43m    \u001b[49m\u001b[38;5;66;43;03m# Transform PAQ data to ISO coordinates\u001b[39;49;00m\n\u001b[0;32m---> 11\u001b[0m \u001b[43m    \u001b[49m\u001b[38;5;241;43m.\u001b[39;49m\u001b[43madd\u001b[49m\u001b[43m(\u001b[49m\u001b[43mSoundscapeCoordinates\u001b[49m\u001b[43m(\u001b[49m\u001b[43m)\u001b[49m\u001b[43m)\u001b[49m\n\u001b[1;32m     12\u001b[0m     \u001b[38;5;66;03m# Plot the points\u001b[39;00m\n\u001b[1;32m     13\u001b[0m     \u001b[38;5;241m.\u001b[39madd(so\u001b[38;5;241m.\u001b[39mDots(pointsize\u001b[38;5;241m=\u001b[39m\u001b[38;5;241m30\u001b[39m, alpha\u001b[38;5;241m=\u001b[39m\u001b[38;5;241m0.8\u001b[39m))\n\u001b[1;32m     14\u001b[0m     \u001b[38;5;66;03m# Add the circumplex grid\u001b[39;00m\n\u001b[1;32m     15\u001b[0m     \u001b[38;5;241m.\u001b[39madd(SoundscapeCircumplex())\n\u001b[1;32m     16\u001b[0m     \u001b[38;5;241m.\u001b[39mlabel(title\u001b[38;5;241m=\u001b[39m\u001b[38;5;124m\"\u001b[39m\u001b[38;5;124mDefault ISO Coordinates\u001b[39m\u001b[38;5;124m\"\u001b[39m)\n\u001b[1;32m     17\u001b[0m )\n\u001b[1;32m     19\u001b[0m \u001b[38;5;66;03m# Calculate ISO coordinates with language-specific angles\u001b[39;00m\n\u001b[1;32m     20\u001b[0m plot_adjusted \u001b[38;5;241m=\u001b[39m (\n\u001b[1;32m     21\u001b[0m     so\u001b[38;5;241m.\u001b[39mPlot(paq_data)\n\u001b[1;32m     22\u001b[0m     \u001b[38;5;66;03m# Transform PAQ data to ISO coordinates with English-specific angles\u001b[39;00m\n\u001b[0;32m   (...)\u001b[0m\n\u001b[1;32m     32\u001b[0m     \u001b[38;5;241m.\u001b[39mlabel(title\u001b[38;5;241m=\u001b[39m\u001b[38;5;124m\"\u001b[39m\u001b[38;5;124mLanguage-Adjusted ISO Coordinates\u001b[39m\u001b[38;5;124m\"\u001b[39m)\n\u001b[1;32m     33\u001b[0m )\n",
      "File \u001b[0;32m~/Documents/GitHub/Soundscapy/.venv/lib/python3.12/site-packages/seaborn/_core/plot.py:532\u001b[0m, in \u001b[0;36mPlot.add\u001b[0;34m(self, mark, orient, legend, label, data, *transforms, **variables)\u001b[0m\n\u001b[1;32m    530\u001b[0m \u001b[38;5;28;01mif\u001b[39;00m \u001b[38;5;129;01mnot\u001b[39;00m \u001b[38;5;28misinstance\u001b[39m(mark, Mark):\n\u001b[1;32m    531\u001b[0m     msg \u001b[38;5;241m=\u001b[39m \u001b[38;5;124mf\u001b[39m\u001b[38;5;124m\"\u001b[39m\u001b[38;5;124mmark must be a Mark instance, not \u001b[39m\u001b[38;5;132;01m{\u001b[39;00m\u001b[38;5;28mtype\u001b[39m(mark)\u001b[38;5;132;01m!r}\u001b[39;00m\u001b[38;5;124m.\u001b[39m\u001b[38;5;124m\"\u001b[39m\n\u001b[0;32m--> 532\u001b[0m     \u001b[38;5;28;01mraise\u001b[39;00m \u001b[38;5;167;01mTypeError\u001b[39;00m(msg)\n\u001b[1;32m    534\u001b[0m \u001b[38;5;66;03m# TODO This API for transforms was a late decision, and previously Plot.add\u001b[39;00m\n\u001b[1;32m    535\u001b[0m \u001b[38;5;66;03m# accepted 0 or 1 Stat instances and 0, 1, or a list of Move instances.\u001b[39;00m\n\u001b[1;32m    536\u001b[0m \u001b[38;5;66;03m# It will take some work to refactor the internals so that Stat and Move are\u001b[39;00m\n\u001b[1;32m    537\u001b[0m \u001b[38;5;66;03m# treated identically, and until then well need to \"unpack\" the transforms\u001b[39;00m\n\u001b[1;32m    538\u001b[0m \u001b[38;5;66;03m# here and enforce limitations on the order / types.\u001b[39;00m\n\u001b[1;32m    540\u001b[0m stat: Optional[Stat]\n",
      "\u001b[0;31mTypeError\u001b[0m: mark must be a Mark instance, not <class 'soundscapy.plotting.stats.SoundscapeCoordinates'>."
     ]
    }
   ],
   "source": [
    "from soundscapy.surveys import LANGUAGE_ANGLES\n",
    "from soundscapy.plotting import SoundscapeCoordinates\n",
    "\n",
    "# Get data without ISO coordinates\n",
    "paq_data = russell_sq[[\"PAQ1\", \"PAQ2\", \"PAQ3\", \"PAQ4\", \"PAQ5\", \"PAQ6\", \"PAQ7\", \"PAQ8\"]]\n",
    "\n",
    "# Calculate ISO coordinates with default angles\n",
    "plot_default = (\n",
    "    so.Plot(paq_data)\n",
    "    # Transform PAQ data to ISO coordinates\n",
    "    .add(SoundscapeCoordinates())\n",
    "    # Plot the points\n",
    "    .add(so.Dots(pointsize=30, alpha=0.8))\n",
    "    # Add the circumplex grid\n",
    "    .add(SoundscapeCircumplex())\n",
    "    .label(title=\"Default ISO Coordinates\")\n",
    ")\n",
    "\n",
    "# Calculate ISO coordinates with language-specific angles\n",
    "plot_adjusted = (\n",
    "    so.Plot(paq_data)\n",
    "    # Transform PAQ data to ISO coordinates with English-specific angles\n",
    "    .add(\n",
    "        SoundscapeCoordinates(\n",
    "            angles=LANGUAGE_ANGLES[\"eng\"], output_cols=(\"AdjPleasant\", \"AdjEventful\")\n",
    "        )\n",
    "    )\n",
    "    # Plot the points\n",
    "    .add(so.Dots(pointsize=30, alpha=0.8, color=\"red\"))\n",
    "    # Add the circumplex grid\n",
    "    .add(SoundscapeCircumplex())\n",
    "    .label(title=\"Language-Adjusted ISO Coordinates\")\n",
    ")\n",
    "\n",
    "# Display the plots side by side\n",
    "fig, (ax1, ax2) = plt.subplots(1, 2, figsize=(12, 6))\n",
    "plot_default.plot(ax=ax1)\n",
    "plot_adjusted.plot(ax=ax2)\n",
    "plt.tight_layout()\n",
    "plt.show()"
   ]
  },
  {
   "cell_type": "markdown",
   "id": "ee4a4c193f93596d",
   "metadata": {
    "ExecuteTime": {
     "end_time": "2024-08-16T10:09:59.779363Z",
     "start_time": "2024-08-16T10:09:59.344102Z"
    },
    "collapsed": false
   },
   "source": [
    "### Using Custom ISO Coordinate Angles\n",
    "\n",
    "For comparison between different language datasets, you can use language-adjusted angles for the ISO coordinates:"
   ]
  },
  {
   "cell_type": "code",
   "execution_count": 29,
   "id": "70f9bf6e",
   "metadata": {},
   "outputs": [
    {
     "ename": "TypeError",
     "evalue": "KDE.__init__() got an unexpected keyword argument 'levels'",
     "output_type": "error",
     "traceback": [
      "\u001b[0;31m---------------------------------------------------------------------------\u001b[0m",
      "\u001b[0;31mTypeError\u001b[0m                                 Traceback (most recent call last)",
      "Cell \u001b[0;32mIn[29], line 21\u001b[0m\n\u001b[1;32m      4\u001b[0m adjusted_df \u001b[38;5;241m=\u001b[39m add_calculated_coords(\n\u001b[1;32m      5\u001b[0m     df,\n\u001b[1;32m      6\u001b[0m     angles\u001b[38;5;241m=\u001b[39mLANGUAGE_ANGLES[\u001b[38;5;124m\"\u001b[39m\u001b[38;5;124meng\u001b[39m\u001b[38;5;124m\"\u001b[39m],\n\u001b[1;32m      7\u001b[0m     output_cols\u001b[38;5;241m=\u001b[39m(\u001b[38;5;124m\"\u001b[39m\u001b[38;5;124mAdjPleasant\u001b[39m\u001b[38;5;124m\"\u001b[39m, \u001b[38;5;124m\"\u001b[39m\u001b[38;5;124mAdjEventful\u001b[39m\u001b[38;5;124m\"\u001b[39m),\n\u001b[1;32m      8\u001b[0m     overwrite\u001b[38;5;241m=\u001b[39m\u001b[38;5;28;01mTrue\u001b[39;00m,  \u001b[38;5;66;03m# Overwrite if columns already exist\u001b[39;00m\n\u001b[1;32m      9\u001b[0m )\n\u001b[1;32m     11\u001b[0m \u001b[38;5;66;03m# Plot with adjusted coordinates\u001b[39;00m\n\u001b[1;32m     12\u001b[0m comparison_plot \u001b[38;5;241m=\u001b[39m (\n\u001b[1;32m     13\u001b[0m     so\u001b[38;5;241m.\u001b[39mPlot(\n\u001b[1;32m     14\u001b[0m         isd\u001b[38;5;241m.\u001b[39mselect_location_ids(adjusted_df, [\u001b[38;5;124m\"\u001b[39m\u001b[38;5;124mCamdenTown\u001b[39m\u001b[38;5;124m\"\u001b[39m, \u001b[38;5;124m\"\u001b[39m\u001b[38;5;124mRussellSq\u001b[39m\u001b[38;5;124m\"\u001b[39m]),\n\u001b[1;32m     15\u001b[0m         x\u001b[38;5;241m=\u001b[39m\u001b[38;5;124m\"\u001b[39m\u001b[38;5;124mAdjPleasant\u001b[39m\u001b[38;5;124m\"\u001b[39m,\n\u001b[1;32m     16\u001b[0m         y\u001b[38;5;241m=\u001b[39m\u001b[38;5;124m\"\u001b[39m\u001b[38;5;124mAdjEventful\u001b[39m\u001b[38;5;124m\"\u001b[39m,\n\u001b[1;32m     17\u001b[0m     )\n\u001b[1;32m     18\u001b[0m     \u001b[38;5;66;03m# Add density contours\u001b[39;00m\n\u001b[1;32m     19\u001b[0m     \u001b[38;5;241m.\u001b[39madd(\n\u001b[1;32m     20\u001b[0m         so\u001b[38;5;241m.\u001b[39mArea(alpha\u001b[38;5;241m=\u001b[39m\u001b[38;5;241m0.6\u001b[39m, fill\u001b[38;5;241m=\u001b[39m\u001b[38;5;28;01mTrue\u001b[39;00m),\n\u001b[0;32m---> 21\u001b[0m         \u001b[43mso\u001b[49m\u001b[38;5;241;43m.\u001b[39;49m\u001b[43mKDE\u001b[49m\u001b[43m(\u001b[49m\u001b[43mbw_adjust\u001b[49m\u001b[38;5;241;43m=\u001b[39;49m\u001b[38;5;241;43m1.2\u001b[39;49m\u001b[43m,\u001b[49m\u001b[43m \u001b[49m\u001b[43mlevels\u001b[49m\u001b[38;5;241;43m=\u001b[39;49m\u001b[38;5;241;43m2\u001b[39;49m\u001b[43m)\u001b[49m,\n\u001b[1;32m     22\u001b[0m         color\u001b[38;5;241m=\u001b[39m\u001b[38;5;124m\"\u001b[39m\u001b[38;5;124mLocationID\u001b[39m\u001b[38;5;124m\"\u001b[39m,\n\u001b[1;32m     23\u001b[0m     )\n\u001b[1;32m     24\u001b[0m     \u001b[38;5;66;03m# Add scatter points\u001b[39;00m\n\u001b[1;32m     25\u001b[0m     \u001b[38;5;241m.\u001b[39madd(so\u001b[38;5;241m.\u001b[39mDots(pointsize\u001b[38;5;241m=\u001b[39m\u001b[38;5;241m20\u001b[39m, alpha\u001b[38;5;241m=\u001b[39m\u001b[38;5;241m0.7\u001b[39m), color\u001b[38;5;241m=\u001b[39m\u001b[38;5;124m\"\u001b[39m\u001b[38;5;124mLocationID\u001b[39m\u001b[38;5;124m\"\u001b[39m)\n\u001b[1;32m     26\u001b[0m     \u001b[38;5;66;03m# Add grid\u001b[39;00m\n\u001b[1;32m     27\u001b[0m     \u001b[38;5;241m.\u001b[39madd(SoundscapeCircumplex())\n\u001b[1;32m     28\u001b[0m     \u001b[38;5;66;03m# Add labels and styling\u001b[39;00m\n\u001b[1;32m     29\u001b[0m     \u001b[38;5;241m.\u001b[39mscale(color\u001b[38;5;241m=\u001b[39mso\u001b[38;5;241m.\u001b[39mNominal(\u001b[38;5;124m\"\u001b[39m\u001b[38;5;124mhusl\u001b[39m\u001b[38;5;124m\"\u001b[39m))\n\u001b[1;32m     30\u001b[0m     \u001b[38;5;241m.\u001b[39mlabel(\n\u001b[1;32m     31\u001b[0m         title\u001b[38;5;241m=\u001b[39m\u001b[38;5;124m\"\u001b[39m\u001b[38;5;124mComparison with Language-Adjusted Coordinates\u001b[39m\u001b[38;5;124m\"\u001b[39m,\n\u001b[1;32m     32\u001b[0m         x\u001b[38;5;241m=\u001b[39m\u001b[38;5;124m\"\u001b[39m\u001b[38;5;124mAdjusted Pleasant\u001b[39m\u001b[38;5;124m\"\u001b[39m,\n\u001b[1;32m     33\u001b[0m         y\u001b[38;5;241m=\u001b[39m\u001b[38;5;124m\"\u001b[39m\u001b[38;5;124mAdjusted Eventful\u001b[39m\u001b[38;5;124m\"\u001b[39m,\n\u001b[1;32m     34\u001b[0m     )\n\u001b[1;32m     35\u001b[0m )\n\u001b[1;32m     37\u001b[0m comparison_plot\u001b[38;5;241m.\u001b[39mshow()\n",
      "\u001b[0;31mTypeError\u001b[0m: KDE.__init__() got an unexpected keyword argument 'levels'"
     ]
    }
   ],
   "source": [
    "from soundscapy.surveys import LANGUAGE_ANGLES\n",
    "\n",
    "# Calculate and add adjusted ISO coordinates\n",
    "adjusted_df = add_calculated_coords(\n",
    "    df,\n",
    "    angles=LANGUAGE_ANGLES[\"eng\"],\n",
    "    output_cols=(\"AdjPleasant\", \"AdjEventful\"),\n",
    "    overwrite=True,  # Overwrite if columns already exist\n",
    ")\n",
    "\n",
    "# Plot with adjusted coordinates\n",
    "comparison_plot = (\n",
    "    so.Plot(\n",
    "        isd.select_location_ids(adjusted_df, [\"CamdenTown\", \"RussellSq\"]),\n",
    "        x=\"AdjPleasant\",\n",
    "        y=\"AdjEventful\",\n",
    "    )\n",
    "    # Add density contours\n",
    "    .add(\n",
    "        so.Area(alpha=0.6, fill=True),\n",
    "        so.KDE(bw_adjust=1.2, levels=2),\n",
    "        color=\"LocationID\",\n",
    "    )\n",
    "    # Add scatter points\n",
    "    .add(so.Dots(pointsize=20, alpha=0.7), color=\"LocationID\")\n",
    "    # Add grid\n",
    "    .add(SoundscapeCircumplex())\n",
    "    # Add labels and styling\n",
    "    .scale(color=so.Nominal(\"husl\"))\n",
    "    .label(\n",
    "        title=\"Comparison with Language-Adjusted Coordinates\",\n",
    "        x=\"Adjusted Pleasant\",\n",
    "        y=\"Adjusted Eventful\",\n",
    "    )\n",
    ")\n",
    "\n",
    "comparison_plot.show()"
   ]
  },
  {
   "cell_type": "code",
   "execution_count": null,
   "id": "ee2e036f",
   "metadata": {},
   "outputs": [],
   "source": []
  }
 ],
 "metadata": {
  "jupytext": {
   "cell_markers": "\"\"\""
  },
  "kernelspec": {
   "display_name": ".venv (3.12.5)",
   "language": "python",
   "name": "python3"
  },
  "language_info": {
   "codemirror_mode": {
    "name": "ipython",
    "version": 3
   },
   "file_extension": ".py",
   "mimetype": "text/x-python",
   "name": "python",
   "nbconvert_exporter": "python",
   "pygments_lexer": "ipython3",
   "version": "3.12.5"
  }
 },
 "nbformat": 4,
 "nbformat_minor": 5
}
