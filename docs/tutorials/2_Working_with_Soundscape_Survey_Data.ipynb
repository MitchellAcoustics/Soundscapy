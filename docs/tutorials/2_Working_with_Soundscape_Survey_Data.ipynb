{
 "cells": [
  {
   "cell_type": "code",
   "execution_count": 1,
   "id": "a7f4bad6",
   "metadata": {
    "ExecuteTime": {
     "end_time": "2025-05-15T00:13:27.671044Z",
     "start_time": "2025-05-15T00:13:26.132309Z"
    }
   },
   "outputs": [],
   "source": [
    "import matplotlib.pyplot as plt\n",
    "import pandas as pd\n",
    "\n",
    "import soundscapy as sspy\n",
    "from soundscapy.databases import isd\n",
    "from soundscapy.surveys import LANGUAGE_ANGLES, PAQ_IDS, rename_paqs"
   ]
  },
  {
   "cell_type": "markdown",
   "id": "ede2cdc7",
   "metadata": {
    "cell_marker": "\"\"\""
   },
   "source": [
    "# Working with Soundscape Survey Data\n",
    "\n",
    "## Introduction\n",
    "\n",
    "This tutorial provides a comprehensive guide to working with soundscape survey data using the `Soundscapy` package. We'll cover loading, validating, cleaning, and processing survey data, with a focus on the International Soundscape Database (ISD) format.\n",
    "\n",
    "### Learning Objectives\n",
    "\n",
    "By the end of this tutorial, you will be able to:\n",
    "- Load and validate soundscape survey data\n",
    "- Perform data quality checks and handle missing values\n",
    "- Calculate ISO coordinates from PAQ ratings\n",
    "- Filter and group data by various criteria\n",
    "- Work with different survey formats and scales\n",
    "- Handle multi-language data using language-specific angles\n",
    "\n",
    "Let's begin by importing the necessary libraries:"
   ]
  },
  {
   "cell_type": "markdown",
   "id": "c098816d",
   "metadata": {
    "cell_marker": "\"\"\""
   },
   "source": [
    "## 1. Loading Soundscape Survey Data\n",
    "\n",
    "Soundscapy provides several ways to load soundscape survey data. The most common approach is to use the built-in functions for loading the International Soundscape Database (ISD)."
   ]
  },
  {
   "cell_type": "code",
   "execution_count": 2,
   "id": "976a8e2f",
   "metadata": {
    "ExecuteTime": {
     "end_time": "2025-05-15T00:13:27.698941Z",
     "start_time": "2025-05-15T00:13:27.674405Z"
    }
   },
   "outputs": [
    {
     "name": "stdout",
     "output_type": "stream",
     "text": [
      "Dataset shape: (3589, 142)\n",
      "Number of locations: 26\n",
      "Number of records: 2664\n",
      "PAQ columns: ['PAQ1', 'PAQ2', 'PAQ3', 'PAQ4', 'PAQ5', 'PAQ6', 'PAQ7', 'PAQ8']\n"
     ]
    }
   ],
   "source": [
    "# Load the ISD dataset included with Soundscapy\n",
    "data = isd.load()\n",
    "\n",
    "# Display basic information about the dataset\n",
    "print(f\"Dataset shape: {data.shape}\")\n",
    "print(f\"Number of locations: {data['LocationID'].nunique()}\")\n",
    "print(f\"Number of records: {data['RecordID'].nunique()}\")\n",
    "print(f\"PAQ columns: {PAQ_IDS}\")"
   ]
  },
  {
   "cell_type": "markdown",
   "id": "45339026",
   "metadata": {
    "cell_marker": "\"\"\""
   },
   "source": [
    "### Loading from Zenodo\n",
    "\n",
    "You can also load the ISD dataset directly from Zenodo, which allows you to access different versions of the dataset:"
   ]
  },
  {
   "cell_type": "code",
   "execution_count": 3,
   "id": "2293cacc",
   "metadata": {
    "ExecuteTime": {
     "end_time": "2025-05-15T00:13:27.936285Z",
     "start_time": "2025-05-15T00:13:27.934351Z"
    }
   },
   "outputs": [],
   "source": [
    "# Load a specific version of the ISD dataset from Zenodo\n",
    "# Note: This requires an internet connection\n",
    "# data_zenodo = isd.load_zenodo(version=\"v1.0.1\")\n",
    "# print(f\"Zenodo dataset shape: {data_zenodo.shape}\")"
   ]
  },
  {
   "cell_type": "markdown",
   "id": "2e044547",
   "metadata": {
    "cell_marker": "\"\"\""
   },
   "source": [
    "### Loading Your Own Data\n",
    "\n",
    "If you have your own soundscape survey data, you can load it using pandas and then process it with Soundscapy. The key is to ensure that your data includes the PAQ columns (PAQ1-PAQ8) or equivalent columns that can be renamed to match the expected format.\n",
    "\n",
    "Example of loading your own data (commented out as it's just an example)\n",
    "\n",
    "```python\n",
    "# Load data from a CSV file\n",
    "my_data = pd.read_csv('path/to/your/data.csv')\n",
    "\n",
    "# If your PAQ columns have different names, rename them\n",
    "paq_mapping = {\n",
    "    'pleasant': 'PAQ1',\n",
    "    'vibrant': 'PAQ2',\n",
    "    'eventful': 'PAQ3',\n",
    "    'chaotic': 'PAQ4',\n",
    "    'annoying': 'PAQ5',\n",
    "    'monotonous': 'PAQ6',\n",
    "    'uneventful': 'PAQ7',\n",
    "    'calm': 'PAQ8'\n",
    "}\n",
    "my_data = rename_paqs(my_data, paq_mapping)\n",
    "```"
   ]
  },
  {
   "cell_type": "markdown",
   "id": "a0d2a2f3",
   "metadata": {
    "cell_marker": "\"\"\""
   },
   "source": [
    "## 2. Data Validation and Quality Checks\n",
    "\n",
    "Before analyzing soundscape data, it's important to validate it and check for data quality issues. Soundscapy provides functions for this purpose."
   ]
  },
  {
   "cell_type": "code",
   "execution_count": 4,
   "id": "89820b93",
   "metadata": {
    "ExecuteTime": {
     "end_time": "2025-05-15T00:13:29.802172Z",
     "start_time": "2025-05-15T00:13:29.617126Z"
    }
   },
   "outputs": [
    {
     "name": "stdout",
     "output_type": "stream",
     "text": [
      "Valid samples: 3533\n",
      "Excluded samples: 56\n"
     ]
    }
   ],
   "source": [
    "# Validate the dataset\n",
    "valid_data, excluded_data = isd.validate(data)\n",
    "\n",
    "print(f\"Valid samples: {valid_data.shape[0]}\")\n",
    "print(f\"Excluded samples: {0 if excluded_data is None else excluded_data.shape[0]}\")"
   ]
  },
  {
   "cell_type": "markdown",
   "id": "989dc378",
   "metadata": {
    "cell_marker": "\"\"\""
   },
   "source": [
    "### Understanding Data Validation\n",
    "\n",
    "The `validate` function performs several checks on the PAQ data:\n",
    "\n",
    "1. **Missing Values**: By default, it checks for missing values in the PAQ columns. You can allow missing values by setting `allow_paq_na=True`.\n",
    "2. **Value Range**: It checks that all PAQ values are within the expected range (default is 1-5 for a 5-point Likert scale).\n",
    "3. **Constant Responses**: It checks for responses where all PAQs have the same value (except for the midpoint value), which may indicate inattentive responding.\n",
    "\n",
    "Let's look at how to customize these checks:"
   ]
  },
  {
   "cell_type": "code",
   "execution_count": 5,
   "id": "99b42fb0",
   "metadata": {
    "ExecuteTime": {
     "end_time": "2025-05-15T00:13:30.562687Z",
     "start_time": "2025-05-15T00:13:30.394861Z"
    }
   },
   "outputs": [
    {
     "name": "stdout",
     "output_type": "stream",
     "text": [
      "Valid samples with custom validation: 3533\n",
      "Excluded samples with custom validation: 56\n"
     ]
    }
   ],
   "source": [
    "# Custom validation with different parameters\n",
    "custom_valid_data, custom_excluded_data = isd.validate(\n",
    "    data,\n",
    "    val_range=(1, 5),  # Specify the expected range of PAQ values\n",
    "    allow_paq_na=False,  # Don't allow missing values in PAQs\n",
    ")\n",
    "\n",
    "print(f\"Valid samples with custom validation: {custom_valid_data.shape[0]}\")\n",
    "print(\n",
    "    f\"Excluded samples with custom validation: {0 if custom_excluded_data is None else custom_excluded_data.shape[0]}\"\n",
    ")"
   ]
  },
  {
   "cell_type": "markdown",
   "id": "d74848f4",
   "metadata": {
    "cell_marker": "\"\"\""
   },
   "source": [
    "### Manual Data Quality Checks\n",
    "\n",
    "You can also perform your own data quality checks using pandas functions:"
   ]
  },
  {
   "cell_type": "code",
   "execution_count": 6,
   "id": "cb6af15d",
   "metadata": {
    "ExecuteTime": {
     "end_time": "2025-05-15T00:13:30.945145Z",
     "start_time": "2025-05-15T00:13:30.939909Z"
    }
   },
   "outputs": [
    {
     "name": "stdout",
     "output_type": "stream",
     "text": [
      "Missing values in PAQ columns:\n",
      "PAQ1     1\n",
      "PAQ2     9\n",
      "PAQ3     9\n",
      "PAQ4     6\n",
      "PAQ5    13\n",
      "PAQ6     6\n",
      "PAQ7    13\n",
      "PAQ8     6\n",
      "dtype: int64\n",
      "\n",
      "Values outside the expected range (1-5):\n",
      "PAQ1    0\n",
      "PAQ2    0\n",
      "PAQ3    0\n",
      "PAQ4    0\n",
      "PAQ5    0\n",
      "PAQ6    0\n",
      "PAQ7    0\n",
      "PAQ8    0\n",
      "dtype: int64\n"
     ]
    }
   ],
   "source": [
    "# Check for missing values in PAQ columns\n",
    "missing_counts = data[PAQ_IDS].isna().sum()\n",
    "print(\"Missing values in PAQ columns:\")\n",
    "print(missing_counts)\n",
    "\n",
    "# Check for values outside the expected range\n",
    "out_of_range = ((data[PAQ_IDS] < 1) | (data[PAQ_IDS] > 5)).sum()\n",
    "print(\"\\nValues outside the expected range (1-5):\")\n",
    "print(out_of_range)"
   ]
  },
  {
   "cell_type": "markdown",
   "id": "b17e8b3e",
   "metadata": {
    "cell_marker": "\"\"\""
   },
   "source": [
    "## 3. Calculating ISO Coordinates\n",
    "\n",
    "Once you have validated your data, the next step is to calculate the ISO coordinates (ISOPleasant and ISOEventful) from the PAQ ratings. Soundscapy provides functions for this purpose."
   ]
  },
  {
   "cell_type": "code",
   "execution_count": 7,
   "id": "d148f300",
   "metadata": {
    "ExecuteTime": {
     "end_time": "2025-05-15T00:13:31.984333Z",
     "start_time": "2025-05-15T00:13:31.461519Z"
    }
   },
   "outputs": [
    {
     "name": "stdout",
     "output_type": "stream",
     "text": [
      "Data with ISO coordinates:\n",
      "   ISOPleasant  ISOEventful\n",
      "0     0.219670    -0.133883\n",
      "1    -0.426777     0.530330\n",
      "2     0.676777    -0.073223\n",
      "3     0.603553    -0.146447\n",
      "4     0.457107    -0.146447\n",
      "\n",
      "Using add_iso_coords function:\n",
      "   ISOPleasant  ISOEventful\n",
      "0     0.219670    -0.133883\n",
      "1    -0.426777     0.530330\n",
      "2     0.676777    -0.073223\n",
      "3     0.603553    -0.146447\n",
      "4     0.457107    -0.146447\n"
     ]
    }
   ],
   "source": [
    "# Calculate ISO coordinates\n",
    "iso_pleasant, iso_eventful = sspy.surveys.calculate_iso_coords(valid_data[PAQ_IDS])\n",
    "\n",
    "# Add the ISO coordinates to the dataframe\n",
    "valid_data_with_iso = valid_data.copy()\n",
    "valid_data_with_iso[\"ISOPleasant\"] = iso_pleasant\n",
    "valid_data_with_iso[\"ISOEventful\"] = iso_eventful\n",
    "\n",
    "# Display the first few rows\n",
    "print(\"Data with ISO coordinates:\")\n",
    "print(valid_data_with_iso[[\"ISOPleasant\", \"ISOEventful\"]].head())\n",
    "\n",
    "# Alternatively, use the add_iso_coords function\n",
    "valid_data_with_iso = sspy.surveys.add_iso_coords(valid_data)\n",
    "print(\"\\nUsing add_iso_coords function:\")\n",
    "print(valid_data_with_iso[[\"ISOPleasant\", \"ISOEventful\"]].head())"
   ]
  },
  {
   "cell_type": "markdown",
   "id": "52a07694",
   "metadata": {
    "cell_marker": "\"\"\""
   },
   "source": [
    "### Customizing ISO Coordinate Calculation\n",
    "\n",
    "You can customize the ISO coordinate calculation by specifying the value range of the PAQ ratings and the angles of the PAQs in the circumplex model:"
   ]
  },
  {
   "cell_type": "code",
   "execution_count": 8,
   "id": "7c39431d",
   "metadata": {
    "ExecuteTime": {
     "end_time": "2025-05-15T00:13:32.521832Z",
     "start_time": "2025-05-15T00:13:32.063930Z"
    }
   },
   "outputs": [
    {
     "name": "stdout",
     "output_type": "stream",
     "text": [
      "Comparison of default and custom ISO coordinates:\n",
      "   ISOPleasant  CustomPleasant  ISOEventful  CustomEventful\n",
      "0     0.219670        0.219670    -0.133883       -0.133883\n",
      "1    -0.426777       -0.426777     0.530330        0.530330\n",
      "2     0.676777        0.676777    -0.073223       -0.073223\n",
      "3     0.603553        0.603553    -0.146447       -0.146447\n",
      "4     0.457107        0.457107    -0.146447       -0.146447\n"
     ]
    },
    {
     "data": {
      "text/plain": [
       "Text(0.5, 1.0, 'ISO Coordinates')"
      ]
     },
     "execution_count": 8,
     "metadata": {},
     "output_type": "execute_result"
    },
    {
     "data": {
      "image/png": "[encoded data removed]",
      "text/plain": [
       "<Figure size 500x500 with 1 Axes>"
      ]
     },
     "metadata": {},
     "output_type": "display_data"
    }
   ],
   "source": [
    "# Custom ISO coordinate calculation\n",
    "custom_iso_data = sspy.surveys.add_iso_coords(\n",
    "    valid_data,\n",
    "    val_range=(1, 5),  # Specify the range of PAQ values\n",
    "    names=(\"CustomPleasant\", \"CustomEventful\"),  # Specify custom column names\n",
    "    angles=(0, 45, 90, 135, 180, 225, 270, 315),  # Specify custom angles\n",
    "    overwrite=True,  # Overwrite existing columns if they exist\n",
    ")\n",
    "\n",
    "# Compare the default and custom ISO coordinates\n",
    "comparison_df = pd.DataFrame(\n",
    "    {\n",
    "        \"ISOPleasant\": valid_data_with_iso[\"ISOPleasant\"],\n",
    "        \"CustomPleasant\": custom_iso_data[\"CustomPleasant\"],\n",
    "        \"ISOEventful\": valid_data_with_iso[\"ISOEventful\"],\n",
    "        \"CustomEventful\": custom_iso_data[\"CustomEventful\"],\n",
    "    }\n",
    ")\n",
    "\n",
    "print(\"Comparison of default and custom ISO coordinates:\")\n",
    "print(comparison_df.head())\n",
    "\n",
    "# Visualize the ISO coordinates\n",
    "sspy.scatter(data=valid_data_with_iso, x=\"ISOPleasant\", y=\"ISOEventful\")\n",
    "plt.title(\"ISO Coordinates\")"
   ]
  },
  {
   "cell_type": "markdown",
   "id": "c8ed9d00",
   "metadata": {
    "cell_marker": "\"\"\""
   },
   "source": [
    "## 4. Filtering and Grouping Data\n",
    "\n",
    "Soundscapy provides several functions for filtering and grouping soundscape data based on various criteria."
   ]
  },
  {
   "cell_type": "code",
   "execution_count": 9,
   "id": "7babe437",
   "metadata": {
    "ExecuteTime": {
     "end_time": "2025-05-15T00:13:33.013541Z",
     "start_time": "2025-05-15T00:13:32.995685Z"
    }
   },
   "outputs": [
    {
     "name": "stdout",
     "output_type": "stream",
     "text": [
      "Camden Town samples: 105\n",
      "Camden Town and Hyde Park samples: 257\n"
     ]
    }
   ],
   "source": [
    "# Filter by location\n",
    "camden_data = isd.select_location_ids(valid_data_with_iso, \"CamdenTown\")\n",
    "print(f\"Camden Town samples: {camden_data.shape[0]}\")\n",
    "\n",
    "# Filter by multiple locations\n",
    "multiple_locations = isd.select_location_ids(\n",
    "    valid_data_with_iso, [\"CamdenTown\", \"TateModern\"]\n",
    ")\n",
    "print(f\"Camden Town and Hyde Park samples: {multiple_locations.shape[0]}\")"
   ]
  },
  {
   "cell_type": "markdown",
   "id": "ce77a121",
   "metadata": {
    "cell_marker": "\"\"\""
   },
   "source": [
    "### Complex Filtering with Pandas\n",
    "\n",
    "You can also use pandas' query function for more complex filtering:"
   ]
  },
  {
   "cell_type": "code",
   "execution_count": 10,
   "id": "3240c403",
   "metadata": {
    "ExecuteTime": {
     "end_time": "2025-05-15T00:13:33.912020Z",
     "start_time": "2025-05-15T00:13:33.895295Z"
    }
   },
   "outputs": [
    {
     "name": "stdout",
     "output_type": "stream",
     "text": [
      "Women over 50: 133\n",
      "Pleasant soundscapes (ISOPleasant > 0.5): 886\n"
     ]
    }
   ],
   "source": [
    "# Filter by demographic variables\n",
    "if \"gen00\" in valid_data_with_iso.columns and \"age00\" in valid_data_with_iso.columns:\n",
    "    women_over_50 = valid_data_with_iso.query(\"gen00 == 'Female' and age00 > 50\")\n",
    "    print(f\"Women over 50: {women_over_50.shape[0]}\")\n",
    "\n",
    "# Filter by ISO coordinates\n",
    "pleasant_soundscapes = valid_data_with_iso.query(\"ISOPleasant > 0.5\")\n",
    "print(f\"Pleasant soundscapes (ISOPleasant > 0.5): {pleasant_soundscapes.shape[0]}\")"
   ]
  },
  {
   "cell_type": "markdown",
   "id": "d4f9d174",
   "metadata": {
    "cell_marker": "\"\"\""
   },
   "source": [
    "### Grouping and Summarizing Data\n",
    "\n",
    "You can use pandas' groupby function to group and summarize soundscape data:"
   ]
  },
  {
   "cell_type": "code",
   "execution_count": 12,
   "id": "654fb35b",
   "metadata": {
    "ExecuteTime": {
     "end_time": "2025-05-15T00:13:45.213084Z",
     "start_time": "2025-05-15T00:13:45.206620Z"
    }
   },
   "outputs": [
    {
     "name": "stdout",
     "output_type": "stream",
     "text": [
      "Mean ISO coordinates by location:\n",
      "               ISOPleasant  ISOEventful\n",
      "LocationID                             \n",
      "CamdenTown       -0.102571     0.364096\n",
      "CampoPrincipe     0.504940    -0.076165\n",
      "CarloV            0.518265    -0.011537\n",
      "DadongSquare      0.288473    -0.004974\n",
      "EustonTap        -0.211265     0.190242\n",
      "\n",
      "Standard deviations of ISO coordinates by location:\n"
     ]
    },
    {
     "data": {
      "text/html": [
       "<div>\n",
       "<style scoped>\n",
       "    .dataframe tbody tr th:only-of-type {\n",
       "        vertical-align: middle;\n",
       "    }\n",
       "\n",
       "    .dataframe tbody tr th {\n",
       "        vertical-align: top;\n",
       "    }\n",
       "\n",
       "    .dataframe thead th {\n",
       "        text-align: right;\n",
       "    }\n",
       "</style>\n",
       "<table border=\"1\" class=\"dataframe\">\n",
       "  <thead>\n",
       "    <tr style=\"text-align: right;\">\n",
       "      <th></th>\n",
       "      <th>ISOPleasant</th>\n",
       "      <th>ISOEventful</th>\n",
       "    </tr>\n",
       "    <tr>\n",
       "      <th>LocationID</th>\n",
       "      <th></th>\n",
       "      <th></th>\n",
       "    </tr>\n",
       "  </thead>\n",
       "  <tbody>\n",
       "    <tr>\n",
       "      <th>CamdenTown</th>\n",
       "      <td>0.289155</td>\n",
       "      <td>0.344868</td>\n",
       "    </tr>\n",
       "    <tr>\n",
       "      <th>CampoPrincipe</th>\n",
       "      <td>0.299031</td>\n",
       "      <td>0.336325</td>\n",
       "    </tr>\n",
       "    <tr>\n",
       "      <th>CarloV</th>\n",
       "      <td>0.293737</td>\n",
       "      <td>0.317614</td>\n",
       "    </tr>\n",
       "    <tr>\n",
       "      <th>DadongSquare</th>\n",
       "      <td>0.255875</td>\n",
       "      <td>0.219590</td>\n",
       "    </tr>\n",
       "    <tr>\n",
       "      <th>EustonTap</th>\n",
       "      <td>0.282400</td>\n",
       "      <td>0.308316</td>\n",
       "    </tr>\n",
       "  </tbody>\n",
       "</table>\n",
       "</div>"
      ],
      "text/plain": [
       "               ISOPleasant  ISOEventful\n",
       "LocationID                             \n",
       "CamdenTown        0.289155     0.344868\n",
       "CampoPrincipe     0.299031     0.336325\n",
       "CarloV            0.293737     0.317614\n",
       "DadongSquare      0.255875     0.219590\n",
       "EustonTap         0.282400     0.308316"
      ]
     },
     "execution_count": 12,
     "metadata": {},
     "output_type": "execute_result"
    }
   ],
   "source": [
    "# Group by location and calculate mean ISO coordinates\n",
    "location_means = valid_data_with_iso.groupby(\"LocationID\")[\n",
    "    [\"ISOPleasant\", \"ISOEventful\"]\n",
    "].mean()\n",
    "print(\"Mean ISO coordinates by location:\")\n",
    "print(location_means.head())\n",
    "\n",
    "# Calculate standard deviations\n",
    "location_stds = valid_data_with_iso.groupby(\"LocationID\")[\n",
    "    [\"ISOPleasant\", \"ISOEventful\"]\n",
    "].std()\n",
    "print(\"\\nStandard deviations of ISO coordinates by location:\")\n",
    "location_stds.head()"
   ]
  },
  {
   "cell_type": "markdown",
   "id": "b7288b44",
   "metadata": {
    "cell_marker": "\"\"\""
   },
   "source": [
    "### Using the soundscapy_describe Function\n",
    "\n",
    "Soundscapy provides a `soundscapy_describe` function that summarizes soundscape data by location:"
   ]
  },
  {
   "cell_type": "code",
   "execution_count": 14,
   "id": "86f190900f9dae28",
   "metadata": {
    "ExecuteTime": {
     "end_time": "2025-05-15T00:14:00.756566Z",
     "start_time": "2025-05-15T00:14:00.628340Z"
    }
   },
   "outputs": [
    {
     "name": "stdout",
     "output_type": "stream",
     "text": [
      "Soundscape summary by location:\n"
     ]
    },
    {
     "data": {
      "text/html": [
       "<div>\n",
       "<style scoped>\n",
       "    .dataframe tbody tr th:only-of-type {\n",
       "        vertical-align: middle;\n",
       "    }\n",
       "\n",
       "    .dataframe tbody tr th {\n",
       "        vertical-align: top;\n",
       "    }\n",
       "\n",
       "    .dataframe thead th {\n",
       "        text-align: right;\n",
       "    }\n",
       "</style>\n",
       "<table border=\"1\" class=\"dataframe\">\n",
       "  <thead>\n",
       "    <tr style=\"text-align: right;\">\n",
       "      <th></th>\n",
       "      <th>count</th>\n",
       "      <th>ISOPleasant</th>\n",
       "      <th>ISOEventful</th>\n",
       "      <th>pleasant</th>\n",
       "      <th>eventful</th>\n",
       "      <th>vibrant</th>\n",
       "      <th>chaotic</th>\n",
       "      <th>monotonous</th>\n",
       "      <th>calm</th>\n",
       "    </tr>\n",
       "  </thead>\n",
       "  <tbody>\n",
       "    <tr>\n",
       "      <th>CarloV</th>\n",
       "      <td>116</td>\n",
       "      <td>0.518</td>\n",
       "      <td>-0.012</td>\n",
       "      <td>0.940</td>\n",
       "      <td>0.448</td>\n",
       "      <td>0.397</td>\n",
       "      <td>0.052</td>\n",
       "      <td>0.009</td>\n",
       "      <td>0.534</td>\n",
       "    </tr>\n",
       "    <tr>\n",
       "      <th>SanMarco</th>\n",
       "      <td>96</td>\n",
       "      <td>0.221</td>\n",
       "      <td>0.373</td>\n",
       "      <td>0.750</td>\n",
       "      <td>0.875</td>\n",
       "      <td>0.656</td>\n",
       "      <td>0.219</td>\n",
       "      <td>0.010</td>\n",
       "      <td>0.094</td>\n",
       "    </tr>\n",
       "    <tr>\n",
       "      <th>PlazaBibRambla</th>\n",
       "      <td>18</td>\n",
       "      <td>0.463</td>\n",
       "      <td>-0.023</td>\n",
       "      <td>0.889</td>\n",
       "      <td>0.556</td>\n",
       "      <td>0.444</td>\n",
       "      <td>0.056</td>\n",
       "      <td>0.000</td>\n",
       "      <td>0.444</td>\n",
       "    </tr>\n",
       "    <tr>\n",
       "      <th>CamdenTown</th>\n",
       "      <td>105</td>\n",
       "      <td>-0.103</td>\n",
       "      <td>0.364</td>\n",
       "      <td>0.390</td>\n",
       "      <td>0.905</td>\n",
       "      <td>0.333</td>\n",
       "      <td>0.562</td>\n",
       "      <td>0.038</td>\n",
       "      <td>0.057</td>\n",
       "    </tr>\n",
       "    <tr>\n",
       "      <th>EustonTap</th>\n",
       "      <td>100</td>\n",
       "      <td>-0.211</td>\n",
       "      <td>0.190</td>\n",
       "      <td>0.250</td>\n",
       "      <td>0.750</td>\n",
       "      <td>0.180</td>\n",
       "      <td>0.570</td>\n",
       "      <td>0.140</td>\n",
       "      <td>0.070</td>\n",
       "    </tr>\n",
       "  </tbody>\n",
       "</table>\n",
       "</div>"
      ],
      "text/plain": [
       "                count  ISOPleasant  ISOEventful  pleasant  eventful  vibrant  \\\n",
       "CarloV            116        0.518       -0.012     0.940     0.448    0.397   \n",
       "SanMarco           96        0.221        0.373     0.750     0.875    0.656   \n",
       "PlazaBibRambla     18        0.463       -0.023     0.889     0.556    0.444   \n",
       "CamdenTown        105       -0.103        0.364     0.390     0.905    0.333   \n",
       "EustonTap         100       -0.211        0.190     0.250     0.750    0.180   \n",
       "\n",
       "                chaotic  monotonous   calm  \n",
       "CarloV            0.052       0.009  0.534  \n",
       "SanMarco          0.219       0.010  0.094  \n",
       "PlazaBibRambla    0.056       0.000  0.444  \n",
       "CamdenTown        0.562       0.038  0.057  \n",
       "EustonTap         0.570       0.140  0.070  "
      ]
     },
     "execution_count": 14,
     "metadata": {},
     "output_type": "execute_result"
    }
   ],
   "source": [
    "# Describe locations\n",
    "location_summary = isd.soundscapy_describe(valid_data_with_iso)\n",
    "print(\"Soundscape summary by location:\")\n",
    "location_summary.head()"
   ]
  },
  {
   "cell_type": "code",
   "execution_count": 15,
   "id": "7f4f3bb1",
   "metadata": {
    "ExecuteTime": {
     "end_time": "2025-05-15T00:14:01.095793Z",
     "start_time": "2025-05-15T00:14:01.072924Z"
    }
   },
   "outputs": [
    {
     "name": "stdout",
     "output_type": "stream",
     "text": [
      "\n",
      "Camden Town summary:\n",
      "count: 105\n",
      "ISOPleasant: -0.103\n",
      "ISOEventful: 0.364\n",
      "pleasant: 0.39\n",
      "eventful: 0.905\n",
      "vibrant: 0.333\n",
      "chaotic: 0.562\n",
      "monotonous: 0.038\n",
      "calm: 0.057\n"
     ]
    }
   ],
   "source": [
    "# Describe a specific location\n",
    "camden_summary = isd.describe_location(valid_data_with_iso, \"CamdenTown\")\n",
    "print(\"\\nCamden Town summary:\")\n",
    "for key, value in camden_summary.items():\n",
    "    print(f\"{key}: {value}\")"
   ]
  },
  {
   "cell_type": "markdown",
   "id": "86270f6a",
   "metadata": {
    "cell_marker": "\"\"\""
   },
   "source": [
    "## 5. Working with Different Survey Formats and Scales\n",
    "\n",
    "Soundscape surveys may use different scales for PAQ ratings. Soundscapy can handle different scales by specifying the value range when calculating ISO coordinates."
   ]
  },
  {
   "cell_type": "code",
   "execution_count": 17,
   "id": "f99b8fc8",
   "metadata": {
    "ExecuteTime": {
     "end_time": "2025-05-15T00:14:09.362895Z",
     "start_time": "2025-05-15T00:14:09.357926Z"
    }
   },
   "outputs": [
    {
     "name": "stdout",
     "output_type": "stream",
     "text": [
      "Sample data with ISO coordinates (0-100 scale):\n"
     ]
    },
    {
     "data": {
      "text/html": [
       "<div>\n",
       "<style scoped>\n",
       "    .dataframe tbody tr th:only-of-type {\n",
       "        vertical-align: middle;\n",
       "    }\n",
       "\n",
       "    .dataframe tbody tr th {\n",
       "        vertical-align: top;\n",
       "    }\n",
       "\n",
       "    .dataframe thead th {\n",
       "        text-align: right;\n",
       "    }\n",
       "</style>\n",
       "<table border=\"1\" class=\"dataframe\">\n",
       "  <thead>\n",
       "    <tr style=\"text-align: right;\">\n",
       "      <th></th>\n",
       "      <th>ISOPleasant</th>\n",
       "      <th>ISOEventful</th>\n",
       "    </tr>\n",
       "  </thead>\n",
       "  <tbody>\n",
       "    <tr>\n",
       "      <th>0</th>\n",
       "      <td>0.165685</td>\n",
       "      <td>0.400000</td>\n",
       "    </tr>\n",
       "    <tr>\n",
       "      <th>1</th>\n",
       "      <td>0.209619</td>\n",
       "      <td>0.356066</td>\n",
       "    </tr>\n",
       "    <tr>\n",
       "      <th>2</th>\n",
       "      <td>0.082843</td>\n",
       "      <td>0.200000</td>\n",
       "    </tr>\n",
       "  </tbody>\n",
       "</table>\n",
       "</div>"
      ],
      "text/plain": [
       "   ISOPleasant  ISOEventful\n",
       "0     0.165685     0.400000\n",
       "1     0.209619     0.356066\n",
       "2     0.082843     0.200000"
      ]
     },
     "execution_count": 17,
     "metadata": {},
     "output_type": "execute_result"
    }
   ],
   "source": [
    "# Create a sample dataset with a different scale (0-100)\n",
    "sample_data = pd.DataFrame(\n",
    "    {\n",
    "        \"RecordID\": [\"EX1\", \"EX2\", \"EX3\"],\n",
    "        \"PAQ1\": [80, 60, 90],\n",
    "        \"PAQ2\": [70, 50, 85],\n",
    "        \"PAQ3\": [60, 40, 80],\n",
    "        \"PAQ4\": [50, 30, 75],\n",
    "        \"PAQ5\": [40, 20, 70],\n",
    "        \"PAQ6\": [30, 10, 65],\n",
    "        \"PAQ7\": [20, 0, 60],\n",
    "        \"PAQ8\": [10, 5, 55],\n",
    "    }\n",
    ")\n",
    "\n",
    "# Calculate ISO coordinates with a different scale\n",
    "sample_data_with_iso = sspy.surveys.add_iso_coords(\n",
    "    sample_data,\n",
    "    val_range=(0, 100),  # Specify the range of PAQ values\n",
    "    names=(\"ISOPleasant\", \"ISOEventful\"),\n",
    "    overwrite=True,\n",
    ")\n",
    "\n",
    "print(\"Sample data with ISO coordinates (0-100 scale):\")\n",
    "sample_data_with_iso[[\"ISOPleasant\", \"ISOEventful\"]]"
   ]
  },
  {
   "cell_type": "code",
   "execution_count": 20,
   "id": "ba1fdfec",
   "metadata": {
    "ExecuteTime": {
     "end_time": "2025-05-15T00:15:03.697015Z",
     "start_time": "2025-05-15T00:15:03.691199Z"
    }
   },
   "outputs": [
    {
     "name": "stdout",
     "output_type": "stream",
     "text": [
      "Sample data with renamed columns and ISO coordinates:\n"
     ]
    },
    {
     "data": {
      "text/html": [
       "<div>\n",
       "<style scoped>\n",
       "    .dataframe tbody tr th:only-of-type {\n",
       "        vertical-align: middle;\n",
       "    }\n",
       "\n",
       "    .dataframe tbody tr th {\n",
       "        vertical-align: top;\n",
       "    }\n",
       "\n",
       "    .dataframe thead th {\n",
       "        text-align: right;\n",
       "    }\n",
       "</style>\n",
       "<table border=\"1\" class=\"dataframe\">\n",
       "  <thead>\n",
       "    <tr style=\"text-align: right;\">\n",
       "      <th></th>\n",
       "      <th>ISOPleasant</th>\n",
       "      <th>ISOEventful</th>\n",
       "    </tr>\n",
       "  </thead>\n",
       "  <tbody>\n",
       "    <tr>\n",
       "      <th>0</th>\n",
       "      <td>0.500000</td>\n",
       "      <td>-5.000000e-01</td>\n",
       "    </tr>\n",
       "    <tr>\n",
       "      <th>1</th>\n",
       "      <td>-0.676777</td>\n",
       "      <td>-7.322330e-02</td>\n",
       "    </tr>\n",
       "    <tr>\n",
       "      <th>2</th>\n",
       "      <td>0.707107</td>\n",
       "      <td>-5.748368e-17</td>\n",
       "    </tr>\n",
       "  </tbody>\n",
       "</table>\n",
       "</div>"
      ],
      "text/plain": [
       "   ISOPleasant   ISOEventful\n",
       "0     0.500000 -5.000000e-01\n",
       "1    -0.676777 -7.322330e-02\n",
       "2     0.707107 -5.748368e-17"
      ]
     },
     "execution_count": 20,
     "metadata": {},
     "output_type": "execute_result"
    }
   ],
   "source": [
    "# Create a sample dataset with different column names\n",
    "sample_data_2 = pd.DataFrame(\n",
    "    {\n",
    "        \"RecordID\": [\"EX1\", \"EX2\", \"EX3\"],\n",
    "        \"Pleasant\": [4, 2, 5],\n",
    "        \"Vibrant\": [3, 1, 4],\n",
    "        \"Eventful\": [2, 3, 3],\n",
    "        \"Chaotic\": [1, 4, 2],\n",
    "        \"Annoying\": [2, 5, 1],\n",
    "        \"Monotonous\": [3, 4, 2],\n",
    "        \"Uneventful\": [4, 3, 3],\n",
    "        \"Calm\": [5, 2, 4],\n",
    "    }\n",
    ")\n",
    "\n",
    "# Rename columns to match PAQ format\n",
    "paq_mapping = {\n",
    "    \"Pleasant\": \"PAQ1\",\n",
    "    \"Vibrant\": \"PAQ2\",\n",
    "    \"Eventful\": \"PAQ3\",\n",
    "    \"Chaotic\": \"PAQ4\",\n",
    "    \"Annoying\": \"PAQ5\",\n",
    "    \"Monotonous\": \"PAQ6\",\n",
    "    \"Uneventful\": \"PAQ7\",\n",
    "    \"Calm\": \"PAQ8\",\n",
    "}\n",
    "sample_data_2_renamed = rename_paqs(sample_data_2, paq_mapping)\n",
    "\n",
    "# Calculate ISO coordinates\n",
    "sample_data_2_with_iso = sspy.surveys.add_iso_coords(sample_data_2_renamed)\n",
    "\n",
    "print(\"Sample data with renamed columns and ISO coordinates:\")\n",
    "sample_data_2_with_iso[[\"ISOPleasant\", \"ISOEventful\"]]"
   ]
  },
  {
   "cell_type": "markdown",
   "id": "9a7794c2",
   "metadata": {
    "cell_marker": "\"\"\""
   },
   "source": [
    "## 6. Handling Multi-Language Data\n",
    "\n",
    "Soundscape perception can vary across languages and cultures. Soundscapy provides language-specific angles for calculating ISO coordinates that account for these differences."
   ]
  },
  {
   "cell_type": "code",
   "execution_count": 21,
   "id": "0d3cb4d1",
   "metadata": {
    "ExecuteTime": {
     "end_time": "2025-05-15T00:15:10.632442Z",
     "start_time": "2025-05-15T00:15:10.630075Z"
    }
   },
   "outputs": [
    {
     "name": "stdout",
     "output_type": "stream",
     "text": [
      "Available language-specific angles:\n",
      "eng: (0, 46, 94, 138, 177, 241, 275, 340)\n",
      "arb: (0, 36, 45, 135, 167, 201, 242, 308)\n",
      "cmn: (0, 18, 38, 154, 171, 196, 217, 318)\n",
      "hrv: (0, 84, 93, 160, 173, 243, 273, 354)\n",
      "nld: (0, 43, 111, 125, 174, 257, 307, 341)\n",
      "deu: (0, 64, 97, 132, 182, 254, 282, 336)\n",
      "ell: (0, 72, 86, 133, 161, 233, 267, 328)\n",
      "ind: (0, 53, 104, 123, 139, 202, 284, 308)\n",
      "ita: (0, 57, 104, 143, 170, 274, 285, 336)\n",
      "spa: (0, 41, 103, 147, 174, 238, 279, 332)\n",
      "swe: (0, 66, 87, 146, 175, 249, 275, 335)\n",
      "tur: (0, 55, 97, 106, 157, 254, 289, 313)\n"
     ]
    }
   ],
   "source": [
    "# Display the available language-specific angles\n",
    "print(\"Available language-specific angles:\")\n",
    "for language, angles in LANGUAGE_ANGLES.items():\n",
    "    print(f\"{language}: {angles}\")"
   ]
  },
  {
   "cell_type": "markdown",
   "id": "fdd4761d",
   "metadata": {
    "cell_marker": "\"\"\""
   },
   "source": [
    "### Applying Language-Specific Angles\n",
    "\n",
    "You can apply language-specific angles when calculating ISO coordinates:"
   ]
  },
  {
   "cell_type": "code",
   "execution_count": 23,
   "id": "fb46851b",
   "metadata": {
    "ExecuteTime": {
     "end_time": "2025-05-15T00:15:19.370205Z",
     "start_time": "2025-05-15T00:15:18.817090Z"
    }
   },
   "outputs": [
    {
     "name": "stdout",
     "output_type": "stream",
     "text": [
      "Comparison of ISO coordinates with different language angles:\n"
     ]
    },
    {
     "data": {
      "text/html": [
       "<div>\n",
       "<style scoped>\n",
       "    .dataframe tbody tr th:only-of-type {\n",
       "        vertical-align: middle;\n",
       "    }\n",
       "\n",
       "    .dataframe tbody tr th {\n",
       "        vertical-align: top;\n",
       "    }\n",
       "\n",
       "    .dataframe thead th {\n",
       "        text-align: right;\n",
       "    }\n",
       "</style>\n",
       "<table border=\"1\" class=\"dataframe\">\n",
       "  <thead>\n",
       "    <tr style=\"text-align: right;\">\n",
       "      <th></th>\n",
       "      <th>English_Pleasant</th>\n",
       "      <th>Spanish_Pleasant</th>\n",
       "      <th>English_Eventful</th>\n",
       "      <th>Spanish_Eventful</th>\n",
       "    </tr>\n",
       "  </thead>\n",
       "  <tbody>\n",
       "    <tr>\n",
       "      <th>0</th>\n",
       "      <td>0.208674</td>\n",
       "      <td>0.237632</td>\n",
       "      <td>-0.143577</td>\n",
       "      <td>-0.130332</td>\n",
       "    </tr>\n",
       "    <tr>\n",
       "      <th>1</th>\n",
       "      <td>-0.442699</td>\n",
       "      <td>-0.446764</td>\n",
       "      <td>0.467938</td>\n",
       "      <td>0.472546</td>\n",
       "    </tr>\n",
       "    <tr>\n",
       "      <th>2</th>\n",
       "      <td>0.637149</td>\n",
       "      <td>0.614498</td>\n",
       "      <td>0.001787</td>\n",
       "      <td>0.003579</td>\n",
       "    </tr>\n",
       "    <tr>\n",
       "      <th>3</th>\n",
       "      <td>0.588840</td>\n",
       "      <td>0.565269</td>\n",
       "      <td>-0.092234</td>\n",
       "      <td>-0.088906</td>\n",
       "    </tr>\n",
       "    <tr>\n",
       "      <th>4</th>\n",
       "      <td>0.445299</td>\n",
       "      <td>0.428558</td>\n",
       "      <td>-0.126446</td>\n",
       "      <td>-0.120598</td>\n",
       "    </tr>\n",
       "  </tbody>\n",
       "</table>\n",
       "</div>"
      ],
      "text/plain": [
       "   English_Pleasant  Spanish_Pleasant  English_Eventful  Spanish_Eventful\n",
       "0          0.208674          0.237632         -0.143577         -0.130332\n",
       "1         -0.442699         -0.446764          0.467938          0.472546\n",
       "2          0.637149          0.614498          0.001787          0.003579\n",
       "3          0.588840          0.565269         -0.092234         -0.088906\n",
       "4          0.445299          0.428558         -0.126446         -0.120598"
      ]
     },
     "execution_count": 23,
     "metadata": {},
     "output_type": "execute_result"
    }
   ],
   "source": [
    "# Calculate ISO coordinates with language-specific angles\n",
    "english_angles = LANGUAGE_ANGLES[\"eng\"]\n",
    "spanish_angles = LANGUAGE_ANGLES[\"spa\"]\n",
    "\n",
    "# Using English angles\n",
    "english_iso_data = sspy.surveys.add_iso_coords(\n",
    "    valid_data,\n",
    "    angles=english_angles,\n",
    "    names=(\"English_Pleasant\", \"English_Eventful\"),\n",
    "    overwrite=True,\n",
    ")\n",
    "\n",
    "# Using Spanish angles\n",
    "spanish_iso_data = sspy.surveys.add_iso_coords(\n",
    "    valid_data,\n",
    "    angles=spanish_angles,\n",
    "    names=(\"Spanish_Pleasant\", \"Spanish_Eventful\"),\n",
    "    overwrite=True,\n",
    ")\n",
    "\n",
    "# Compare the results\n",
    "comparison_df = pd.DataFrame(\n",
    "    {\n",
    "        \"English_Pleasant\": english_iso_data[\"English_Pleasant\"],\n",
    "        \"Spanish_Pleasant\": spanish_iso_data[\"Spanish_Pleasant\"],\n",
    "        \"English_Eventful\": english_iso_data[\"English_Eventful\"],\n",
    "        \"Spanish_Eventful\": spanish_iso_data[\"Spanish_Eventful\"],\n",
    "    }\n",
    ")\n",
    "\n",
    "print(\"Comparison of ISO coordinates with different language angles:\")\n",
    "comparison_df.head()"
   ]
  },
  {
   "cell_type": "markdown",
   "id": "3f73306f",
   "metadata": {
    "cell_marker": "\"\"\""
   },
   "source": [
    "### Applying Language-Specific Angles to a Mixed-Language Dataset\n",
    "\n",
    "If your dataset contains responses in multiple languages, you can apply the appropriate angles for each language:"
   ]
  },
  {
   "cell_type": "code",
   "execution_count": 26,
   "id": "195bccae",
   "metadata": {
    "ExecuteTime": {
     "end_time": "2025-05-15T00:16:39.943100Z",
     "start_time": "2025-05-15T00:16:39.939779Z"
    }
   },
   "outputs": [
    {
     "name": "stdout",
     "output_type": "stream",
     "text": [
      "English responses: 1280\n",
      "Spanish responses: 223\n"
     ]
    }
   ],
   "source": [
    "# Filter data for English and Spanish languages\n",
    "if \"Language\" in valid_data_with_iso.columns:\n",
    "    eng_data = valid_data_with_iso[valid_data_with_iso[\"Language\"] == \"eng\"]\n",
    "    spa_data = valid_data_with_iso[valid_data_with_iso[\"Language\"] == \"spa\"]\n",
    "\n",
    "    print(f\"English responses: {eng_data.shape[0]}\")\n",
    "    print(f\"Spanish responses: {spa_data.shape[0]}\")"
   ]
  },
  {
   "cell_type": "code",
   "execution_count": 27,
   "id": "ece4ce94",
   "metadata": {
    "ExecuteTime": {
     "end_time": "2025-05-15T00:16:41.848171Z",
     "start_time": "2025-05-15T00:16:41.845221Z"
    }
   },
   "outputs": [],
   "source": [
    "# Function to apply language-specific angles to each row\n",
    "def apply_language_angles(row):\n",
    "    if \"Language\" not in row or row[\"Language\"] not in LANGUAGE_ANGLES:\n",
    "        return sspy.surveys.calculate_iso_coords(\n",
    "            row[PAQ_IDS], angles=LANGUAGE_ANGLES[\"eng\"]\n",
    "        )\n",
    "    return sspy.surveys.calculate_iso_coords(\n",
    "        row[PAQ_IDS], angles=LANGUAGE_ANGLES[row[\"Language\"]]\n",
    "    )"
   ]
  },
  {
   "cell_type": "markdown",
   "id": "9aadb629",
   "metadata": {},
   "source": [
    "```python\n",
    "# Example of applying this function (commented out as it depends on the dataset structure)\n",
    "# Apply language-specific angles to each row\n",
    "if 'Language' in valid_data_with_iso.columns:\n",
    "    # Apply the function to each row\n",
    "    results = valid_data_with_iso.apply(apply_language_angles, axis=1)\n",
    "    \n",
    "    # Extract the results\n",
    "    valid_data_with_iso['Lang_ISOPleasant'] = [r[0] for r in results]\n",
    "    valid_data_with_iso['Lang_ISOEventful'] = [r[1] for r in results]\n",
    "    \n",
    "    print(\"ISO coordinates with language-specific angles:\")\n",
    "    print(valid_data_with_iso[['Lang_ISOPleasant', 'Lang_ISOEventful']].head())\n",
    "```"
   ]
  },
  {
   "cell_type": "markdown",
   "id": "6cdfd661",
   "metadata": {
    "cell_marker": "\"\"\""
   },
   "source": [
    "## 7. Simulating Soundscape Data\n",
    "\n",
    "Soundscapy provides a function for simulating soundscape data, which can be useful for testing and demonstration purposes."
   ]
  },
  {
   "cell_type": "code",
   "execution_count": 28,
   "id": "e5f3f372",
   "metadata": {
    "ExecuteTime": {
     "end_time": "2025-05-15T00:16:53.215631Z",
     "start_time": "2025-05-15T00:16:53.080899Z"
    }
   },
   "outputs": [
    {
     "name": "stdout",
     "output_type": "stream",
     "text": [
      "Simulated soundscape data:\n",
      "   PAQ1  PAQ2  PAQ3  PAQ4  PAQ5  PAQ6  PAQ7  PAQ8  ISOPleasant  ISOEventful\n",
      "0     1     2     1     5     2     4     4     3    -0.396447    -0.310660\n",
      "1     5     3     2     2     3     2     1     3     0.353553     0.103553\n",
      "2     5     1     1     5     5     3     1     2    -0.366117     0.073223\n",
      "3     1     3     3     3     3     3     1     2    -0.280330     0.280330\n",
      "4     5     4     3     2     4     2     1     5     0.469670     0.133883\n"
     ]
    },
    {
     "data": {
      "text/plain": [
       "<Axes: title={'center': 'Simulated Soundscape Data'}, xlabel='$P_{ISO}$', ylabel='$E_{ISO}$'>"
      ]
     },
     "execution_count": 28,
     "metadata": {},
     "output_type": "execute_result"
    },
    {
     "data": {
      "image/png": "[encoded data removed]",
      "text/plain": [
       "<Figure size 500x500 with 1 Axes>"
      ]
     },
     "metadata": {},
     "output_type": "display_data"
    }
   ],
   "source": [
    "# Simulate soundscape data\n",
    "simulated_data = sspy.surveys.simulation(\n",
    "    n=100,  # Number of samples\n",
    "    val_range=(1, 5),  # Range of PAQ values\n",
    "    incl_iso_coords=True,  # Include ISO coordinates\n",
    ")\n",
    "\n",
    "print(\"Simulated soundscape data:\")\n",
    "print(simulated_data.head())\n",
    "\n",
    "# Visualize the simulated data\n",
    "sspy.scatter(simulated_data, title=\"Simulated Soundscape Data\")"
   ]
  },
  {
   "cell_type": "markdown",
   "id": "5467ce51",
   "metadata": {
    "cell_marker": "\"\"\""
   },
   "source": [
    "## 8. Conclusion\n",
    "\n",
    "In this tutorial, we've covered the essential aspects of working with soundscape survey data using the Soundscapy package:\n",
    "\n",
    "1. **Loading Data**: We learned how to load data from the built-in ISD dataset and from external sources.\n",
    "2. **Data Validation**: We explored how to validate and clean soundscape data to ensure quality.\n",
    "3. **ISO Coordinates**: We calculated ISO coordinates from PAQ ratings and customized the calculation.\n",
    "4. **Filtering and Grouping**: We filtered and grouped data based on various criteria.\n",
    "5. **Different Scales**: We worked with different survey formats and scales.\n",
    "6. **Multi-Language Data**: We applied language-specific angles to account for cultural differences.\n",
    "7. **Simulation**: We simulated soundscape data for testing and demonstration.\n",
    "\n",
    "These tools and techniques provide a solid foundation for analyzing soundscape survey data and can be applied to a wide range of research questions and datasets."
   ]
  },
  {
   "cell_type": "code",
   "execution_count": null,
   "id": "a2a69b9a2e01e624",
   "metadata": {},
   "outputs": [],
   "source": []
  }
 ],
 "metadata": {
  "jupytext": {
   "cell_metadata_filter": "-all",
   "main_language": "python",
   "notebook_metadata_filter": "-all"
  },
  "kernelspec": {
   "display_name": "soundscapy (3.12.5)",
   "language": "python",
   "name": "python3"
  },
  "language_info": {
   "codemirror_mode": {
    "name": "ipython",
    "version": 3
   },
   "file_extension": ".py",
   "mimetype": "text/x-python",
   "name": "python",
   "nbconvert_exporter": "python",
   "pygments_lexer": "ipython3",
   "version": "3.12.5"
  }
 },
 "nbformat": 4,
 "nbformat_minor": 5
}
