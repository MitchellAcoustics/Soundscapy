{
 "cells": [
  {
   "cell_type": "code",
   "execution_count": 15,
   "id": "5f1ea32d",
   "metadata": {},
   "outputs": [],
   "source": [
    "import soundscapy as sspy\n",
    "from rpy2 import robjects\n",
    "from rpy2.robjects.conversion import localconverter\n",
    "from soundscapy.spi._r_wrapper import conversion_rules\n",
    "from soundscapy.spi.ks_test import ks2d2s\n",
    "from soundscapy.spi.msn_params import DirectParams, CentredParams\n",
    "\n",
    "import numpy as np"
   ]
  },
  {
   "cell_type": "markdown",
   "id": "0265186f",
   "metadata": {},
   "source": [
    "### Directly call R sn"
   ]
  },
  {
   "cell_type": "code",
   "execution_count": 16,
   "id": "1142e1e0",
   "metadata": {},
   "outputs": [
    {
     "data": {
      "text/plain": [
       "o{'beta': [ 0.         -0.13389297], 'Omega': [[1.         0.4       ]\n",
       " [0.4        1.35014139]], 'alpha': [  3.66054584 -10.63348162], }"
      ]
     },
     "execution_count": 16,
     "metadata": {},
     "output_type": "execute_result"
    }
   ],
   "source": [
    "with localconverter(conversion_rules):\n",
    "    r_yM = robjects.r(\"\"\"\n",
    "        library(sn)\n",
    "        Sigma <- matrix(c(1, 0.4, 0.4, 0.6), 2, 2)\n",
    "        cpM <- list(mean=c(0,-1), var.cov=Sigma, gamma1=c(0, -0.6))\n",
    "        dpM <- cp2dp(cpM, family=\"SN\")\n",
    "        dpM\n",
    "        \"\"\")\n",
    "\n",
    "r_yM"
   ]
  },
  {
   "cell_type": "code",
   "execution_count": 17,
   "id": "26efd4c0",
   "metadata": {},
   "outputs": [
    {
     "data": {
      "text/plain": [
       "DirectParams(xi=[ 0.         -0.13389297], omega=[[1.         0.4       ]\n",
       " [0.4        1.35014139]], alpha=[  3.66054584 -10.63348162])"
      ]
     },
     "execution_count": 17,
     "metadata": {},
     "output_type": "execute_result"
    }
   ],
   "source": [
    "from soundscapy.spi._r_msnparams_wrapper import RmsnParams\n",
    "\n",
    "dp = DirectParams.from_r(RmsnParams(r_yM))\n",
    "dp"
   ]
  },
  {
   "cell_type": "code",
   "execution_count": 37,
   "id": "54051aad",
   "metadata": {},
   "outputs": [
    {
     "data": {
      "text/html": [
       "\n",
       "        <span>ListVector with 3 elements.</span>\n",
       "        <table>\n",
       "        <tbody>\n",
       "        \n",
       "          <tr>\n",
       "            <th>\n",
       "            beta\n",
       "            </th>\n",
       "            <td>\n",
       "            <rpy2.rinterface.FloatSexpVector object at 0x172b57910> [14]\n",
       "            </td>\n",
       "          </tr>\n",
       "        \n",
       "          <tr>\n",
       "            <th>\n",
       "            Omega\n",
       "            </th>\n",
       "            <td>\n",
       "            <rpy2.rinterface.FloatSexpVector object at 0x172b54b90> [14]\n",
       "            </td>\n",
       "          </tr>\n",
       "        \n",
       "          <tr>\n",
       "            <th>\n",
       "            alpha\n",
       "            </th>\n",
       "            <td>\n",
       "            <rpy2.rinterface.FloatSexpVector object at 0x173003710> [14]\n",
       "            </td>\n",
       "          </tr>\n",
       "        \n",
       "        </tbody>\n",
       "        </table>\n",
       "        "
      ],
      "text/plain": [
       "<rpy2.robjects.vectors.ListVector object at 0x1728e5b90> [19]\n",
       "R classes: ('list',)\n",
       "[FloatSexpVector, FloatSexpVector, FloatSexpVector]\n",
       "  beta: <class 'rpy2.rinterface.FloatSexpVector'>\n",
       "  <rpy2.rinterface.FloatSexpVector object at 0x172b55ad0> [14]\n",
       "  Omega: <class 'rpy2.rinterface.FloatSexpVector'>\n",
       "  <rpy2.rinterface.FloatSexpVector object at 0x172b4ac50> [14]\n",
       "  alpha: <class 'rpy2.rinterface.FloatSexpVector'>\n",
       "  <rpy2.rinterface.FloatSexpVector object at 0x172b548d0> [14]"
      ]
     },
     "execution_count": 37,
     "metadata": {},
     "output_type": "execute_result"
    }
   ],
   "source": [
    "from soundscapy.spi._r_wrapper import get_r_session\n",
    "\n",
    "_, sn, _, _ = get_r_session()\n",
    "dp_r = dp._pyrobj.py2rpy()\n",
    "dp_r"
   ]
  },
  {
   "cell_type": "code",
   "execution_count": 56,
   "id": "71265c87",
   "metadata": {},
   "outputs": [
    {
     "data": {
      "text/plain": [
       "array([[1.        , 0.4       ],\n",
       "       [0.4       , 1.35014139]])"
      ]
     },
     "execution_count": 56,
     "metadata": {},
     "output_type": "execute_result"
    }
   ],
   "source": [
    "with localconverter(conversion_rules):\n",
    "    # dp.omega = np.array([[1, 0.4], [0.4, 0.6]])\n",
    "    # dp_r = dp._pyobj.py2rpy()\n",
    "    # dp_r_omega = robjects.r.matrix(dp_r.omega)\n",
    "    # dp_r_omega\n",
    "    dp_omega_r = robjects.r.matrix(dp.omega, nrow=2, ncol=2)\n",
    "\n",
    "dp_omega_r"
   ]
  },
  {
   "cell_type": "code",
   "execution_count": 13,
   "id": "54d79097",
   "metadata": {},
   "outputs": [
    {
     "ename": "AttributeError",
     "evalue": "'OrdDict' object has no attribute 'py2rpy'",
     "output_type": "error",
     "traceback": [
      "\u001b[0;31m---------------------------------------------------------------------------\u001b[0m",
      "\u001b[0;31mAttributeError\u001b[0m                            Traceback (most recent call last)",
      "Cell \u001b[0;32mIn[13], line 32\u001b[0m\n\u001b[1;32m     28\u001b[0m         \u001b[38;5;28;01mreturn\u001b[39;00m {key: \u001b[38;5;28mself\u001b[39m\u001b[38;5;241m.\u001b[39m_pyrobj[key] \u001b[38;5;28;01mfor\u001b[39;00m key \u001b[38;5;129;01min\u001b[39;00m \u001b[38;5;28mself\u001b[39m\u001b[38;5;241m.\u001b[39m_pyrobj\u001b[38;5;241m.\u001b[39mkeys()}\n\u001b[1;32m     31\u001b[0m dp \u001b[38;5;241m=\u001b[39m RmsnParams(r_yM)\n\u001b[0;32m---> 32\u001b[0m sn\u001b[38;5;241m.\u001b[39mdp2cp(\u001b[43mdp\u001b[49m\u001b[38;5;241;43m.\u001b[39;49m\u001b[43m_pyrobj\u001b[49m\u001b[38;5;241;43m.\u001b[39;49m\u001b[43mpy2rpy\u001b[49m())\n",
      "\u001b[0;31mAttributeError\u001b[0m: 'OrdDict' object has no attribute 'py2rpy'"
     ]
    }
   ],
   "source": [
    "import rpy2.rlike.container as rlc\n",
    "from dataclasses import dataclass\n",
    "\n",
    "\n",
    "class RmsnParams(rlc.OrdDict):\n",
    "    \"\"\"\n",
    "    R wrapper for the msnParams class in the sn package.\n",
    "    \"\"\"\n",
    "\n",
    "    __rname__ = \"msnParams\"\n",
    "    __rpackage__ = \"sn\"\n",
    "\n",
    "    def __init__(self, _pyrobj: rlc.OrdDict):\n",
    "        super().__init__(_pyrobj)\n",
    "        self._pyrobj = _pyrobj\n",
    "\n",
    "        if all(param in self._pyrobj for param in [\"beta\", \"Omega\", \"alpha\"]):\n",
    "            self._param_type = \"dp\"\n",
    "        elif all(param in self._pyrobj for param in [\"mean\", \"sigma\", \"skew\"]):\n",
    "            self._param_type = \"cp\"\n",
    "        else:\n",
    "            raise ValueError(f\"Invalid parameters. Contains: {self._pyrobj.keys()}\")\n",
    "\n",
    "    def rpy2py(self):\n",
    "        \"\"\"\n",
    "        Convert the RmsnParams object to a Python dictionary.\n",
    "        \"\"\"\n",
    "        return {key: self._pyrobj[key] for key in self._pyrobj.keys()}\n",
    "\n",
    "\n",
    "dp = RmsnParams(r_yM)\n",
    "sn.dp2cp(dp._pyrobj.py2rpy())"
   ]
  },
  {
   "cell_type": "code",
   "execution_count": null,
   "id": "2d3fe17b",
   "metadata": {},
   "outputs": [],
   "source": [
    "cp = CentredParams(\n",
    "    mean=np.array([0, -1]),\n",
    "    sigma=np.array([[1, 0.4], [0.4, 0.6]]),\n",
    "    skew=np.array([0, -0.6]),\n",
    ")\n"
   ]
  }
 ],
 "metadata": {
  "kernelspec": {
   "display_name": ".venv (3.12.5)",
   "language": "python",
   "name": "python3"
  },
  "language_info": {
   "codemirror_mode": {
    "name": "ipython",
    "version": 3
   },
   "file_extension": ".py",
   "mimetype": "text/x-python",
   "name": "python",
   "nbconvert_exporter": "python",
   "pygments_lexer": "ipython3",
   "version": "3.12.5"
  }
 },
 "nbformat": 4,
 "nbformat_minor": 5
}
