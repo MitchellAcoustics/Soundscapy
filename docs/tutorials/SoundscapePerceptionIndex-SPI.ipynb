{
 "cells": [
  {
   "cell_type": "code",
   "execution_count": 2,
   "id": "5b57bac0",
   "metadata": {},
   "outputs": [],
   "source": [
    "import numpy as np\n",
    "\n",
    "import soundscapy as sspy\n",
    "from soundscapy.spi import MultiSkewNorm\n",
    "from soundscapy.surveys.survey_utils import LANGUAGE_ANGLES, PAQ_IDS\n",
    "\n",
    "data = sspy.isd.load()\n",
    "data, excl_data = sspy.isd.validate(data)\n",
    "data = data.query(\"Language != 'cmn'\")\n",
    "\n",
    "excl_id = [652, 706, 548, 550, 551, 553, 569, 580, 609, 618, 623, 636, 643]\n",
    "data = data.drop(excl_id)"
   ]
  },
  {
   "cell_type": "code",
   "execution_count": 3,
   "id": "3605c85d",
   "metadata": {},
   "outputs": [
    {
     "data": {
      "application/vnd.microsoft.datawrangler.viewer.v0+json": {
       "columns": [
        {
         "name": "index",
         "rawType": "int64",
         "type": "integer"
        },
        {
         "name": "LocationID",
         "rawType": "object",
         "type": "string"
        },
        {
         "name": "SessionID",
         "rawType": "object",
         "type": "string"
        },
        {
         "name": "GroupID",
         "rawType": "object",
         "type": "string"
        },
        {
         "name": "RecordID",
         "rawType": "object",
         "type": "string"
        },
        {
         "name": "start_time",
         "rawType": "object",
         "type": "string"
        },
        {
         "name": "end_time",
         "rawType": "object",
         "type": "string"
        },
        {
         "name": "latitude",
         "rawType": "float64",
         "type": "float"
        },
        {
         "name": "longitude",
         "rawType": "float64",
         "type": "float"
        },
        {
         "name": "Language",
         "rawType": "object",
         "type": "string"
        },
        {
         "name": "Survey_Version",
         "rawType": "object",
         "type": "string"
        },
        {
         "name": "ssi01",
         "rawType": "float64",
         "type": "float"
        },
        {
         "name": "ssi02",
         "rawType": "float64",
         "type": "float"
        },
        {
         "name": "ssi03",
         "rawType": "float64",
         "type": "float"
        },
        {
         "name": "ssi04",
         "rawType": "float64",
         "type": "float"
        },
        {
         "name": "PAQ1",
         "rawType": "float64",
         "type": "float"
        },
        {
         "name": "PAQ4",
         "rawType": "float64",
         "type": "float"
        },
        {
         "name": "PAQ2",
         "rawType": "float64",
         "type": "float"
        },
        {
         "name": "PAQ7",
         "rawType": "float64",
         "type": "float"
        },
        {
         "name": "PAQ8",
         "rawType": "float64",
         "type": "float"
        },
        {
         "name": "PAQ5",
         "rawType": "float64",
         "type": "float"
        },
        {
         "name": "PAQ3",
         "rawType": "float64",
         "type": "float"
        },
        {
         "name": "PAQ6",
         "rawType": "float64",
         "type": "float"
        },
        {
         "name": "sss01",
         "rawType": "float64",
         "type": "float"
        },
        {
         "name": "sss02",
         "rawType": "float64",
         "type": "float"
        },
        {
         "name": "sss03",
         "rawType": "float64",
         "type": "float"
        },
        {
         "name": "sss04",
         "rawType": "float64",
         "type": "float"
        },
        {
         "name": "sss05",
         "rawType": "float64",
         "type": "float"
        },
        {
         "name": "who01",
         "rawType": "float64",
         "type": "float"
        },
        {
         "name": "who02",
         "rawType": "float64",
         "type": "float"
        },
        {
         "name": "who03",
         "rawType": "float64",
         "type": "float"
        },
        {
         "name": "who04",
         "rawType": "float64",
         "type": "float"
        },
        {
         "name": "who05",
         "rawType": "float64",
         "type": "float"
        },
        {
         "name": "WHO_Sum",
         "rawType": "float64",
         "type": "float"
        },
        {
         "name": "age00",
         "rawType": "float64",
         "type": "float"
        },
        {
         "name": "gen00",
         "rawType": "object",
         "type": "string"
        },
        {
         "name": "edu00",
         "rawType": "object",
         "type": "string"
        },
        {
         "name": "eth00",
         "rawType": "object",
         "type": "string"
        },
        {
         "name": "occ00",
         "rawType": "object",
         "type": "string"
        },
        {
         "name": "eth00_other",
         "rawType": "object",
         "type": "unknown"
        },
        {
         "name": "occ00_other",
         "rawType": "object",
         "type": "unknown"
        },
        {
         "name": "misc03",
         "rawType": "object",
         "type": "string"
        },
        {
         "name": "misc03_other",
         "rawType": "object",
         "type": "unknown"
        },
        {
         "name": "misc01",
         "rawType": "object",
         "type": "unknown"
        },
        {
         "name": "use00",
         "rawType": "object",
         "type": "string"
        },
        {
         "name": "uni00",
         "rawType": "object",
         "type": "string"
        },
        {
         "name": "RecordingLength",
         "rawType": "float64",
         "type": "float"
        },
        {
         "name": "LZeq_L_Max",
         "rawType": "float64",
         "type": "float"
        },
        {
         "name": "LZeq_Min_Max",
         "rawType": "float64",
         "type": "float"
        },
        {
         "name": "LZeq_Max_Max",
         "rawType": "float64",
         "type": "float"
        },
        {
         "name": "LZeq_L5_Max",
         "rawType": "float64",
         "type": "float"
        },
        {
         "name": "LZeq_L10_Max",
         "rawType": "float64",
         "type": "float"
        },
        {
         "name": "LZeq_L50_Max",
         "rawType": "float64",
         "type": "float"
        },
        {
         "name": "LZeq_L90_Max",
         "rawType": "float64",
         "type": "float"
        },
        {
         "name": "LZeq_L95_Max",
         "rawType": "float64",
         "type": "float"
        },
        {
         "name": "LCeq_L(C)_Max",
         "rawType": "float64",
         "type": "float"
        },
        {
         "name": "LCeq_Min(C)_Max",
         "rawType": "float64",
         "type": "float"
        },
        {
         "name": "LCeq_Max(C)_Max",
         "rawType": "float64",
         "type": "float"
        },
        {
         "name": "LCeq_L5(C)_Max",
         "rawType": "float64",
         "type": "float"
        },
        {
         "name": "LCeq_L10(C)_Max",
         "rawType": "float64",
         "type": "float"
        },
        {
         "name": "LCeq_L50(C)_Max",
         "rawType": "float64",
         "type": "float"
        },
        {
         "name": "LCeq_L90(C)_Max",
         "rawType": "float64",
         "type": "float"
        },
        {
         "name": "LCeq_L95(C)_Max",
         "rawType": "float64",
         "type": "float"
        },
        {
         "name": "LAeq_L(A)_Max",
         "rawType": "float64",
         "type": "float"
        },
        {
         "name": "LAeq_Min(A)_Max",
         "rawType": "float64",
         "type": "float"
        },
        {
         "name": "LAeq_Max(A)_Max",
         "rawType": "float64",
         "type": "float"
        },
        {
         "name": "LAeq_L5(A)_Max",
         "rawType": "float64",
         "type": "float"
        },
        {
         "name": "LAeq_L10(A)_Max",
         "rawType": "float64",
         "type": "float"
        },
        {
         "name": "LAeq_L50(A)_Max",
         "rawType": "float64",
         "type": "float"
        },
        {
         "name": "LAeq_L90(A)_Max",
         "rawType": "float64",
         "type": "float"
        },
        {
         "name": "LAeq_L95(A)_Max",
         "rawType": "float64",
         "type": "float"
        },
        {
         "name": "N_N5_Max",
         "rawType": "float64",
         "type": "float"
        },
        {
         "name": "N_Min_Max",
         "rawType": "float64",
         "type": "float"
        },
        {
         "name": "N_Max_Max",
         "rawType": "float64",
         "type": "float"
        },
        {
         "name": "N_N10_Max",
         "rawType": "float64",
         "type": "float"
        },
        {
         "name": "N_N50_Max",
         "rawType": "float64",
         "type": "float"
        },
        {
         "name": "N_N90_Max",
         "rawType": "float64",
         "type": "float"
        },
        {
         "name": "N_N95_Max",
         "rawType": "float64",
         "type": "float"
        },
        {
         "name": "S_S_Max",
         "rawType": "float64",
         "type": "float"
        },
        {
         "name": "S_Min_Max",
         "rawType": "float64",
         "type": "float"
        },
        {
         "name": "S_Max_Max",
         "rawType": "float64",
         "type": "float"
        },
        {
         "name": "S_S5_Max",
         "rawType": "float64",
         "type": "float"
        },
        {
         "name": "S_S10_Max",
         "rawType": "float64",
         "type": "float"
        },
        {
         "name": "S_S50_Max",
         "rawType": "float64",
         "type": "float"
        },
        {
         "name": "S_S90_Max",
         "rawType": "float64",
         "type": "float"
        },
        {
         "name": "S_S95_Max",
         "rawType": "float64",
         "type": "float"
        },
        {
         "name": "R_R_Max",
         "rawType": "float64",
         "type": "float"
        },
        {
         "name": "R_Min_Max",
         "rawType": "float64",
         "type": "float"
        },
        {
         "name": "R_Max_Max",
         "rawType": "float64",
         "type": "float"
        },
        {
         "name": "R_R5_Max",
         "rawType": "float64",
         "type": "float"
        },
        {
         "name": "R_R10_Max",
         "rawType": "float64",
         "type": "float"
        },
        {
         "name": "R_R50_Max",
         "rawType": "float64",
         "type": "float"
        },
        {
         "name": "R_R90_Max",
         "rawType": "float64",
         "type": "float"
        },
        {
         "name": "R_R95_Max",
         "rawType": "float64",
         "type": "float"
        },
        {
         "name": "T_TonalityHMS_Max",
         "rawType": "float64",
         "type": "float"
        },
        {
         "name": "T_Min_Max",
         "rawType": "float64",
         "type": "float"
        },
        {
         "name": "T_Max_Max",
         "rawType": "float64",
         "type": "float"
        },
        {
         "name": "T_T5_Max",
         "rawType": "float64",
         "type": "float"
        },
        {
         "name": "T_T10_Max",
         "rawType": "float64",
         "type": "float"
        },
        {
         "name": "T_T50_Max",
         "rawType": "float64",
         "type": "float"
        },
        {
         "name": "T_T90_Max",
         "rawType": "float64",
         "type": "float"
        },
        {
         "name": "T_T95_Max",
         "rawType": "float64",
         "type": "float"
        },
        {
         "name": "FS_F_Max",
         "rawType": "float64",
         "type": "float"
        },
        {
         "name": "FS_Min_Max",
         "rawType": "float64",
         "type": "float"
        },
        {
         "name": "FS_Max_Max",
         "rawType": "float64",
         "type": "float"
        },
        {
         "name": "FS_F5_Max",
         "rawType": "float64",
         "type": "float"
        },
        {
         "name": "FS_F10_Max",
         "rawType": "float64",
         "type": "float"
        },
        {
         "name": "FS_F50_Max",
         "rawType": "float64",
         "type": "float"
        },
        {
         "name": "FS_F90_Max",
         "rawType": "float64",
         "type": "float"
        },
        {
         "name": "FS_F95_Max",
         "rawType": "float64",
         "type": "float"
        },
        {
         "name": "I_I_Max",
         "rawType": "float64",
         "type": "float"
        },
        {
         "name": "I_Min_Max",
         "rawType": "float64",
         "type": "float"
        },
        {
         "name": "I_Max_Max",
         "rawType": "float64",
         "type": "float"
        },
        {
         "name": "I_I5_Max",
         "rawType": "float64",
         "type": "float"
        },
        {
         "name": "I_I10_Max",
         "rawType": "float64",
         "type": "float"
        },
        {
         "name": "I_I50_Max",
         "rawType": "float64",
         "type": "float"
        },
        {
         "name": "I_I90_Max",
         "rawType": "float64",
         "type": "float"
        },
        {
         "name": "I_I95_Max",
         "rawType": "float64",
         "type": "float"
        },
        {
         "name": "SIL4_SIL(rms)_Max",
         "rawType": "float64",
         "type": "float"
        },
        {
         "name": "SIL4_SIL(av)_Max",
         "rawType": "float64",
         "type": "float"
        },
        {
         "name": "SIL4_Min_Max",
         "rawType": "float64",
         "type": "float"
        },
        {
         "name": "SIL4_Max_Max",
         "rawType": "float64",
         "type": "float"
        },
        {
         "name": "SIL4_SIL5_Max",
         "rawType": "float64",
         "type": "float"
        },
        {
         "name": "SIL4_SIL10_Max",
         "rawType": "float64",
         "type": "float"
        },
        {
         "name": "SIL4_SIL50_Max",
         "rawType": "float64",
         "type": "float"
        },
        {
         "name": "SIL4_SIL90_Max",
         "rawType": "float64",
         "type": "float"
        },
        {
         "name": "SIL4_SIL95_Max",
         "rawType": "float64",
         "type": "float"
        },
        {
         "name": "RA_cp_Max",
         "rawType": "float64",
         "type": "float"
        },
        {
         "name": "RA_Min_Max",
         "rawType": "float64",
         "type": "float"
        },
        {
         "name": "RA_Max_Max",
         "rawType": "float64",
         "type": "float"
        },
        {
         "name": "RA_cp5_Max",
         "rawType": "float64",
         "type": "float"
        },
        {
         "name": "RA_cp10_Max",
         "rawType": "float64",
         "type": "float"
        },
        {
         "name": "RA_cp50_Max",
         "rawType": "float64",
         "type": "float"
        },
        {
         "name": "RA_cp90_Max",
         "rawType": "float64",
         "type": "float"
        },
        {
         "name": "RA_cp95_Max",
         "rawType": "float64",
         "type": "float"
        },
        {
         "name": "THD_THD_Max",
         "rawType": "float64",
         "type": "float"
        },
        {
         "name": "THD_Min_Max",
         "rawType": "float64",
         "type": "float"
        },
        {
         "name": "THD_Max_Max",
         "rawType": "float64",
         "type": "float"
        },
        {
         "name": "THD_L5_Max",
         "rawType": "float64",
         "type": "float"
        },
        {
         "name": "THD_L10_Max",
         "rawType": "float64",
         "type": "float"
        },
        {
         "name": "THD_L50_Max",
         "rawType": "float64",
         "type": "float"
        },
        {
         "name": "THD_L90_Max",
         "rawType": "float64",
         "type": "float"
        },
        {
         "name": "THD_L95_Max",
         "rawType": "float64",
         "type": "float"
        },
        {
         "name": "ISOPleasant",
         "rawType": "float64",
         "type": "float"
        },
        {
         "name": "ISOEventful",
         "rawType": "float64",
         "type": "float"
        }
       ],
       "conversionMethod": "pd.DataFrame",
       "ref": "fa8d598c-92d6-4637-9f23-cb176b27e600",
       "rows": [
        [
         "0",
         "CarloV",
         "CarloV2",
         "2CV12",
         "1434",
         "2019-05-16 18:46:00",
         "2019-05-16 18:56:00",
         "37.17685",
         "-3.590392",
         "eng",
         "engISO2018",
         "1.0",
         "1.0",
         "4.0",
         "3.0",
         "2.0",
         "1.0",
         "4.0",
         "4.0",
         "2.0",
         "2.0",
         "2.0",
         "2.0",
         "3.0",
         "3.0",
         "3.0",
         "1.0",
         "2.0",
         "4.0",
         "3.0",
         "2.0",
         "2.0",
         "4.0",
         "60.0",
         "61.0",
         "Female",
         "UniversityGraduate",
         "White",
         "Employed",
         null,
         null,
         "Tourist",
         null,
         "Wish the rest of the complex was quieter",
         "Staying",
         "Couple",
         "30.88",
         "65.68",
         "58.81",
         "72.51",
         "69.4",
         "68.36",
         "64.91",
         "61.11",
         "60.61",
         "65.26",
         "56.96",
         "72.48",
         "69.27",
         "68.19",
         "64.32",
         "60.1",
         "59.33",
         "62.12",
         "51.04",
         "69.31",
         "66.21",
         "65.1",
         "61.22",
         "56.07",
         "54.97",
         "16.5",
         "0.0",
         "20.8",
         "15.6",
         "11.8",
         "8.85",
         "8.24",
         "1.81",
         "0.0",
         "2.59",
         "2.13",
         "2.04",
         "1.8",
         "1.59",
         "1.54",
         "0.0333",
         "0.0148",
         "0.113",
         "0.0574",
         "0.0451",
         "0.031",
         "0.0222",
         "0.0204",
         "0.222",
         "0.0",
         "1.29",
         "0.555",
         "0.437",
         "0.174",
         "0.058",
         "0.0395",
         "0.0549",
         "0.0254",
         "0.107",
         "0.0955",
         "0.0899",
         "0.0566",
         "0.0361",
         "0.0311",
         "0.449",
         "0.233",
         "0.888",
         "0.632",
         "0.571",
         "0.434",
         "0.342",
         "0.318",
         "53.62",
         "52.06",
         "42.71",
         "59.23",
         "56.83",
         "56.03",
         "52.33",
         "47.82",
         "46.85",
         "17.9",
         "1.9",
         "56.7",
         "35.0",
         "30.1",
         "16.3",
         "8.15",
         "6.72",
         "-0.09",
         "-11.76",
         "54.18",
         "34.82",
         "26.53",
         "5.57",
         "-9.0",
         "-10.29",
         "0.209",
         "-0.144"
        ],
        [
         "1",
         "CarloV",
         "CarloV2",
         "2CV12",
         "1435",
         "2019-05-16 18:46:00",
         "2019-05-16 18:56:00",
         "37.17685",
         "-3.590392",
         "eng",
         "engISO2018",
         "1.0",
         "1.0",
         "4.0",
         "3.0",
         "2.0",
         "4.0",
         "4.0",
         "1.0",
         "1.0",
         "4.0",
         "4.0",
         "4.0",
         "4.0",
         "4.0",
         "4.0",
         "1.0",
         "4.0",
         "4.0",
         "4.0",
         "3.0",
         "3.0",
         "4.0",
         "72.0",
         "61.0",
         "Female",
         "UniversityGraduate",
         "White",
         "Employed",
         null,
         null,
         "Tourist",
         null,
         "Gardens were wonderful",
         "Staying",
         "Couple",
         "30.88",
         "65.68",
         "58.81",
         "72.51",
         "69.4",
         "68.36",
         "64.91",
         "61.11",
         "60.61",
         "65.26",
         "56.96",
         "72.48",
         "69.27",
         "68.19",
         "64.32",
         "60.1",
         "59.33",
         "62.12",
         "51.04",
         "69.31",
         "66.21",
         "65.1",
         "61.22",
         "56.07",
         "54.97",
         "16.5",
         "0.0",
         "20.8",
         "15.6",
         "11.8",
         "8.85",
         "8.24",
         "1.81",
         "0.0",
         "2.59",
         "2.13",
         "2.04",
         "1.8",
         "1.59",
         "1.54",
         "0.0333",
         "0.0148",
         "0.113",
         "0.0574",
         "0.0451",
         "0.031",
         "0.0222",
         "0.0204",
         "0.222",
         "0.0",
         "1.29",
         "0.555",
         "0.437",
         "0.174",
         "0.058",
         "0.0395",
         "0.0549",
         "0.0254",
         "0.107",
         "0.0955",
         "0.0899",
         "0.0566",
         "0.0361",
         "0.0311",
         "0.449",
         "0.233",
         "0.888",
         "0.632",
         "0.571",
         "0.434",
         "0.342",
         "0.318",
         "53.62",
         "52.06",
         "42.71",
         "59.23",
         "56.83",
         "56.03",
         "52.33",
         "47.82",
         "46.85",
         "17.9",
         "1.9",
         "56.7",
         "35.0",
         "30.1",
         "16.3",
         "8.15",
         "6.72",
         "-0.09",
         "-11.76",
         "54.18",
         "34.82",
         "26.53",
         "5.57",
         "-9.0",
         "-10.29",
         "-0.443",
         "0.468"
        ],
        [
         "2",
         "CarloV",
         "CarloV2",
         "2CV13",
         "1430",
         "2019-05-16 19:02:00",
         "2019-05-16 19:12:00",
         "37.17685",
         "-3.590392",
         "eng",
         "engISO2018",
         "1.0",
         "1.0",
         "4.0",
         "4.0",
         "5.0",
         "1.0",
         "3.0",
         "3.0",
         "4.0",
         "2.0",
         "3.0",
         "1.0",
         "4.0",
         "4.0",
         "4.0",
         "1.0",
         "4.0",
         "5.0",
         "5.0",
         "5.0",
         "5.0",
         "4.0",
         "96.0",
         "24.0",
         "Male",
         "UniversityGraduate",
         "White",
         "Student",
         null,
         null,
         "Tourist",
         null,
         null,
         "PassingThrough",
         "Group",
         "30.79",
         "75.52",
         "60.0",
         "86.11",
         "81.5",
         "79.76",
         "72.13",
         "63.96",
         "62.65",
         "67.46",
         "56.73",
         "80.32",
         "73.01",
         "71.31",
         "64.47",
         "60.51",
         "59.66",
         "58.59",
         "49.53",
         "71.55",
         "62.35",
         "61.17",
         "57.4",
         "54.23",
         "53.08",
         "13.8",
         "0.0",
         "19.4",
         "12.9",
         "10.6",
         "8.66",
         "8.15",
         "1.81",
         "0.0",
         "2.49",
         "2.15",
         "2.06",
         "1.79",
         "1.59",
         "1.55",
         "0.0268",
         "0.013",
         "0.0912",
         "0.0426",
         "0.0373",
         "0.0254",
         "0.0184",
         "0.0169",
         "0.251",
         "0.0",
         "1.98",
         "0.646",
         "0.512",
         "0.179",
         "0.0481",
         "0.0314",
         "0.0344",
         "0.00909",
         "0.0822",
         "0.0682",
         "0.0612",
         "0.0332",
         "0.0137",
         "0.0107",
         "0.373",
         "0.155",
         "1.4",
         "0.708",
         "0.549",
         "0.331",
         "0.255",
         "0.231",
         "51.03",
         "49.79",
         "42.83",
         "61.16",
         "53.75",
         "52.56",
         "49.9",
         "46.6",
         "45.99",
         "12.7",
         "0.974",
         "89.2",
         "29.5",
         "23.5",
         "10.4",
         "5.0",
         "3.91",
         "-2.1",
         "-19.32",
         "72.52",
         "32.33",
         "24.52",
         "0.25",
         "-16.3",
         "-17.33",
         "0.637",
         "0.002"
        ],
        [
         "3",
         "CarloV",
         "CarloV2",
         "2CV13",
         "1431",
         "2019-05-16 19:02:00",
         "2019-05-16 19:12:00",
         "37.17685",
         "-3.590392",
         "eng",
         "engISO2018",
         "1.0",
         "1.0",
         "4.0",
         "4.0",
         "5.0",
         "1.0",
         "3.0",
         "3.0",
         "4.0",
         "2.0",
         "3.0",
         "2.0",
         "4.0",
         "4.0",
         "3.0",
         "1.0",
         "3.0",
         "4.0",
         "4.0",
         "4.0",
         "0.0",
         "2.0",
         "56.0",
         "21.0",
         "Female",
         "UniversityGraduate",
         "White",
         "Student",
         null,
         null,
         "Tourist",
         null,
         null,
         "PassingThrough",
         "Group",
         "30.79",
         "75.52",
         "60.0",
         "86.11",
         "81.5",
         "79.76",
         "72.13",
         "63.96",
         "62.65",
         "67.46",
         "56.73",
         "80.32",
         "73.01",
         "71.31",
         "64.47",
         "60.51",
         "59.66",
         "58.59",
         "49.53",
         "71.55",
         "62.35",
         "61.17",
         "57.4",
         "54.23",
         "53.08",
         "13.8",
         "0.0",
         "19.4",
         "12.9",
         "10.6",
         "8.66",
         "8.15",
         "1.81",
         "0.0",
         "2.49",
         "2.15",
         "2.06",
         "1.79",
         "1.59",
         "1.55",
         "0.0268",
         "0.013",
         "0.0912",
         "0.0426",
         "0.0373",
         "0.0254",
         "0.0184",
         "0.0169",
         "0.251",
         "0.0",
         "1.98",
         "0.646",
         "0.512",
         "0.179",
         "0.0481",
         "0.0314",
         "0.0344",
         "0.00909",
         "0.0822",
         "0.0682",
         "0.0612",
         "0.0332",
         "0.0137",
         "0.0107",
         "0.373",
         "0.155",
         "1.4",
         "0.708",
         "0.549",
         "0.331",
         "0.255",
         "0.231",
         "51.03",
         "49.79",
         "42.83",
         "61.16",
         "53.75",
         "52.56",
         "49.9",
         "46.6",
         "45.99",
         "12.7",
         "0.974",
         "89.2",
         "29.5",
         "23.5",
         "10.4",
         "5.0",
         "3.91",
         "-2.1",
         "-19.32",
         "72.52",
         "32.33",
         "24.52",
         "0.25",
         "-16.3",
         "-17.33",
         "0.589",
         "-0.092"
        ],
        [
         "4",
         "CarloV",
         "CarloV2",
         "2CV13",
         "1432",
         "2019-05-16 19:02:00",
         "2019-05-16 19:12:00",
         "37.17685",
         "-3.590392",
         "eng",
         "engISO2018",
         "1.0",
         "1.0",
         "3.0",
         "3.0",
         "5.0",
         "2.0",
         "3.0",
         "3.0",
         "4.0",
         "2.0",
         "3.0",
         "3.0",
         "4.0",
         "4.0",
         "2.0",
         "3.0",
         "4.0",
         "4.0",
         "4.0",
         "5.0",
         "4.0",
         "4.0",
         "84.0",
         "20.0",
         "Female",
         "UniversityGraduate",
         "White",
         "Student",
         null,
         null,
         "Other",
         "Erasmus Student",
         null,
         "PassingThrough",
         "Group",
         "30.79",
         "75.52",
         "60.0",
         "86.11",
         "81.5",
         "79.76",
         "72.13",
         "63.96",
         "62.65",
         "67.46",
         "56.73",
         "80.32",
         "73.01",
         "71.31",
         "64.47",
         "60.51",
         "59.66",
         "58.59",
         "49.53",
         "71.55",
         "62.35",
         "61.17",
         "57.4",
         "54.23",
         "53.08",
         "13.8",
         "0.0",
         "19.4",
         "12.9",
         "10.6",
         "8.66",
         "8.15",
         "1.81",
         "0.0",
         "2.49",
         "2.15",
         "2.06",
         "1.79",
         "1.59",
         "1.55",
         "0.0268",
         "0.013",
         "0.0912",
         "0.0426",
         "0.0373",
         "0.0254",
         "0.0184",
         "0.0169",
         "0.251",
         "0.0",
         "1.98",
         "0.646",
         "0.512",
         "0.179",
         "0.0481",
         "0.0314",
         "0.0344",
         "0.00909",
         "0.0822",
         "0.0682",
         "0.0612",
         "0.0332",
         "0.0137",
         "0.0107",
         "0.373",
         "0.155",
         "1.4",
         "0.708",
         "0.549",
         "0.331",
         "0.255",
         "0.231",
         "51.03",
         "49.79",
         "42.83",
         "61.16",
         "53.75",
         "52.56",
         "49.9",
         "46.6",
         "45.99",
         "12.7",
         "0.974",
         "89.2",
         "29.5",
         "23.5",
         "10.4",
         "5.0",
         "3.91",
         "-2.1",
         "-19.32",
         "72.52",
         "32.33",
         "24.52",
         "0.25",
         "-16.3",
         "-17.33",
         "0.445",
         "-0.126"
        ]
       ],
       "shape": {
        "columns": 144,
        "rows": 5
       }
      },
      "text/html": [
       "<div>\n",
       "<style scoped>\n",
       "    .dataframe tbody tr th:only-of-type {\n",
       "        vertical-align: middle;\n",
       "    }\n",
       "\n",
       "    .dataframe tbody tr th {\n",
       "        vertical-align: top;\n",
       "    }\n",
       "\n",
       "    .dataframe thead th {\n",
       "        text-align: right;\n",
       "    }\n",
       "</style>\n",
       "<table border=\"1\" class=\"dataframe\">\n",
       "  <thead>\n",
       "    <tr style=\"text-align: right;\">\n",
       "      <th></th>\n",
       "      <th>LocationID</th>\n",
       "      <th>SessionID</th>\n",
       "      <th>GroupID</th>\n",
       "      <th>RecordID</th>\n",
       "      <th>start_time</th>\n",
       "      <th>end_time</th>\n",
       "      <th>latitude</th>\n",
       "      <th>longitude</th>\n",
       "      <th>Language</th>\n",
       "      <th>Survey_Version</th>\n",
       "      <th>...</th>\n",
       "      <th>THD_THD_Max</th>\n",
       "      <th>THD_Min_Max</th>\n",
       "      <th>THD_Max_Max</th>\n",
       "      <th>THD_L5_Max</th>\n",
       "      <th>THD_L10_Max</th>\n",
       "      <th>THD_L50_Max</th>\n",
       "      <th>THD_L90_Max</th>\n",
       "      <th>THD_L95_Max</th>\n",
       "      <th>ISOPleasant</th>\n",
       "      <th>ISOEventful</th>\n",
       "    </tr>\n",
       "  </thead>\n",
       "  <tbody>\n",
       "    <tr>\n",
       "      <th>0</th>\n",
       "      <td>CarloV</td>\n",
       "      <td>CarloV2</td>\n",
       "      <td>2CV12</td>\n",
       "      <td>1434</td>\n",
       "      <td>2019-05-16 18:46:00</td>\n",
       "      <td>2019-05-16 18:56:00</td>\n",
       "      <td>37.17685</td>\n",
       "      <td>-3.590392</td>\n",
       "      <td>eng</td>\n",
       "      <td>engISO2018</td>\n",
       "      <td>...</td>\n",
       "      <td>-0.09</td>\n",
       "      <td>-11.76</td>\n",
       "      <td>54.18</td>\n",
       "      <td>34.82</td>\n",
       "      <td>26.53</td>\n",
       "      <td>5.57</td>\n",
       "      <td>-9.0</td>\n",
       "      <td>-10.29</td>\n",
       "      <td>0.209</td>\n",
       "      <td>-0.144</td>\n",
       "    </tr>\n",
       "    <tr>\n",
       "      <th>1</th>\n",
       "      <td>CarloV</td>\n",
       "      <td>CarloV2</td>\n",
       "      <td>2CV12</td>\n",
       "      <td>1435</td>\n",
       "      <td>2019-05-16 18:46:00</td>\n",
       "      <td>2019-05-16 18:56:00</td>\n",
       "      <td>37.17685</td>\n",
       "      <td>-3.590392</td>\n",
       "      <td>eng</td>\n",
       "      <td>engISO2018</td>\n",
       "      <td>...</td>\n",
       "      <td>-0.09</td>\n",
       "      <td>-11.76</td>\n",
       "      <td>54.18</td>\n",
       "      <td>34.82</td>\n",
       "      <td>26.53</td>\n",
       "      <td>5.57</td>\n",
       "      <td>-9.0</td>\n",
       "      <td>-10.29</td>\n",
       "      <td>-0.443</td>\n",
       "      <td>0.468</td>\n",
       "    </tr>\n",
       "    <tr>\n",
       "      <th>2</th>\n",
       "      <td>CarloV</td>\n",
       "      <td>CarloV2</td>\n",
       "      <td>2CV13</td>\n",
       "      <td>1430</td>\n",
       "      <td>2019-05-16 19:02:00</td>\n",
       "      <td>2019-05-16 19:12:00</td>\n",
       "      <td>37.17685</td>\n",
       "      <td>-3.590392</td>\n",
       "      <td>eng</td>\n",
       "      <td>engISO2018</td>\n",
       "      <td>...</td>\n",
       "      <td>-2.10</td>\n",
       "      <td>-19.32</td>\n",
       "      <td>72.52</td>\n",
       "      <td>32.33</td>\n",
       "      <td>24.52</td>\n",
       "      <td>0.25</td>\n",
       "      <td>-16.3</td>\n",
       "      <td>-17.33</td>\n",
       "      <td>0.637</td>\n",
       "      <td>0.002</td>\n",
       "    </tr>\n",
       "    <tr>\n",
       "      <th>3</th>\n",
       "      <td>CarloV</td>\n",
       "      <td>CarloV2</td>\n",
       "      <td>2CV13</td>\n",
       "      <td>1431</td>\n",
       "      <td>2019-05-16 19:02:00</td>\n",
       "      <td>2019-05-16 19:12:00</td>\n",
       "      <td>37.17685</td>\n",
       "      <td>-3.590392</td>\n",
       "      <td>eng</td>\n",
       "      <td>engISO2018</td>\n",
       "      <td>...</td>\n",
       "      <td>-2.10</td>\n",
       "      <td>-19.32</td>\n",
       "      <td>72.52</td>\n",
       "      <td>32.33</td>\n",
       "      <td>24.52</td>\n",
       "      <td>0.25</td>\n",
       "      <td>-16.3</td>\n",
       "      <td>-17.33</td>\n",
       "      <td>0.589</td>\n",
       "      <td>-0.092</td>\n",
       "    </tr>\n",
       "    <tr>\n",
       "      <th>4</th>\n",
       "      <td>CarloV</td>\n",
       "      <td>CarloV2</td>\n",
       "      <td>2CV13</td>\n",
       "      <td>1432</td>\n",
       "      <td>2019-05-16 19:02:00</td>\n",
       "      <td>2019-05-16 19:12:00</td>\n",
       "      <td>37.17685</td>\n",
       "      <td>-3.590392</td>\n",
       "      <td>eng</td>\n",
       "      <td>engISO2018</td>\n",
       "      <td>...</td>\n",
       "      <td>-2.10</td>\n",
       "      <td>-19.32</td>\n",
       "      <td>72.52</td>\n",
       "      <td>32.33</td>\n",
       "      <td>24.52</td>\n",
       "      <td>0.25</td>\n",
       "      <td>-16.3</td>\n",
       "      <td>-17.33</td>\n",
       "      <td>0.445</td>\n",
       "      <td>-0.126</td>\n",
       "    </tr>\n",
       "  </tbody>\n",
       "</table>\n",
       "<p>5 rows × 144 columns</p>\n",
       "</div>"
      ],
      "text/plain": [
       "  LocationID SessionID GroupID RecordID           start_time  \\\n",
       "0     CarloV   CarloV2   2CV12     1434  2019-05-16 18:46:00   \n",
       "1     CarloV   CarloV2   2CV12     1435  2019-05-16 18:46:00   \n",
       "2     CarloV   CarloV2   2CV13     1430  2019-05-16 19:02:00   \n",
       "3     CarloV   CarloV2   2CV13     1431  2019-05-16 19:02:00   \n",
       "4     CarloV   CarloV2   2CV13     1432  2019-05-16 19:02:00   \n",
       "\n",
       "              end_time  latitude  longitude Language Survey_Version  ...  \\\n",
       "0  2019-05-16 18:56:00  37.17685  -3.590392      eng     engISO2018  ...   \n",
       "1  2019-05-16 18:56:00  37.17685  -3.590392      eng     engISO2018  ...   \n",
       "2  2019-05-16 19:12:00  37.17685  -3.590392      eng     engISO2018  ...   \n",
       "3  2019-05-16 19:12:00  37.17685  -3.590392      eng     engISO2018  ...   \n",
       "4  2019-05-16 19:12:00  37.17685  -3.590392      eng     engISO2018  ...   \n",
       "\n",
       "   THD_THD_Max  THD_Min_Max  THD_Max_Max  THD_L5_Max  THD_L10_Max  \\\n",
       "0        -0.09       -11.76        54.18       34.82        26.53   \n",
       "1        -0.09       -11.76        54.18       34.82        26.53   \n",
       "2        -2.10       -19.32        72.52       32.33        24.52   \n",
       "3        -2.10       -19.32        72.52       32.33        24.52   \n",
       "4        -2.10       -19.32        72.52       32.33        24.52   \n",
       "\n",
       "   THD_L50_Max  THD_L90_Max  THD_L95_Max  ISOPleasant  ISOEventful  \n",
       "0         5.57         -9.0       -10.29        0.209       -0.144  \n",
       "1         5.57         -9.0       -10.29       -0.443        0.468  \n",
       "2         0.25        -16.3       -17.33        0.637        0.002  \n",
       "3         0.25        -16.3       -17.33        0.589       -0.092  \n",
       "4         0.25        -16.3       -17.33        0.445       -0.126  \n",
       "\n",
       "[5 rows x 144 columns]"
      ]
     },
     "execution_count": 3,
     "metadata": {},
     "output_type": "execute_result"
    }
   ],
   "source": [
    "for lang in data.Language.unique():\n",
    "    angles = LANGUAGE_ANGLES[lang]\n",
    "\n",
    "    lang_idx = data.query(f\"Language == '{lang}'\").index\n",
    "    iso_pl, iso_ev = sspy.surveys.processing.calculate_iso_coords(\n",
    "        data.loc[lang_idx, PAQ_IDS], (1, 5), angles\n",
    "    )\n",
    "    data.loc[lang_idx, \"ISOPleasant\"] = round(iso_pl, 3)\n",
    "    data.loc[lang_idx, \"ISOEventful\"] = round(iso_ev, 3)\n",
    "\n",
    "data.head()"
   ]
  },
  {
   "cell_type": "code",
   "execution_count": 4,
   "id": "9a561944",
   "metadata": {},
   "outputs": [
    {
     "name": "stdout",
     "output_type": "stream",
     "text": [
      "Fitted from data. n = 96\n",
      "Direct Parameters:\n",
      "xi:    [-0.106  0.559]\n",
      "omega: [[ 0.149 -0.062]\n",
      " [-0.062  0.103]]\n",
      "alpha: [ 0.697 -0.787]\n",
      "\n",
      "\n",
      "Centred Parameters:\n",
      "mean:  [0.1   0.381]\n",
      "sigma: [[ 0.107 -0.025]\n",
      " [-0.025  0.071]]\n",
      "skew:  [ 0.107 -0.128]\n"
     ]
    },
    {
     "data": {
      "image/png": "[encoded data removed]",
      "text/plain": [
       "<Figure size 500x500 with 1 Axes>"
      ]
     },
     "metadata": {},
     "output_type": "display_data"
    }
   ],
   "source": [
    "ct = data.query(\"LocationID == 'SanMarco'\")\n",
    "x = ct[\"ISOPleasant\"].values\n",
    "y = ct[\"ISOEventful\"].values\n",
    "\n",
    "msn = MultiSkewNorm()\n",
    "msn.fit(data=ct[[\"ISOPleasant\", \"ISOEventful\"]])\n",
    "msn.summary()\n",
    "msn.sspy_plot()"
   ]
  },
  {
   "cell_type": "code",
   "execution_count": 6,
   "id": "254fdcb6",
   "metadata": {},
   "outputs": [
    {
     "name": "stdout",
     "output_type": "stream",
     "text": [
      "Fitted from direct parameters.\n",
      "Direct Parameters:\n",
      "xi:    [0.065 0.629]\n",
      "omega: [[ 0.149 -0.064]\n",
      " [-0.064  0.101]]\n",
      "alpha: [ 0.791 -0.767]\n",
      "\n",
      "\n",
      "Centred Parameters:\n",
      "mean:  [0.283 0.451]\n",
      "sigma: [[ 0.102 -0.026]\n",
      " [-0.026  0.07 ]]\n",
      "skew:  [ 0.136 -0.131]\n"
     ]
    },
    {
     "data": {
      "image/png": "[encoded data removed]",
      "text/plain": [
       "<Figure size 500x500 with 1 Axes>"
      ]
     },
     "metadata": {},
     "output_type": "display_data"
    }
   ],
   "source": [
    "msn2 = MultiSkewNorm()\n",
    "msn2.define_dp(\n",
    "    xi=np.array([0.06534, 0.628637]),\n",
    "    omega=np.array([[0.14890315, -0.06423752], [-0.06423752, 0.10139612]]),\n",
    "    alpha=np.array([0.79105, -0.767217]),\n",
    ")\n",
    "msn2.sample(n=1000, return_sample=True)\n",
    "msn2.summary()\n",
    "msn2.sspy_plot()"
   ]
  },
  {
   "cell_type": "code",
   "execution_count": null,
   "id": "74ee3dde",
   "metadata": {},
   "outputs": [],
   "source": []
  }
 ],
 "metadata": {
  "kernelspec": {
   "display_name": ".venv (3.12.5)",
   "language": "python",
   "name": "python3"
  },
  "language_info": {
   "codemirror_mode": {
    "name": "ipython",
    "version": 3
   },
   "file_extension": ".py",
   "mimetype": "text/x-python",
   "name": "python",
   "nbconvert_exporter": "python",
   "pygments_lexer": "ipython3",
   "version": "3.12.5"
  }
 },
 "nbformat": 4,
 "nbformat_minor": 5
}
